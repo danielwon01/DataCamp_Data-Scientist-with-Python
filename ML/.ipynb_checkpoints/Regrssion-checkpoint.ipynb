{
 "cells": [
  {
   "cell_type": "markdown",
   "id": "6e96f7d0",
   "metadata": {},
   "source": [
    "# Regrssion"
   ]
  },
  {
   "cell_type": "markdown",
   "id": "920862ba",
   "metadata": {},
   "source": [
    "#### 회귀 분석은 둘 이상의 변수 간의 관계를 보여주는 통계적 방법입니다. \n",
    "##### 단순선형회귀란 독립변수(X) 와 종속변수 (Y)가 하나 씩 존재하는 회귀를 의미\n",
    "\n",
    "Y = 예측값    \n",
    "W = 모델계수 / feature wights                      \n",
    "b = 편중항 / 절편                                \n",
    "\n",
    "\n",
    "독립변수 - 입력값이나 원인을 나타낸다.  \n",
    "종속변수  - 결과물이나 효과를 의미 "
   ]
  },
  {
   "cell_type": "markdown",
   "id": "c33568ae",
   "metadata": {},
   "source": [
    "<img src=\"https://image.slidesharecdn.com/simplelinearregressionpelatihan-090829234643-phpapp02/95/simple-linier-regression-9-728.jpg?cb=1251589640\" width = \"500px\" heigh=\"100px\"><img>"
   ]
  },
  {
   "cell_type": "markdown",
   "id": "474f3541",
   "metadata": {},
   "source": [
    "Y = 예측값    \n",
    "W = 모델계수 / feature wights  \n",
    "b = 편중항 / 절편  "
   ]
  },
  {
   "cell_type": "markdown",
   "id": "66b787d0",
   "metadata": {},
   "source": [
    "독립변수 - 입력값이나 원인을 나타낸다.  \n",
    "종속변수  - 결과물이나 효과를 의미 "
   ]
  },
  {
   "cell_type": "markdown",
   "id": "47e20212",
   "metadata": {},
   "source": []
  },
  {
   "cell_type": "markdown",
   "id": "a1ec36f9",
   "metadata": {},
   "source": [
    "### 잔차 "
   ]
  },
  {
   "cell_type": "markdown",
   "id": "015232f5",
   "metadata": {},
   "source": [
    "잔차(residual)는 표본(sample)으로 추정한 회귀식과 실제 관측값의 차이 "
   ]
  },
  {
   "cell_type": "markdown",
   "id": "e0efc35f",
   "metadata": {},
   "source": [
    "### 평균 제곱 오차(MSE)"
   ]
  },
  {
   "cell_type": "markdown",
   "id": "af8a782f",
   "metadata": {},
   "source": []
  },
  {
   "cell_type": "markdown",
   "id": "caf5e383",
   "metadata": {},
   "source": [
    "### 평균절대오차(MAE)"
   ]
  },
  {
   "cell_type": "markdown",
   "id": "a73b3604",
   "metadata": {},
   "source": []
  },
  {
   "cell_type": "markdown",
   "id": "2dcdb744",
   "metadata": {},
   "source": [
    "### RMSE"
   ]
  },
  {
   "cell_type": "markdown",
   "id": "998c8e70",
   "metadata": {},
   "source": []
  }
 ],
 "metadata": {
  "kernelspec": {
   "display_name": "Python 3",
   "language": "python",
   "name": "python3"
  },
  "language_info": {
   "codemirror_mode": {
    "name": "ipython",
    "version": 3
   },
   "file_extension": ".py",
   "mimetype": "text/x-python",
   "name": "python",
   "nbconvert_exporter": "python",
   "pygments_lexer": "ipython3",
   "version": "3.8.8"
  }
 },
 "nbformat": 4,
 "nbformat_minor": 5
}
