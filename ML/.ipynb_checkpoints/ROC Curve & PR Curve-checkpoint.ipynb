{
 "cells": [
  {
   "cell_type": "markdown",
   "id": "ae6327ca",
   "metadata": {},
   "source": [
    "Q.1. ‘Model’이란 게 뭔가요?"
   ]
  },
  {
   "cell_type": "markdown",
   "id": "6529b861",
   "metadata": {},
   "source": [
    "Q.2. Machine Learning에서 ‘Model’의 종류를 구분한다면 어떻게 분류할 수 있을까요?"
   ]
  },
  {
   "cell_type": "markdown",
   "id": "950f2a79",
   "metadata": {},
   "source": [
    "Q.3. Classification 문제에서 대표적인 평가지표는 무엇이 있나요? 예시를 들어서 설명할 수 있나요?"
   ]
  },
  {
   "cell_type": "markdown",
   "id": "766197cb",
   "metadata": {},
   "source": [
    "Q.4. Classification 모델에서 Accuracy가 높으면 좋은 모델인가요?"
   ]
  },
  {
   "cell_type": "markdown",
   "id": "40b16de8",
   "metadata": {},
   "source": [
    "Q.5. Classification 모델에서 Accuracy가 높은데도 의미가 없는 모델의 예시는 뭐가 있을까요?"
   ]
  },
  {
   "cell_type": "markdown",
   "id": "607dcd22",
   "metadata": {},
   "source": [
    "Q.6. ROC Curve에서 ROC는 무엇의 약자인가요? 왜 이름을 이렇게 지었을까요?"
   ]
  },
  {
   "cell_type": "markdown",
   "id": "44a3b6ca",
   "metadata": {},
   "source": [
    "Q.7. ROC curve 위의 한 점이 의미하는 건 무엇일까요? 초등학생도 이해할 수 있도록 설명해본다면?"
   ]
  },
  {
   "cell_type": "code",
   "execution_count": null,
   "id": "fcd6ff66",
   "metadata": {},
   "outputs": [],
   "source": [
    "https://angeloyeo.github.io/2020/08/05/ROC.html"
   ]
  }
 ],
 "metadata": {
  "kernelspec": {
   "display_name": "Python 3",
   "language": "python",
   "name": "python3"
  },
  "language_info": {
   "codemirror_mode": {
    "name": "ipython",
    "version": 3
   },
   "file_extension": ".py",
   "mimetype": "text/x-python",
   "name": "python",
   "nbconvert_exporter": "python",
   "pygments_lexer": "ipython3",
   "version": "3.8.8"
  }
 },
 "nbformat": 4,
 "nbformat_minor": 5
}
