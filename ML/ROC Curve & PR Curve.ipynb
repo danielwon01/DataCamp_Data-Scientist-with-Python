{
 "cells": [
  {
   "cell_type": "markdown",
   "id": "ae6327ca",
   "metadata": {},
   "source": [
    "## Q.1. ‘Model’이란 게 뭔가요?\n",
    "머신러닝 알고리즘은 코드로 구현되며 데이터에서 실행된다.   \n",
    "**머신러닝 모델은 알고리즘에 의해 산출되며 모델 데이터와 예측 알고리즘으로 구성되어 있다.**"
   ]
  },
  {
   "cell_type": "markdown",
   "id": "c9c9767e",
   "metadata": {},
   "source": [
    "머신러닝 알고리즘은 패턴인식을 수행, 데이터로 부터 학습 ,  데이터셋에 fiting  \n",
    "머신러닝 알고리즘들   \n",
    "* Linear Regression\n",
    "* Logistic Regression\n",
    "* Decision Tree\n",
    "* Artificial Neural Network\n",
    "* k-Nearest Neighbors\n",
    "* k-Means\n"
   ]
  },
  {
   "cell_type": "markdown",
   "id": "2c28c641",
   "metadata": {},
   "source": [
    "머신러닝 모델은 머신러닝 알고리즘을 의해서 학습된 것   \n",
    "모델은 훈련 데이터에 대해 기계 학습 알고리즘을 실행한 후 저장되는 \"모든 것\"이며, 예측에 필요한 규칙, 숫자 및 기타 알고리즘별 데이터 구조를 나타낸다.\n",
    "\n",
    "* 선형 회귀 알고리즘은 특정 값을 갖는 계수의 벡터로 구성된 모델을 만든다.\n",
    "* 의사 결정 트리 알고리즘은 특정 값을 가진 if-then 문 트리로 구성된 모델을 만든다."
   ]
  },
  {
   "cell_type": "markdown",
   "id": "cb2d51ee",
   "metadata": {},
   "source": [
    "알고리즘은 훈련 데이터셋에서 모델의 오류(데이터 + 예측 알고리즘)를 최소화하는 일종의 최적화 절차  \n",
    "\n",
    "선형 회귀 분석  \n",
    "알고리즘:  학습데이터 세트의 오류를 최소화하는 계수 집합 찾기\n",
    "모델: 모형 데이터: 계수의 벡터 & 예측 알고리즘: 입력 행이 있는 다중 및 합계 계수\n",
    "\n",
    "k-최근접이웃 알고리즘에는 전체 교육 데이터 집합을 저장하는 것 외에는 \"알고리즘\"이 없다.모델 데이터는 전체 훈련 데이터 세트이며 모든 작업은 예측 알고리즘, 즉 새로운 데이터 행이 저장된 훈련데이터 세트와 상호 작용하여 예측을 수행하는 방법에 있다.\n",
    "\n",
    "알고리즘: 학습 데이터를 저장합니다.  \n",
    "모델: 모델 데이터: 전체 학습 데이터 세트. & 예측 알고리즘:  데이터를 가장 가까운 유사속성에 따라 분류"
   ]
  },
  {
   "cell_type": "markdown",
   "id": "6529b861",
   "metadata": {},
   "source": [
    "### Q.2. Machine Learning에서 ‘Model’의 종류를 구분한다면 어떻게 분류할 수 있을까요?"
   ]
  },
  {
   "cell_type": "markdown",
   "id": "950f2a79",
   "metadata": {},
   "source": [
    "### Q.3. Classification 문제에서 대표적인 평가지표는 무엇이 있나요? 예시를 들어서 설명할 수 있나요?"
   ]
  },
  {
   "cell_type": "markdown",
   "id": "766197cb",
   "metadata": {},
   "source": [
    "### Q.4. Classification 모델에서 Accuracy가 높으면 좋은 모델인가요?"
   ]
  },
  {
   "cell_type": "markdown",
   "id": "40b16de8",
   "metadata": {},
   "source": [
    "### Q.5. Classification 모델에서 Accuracy가 높은데도 의미가 없는 모델의 예시는 뭐가 있을까요?"
   ]
  },
  {
   "cell_type": "markdown",
   "id": "607dcd22",
   "metadata": {},
   "source": [
    "### Q.6. ROC Curve에서 ROC는 무엇의 약자인가요? 왜 이름을 이렇게 지었을까요?"
   ]
  },
  {
   "cell_type": "markdown",
   "id": "44a3b6ca",
   "metadata": {},
   "source": [
    "### Q.7. ROC curve 위의 한 점이 의미하는 건 무엇일까요? 초등학생도 이해할 수 있도록 설명해본다면?"
   ]
  },
  {
   "cell_type": "code",
   "execution_count": null,
   "id": "fcd6ff66",
   "metadata": {},
   "outputs": [],
   "source": [
    "https://angeloyeo.github.io/2020/08/05/ROC.html"
   ]
  }
 ],
 "metadata": {
  "kernelspec": {
   "display_name": "Python 3",
   "language": "python",
   "name": "python3"
  },
  "language_info": {
   "codemirror_mode": {
    "name": "ipython",
    "version": 3
   },
   "file_extension": ".py",
   "mimetype": "text/x-python",
   "name": "python",
   "nbconvert_exporter": "python",
   "pygments_lexer": "ipython3",
   "version": "3.8.8"
  }
 },
 "nbformat": 4,
 "nbformat_minor": 5
}
