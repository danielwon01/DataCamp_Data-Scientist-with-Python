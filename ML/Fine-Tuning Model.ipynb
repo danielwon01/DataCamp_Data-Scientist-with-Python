{
 "cells": [
  {
   "cell_type": "code",
   "execution_count": 1,
   "id": "c5207829",
   "metadata": {},
   "outputs": [],
   "source": [
    "import numpy as np\n",
    "import pandas as pd\n",
    "import seaborn as sn\n",
    "import matplotlib.pyplot as plt\n",
    "import warnings\n",
    "warnings.filterwarnings(action='ignore')"
   ]
  },
  {
   "cell_type": "code",
   "execution_count": 2,
   "id": "7caf96b1",
   "metadata": {},
   "outputs": [
    {
     "data": {
      "text/html": [
       "<div>\n",
       "<style scoped>\n",
       "    .dataframe tbody tr th:only-of-type {\n",
       "        vertical-align: middle;\n",
       "    }\n",
       "\n",
       "    .dataframe tbody tr th {\n",
       "        vertical-align: top;\n",
       "    }\n",
       "\n",
       "    .dataframe thead th {\n",
       "        text-align: right;\n",
       "    }\n",
       "</style>\n",
       "<table border=\"1\" class=\"dataframe\">\n",
       "  <thead>\n",
       "    <tr style=\"text-align: right;\">\n",
       "      <th></th>\n",
       "      <th>Pregnancies</th>\n",
       "      <th>Glucose</th>\n",
       "      <th>BloodPressure</th>\n",
       "      <th>SkinThickness</th>\n",
       "      <th>Insulin</th>\n",
       "      <th>BMI</th>\n",
       "      <th>DiabetesPedigreeFunction</th>\n",
       "      <th>Age</th>\n",
       "      <th>Outcome</th>\n",
       "    </tr>\n",
       "  </thead>\n",
       "  <tbody>\n",
       "    <tr>\n",
       "      <th>0</th>\n",
       "      <td>6</td>\n",
       "      <td>148</td>\n",
       "      <td>72</td>\n",
       "      <td>35</td>\n",
       "      <td>0</td>\n",
       "      <td>33.6</td>\n",
       "      <td>0.627</td>\n",
       "      <td>50</td>\n",
       "      <td>1</td>\n",
       "    </tr>\n",
       "    <tr>\n",
       "      <th>1</th>\n",
       "      <td>1</td>\n",
       "      <td>85</td>\n",
       "      <td>66</td>\n",
       "      <td>29</td>\n",
       "      <td>0</td>\n",
       "      <td>26.6</td>\n",
       "      <td>0.351</td>\n",
       "      <td>31</td>\n",
       "      <td>0</td>\n",
       "    </tr>\n",
       "    <tr>\n",
       "      <th>2</th>\n",
       "      <td>8</td>\n",
       "      <td>183</td>\n",
       "      <td>64</td>\n",
       "      <td>0</td>\n",
       "      <td>0</td>\n",
       "      <td>23.3</td>\n",
       "      <td>0.672</td>\n",
       "      <td>32</td>\n",
       "      <td>1</td>\n",
       "    </tr>\n",
       "    <tr>\n",
       "      <th>3</th>\n",
       "      <td>1</td>\n",
       "      <td>89</td>\n",
       "      <td>66</td>\n",
       "      <td>23</td>\n",
       "      <td>94</td>\n",
       "      <td>28.1</td>\n",
       "      <td>0.167</td>\n",
       "      <td>21</td>\n",
       "      <td>0</td>\n",
       "    </tr>\n",
       "    <tr>\n",
       "      <th>4</th>\n",
       "      <td>0</td>\n",
       "      <td>137</td>\n",
       "      <td>40</td>\n",
       "      <td>35</td>\n",
       "      <td>168</td>\n",
       "      <td>43.1</td>\n",
       "      <td>2.288</td>\n",
       "      <td>33</td>\n",
       "      <td>1</td>\n",
       "    </tr>\n",
       "  </tbody>\n",
       "</table>\n",
       "</div>"
      ],
      "text/plain": [
       "   Pregnancies  Glucose  BloodPressure  SkinThickness  Insulin   BMI  \\\n",
       "0            6      148             72             35        0  33.6   \n",
       "1            1       85             66             29        0  26.6   \n",
       "2            8      183             64              0        0  23.3   \n",
       "3            1       89             66             23       94  28.1   \n",
       "4            0      137             40             35      168  43.1   \n",
       "\n",
       "   DiabetesPedigreeFunction  Age  Outcome  \n",
       "0                     0.627   50        1  \n",
       "1                     0.351   31        0  \n",
       "2                     0.672   32        1  \n",
       "3                     0.167   21        0  \n",
       "4                     2.288   33        1  "
      ]
     },
     "execution_count": 2,
     "metadata": {},
     "output_type": "execute_result"
    }
   ],
   "source": [
    "df = pd.read_csv('diabetes.csv')\n",
    "df.head()"
   ]
  },
  {
   "cell_type": "code",
   "execution_count": 3,
   "id": "9f303359",
   "metadata": {},
   "outputs": [],
   "source": [
    "X = df.drop(['Outcome'] , axis = 1) \n",
    "y = df.Outcome"
   ]
  },
  {
   "cell_type": "code",
   "execution_count": 4,
   "id": "860deeb7",
   "metadata": {},
   "outputs": [
    {
     "name": "stdout",
     "output_type": "stream",
     "text": [
      "[[179  27]\n",
      " [ 57  45]]\n",
      "              precision    recall  f1-score   support\n",
      "\n",
      "           0       0.76      0.87      0.81       206\n",
      "           1       0.62      0.44      0.52       102\n",
      "\n",
      "    accuracy                           0.73       308\n",
      "   macro avg       0.69      0.66      0.66       308\n",
      "weighted avg       0.71      0.73      0.71       308\n",
      "\n"
     ]
    }
   ],
   "source": [
    "# How good is your model?\n",
    "# 한클래스가 더 자주 발생하는 상황을 클래스 불균형\n",
    "\n",
    "from sklearn.metrics import classification_report\n",
    "from sklearn.metrics import confusion_matrix\n",
    "from sklearn.model_selection import train_test_split \n",
    "from sklearn.neighbors import KNeighborsClassifier\n",
    "\n",
    "\n",
    "knn = KNeighborsClassifier(n_neighbors = 8)\n",
    "X_train , X_test , y_train , y_test  = train_test_split(X, y, test_size = 0.4 ,random_state = 42) \n",
    "\n",
    "knn.fit(X_train , y_train)\n",
    "y_pred = knn.predict(X_test )\n",
    "\n",
    "# sklearn의 모든 메트릭에 대한 첫번째 인수는 항상 실제 레이블, 예측은 항상 두번째 인수 \n",
    "print(confusion_matrix(y_test , y_pred))\n",
    "print(classification_report(y_test ,y_pred))"
   ]
  },
  {
   "cell_type": "code",
   "execution_count": 5,
   "id": "c5e360ee",
   "metadata": {},
   "outputs": [
    {
     "name": "stdout",
     "output_type": "stream",
     "text": [
      "[[170  36]\n",
      " [ 36  66]]\n",
      "              precision    recall  f1-score   support\n",
      "\n",
      "           0       0.83      0.83      0.83       206\n",
      "           1       0.65      0.65      0.65       102\n",
      "\n",
      "    accuracy                           0.77       308\n",
      "   macro avg       0.74      0.74      0.74       308\n",
      "weighted avg       0.77      0.77      0.77       308\n",
      "\n"
     ]
    }
   ],
   "source": [
    "# Logistic regression and the ROC curve\n",
    "# 로지스틱 회귀는 분류문제에 사용 \n",
    "# 이진분류 , 즉 대상 변수에 대해 두개의 가능한 레이블이 있을때 하나의 기능이 주어지면 log reg는 대상변수에 대한 확률 p를 출력\n",
    "# p가 0.5 보다 크면 1 , 0.5보다 작으면 0으로 표시\n",
    "# log reg는 선형 결정경계를 생성 \n",
    "# 임계값이 0이면 모델은 모든 데이터에 대해 1을 예측 TP 와 FP가 같음을 의미\n",
    "# 임계값이 1이면 모델은 모든 데이터에 대해 0을 예측 TP 와 FP가 같음을 의미\n",
    "# 두 극단에서 일련의 서로 다른 FP와 TP 비율을 얻는다. 가능한 모든 임계 값을 시도할 때 얻는 포인트들을 roc 곡선 이라고 한다,\n",
    "\n",
    "from sklearn.linear_model  import LogisticRegression\n",
    "logreg = LogisticRegression()\n",
    "logreg.fit(X_train, y_train)\n",
    "y_pred = logreg.predict(X_test)\n",
    "\n",
    "print(confusion_matrix(y_test, y_pred))\n",
    "print(classification_report(y_test, y_pred))"
   ]
  },
  {
   "cell_type": "markdown",
   "id": "3ffa034b",
   "metadata": {},
   "source": [
    "### ROC(Receiver operationg Characteristic curve)"
   ]
  },
  {
   "cell_type": "markdown",
   "id": "adadbfa0",
   "metadata": {},
   "source": [
    "ROC(Receiver operationg Characteristic curve)FPR (False positive rate)과 TPR (True Positive Rate)을 각각 x, y축으로 놓은 그래프\n",
    "모델의 판단 기준을 연속적으로 바꾸면서 측정했을때 FPR , TPR의 변화를 나타낸 것으로 (0,0) (1,1) 을 잇는 곡선\n",
    "\n",
    "TPR (True Positive Rate): 1인 케이스에 대해 1로 바르게 예측하는 비율 (Sensitivity)암 환자에 대해 암이라고 진단\n",
    "FPR (False positive rate): 0인 케이스에 대해 1로 틀리게 예측하는 비율 (1-Specificity)정상에 대해 암이라고 진단\n",
    "\n",
    "어떤 모델(classifier)이 좋은 성능을 보이는지 판단할 때 사용, 높은 sensitivity와 높은 specificity를 보이는 모델을 고르기 위해 다양한 모델에 대해 ROC curve를 그려본다. 이때 좌상단으로 가장 많이 치우친 그래프를 갖는 모델이 가장 높은 성능\n",
    "\n",
    "클래스가 Imbalanced한 data라면 precision과 recall도 봐야한다.\n",
    "reall같은 경우 1차 검사에서 예측값을 암환자로 다 가져와야하는 경우에 , 실제값에 대해 판정이 다 들어와야하는 경우\n",
    "precision의 경우 판단(예측)이 실수하면 안되는 경우에 잘봐야한다. 유죄판결한 경우 ,모두 실제값이어야 한다. "
   ]
  },
  {
   "cell_type": "code",
   "execution_count": 6,
   "id": "f1dfcd39",
   "metadata": {},
   "outputs": [
    {
     "data": {
      "image/png": "[encoded data removed]",
      "text/plain": [
       "<Figure size 432x288 with 1 Axes>"
      ]
     },
     "metadata": {
      "needs_background": "light"
     },
     "output_type": "display_data"
    }
   ],
   "source": [
    "# ROC curves provide a way to visually evaluate models\n",
    "from sklearn.metrics import roc_curve\n",
    "y_pred_prob = logreg.predict_proba(X_test)[:,1]\n",
    "fpr , tpr , thresholds = roc_curve(y_test , y_pred_prob)\n",
    "\n",
    "plt.plot([0 ,1], [0,1 ], 'k--')\n",
    "plt.plot(fpr, tpr , label = 'Logistic Regression')\n",
    "plt.xlabel('False Positive Rate')\n",
    "plt.ylabel('True Positive Rate')\n",
    "plt.title('Logistic Regression ROC Curve')\n",
    "plt.show()\n"
   ]
  },
  {
   "cell_type": "code",
   "execution_count": 7,
   "id": "aff90643",
   "metadata": {},
   "outputs": [
    {
     "data": {
      "text/plain": [
       "0.8260517799352751"
      ]
     },
     "execution_count": 7,
     "metadata": {},
     "output_type": "execute_result"
    }
   ],
   "source": [
    "# Area under the ROC curve\n",
    "#Roc 곡선 아래 영역이 클수록 모델이 더 좋다.\n",
    "#곡선의 왼쪽 상단모서리 TPR가  1 FPR가 0이 좋은 모델인데 이런 이유로 일반적으로 AUC라고 표기되는 ROC아래 영역은 분류모델 지표이다,.\n",
    "\n",
    "from sklearn.metrics  import roc_auc_score\n",
    "\n",
    "# AUC 계산을 위해 먼저 예측 확률을 계산 \n",
    "y_pred_prob = logreg.predict_proba(X_test)[:,1]\n",
    "roc_auc_score(y_test , y_pred_prob)"
   ]
  },
  {
   "cell_type": "code",
   "execution_count": 8,
   "id": "efa06d68",
   "metadata": {},
   "outputs": [
    {
     "data": {
      "text/plain": [
       "array([0.80814815, 0.80777778, 0.82666667, 0.87471698, 0.83169811])"
      ]
     },
     "execution_count": 8,
     "metadata": {},
     "output_type": "execute_result"
    }
   ],
   "source": [
    "# cross validation 사용해서 auc 계산 \n",
    "from sklearn.model_selection import cross_val_score\n",
    "cv_score = cross_val_score(logreg , X, y , cv = 5 , scoring = 'roc_auc')\n",
    "cv_score"
   ]
  },
  {
   "cell_type": "markdown",
   "id": "ae5f2294",
   "metadata": {},
   "source": [
    "### Hyperparameter tuning\n",
    "데이터에 가장 적합한 모델의 매개변수를 선택 , 모델은fiting하기전에 지정해야하는 이러한 매개변수를 하이퍼파라미터라고 한다."
   ]
  },
  {
   "cell_type": "markdown",
   "id": "e3e9dcc5",
   "metadata": {},
   "source": [
    "Gridsearchcv는 범위전체에 대한 모든조합을 다 진행하여 최적의 파라미터를 찾는다.\n",
    "성능개선 면에선 Randomized보다 더 개선된 조합을 잘 찾을 수도 있겠지만, 시간적인 면에서 크게 비효율적이다. 아무래도 모든 조합의 성능을 확인하려다보니 그런 불편한 부분이 있다."
   ]
  },
  {
   "cell_type": "code",
   "execution_count": 9,
   "id": "f7a46b52",
   "metadata": {},
   "outputs": [
    {
     "data": {
      "text/plain": [
       "{'n_neighbors': 14}"
      ]
     },
     "execution_count": 9,
     "metadata": {},
     "output_type": "execute_result"
    }
   ],
   "source": [
    "from sklearn.model_selection import GridSearchCV\n",
    "param_grid ={'n_neighbors' :np.arange(1,50)} # 하이퍼파라미터 키가 있는 사전으로 지정\n",
    "knn = KNeighborsClassifier()\n",
    "knn_cv = GridSearchCV(knn , param_grid  , cv = 5) \n",
    "knn_cv.fit(X,y)\n",
    "knn_cv.best_params_ # 최고의 성능을 발휘하는 하이퍼파라미터"
   ]
  },
  {
   "cell_type": "code",
   "execution_count": 10,
   "id": "760c9d20",
   "metadata": {},
   "outputs": [
    {
     "data": {
      "text/plain": [
       "0.7578558696205755"
      ]
     },
     "execution_count": 10,
     "metadata": {},
     "output_type": "execute_result"
    }
   ],
   "source": [
    "knn_cv.best_score_  # 평균 교차 검증 점수"
   ]
  },
  {
   "cell_type": "code",
   "execution_count": 11,
   "id": "a1b11f10",
   "metadata": {},
   "outputs": [
    {
     "name": "stdout",
     "output_type": "stream",
     "text": [
      "Tuned Logistic Regression Parameters: {'C': 31.622776601683793}\n",
      "Best score is 0.7787114845938374\n"
     ]
    }
   ],
   "source": [
    "c_space = np.logspace(-5, 8, 15)\n",
    "param_grid = {'C': c_space}\n",
    "\n",
    "logreg = LogisticRegression()\n",
    "\n",
    "logreg_cv = GridSearchCV(logreg, param_grid, cv=5)\n",
    "\n",
    "logreg_cv.fit(X,y)\n",
    "\n",
    "print(\"Tuned Logistic Regression Parameters: {}\".format(logreg_cv.best_params_)) \n",
    "print(\"Best score is {}\".format(logreg_cv.best_score_))"
   ]
  },
  {
   "cell_type": "markdown",
   "id": "0e3f8f47",
   "metadata": {},
   "source": [
    "### Hyperparameter tuning with RandomizedSearchCV\n",
    "GridSearchCV can be computationally expensive, especially if you are searching over a large hyperparameter space and dealing with multiple hyperparameters. A solution to this is to use RandomizedSearchCV, in which not all hyperparameter values are tried out. Instead, a fixed number of hyperparameter settings is sampled from specified probability distributions. \n",
    "\n",
    "모든 파라미터를 조율해보고 그에 맞는 최적의 조합을 찾아보기 힘들기 때문에 오차값이 가장 적은 하이퍼 파라미터를 찾아주는 라이브러리 \n",
    "튜닝하고싶은 파라미터를 지정하여 파라미터 값의 범위를 정하고, n_iter값을 지정하여 해당 수 만큼 Random하게 조합하여 반복하는 과정을 거쳐 최종적인 최적 파라미터 값을 가진다."
   ]
  },
  {
   "cell_type": "code",
   "execution_count": 12,
   "id": "8e0c9995",
   "metadata": {},
   "outputs": [
    {
     "name": "stdout",
     "output_type": "stream",
     "text": [
      "Tuned Decision Tree Parameters: {'criterion': 'gini', 'max_depth': 3, 'max_features': 6, 'min_samples_leaf': 3}\n",
      "Best score is 0.7152173913043478\n"
     ]
    }
   ],
   "source": [
    "from scipy.stats import randint\n",
    "from sklearn.tree import DecisionTreeClassifier\n",
    "from sklearn.model_selection import RandomizedSearchCV\n",
    "\n",
    "param_dist = {\"max_depth\": [3, None],\n",
    "              \"max_features\": randint(1, 9),\n",
    "              \"min_samples_leaf\": randint(1, 9),\n",
    "              \"criterion\": [\"gini\", \"entropy\"]}\n",
    "\n",
    "\n",
    "tree = DecisionTreeClassifier()\n",
    "\n",
    "tree_cv = RandomizedSearchCV(tree,param_dist, cv=5)\n",
    "\n",
    "tree_cv.fit(X_train, y_train)\n",
    "\n",
    "print(\"Tuned Decision Tree Parameters: {}\".format(tree_cv.best_params_))\n",
    "print(\"Best score is {}\".format(tree_cv.best_score_))"
   ]
  }
 ],
 "metadata": {
  "kernelspec": {
   "display_name": "Python 3",
   "language": "python",
   "name": "python3"
  },
  "language_info": {
   "codemirror_mode": {
    "name": "ipython",
    "version": 3
   },
   "file_extension": ".py",
   "mimetype": "text/x-python",
   "name": "python",
   "nbconvert_exporter": "python",
   "pygments_lexer": "ipython3",
   "version": "3.8.8"
  }
 },
 "nbformat": 4,
 "nbformat_minor": 5
}
