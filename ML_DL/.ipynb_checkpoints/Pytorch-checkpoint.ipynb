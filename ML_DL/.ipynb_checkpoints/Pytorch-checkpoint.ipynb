{
 "cells": [
  {
   "cell_type": "markdown",
   "id": "09868170",
   "metadata": {},
   "source": [
    "### Pytorch\n",
    "Pytorch는 TensorFlow와 함께 Deep Learning에서 가장 널리 사용되는 framework입니다.  \n",
    "\n",
    "초기에는 Torch라는 이름으로 Lua 언어 기반으로 만들어졌으나, 이후 python 기반으로 변경한 것이 Pytorch입니다.  \n",
    "\n",
    "New York 대학교와 Facebook이 공동으로 만들었고, Deep Learning 연구자들 사이에서는 가장 대중적으로 널리 사용되는 framework입니다.  "
   ]
  },
  {
   "cell_type": "code",
   "execution_count": 1,
   "id": "e2be139f",
   "metadata": {},
   "outputs": [
    {
     "name": "stdout",
     "output_type": "stream",
     "text": [
      "1.9.0.post2\n"
     ]
    }
   ],
   "source": [
    "import torch\n",
    "\n",
    "print(torch.__version__)"
   ]
  },
  {
   "cell_type": "code",
   "execution_count": 2,
   "id": "d8b65f31",
   "metadata": {},
   "outputs": [],
   "source": [
    "import numpy as np\n",
    "import pandas as pd\n",
    "import seaborn as sns\n",
    "import matplotlib.pyplot as plt\n",
    "import warnings\n",
    "warnings.filterwarnings(action='ignore')"
   ]
  },
  {
   "cell_type": "code",
   "execution_count": 3,
   "id": "67eff578",
   "metadata": {},
   "outputs": [],
   "source": [
    "from torch import nn\n",
    "from torch.utils.data import DataLoader\n",
    "from torchvision import datasets\n",
    "from torchvision.transforms import ToTensor, Lambda, Compose"
   ]
  },
  {
   "cell_type": "code",
   "execution_count": 4,
   "id": "ae593cbf",
   "metadata": {},
   "outputs": [
    {
     "name": "stdout",
     "output_type": "stream",
     "text": [
      "Downloading http://yann.lecun.com/exdb/mnist/train-images-idx3-ubyte.gz\n",
      "Downloading http://yann.lecun.com/exdb/mnist/train-images-idx3-ubyte.gz to data/MNIST/raw/train-images-idx3-ubyte.gz\n"
     ]
    },
    {
     "data": {
      "application/vnd.jupyter.widget-view+json": {
       "model_id": "a6845a3245af425d8d8b82d42a3dc3d7",
       "version_major": 2,
       "version_minor": 0
      },
      "text/plain": [
       "  0%|          | 0/9912422 [00:00<?, ?it/s]"
      ]
     },
     "metadata": {},
     "output_type": "display_data"
    },
    {
     "name": "stdout",
     "output_type": "stream",
     "text": [
      "Extracting data/MNIST/raw/train-images-idx3-ubyte.gz to data/MNIST/raw\n",
      "\n",
      "Downloading http://yann.lecun.com/exdb/mnist/train-labels-idx1-ubyte.gz\n",
      "Downloading http://yann.lecun.com/exdb/mnist/train-labels-idx1-ubyte.gz to data/MNIST/raw/train-labels-idx1-ubyte.gz\n"
     ]
    },
    {
     "data": {
      "application/vnd.jupyter.widget-view+json": {
       "model_id": "9b457547b53f424f8c291e89676205eb",
       "version_major": 2,
       "version_minor": 0
      },
      "text/plain": [
       "  0%|          | 0/28881 [00:00<?, ?it/s]"
      ]
     },
     "metadata": {},
     "output_type": "display_data"
    },
    {
     "name": "stdout",
     "output_type": "stream",
     "text": [
      "Extracting data/MNIST/raw/train-labels-idx1-ubyte.gz to data/MNIST/raw\n",
      "\n",
      "Downloading http://yann.lecun.com/exdb/mnist/t10k-images-idx3-ubyte.gz\n",
      "Downloading http://yann.lecun.com/exdb/mnist/t10k-images-idx3-ubyte.gz to data/MNIST/raw/t10k-images-idx3-ubyte.gz\n"
     ]
    },
    {
     "data": {
      "application/vnd.jupyter.widget-view+json": {
       "model_id": "81f712fffb704461999962c5b0c658cf",
       "version_major": 2,
       "version_minor": 0
      },
      "text/plain": [
       "  0%|          | 0/1648877 [00:00<?, ?it/s]"
      ]
     },
     "metadata": {},
     "output_type": "display_data"
    },
    {
     "name": "stdout",
     "output_type": "stream",
     "text": [
      "Extracting data/MNIST/raw/t10k-images-idx3-ubyte.gz to data/MNIST/raw\n",
      "\n",
      "Downloading http://yann.lecun.com/exdb/mnist/t10k-labels-idx1-ubyte.gz\n",
      "Downloading http://yann.lecun.com/exdb/mnist/t10k-labels-idx1-ubyte.gz to data/MNIST/raw/t10k-labels-idx1-ubyte.gz\n"
     ]
    },
    {
     "data": {
      "application/vnd.jupyter.widget-view+json": {
       "model_id": "ff08e5c012da44e2b610c3438c96806d",
       "version_major": 2,
       "version_minor": 0
      },
      "text/plain": [
       "  0%|          | 0/4542 [00:00<?, ?it/s]"
      ]
     },
     "metadata": {},
     "output_type": "display_data"
    },
    {
     "name": "stdout",
     "output_type": "stream",
     "text": [
      "Extracting data/MNIST/raw/t10k-labels-idx1-ubyte.gz to data/MNIST/raw\n",
      "\n"
     ]
    }
   ],
   "source": [
    "# MNIST Data\n",
    "\n",
    "# 공개 데이터셋에서 학습 데이터를 내려받습니다.\n",
    "training_data = datasets.MNIST(\n",
    "        root = 'data',\n",
    "        train = True ,\n",
    "        download = True,\n",
    "        transform = ToTensor(),\n",
    "\n",
    ")\n",
    "\n",
    "# 공개 데이터셋에서 테스트 데이터를 내려받습니다.\n",
    "test_data = datasets.MNIST(\n",
    "    root=\"data\",\n",
    "    train=False,\n",
    "    download=True,\n",
    "    transform=ToTensor(),\n",
    ")\n"
   ]
  },
  {
   "cell_type": "code",
   "execution_count": 5,
   "id": "d9c6d48e",
   "metadata": {},
   "outputs": [
    {
     "name": "stdout",
     "output_type": "stream",
     "text": [
      "Shape of X [N, C, H, W]:  torch.Size([64, 1, 28, 28])\n",
      "Shape of y:  torch.Size([64]) torch.int64\n"
     ]
    }
   ],
   "source": [
    "batch_size = 64\n",
    "\n",
    "# 데이터로더를 생성합니다.\n",
    "train_dataloader = DataLoader(training_data , batch_size = batch_size)\n",
    "test_dataloader = DataLoader(test_data, batch_size=batch_size)\n",
    "\n",
    "for X , y in test_dataloader :\n",
    "    print(\"Shape of X [N, C, H, W]: \", X.shape)\n",
    "    print(\"Shape of y: \", y.shape, y.dtype)\n",
    "    break"
   ]
  },
  {
   "cell_type": "code",
   "execution_count": 6,
   "id": "e2500af2",
   "metadata": {},
   "outputs": [
    {
     "name": "stdout",
     "output_type": "stream",
     "text": [
      "Using cpu device\n"
     ]
    }
   ],
   "source": [
    "# 학습에 사용할 CPU나 GPU 장치를 얻습니다.\n",
    "\n",
    "device = \"cuda\" if torch.cuda.is_available() else \"cpu\"\n",
    "print(\"Using {} device\".format(device))"
   ]
  },
  {
   "cell_type": "code",
   "execution_count": 12,
   "id": "a74019c8",
   "metadata": {},
   "outputs": [
    {
     "name": "stdout",
     "output_type": "stream",
     "text": [
      "NeuralNetwork(\n",
      "  (flatten): Flatten(start_dim=1, end_dim=-1)\n",
      "  (linear_relu_stack): Sequential(\n",
      "    (0): Linear(in_features=784, out_features=128, bias=True)\n",
      "    (1): ReLU()\n",
      "    (2): Dropout(p=0, inplace=2)\n",
      "    (3): Linear(in_features=128, out_features=10, bias=True)\n",
      "  )\n",
      ")\n"
     ]
    }
   ],
   "source": [
    "# 모델 정의\n",
    "\n",
    "class  NeuralNetwork(nn.Module):\n",
    "    def __init__(self) :\n",
    "        super(NeuralNetwork , self).__init__()\n",
    "        self.flatten = nn.Flatten()\n",
    "        self.linear_relu_stack = nn.Sequential(\n",
    "                nn.Linear(28*28 , 128),\n",
    "                nn.ReLU(),\n",
    "                nn.Dropout(0,2),\n",
    "                nn.Linear(128, 10)\n",
    "        )\n",
    "        \n",
    "    def forward(self, x):\n",
    "        x = self.flatten(x)\n",
    "        logits = self.linear_relu_stack(x)\n",
    "        return logits\n",
    "\n",
    "    \n",
    "model = NeuralNetwork().to(device)\n",
    "print(model)"
   ]
  },
  {
   "cell_type": "code",
   "execution_count": 13,
   "id": "127ca9d0",
   "metadata": {},
   "outputs": [],
   "source": [
    "# Loss 함수와 Optimizer 설정\n",
    "loss_fn = nn.CrossEntropyLoss()\n",
    "optimizer = torch.optim.Adam(model.parameters(), lr=1e-3)"
   ]
  },
  {
   "cell_type": "code",
   "execution_count": 14,
   "id": "63544053",
   "metadata": {},
   "outputs": [],
   "source": [
    "# Training을 위한 함수\n",
    "def train(dataloader, model, loss_fn, optimizer):\n",
    "    size = len(dataloader.dataset)\n",
    "    for batch, (X, y) in enumerate(dataloader):\n",
    "        X, y = X.to(device), y.to(device)\n",
    "\n",
    "        # 예측 오류 계산\n",
    "        pred = model(X)\n",
    "        loss = loss_fn(pred, y)\n",
    "\n",
    "        # 역전파\n",
    "        optimizer.zero_grad()\n",
    "        loss.backward()\n",
    "        optimizer.step()\n",
    "\n",
    "        if batch % 100 == 0:\n",
    "            loss, current = loss.item(), batch * len(X)\n",
    "            print(f\"loss: {loss:>7f}  [{current:>5d}/{size:>5d}]\")"
   ]
  },
  {
   "cell_type": "code",
   "execution_count": 15,
   "id": "f10fe697",
   "metadata": {},
   "outputs": [],
   "source": [
    "# Test를 위한 함수\n",
    "def test(dataloader, model, loss_fn):\n",
    "    size = len(dataloader.dataset)\n",
    "    num_batches = len(dataloader)\n",
    "    model.eval()\n",
    "    test_loss, correct = 0, 0\n",
    "    with torch.no_grad():\n",
    "        for X, y in dataloader:\n",
    "            X, y = X.to(device), y.to(device)\n",
    "            pred = model(X)\n",
    "            test_loss += loss_fn(pred, y).item()\n",
    "            correct += (pred.argmax(1) == y).type(torch.float).sum().item()\n",
    "    test_loss /= num_batches\n",
    "    correct /= size\n",
    "    print(f\"Test Error: \\n Accuracy: {(100*correct):>0.1f}%, Avg loss: {test_loss:>8f} \\n\")"
   ]
  },
  {
   "cell_type": "code",
   "execution_count": 16,
   "id": "683a219e",
   "metadata": {},
   "outputs": [
    {
     "name": "stdout",
     "output_type": "stream",
     "text": [
      "Epoch 1\n",
      "-------------------------------\n",
      "loss: 2.318804  [    0/60000]\n",
      "loss: 0.412134  [ 6400/60000]\n",
      "loss: 0.275046  [12800/60000]\n",
      "loss: 0.335593  [19200/60000]\n",
      "loss: 0.214580  [25600/60000]\n",
      "loss: 0.328789  [32000/60000]\n",
      "loss: 0.142627  [38400/60000]\n",
      "loss: 0.344883  [44800/60000]\n",
      "loss: 0.262615  [51200/60000]\n",
      "loss: 0.303591  [57600/60000]\n",
      "Test Error: \n",
      " Accuracy: 94.1%, Avg loss: 0.199658 \n",
      "\n",
      "Epoch 2\n",
      "-------------------------------\n",
      "loss: 0.146446  [    0/60000]\n",
      "loss: 0.243895  [ 6400/60000]\n",
      "loss: 0.110436  [12800/60000]\n",
      "loss: 0.194621  [19200/60000]\n",
      "loss: 0.156749  [25600/60000]\n",
      "loss: 0.256668  [32000/60000]\n",
      "loss: 0.068056  [38400/60000]\n",
      "loss: 0.245123  [44800/60000]\n",
      "loss: 0.170067  [51200/60000]\n",
      "loss: 0.217406  [57600/60000]\n",
      "Test Error: \n",
      " Accuracy: 95.7%, Avg loss: 0.142595 \n",
      "\n",
      "Epoch 3\n",
      "-------------------------------\n",
      "loss: 0.082124  [    0/60000]\n",
      "loss: 0.180853  [ 6400/60000]\n",
      "loss: 0.086474  [12800/60000]\n",
      "loss: 0.118662  [19200/60000]\n",
      "loss: 0.116895  [25600/60000]\n",
      "loss: 0.191546  [32000/60000]\n",
      "loss: 0.049075  [38400/60000]\n",
      "loss: 0.189884  [44800/60000]\n",
      "loss: 0.134708  [51200/60000]\n",
      "loss: 0.169695  [57600/60000]\n",
      "Test Error: \n",
      " Accuracy: 96.4%, Avg loss: 0.119494 \n",
      "\n",
      "Epoch 4\n",
      "-------------------------------\n",
      "loss: 0.057369  [    0/60000]\n",
      "loss: 0.138513  [ 6400/60000]\n",
      "loss: 0.068959  [12800/60000]\n",
      "loss: 0.079367  [19200/60000]\n",
      "loss: 0.083735  [25600/60000]\n",
      "loss: 0.147001  [32000/60000]\n",
      "loss: 0.039926  [38400/60000]\n",
      "loss: 0.147677  [44800/60000]\n",
      "loss: 0.099263  [51200/60000]\n",
      "loss: 0.130837  [57600/60000]\n",
      "Test Error: \n",
      " Accuracy: 96.8%, Avg loss: 0.101982 \n",
      "\n",
      "Epoch 5\n",
      "-------------------------------\n",
      "loss: 0.042428  [    0/60000]\n",
      "loss: 0.124214  [ 6400/60000]\n",
      "loss: 0.054464  [12800/60000]\n",
      "loss: 0.048123  [19200/60000]\n",
      "loss: 0.063094  [25600/60000]\n",
      "loss: 0.112709  [32000/60000]\n",
      "loss: 0.038577  [38400/60000]\n",
      "loss: 0.115547  [44800/60000]\n",
      "loss: 0.080712  [51200/60000]\n",
      "loss: 0.094287  [57600/60000]\n",
      "Test Error: \n",
      " Accuracy: 97.2%, Avg loss: 0.093747 \n",
      "\n",
      "Epoch 6\n",
      "-------------------------------\n",
      "loss: 0.033532  [    0/60000]\n",
      "loss: 0.096420  [ 6400/60000]\n",
      "loss: 0.049046  [12800/60000]\n",
      "loss: 0.031719  [19200/60000]\n",
      "loss: 0.045953  [25600/60000]\n",
      "loss: 0.092922  [32000/60000]\n",
      "loss: 0.035447  [38400/60000]\n",
      "loss: 0.090504  [44800/60000]\n",
      "loss: 0.081081  [51200/60000]\n",
      "loss: 0.073617  [57600/60000]\n",
      "Test Error: \n",
      " Accuracy: 97.2%, Avg loss: 0.088995 \n",
      "\n",
      "Epoch 7\n",
      "-------------------------------\n",
      "loss: 0.031485  [    0/60000]\n",
      "loss: 0.072100  [ 6400/60000]\n",
      "loss: 0.049226  [12800/60000]\n",
      "loss: 0.026078  [19200/60000]\n",
      "loss: 0.032840  [25600/60000]\n",
      "loss: 0.073457  [32000/60000]\n",
      "loss: 0.026880  [38400/60000]\n",
      "loss: 0.067509  [44800/60000]\n",
      "loss: 0.077587  [51200/60000]\n",
      "loss: 0.054896  [57600/60000]\n",
      "Test Error: \n",
      " Accuracy: 97.4%, Avg loss: 0.085333 \n",
      "\n",
      "Epoch 8\n",
      "-------------------------------\n",
      "loss: 0.030708  [    0/60000]\n",
      "loss: 0.050010  [ 6400/60000]\n",
      "loss: 0.043455  [12800/60000]\n",
      "loss: 0.018070  [19200/60000]\n",
      "loss: 0.023592  [25600/60000]\n",
      "loss: 0.055642  [32000/60000]\n",
      "loss: 0.024448  [38400/60000]\n",
      "loss: 0.053320  [44800/60000]\n",
      "loss: 0.077673  [51200/60000]\n",
      "loss: 0.041838  [57600/60000]\n",
      "Test Error: \n",
      " Accuracy: 97.5%, Avg loss: 0.083696 \n",
      "\n",
      "Epoch 9\n",
      "-------------------------------\n",
      "loss: 0.029193  [    0/60000]\n",
      "loss: 0.037844  [ 6400/60000]\n",
      "loss: 0.037846  [12800/60000]\n",
      "loss: 0.013612  [19200/60000]\n",
      "loss: 0.016573  [25600/60000]\n",
      "loss: 0.036839  [32000/60000]\n",
      "loss: 0.023840  [38400/60000]\n",
      "loss: 0.041769  [44800/60000]\n",
      "loss: 0.077561  [51200/60000]\n",
      "loss: 0.025855  [57600/60000]\n",
      "Test Error: \n",
      " Accuracy: 97.5%, Avg loss: 0.083643 \n",
      "\n",
      "Epoch 10\n",
      "-------------------------------\n",
      "loss: 0.032429  [    0/60000]\n",
      "loss: 0.029911  [ 6400/60000]\n",
      "loss: 0.033069  [12800/60000]\n",
      "loss: 0.010830  [19200/60000]\n",
      "loss: 0.011283  [25600/60000]\n",
      "loss: 0.023498  [32000/60000]\n",
      "loss: 0.019511  [38400/60000]\n",
      "loss: 0.032828  [44800/60000]\n",
      "loss: 0.081791  [51200/60000]\n",
      "loss: 0.017088  [57600/60000]\n",
      "Test Error: \n",
      " Accuracy: 97.4%, Avg loss: 0.085788 \n",
      "\n",
      "Done!\n"
     ]
    }
   ],
   "source": [
    "epochs = 10\n",
    "for t in range(epochs):\n",
    "    print(f\"Epoch {t+1}\\n-------------------------------\")\n",
    "    train(train_dataloader, model, loss_fn, optimizer)\n",
    "    test(test_dataloader, model, loss_fn)\n",
    "print(\"Done!\")"
   ]
  }
 ],
 "metadata": {
  "kernelspec": {
   "display_name": "Python 3",
   "language": "python",
   "name": "python3"
  },
  "language_info": {
   "codemirror_mode": {
    "name": "ipython",
    "version": 3
   },
   "file_extension": ".py",
   "mimetype": "text/x-python",
   "name": "python",
   "nbconvert_exporter": "python",
   "pygments_lexer": "ipython3",
   "version": "3.8.11"
  }
 },
 "nbformat": 4,
 "nbformat_minor": 5
}
