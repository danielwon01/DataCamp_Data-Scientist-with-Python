{
 "cells": [
  {
   "cell_type": "markdown",
   "id": "e0f0f871",
   "metadata": {},
   "source": [
    "### Applying logistic regression and SVM"
   ]
  },
  {
   "cell_type": "code",
   "execution_count": 1,
   "id": "ab6cfae3",
   "metadata": {},
   "outputs": [],
   "source": [
    "import numpy as np\n",
    "import pandas as pd\n",
    "import seaborn as sns\n",
    "import matplotlib.pyplot as plt\n",
    "import warnings\n",
    "warnings.filterwarnings(action='ignore')"
   ]
  },
  {
   "cell_type": "markdown",
   "id": "a425bbd7",
   "metadata": {},
   "source": [
    "#### scikit-learn refresher"
   ]
  },
  {
   "cell_type": "code",
   "execution_count": 2,
   "id": "098852d2",
   "metadata": {},
   "outputs": [],
   "source": [
    "import sklearn.datasets\n",
    "\n",
    "newsgroup = sklearn.datasets.fetch_20newsgroups_vectorized()\n",
    "\n",
    "X, y = newsgroup.data , newsgroup.target"
   ]
  },
  {
   "cell_type": "code",
   "execution_count": 3,
   "id": "bfe2c6a4",
   "metadata": {},
   "outputs": [
    {
     "data": {
      "text/plain": [
       "(11314, 130107)"
      ]
     },
     "execution_count": 3,
     "metadata": {},
     "output_type": "execute_result"
    }
   ],
   "source": [
    "X.shape"
   ]
  },
  {
   "cell_type": "code",
   "execution_count": 4,
   "id": "e7b45f47",
   "metadata": {},
   "outputs": [
    {
     "data": {
      "text/plain": [
       "(11314,)"
      ]
     },
     "execution_count": 4,
     "metadata": {},
     "output_type": "execute_result"
    }
   ],
   "source": [
    "# 기사주제\n",
    "y.shape"
   ]
  },
  {
   "cell_type": "code",
   "execution_count": 5,
   "id": "05d949f5",
   "metadata": {},
   "outputs": [],
   "source": [
    "from sklearn.neighbors import KNeighborsClassifier\n",
    "\n",
    "knn = KNeighborsClassifier(n_neighbors= 1)"
   ]
  },
  {
   "cell_type": "code",
   "execution_count": 6,
   "id": "870a86dc",
   "metadata": {},
   "outputs": [
    {
     "data": {
      "text/plain": [
       "KNeighborsClassifier(n_neighbors=1)"
      ]
     },
     "execution_count": 6,
     "metadata": {},
     "output_type": "execute_result"
    }
   ],
   "source": [
    "knn.fit(X,y)"
   ]
  },
  {
   "cell_type": "code",
   "execution_count": 7,
   "id": "51f260a4",
   "metadata": {},
   "outputs": [],
   "source": [
    "y_pred = knn.predict(X)"
   ]
  },
  {
   "cell_type": "code",
   "execution_count": 8,
   "id": "19a029ae",
   "metadata": {},
   "outputs": [
    {
     "data": {
      "text/plain": [
       "0.9999116139296447"
      ]
     },
     "execution_count": 8,
     "metadata": {},
     "output_type": "execute_result"
    }
   ],
   "source": [
    "knn.score(X,y)"
   ]
  },
  {
   "cell_type": "code",
   "execution_count": 9,
   "id": "646f8b0a",
   "metadata": {},
   "outputs": [],
   "source": [
    "from sklearn.model_selection import train_test_split\n",
    "\n",
    "X_train , X_test , y_train , y_test  = train_test_split(X,y)"
   ]
  },
  {
   "cell_type": "code",
   "execution_count": 10,
   "id": "93f78ed2",
   "metadata": {},
   "outputs": [
    {
     "data": {
      "text/plain": [
       "KNeighborsClassifier(n_neighbors=1)"
      ]
     },
     "execution_count": 10,
     "metadata": {},
     "output_type": "execute_result"
    }
   ],
   "source": [
    "knn.fit(X_train , y_train)"
   ]
  },
  {
   "cell_type": "code",
   "execution_count": 11,
   "id": "62b7779d",
   "metadata": {},
   "outputs": [
    {
     "data": {
      "text/plain": [
       "0.673029338989042"
      ]
     },
     "execution_count": 11,
     "metadata": {},
     "output_type": "execute_result"
    }
   ],
   "source": [
    "knn.score(X_test , y_test)"
   ]
  },
  {
   "cell_type": "markdown",
   "id": "13dbc8dc",
   "metadata": {},
   "source": [
    "#### Applying logistic regression and SVM"
   ]
  },
  {
   "cell_type": "code",
   "execution_count": 12,
   "id": "56900271",
   "metadata": {},
   "outputs": [],
   "source": [
    "wine = sklearn.datasets.load_wine()"
   ]
  },
  {
   "cell_type": "code",
   "execution_count": 13,
   "id": "45c8ec4d",
   "metadata": {},
   "outputs": [
    {
     "data": {
      "text/plain": [
       "LogisticRegression()"
      ]
     },
     "execution_count": 13,
     "metadata": {},
     "output_type": "execute_result"
    }
   ],
   "source": [
    "from  sklearn.linear_model import LogisticRegression\n",
    "\n",
    "lr = LogisticRegression()\n",
    "lr.fit(wine.data , wine.target)"
   ]
  },
  {
   "cell_type": "code",
   "execution_count": 14,
   "id": "bef10fd0",
   "metadata": {},
   "outputs": [
    {
     "data": {
      "text/plain": [
       "0.9662921348314607"
      ]
     },
     "execution_count": 14,
     "metadata": {},
     "output_type": "execute_result"
    }
   ],
   "source": [
    "lr.score(wine.data , wine.target)"
   ]
  },
  {
   "cell_type": "code",
   "execution_count": 15,
   "id": "6b52e9fb",
   "metadata": {},
   "outputs": [
    {
     "data": {
      "text/plain": [
       "array([[9.96576956e-01, 2.74338043e-03, 6.79663612e-04]])"
      ]
     },
     "execution_count": 15,
     "metadata": {},
     "output_type": "execute_result"
    }
   ],
   "source": [
    "lr.predict_proba(wine.data[:1])"
   ]
  },
  {
   "cell_type": "code",
   "execution_count": 16,
   "id": "cf695d2e",
   "metadata": {},
   "outputs": [
    {
     "data": {
      "text/plain": [
       "LinearSVC()"
      ]
     },
     "execution_count": 16,
     "metadata": {},
     "output_type": "execute_result"
    }
   ],
   "source": [
    "from sklearn.svm import LinearSVC\n",
    "\n",
    "svm = LinearSVC()\n",
    "\n",
    "svm.fit(wine.data , wine.target)"
   ]
  },
  {
   "cell_type": "code",
   "execution_count": 17,
   "id": "a38b31cc",
   "metadata": {},
   "outputs": [
    {
     "data": {
      "text/plain": [
       "0.8595505617977528"
      ]
     },
     "execution_count": 17,
     "metadata": {},
     "output_type": "execute_result"
    }
   ],
   "source": [
    "svm.score(wine.data , wine.target)"
   ]
  },
  {
   "cell_type": "code",
   "execution_count": 18,
   "id": "5de52d5d",
   "metadata": {},
   "outputs": [
    {
     "data": {
      "text/plain": [
       "SVC()"
      ]
     },
     "execution_count": 18,
     "metadata": {},
     "output_type": "execute_result"
    }
   ],
   "source": [
    "from sklearn.svm import SVC\n",
    "\n",
    "svm = SVC()\n",
    "\n",
    "svm.fit(wine.data , wine.target)"
   ]
  },
  {
   "cell_type": "code",
   "execution_count": 19,
   "id": "e839a77b",
   "metadata": {},
   "outputs": [
    {
     "data": {
      "text/plain": [
       "0.7078651685393258"
      ]
     },
     "execution_count": 19,
     "metadata": {},
     "output_type": "execute_result"
    }
   ],
   "source": [
    "svm.score(wine.data , wine.target)"
   ]
  },
  {
   "cell_type": "markdown",
   "id": "ee8d27dd",
   "metadata": {},
   "source": [
    "#### Linear classifiers\n",
    "\n",
    "* Classification: learning to predict categories\n",
    "* decision boundary: the surface separating different predicted classes\n",
    "* linear classifier: a classifier that learn linear decision boundaries\n",
    "    e.g. logistic regression, linear SVM\n",
    "* linearly separable: a dataset can be perfectly explained by a linear classifier\n"
   ]
  },
  {
   "cell_type": "markdown",
   "id": "69eaeffe",
   "metadata": {},
   "source": [
    "### loss function\n",
    "\n",
    "Least squares: the squared loss\n",
    "scikit-learn's LinearRegression minimizes a loss: $$ \\sum_{i=1}^{n}(\\text{true ith target value - predicted ith target value})^2 $$\n",
    "Minimization is with respect to coefficients or parameters of the model.\n",
    "Classification errors: the 0-1 loss\n",
    "Squared loss not appropriate for classification problems\n",
    "A natrual loss for classification problem is the number of errors\n",
    "This is the 0-1 loss: it's 0 for a correct prediction and 1 for an incorrect prediction\n",
    "But this loss is hard to minimize"
   ]
  },
  {
   "cell_type": "code",
   "execution_count": 20,
   "id": "00bb60df",
   "metadata": {},
   "outputs": [
    {
     "data": {
      "text/plain": [
       "array([0.])"
      ]
     },
     "execution_count": 20,
     "metadata": {},
     "output_type": "execute_result"
    }
   ],
   "source": [
    "from scipy.optimize import minimize\n",
    "\n",
    "# y = x**2 함수 \n",
    "# x = 0 일때 함수가 최소\n",
    "minimize(np.square, 0 ).x"
   ]
  },
  {
   "cell_type": "code",
   "execution_count": 21,
   "id": "2bbddac8",
   "metadata": {},
   "outputs": [
    {
     "data": {
      "text/plain": [
       "array([-1.88846401e-08])"
      ]
     },
     "execution_count": 21,
     "metadata": {},
     "output_type": "execute_result"
    }
   ],
   "source": [
    "minimize(np.square , 2).x"
   ]
  },
  {
   "cell_type": "code",
   "execution_count": 22,
   "id": "16e7f44a",
   "metadata": {},
   "outputs": [],
   "source": [
    "from sklearn.datasets import load_boston\n",
    "\n",
    "boston = load_boston()"
   ]
  },
  {
   "cell_type": "code",
   "execution_count": 23,
   "id": "7022fb8d",
   "metadata": {},
   "outputs": [],
   "source": [
    "X = boston.data\n",
    "y = boston.target"
   ]
  },
  {
   "cell_type": "code",
   "execution_count": 25,
   "id": "ebe97ce0",
   "metadata": {},
   "outputs": [
    {
     "name": "stdout",
     "output_type": "stream",
     "text": [
      "[-9.28966992e-02  4.87152761e-02 -4.05670206e-03  2.85399252e+00\n",
      " -2.86840627e+00  5.92815470e+00 -7.26935582e-03 -9.68512747e-01\n",
      "  1.71156304e-01 -9.39663650e-03 -3.92187457e-01  1.49054716e-02\n",
      " -4.16304132e-01]\n",
      "[-9.28965170e-02  4.87149552e-02 -4.05997958e-03  2.85399882e+00\n",
      " -2.86843637e+00  5.92814778e+00 -7.26933458e-03 -9.68514157e-01\n",
      "  1.71151128e-01 -9.39621540e-03 -3.92190926e-01  1.49056102e-02\n",
      " -4.16304471e-01]\n"
     ]
    }
   ],
   "source": [
    "from sklearn.linear_model import LinearRegression\n",
    "\n",
    "def my_loss(w):\n",
    "    s = 0\n",
    "    for i in range(y.size):\n",
    "        \n",
    "        y_i_true = y[i]\n",
    "        y_i_pred = w@X[i]\n",
    "        s = s + (y_i_true - y_i_pred) ** 2\n",
    "    return s\n",
    "\n",
    "w_fit = minimize(my_loss, X[0]).x\n",
    "print(w_fit)\n",
    "\n",
    "lr = LinearRegression(fit_intercept=False).fit(X, y)\n",
    "print(lr.coef_)"
   ]
  },
  {
   "cell_type": "code",
   "execution_count": 27,
   "id": "d5cbbf22",
   "metadata": {},
   "outputs": [
    {
     "data": {
      "image/png": "[encoded data removed]",
      "text/plain": [
       "<Figure size 432x288 with 1 Axes>"
      ]
     },
     "metadata": {
      "needs_background": "light"
     },
     "output_type": "display_data"
    }
   ],
   "source": [
    "# Loss function diagrams\n",
    "\n",
    "# Mathematical functions for logistic and hinge losses\n",
    "def log_loss(raw_model_output):\n",
    "    return np.log(1 + np.exp(-raw_model_output))\n",
    "def hinge_loss(raw_model_output):\n",
    "    return np.maximum(0, 1 - raw_model_output)\n",
    "\n",
    "# Create a grid of values and plot\n",
    "grid = np.linspace(-2,2,1000)\n",
    "plt.plot(grid, log_loss(grid), label='logistic');\n",
    "plt.plot(grid, hinge_loss(grid), label='hinge');\n",
    "plt.axvline(x=0, linestyle='dashed', color='k')\n",
    "plt.legend();"
   ]
  },
  {
   "cell_type": "markdown",
   "id": "8aa6a64c",
   "metadata": {},
   "source": [
    "#### Implementing logistic regression\n",
    "This is very similar to the earlier exercise where you implemented linear regression \"from scratch\" using scipy.optimize.minimize. However, this time we'll minimize the logistic loss and compare with scikit-learn's LogisticRegression.\n",
    "\n",
    "The log_loss() function from the previous exercise is already defined in your environment, and the sklearn breast cancer prediction dataset (first 10 features, standardized) is loaded into the variables X and y."
   ]
  },
  {
   "cell_type": "code",
   "execution_count": 28,
   "id": "e7d50219",
   "metadata": {},
   "outputs": [],
   "source": [
    "from sklearn.datasets import load_breast_cancer\n",
    "\n",
    "bc = load_breast_cancer()"
   ]
  },
  {
   "cell_type": "code",
   "execution_count": 29,
   "id": "c2b04231",
   "metadata": {},
   "outputs": [],
   "source": [
    "X = bc.data\n",
    "y = bc.target"
   ]
  },
  {
   "cell_type": "code",
   "execution_count": 30,
   "id": "a107b3ad",
   "metadata": {},
   "outputs": [
    {
     "name": "stdout",
     "output_type": "stream",
     "text": [
      "[1.799e+01 1.038e+01 1.228e+02 1.001e+03 1.184e-01 2.776e-01 3.001e-01\n",
      " 1.471e-01 2.419e-01 7.871e-02 1.095e+00 9.053e-01 8.589e+00 1.534e+02\n",
      " 6.399e-03 4.904e-02 5.373e-02 1.587e-02 3.003e-02 6.193e-03 2.538e+01\n",
      " 1.733e+01 1.846e+02 2.019e+03 1.622e-01 6.656e-01 7.119e-01 2.654e-01\n",
      " 4.601e-01 1.189e-01]\n",
      "[[ 1.0975788   0.5206251   0.25606825 -0.01644988 -0.04161255 -0.19452826\n",
      "  -0.27216605 -0.11477442 -0.05760979 -0.01154925  0.04817275  0.44000847\n",
      "   0.18239299 -0.13174264 -0.00373874 -0.04160434 -0.05802564 -0.01490257\n",
      "  -0.01390877 -0.00387412  1.16716839 -0.58069059 -0.24853184 -0.01489268\n",
      "  -0.07527531 -0.60521777 -0.75327396 -0.22052389 -0.18206142 -0.05837344]]\n"
     ]
    }
   ],
   "source": [
    "def my_loss(w):\n",
    "    s = 0\n",
    "    for i in range(y.size):\n",
    "        raw_model_output = w@X[i]\n",
    "        s = s + log_loss(raw_model_output * y[i])\n",
    "    return s\n",
    "\n",
    "w_fit = minimize(my_loss, X[0]).x\n",
    "print(w_fit)\n",
    "\n",
    "lr = LogisticRegression(fit_intercept=False, C=1000000).fit(X, y)\n",
    "print(lr.coef_)"
   ]
  }
 ],
 "metadata": {
  "kernelspec": {
   "display_name": "Python 3 (ipykernel)",
   "language": "python",
   "name": "python3"
  },
  "language_info": {
   "codemirror_mode": {
    "name": "ipython",
    "version": 3
   },
   "file_extension": ".py",
   "mimetype": "text/x-python",
   "name": "python",
   "nbconvert_exporter": "python",
   "pygments_lexer": "ipython3",
   "version": "3.9.7"
  }
 },
 "nbformat": 4,
 "nbformat_minor": 5
}
