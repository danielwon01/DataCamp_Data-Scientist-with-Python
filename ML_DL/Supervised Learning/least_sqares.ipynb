{
 "cells": [
  {
   "cell_type": "code",
   "execution_count": 1,
   "id": "23613be9",
   "metadata": {},
   "outputs": [],
   "source": [
    "import numpy as np"
   ]
  },
  {
   "cell_type": "code",
   "execution_count": 2,
   "id": "57a0bda2",
   "metadata": {},
   "outputs": [],
   "source": [
    "A = np.array([[11,12,13,14], [15,16,17,18]])"
   ]
  },
  {
   "cell_type": "code",
   "execution_count": 3,
   "id": "aaeae69e",
   "metadata": {},
   "outputs": [],
   "source": [
    "# least sqares y -= ax + b\n",
    "# input data\n",
    "x = np.array([0,1,2,3])\n",
    "\n",
    "# output data\n",
    "y = np.array([-1,0.2,0.9,2.1])"
   ]
  },
  {
   "cell_type": "code",
   "execution_count": 4,
   "id": "7296ca82",
   "metadata": {},
   "outputs": [
    {
     "data": {
      "text/plain": [
       "array([[0., 1.],\n",
       "       [1., 1.],\n",
       "       [2., 1.],\n",
       "       [3., 1.]])"
      ]
     },
     "execution_count": 4,
     "metadata": {},
     "output_type": "execute_result"
    }
   ],
   "source": [
    "# concatate a constant term(bias)\n",
    "\n",
    "A = np.vstack([x , np.ones(len(x))]).T\n",
    "A"
   ]
  },
  {
   "cell_type": "code",
   "execution_count": 5,
   "id": "67485483",
   "metadata": {},
   "outputs": [
    {
     "data": {
      "text/plain": [
       "array([[14.,  6.],\n",
       "       [ 6.,  4.]])"
      ]
     },
     "execution_count": 5,
     "metadata": {},
     "output_type": "execute_result"
    }
   ],
   "source": [
    "At_A = A.T.dot(A)\n",
    "At_A"
   ]
  },
  {
   "cell_type": "code",
   "execution_count": 6,
   "id": "6b3ac192",
   "metadata": {},
   "outputs": [
    {
     "data": {
      "text/plain": [
       "array([8.3, 2.2])"
      ]
     },
     "execution_count": 6,
     "metadata": {},
     "output_type": "execute_result"
    }
   ],
   "source": [
    "At_y= A.T.dot(y)\n",
    "At_y"
   ]
  },
  {
   "cell_type": "code",
   "execution_count": 7,
   "id": "2a4e3c81",
   "metadata": {},
   "outputs": [
    {
     "data": {
      "text/plain": [
       "array([ 1.  , -0.95])"
      ]
     },
     "execution_count": 7,
     "metadata": {},
     "output_type": "execute_result"
    }
   ],
   "source": [
    "# solve for x \n",
    "\n",
    "from numpy.linalg import solve\n",
    "\n",
    "c = solve(At_A ,At_y)\n",
    "c"
   ]
  },
  {
   "cell_type": "code",
   "execution_count": 8,
   "id": "37df6947",
   "metadata": {},
   "outputs": [
    {
     "data": {
      "text/plain": [
       "array([-0.95,  0.05,  1.05,  2.05])"
      ]
     },
     "execution_count": 8,
     "metadata": {},
     "output_type": "execute_result"
    }
   ],
   "source": [
    "y_fitted = A.dot(c)\n",
    "y_fitted"
   ]
  },
  {
   "cell_type": "code",
   "execution_count": 9,
   "id": "065f3863",
   "metadata": {},
   "outputs": [
    {
     "data": {
      "image/png": "[encoded data removed]",
      "text/plain": [
       "<Figure size 432x288 with 1 Axes>"
      ]
     },
     "metadata": {
      "needs_background": "light"
     },
     "output_type": "display_data"
    }
   ],
   "source": [
    "import matplotlib.pyplot as plt\n",
    "\n",
    "plt.plot(x, y, 'o', label = 'Original data', markersize= 10)\n",
    "plt.plot(x, y_fitted, 'r', label= 'Fitted line')\n",
    "plt.legend()\n",
    "plt.show()"
   ]
  },
  {
   "cell_type": "code",
   "execution_count": 10,
   "id": "1adcd860",
   "metadata": {},
   "outputs": [
    {
     "data": {
      "text/plain": [
       "array([-0.05,  0.15, -0.15,  0.05])"
      ]
     },
     "execution_count": 10,
     "metadata": {},
     "output_type": "execute_result"
    }
   ],
   "source": [
    "# compute error vector \n",
    "\n",
    "error = y - y_fitted\n",
    "error"
   ]
  },
  {
   "cell_type": "code",
   "execution_count": 11,
   "id": "208ad5cc",
   "metadata": {},
   "outputs": [
    {
     "data": {
      "text/plain": [
       "0.22360679774997902"
      ]
     },
     "execution_count": 11,
     "metadata": {},
     "output_type": "execute_result"
    }
   ],
   "source": [
    "# calculate error\n",
    "\n",
    "np.sqrt(np.sum(error **2))"
   ]
  },
  {
   "cell_type": "code",
   "execution_count": 12,
   "id": "9b13baf2",
   "metadata": {},
   "outputs": [
    {
     "data": {
      "text/plain": [
       "0.22360679774997902"
      ]
     },
     "execution_count": 12,
     "metadata": {},
     "output_type": "execute_result"
    }
   ],
   "source": [
    "# calculate error using 'norm ' function\n",
    "\n",
    "from numpy.linalg import norm\n",
    "norm(y -y_fitted)"
   ]
  },
  {
   "cell_type": "code",
   "execution_count": 13,
   "id": "ea097402",
   "metadata": {},
   "outputs": [],
   "source": [
    "A = np.array([[60,5.5,1],[65,4.8,0],[55, 6.0,1],[50,5.0,1]])\n",
    "b = np.array([66,70,78,72])"
   ]
  },
  {
   "cell_type": "code",
   "execution_count": 14,
   "id": "3edd9d67",
   "metadata": {},
   "outputs": [
    {
     "data": {
      "text/plain": [
       "array([[1.3350e+04, 1.2220e+03, 1.6500e+02],\n",
       "       [1.2220e+03, 1.1429e+02, 1.6500e+01],\n",
       "       [1.6500e+02, 1.6500e+01, 3.0000e+00]])"
      ]
     },
     "execution_count": 14,
     "metadata": {},
     "output_type": "execute_result"
    }
   ],
   "source": [
    "At_A = A.T.dot(A)\n",
    "At_A"
   ]
  },
  {
   "cell_type": "code",
   "execution_count": 15,
   "id": "6a9bcd75",
   "metadata": {},
   "outputs": [
    {
     "data": {
      "text/plain": [
       "array([16400.,  1527.,   216.])"
      ]
     },
     "execution_count": 15,
     "metadata": {},
     "output_type": "execute_result"
    }
   ],
   "source": [
    "At_b = A.T.dot(b)\n",
    "At_b"
   ]
  },
  {
   "cell_type": "code",
   "execution_count": 16,
   "id": "e4d47539",
   "metadata": {},
   "outputs": [
    {
     "data": {
      "text/plain": [
       "array([-0.12459016, 16.06557377, -9.50819672])"
      ]
     },
     "execution_count": 16,
     "metadata": {},
     "output_type": "execute_result"
    }
   ],
   "source": [
    "from numpy.linalg import solve\n",
    "\n",
    "x = solve(At_A , At_b)\n",
    "x"
   ]
  },
  {
   "cell_type": "code",
   "execution_count": 17,
   "id": "80dfedc4",
   "metadata": {},
   "outputs": [
    {
     "data": {
      "text/plain": [
       "array([71.37704918, 69.01639344, 80.03278689, 64.59016393])"
      ]
     },
     "execution_count": 17,
     "metadata": {},
     "output_type": "execute_result"
    }
   ],
   "source": [
    "b_fitted = A.dot(x)\n",
    "b_fitted"
   ]
  },
  {
   "cell_type": "code",
   "execution_count": 18,
   "id": "2cdbc56a",
   "metadata": {},
   "outputs": [
    {
     "data": {
      "text/plain": [
       "array([-5.37704918,  0.98360656, -2.03278689,  7.40983607])"
      ]
     },
     "execution_count": 18,
     "metadata": {},
     "output_type": "execute_result"
    }
   ],
   "source": [
    "error = b - b_fitted\n",
    "error"
   ]
  },
  {
   "cell_type": "code",
   "execution_count": 19,
   "id": "b8105264",
   "metadata": {},
   "outputs": [
    {
     "data": {
      "text/plain": [
       "9.429635877746573"
      ]
     },
     "execution_count": 19,
     "metadata": {},
     "output_type": "execute_result"
    }
   ],
   "source": [
    "np.sqrt(np.sum(error **2))"
   ]
  },
  {
   "cell_type": "code",
   "execution_count": 20,
   "id": "a65e5c19",
   "metadata": {},
   "outputs": [
    {
     "data": {
      "text/plain": [
       "9.429635877746573"
      ]
     },
     "execution_count": 20,
     "metadata": {},
     "output_type": "execute_result"
    }
   ],
   "source": [
    "from numpy.linalg import norm\n",
    "norm(b - b_fitted)"
   ]
  }
 ],
 "metadata": {
  "kernelspec": {
   "display_name": "Python 3 (ipykernel)",
   "language": "python",
   "name": "python3"
  },
  "language_info": {
   "codemirror_mode": {
    "name": "ipython",
    "version": 3
   },
   "file_extension": ".py",
   "mimetype": "text/x-python",
   "name": "python",
   "nbconvert_exporter": "python",
   "pygments_lexer": "ipython3",
   "version": "3.9.7"
  }
 },
 "nbformat": 4,
 "nbformat_minor": 5
}
