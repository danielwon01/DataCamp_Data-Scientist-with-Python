{
 "cells": [
  {
   "cell_type": "code",
   "execution_count": 1,
   "id": "cc82c564",
   "metadata": {},
   "outputs": [],
   "source": [
    "import numpy as np\n",
    "import pandas as pd\n",
    "import seaborn as sns\n",
    "import matplotlib.pyplot as plt\n",
    "import warnings\n",
    "warnings.filterwarnings(action='ignore')"
   ]
  },
  {
   "cell_type": "markdown",
   "id": "01e8175c",
   "metadata": {},
   "source": [
    "### Affine Function"
   ]
  },
  {
   "cell_type": "code",
   "execution_count": 2,
   "id": "dab91ce7",
   "metadata": {},
   "outputs": [
    {
     "name": "stdout",
     "output_type": "stream",
     "text": [
      "tf.Tensor([[10.]], shape=(1, 1), dtype=float32)\n",
      "tf.Tensor([[0.72271705]], shape=(1, 1), dtype=float32)\n",
      "[[0.0722717]] [0.]\n",
      "========Input/Weight/Bias=========\n",
      "x : (1, 1)\n",
      "[[10.]]\n",
      "\n",
      "W : (1, 1)\n",
      "[[0.0722717]]\n",
      "\n",
      "B : (1, 1)\n",
      "[0.]\n",
      "\n",
      "========output/Weight/Bias=========\n",
      "y(Tensorflow):(1, 1)\n",
      "[[0.72271705]]\n",
      ")\n",
      "y(Manual): (1, 1)\n",
      "[[0.72271705]]\n",
      "\n"
     ]
    }
   ],
   "source": [
    "import tensorflow as tf\n",
    "\n",
    "from tensorflow.keras.layers import Dense\n",
    "\n",
    "x = tf.constant([[10.]]) # import setting ( input - > matrix )\n",
    "print(x)\n",
    "\n",
    "dence   = Dense(units = 1) # imp . an affine function\n",
    "\n",
    "y_tf = dence(x) #forward propagation + parass initialization\n",
    "print(y_tf)\n",
    "\n",
    "W, B = dence.get_weights()\n",
    "print(W, B)\n",
    "\n",
    "y_man = tf.linalg.matmul(x,W)+B\n",
    "\n",
    "print('========Input/Weight/Bias=========')\n",
    "print(\"x : {}\\n{}\\n\".format(x.shape,x.numpy()))\n",
    "print(\"W : {}\\n{}\\n\".format(x.shape,W))\n",
    "print(\"B : {}\\n{}\\n\".format(x.shape,B))\n",
    "print('========output/Weight/Bias=========')\n",
    "print(\"y(Tensorflow):{}\\n{}\\n)\".format(y_tf.shape,y_tf.numpy()))\n",
    "print(\"y(Manual): {}\\n{}\\n\".format(y_man.shape,y_man.numpy()))"
   ]
  },
  {
   "cell_type": "markdown",
   "id": "eafe9f98",
   "metadata": {},
   "source": [
    "### Params Initalization"
   ]
  },
  {
   "cell_type": "code",
   "execution_count": 3,
   "id": "4a486454",
   "metadata": {},
   "outputs": [
    {
     "name": "stdout",
     "output_type": "stream",
     "text": [
      "tf.Tensor([[120.]], shape=(1, 1), dtype=float32)\n",
      "W :(1, 1)\n",
      "[[10.]]\n",
      "\n",
      "W :(1,)\n",
      "[20.]\n",
      "\n"
     ]
    }
   ],
   "source": [
    "import tensorflow as tf\n",
    "\n",
    "from tensorflow.keras.layers import Dense\n",
    "from tensorflow.keras.initializers import Constant\n",
    "\n",
    "x = tf.constant([[10.]]) #input setting(Note : input ->matrix)\n",
    "\n",
    "W,b = tf.constant(10.) , tf.constant(20.)\n",
    "\n",
    "w_init,b_init = Constant(W), Constant(b)\n",
    "\n",
    "dense = Dense(units = 1,\n",
    "              activation = 'linear',\n",
    "              kernel_initializer = w_init,\n",
    "              bias_initializer = b_init)\n",
    "\n",
    "y_tf = dense(x)\n",
    "print(y_tf)\n",
    "\n",
    "W,B = dense.get_weights()\n",
    "\n",
    "print(\"W :{}\\n{}\\n\".format(W.shape,W))\n",
    "\n",
    "print(\"W :{}\\n{}\\n\".format(B.shape,B))"
   ]
  },
  {
   "cell_type": "markdown",
   "id": "fa1f290f",
   "metadata": {},
   "source": [
    "### AFfine Function with n Features"
   ]
  },
  {
   "cell_type": "code",
   "execution_count": 4,
   "id": "550a23b1",
   "metadata": {},
   "outputs": [
    {
     "name": "stdout",
     "output_type": "stream",
     "text": [
      "========Input/Weight/Bias=========\n",
      "x : (1, 10)\n",
      "[[4.771324   2.2534072  0.77728987 2.1276617  6.65591    5.08669\n",
      "  1.0631883  5.1347103  8.085903   7.146879  ]]\n",
      "\n",
      "W : (1, 10)\n",
      "[[ 0.49652284]\n",
      " [-0.4737992 ]\n",
      " [ 0.73605734]\n",
      " [-0.6379984 ]\n",
      " [-0.6505192 ]\n",
      " [ 0.58252674]\n",
      " [-0.35034952]\n",
      " [ 0.71803623]\n",
      " [-0.64242077]\n",
      " [-0.46106607]]\n",
      "\n",
      "B : (1, 10)\n",
      "[0.]\n",
      "\n",
      "========output/Weight/Bias=========\n",
      "y(Tensorflow):(1, 1)\n",
      "[[-6.0258856]]\n",
      ")\n",
      "y(Manual): (1, 1)\n",
      "[[-6.0258856]]\n",
      "\n"
     ]
    }
   ],
   "source": [
    "x = tf.random.uniform(shape=(1,10),minval = 0, maxval = 10)\n",
    "\n",
    "dense =Dense(units =1)\n",
    "\n",
    "y_tf = dense(x)\n",
    "\n",
    "W,B = dense.get_weights()\n",
    "\n",
    "y_man = tf.linalg.matmul(x,W)+B\n",
    "\n",
    "print('========Input/Weight/Bias=========')\n",
    "print(\"x : {}\\n{}\\n\".format(x.shape,x.numpy()))\n",
    "print(\"W : {}\\n{}\\n\".format(x.shape,W))\n",
    "print(\"B : {}\\n{}\\n\".format(x.shape,B))\n",
    "print('========output/Weight/Bias=========')\n",
    "print(\"y(Tensorflow):{}\\n{}\\n)\".format(y_tf.shape,y_tf.numpy()))\n",
    "print(\"y(Manual): {}\\n{}\\n\".format(y_man.shape,y_man.numpy()))"
   ]
  },
  {
   "cell_type": "markdown",
   "id": "b197192d",
   "metadata": {},
   "source": [
    "## Activation Function"
   ]
  },
  {
   "cell_type": "markdown",
   "id": "b259a815",
   "metadata": {},
   "source": [
    "### Activation Layer"
   ]
  },
  {
   "cell_type": "code",
   "execution_count": 7,
   "id": "76231c37",
   "metadata": {},
   "outputs": [
    {
     "name": "stdout",
     "output_type": "stream",
     "text": [
      "x = (1, 5)\n",
      "[[-0.49831426  1.607688    0.13153286  1.0814048  -2.523739  ]]\n",
      "sigmoid(Tensorflow) :(1, 5)\n",
      "[[0.37793693 0.8330901  0.5328359  0.7467598  0.07421066]]\n",
      "sigmoid(manual) :(1, 5)\n",
      "[[0.37793693 0.8330901  0.5328359  0.7467598  0.07421066]]\n",
      "\n",
      "Tanh(Tensorflow) :(1, 5)\n",
      "[[-0.46079043  0.92281765  0.1307795   0.7937195  -0.987231  ]]\n",
      "Tanh(manual) :(1, 5)\n",
      "[[  -0.45563447    5.151468      1.2486343     3.172936   -143.07417   ]]\n",
      "\n",
      "ReLU(Tensorflow) :(1, 5)\n",
      "[[0.         1.607688   0.13153286 1.0814048  0.        ]]\n",
      "ReLU(manual) :(1, 5)\n",
      "[[0.         1.607688   0.13153286 1.0814048  0.        ]]\n"
     ]
    }
   ],
   "source": [
    "from tensorflow.math import exp, maximum\n",
    "from tensorflow.keras.layers import Activation\n",
    "\n",
    "x = tf.random.normal(shape = (1,5))\n",
    "\n",
    "sigmoid = Activation('sigmoid')\n",
    "tanh = Activation('tanh')\n",
    "relu = Activation('relu')\n",
    "\n",
    "y_sigmoid_tf = sigmoid(x)\n",
    "y_tanh_tf = tanh(x)\n",
    "y_relu_tf = relu(x)\n",
    "\n",
    "y_sigmoid_man = 1 / (1+exp(-x))\n",
    "y_tanh_man = (exp(x) - exp(-x)/exp(x) +exp(-x))\n",
    "y_relu_man = maximum(x, 0)\n",
    "\n",
    "print(\"x = {}\\n{}\".format(x.shape,x.numpy()))\n",
    "print(\"sigmoid(Tensorflow) :{}\\n{}\".format(y_sigmoid_tf.shape,y_sigmoid_tf.numpy()))\n",
    "print(\"sigmoid(manual) :{}\\n{}\".format(y_sigmoid_man.shape,y_sigmoid_man.numpy()))\n",
    "print()\n",
    "\n",
    "\n",
    "print(\"Tanh(Tensorflow) :{}\\n{}\".format(y_tanh_tf.shape,y_tanh_tf.numpy()))\n",
    "print(\"Tanh(manual) :{}\\n{}\".format(y_tanh_man.shape,y_tanh_man.numpy()))\n",
    "print()\n",
    "\n",
    "print(\"ReLU(Tensorflow) :{}\\n{}\".format(y_relu_tf.shape,y_relu_tf.numpy()))\n",
    "print(\"ReLU(manual) :{}\\n{}\".format(y_relu_man.shape,y_relu_man.numpy()))"
   ]
  },
  {
   "cell_type": "markdown",
   "id": "6bb905df",
   "metadata": {},
   "source": [
    "### Activation in Dense Layer"
   ]
  },
  {
   "cell_type": "code",
   "execution_count": 12,
   "id": "06851b83",
   "metadata": {},
   "outputs": [
    {
     "name": "stdout",
     "output_type": "stream",
     "text": [
      "An with Sigmoid= (1, 1)\n",
      "[[0.5140446]]\n",
      "An with  Tanh :(1, 1)\n",
      "[[0.05613386]]\n",
      "An with  RelU:(1, 1)\n",
      "[[0.05619291]]\n",
      "\n",
      "=========\n",
      "\n",
      "Activation value(Tensorflow)= (1, 1)\n",
      "[[0.5140446]]\n",
      "Activation value(manual)= (1, 1)\n",
      "[[0.5140446]]\n"
     ]
    }
   ],
   "source": [
    "dense_sigmoid = Dense(units = 1 , activation = 'sigmoid')\n",
    "dense_tanh = Dense(units = 1 , activation = 'tanh')\n",
    "dense_relu = Dense(units = 1 , activation = 'relu')\n",
    "\n",
    "y_sigmoid_tf = dense_sigmoid(x)\n",
    "y_tanh_tf = dense_tanh(x)\n",
    "y_relu_tf = dense_relu(x)\n",
    "\n",
    "\n",
    "print(\"An with Sigmoid= {}\\n{}\".format(y_sigmoid_tf.shape,y_sigmoid_tf.numpy()))\n",
    "print(\"An with  Tanh :{}\\n{}\".format(y_tanh_tf.shape,y_tanh_tf.numpy()))\n",
    "print(\"An with  RelU:{}\\n{}\".format(y_relu_tf.shape,y_relu_tf.numpy()))\n",
    "\n",
    "print('\\n=========\\n')\n",
    "\n",
    "W,B = dense_sigmoid.get_weights()\n",
    "z = tf.linalg.matmul(x,W) +B\n",
    "a = 1/(1+exp(-z))\n",
    "\n",
    "print(\"Activation value(Tensorflow)= {}\\n{}\".format(y_sigmoid_tf.shape,y_sigmoid_tf.numpy()))\n",
    "print(\"Activation value(manual)= {}\\n{}\".format(a.shape, a.numpy()))"
   ]
  },
  {
   "cell_type": "markdown",
   "id": "f49655c4",
   "metadata": {},
   "source": [
    "### Artificial Nuerons"
   ]
  },
  {
   "cell_type": "code",
   "execution_count": 15,
   "id": "bbbb957c",
   "metadata": {},
   "outputs": [
    {
     "name": "stdout",
     "output_type": "stream",
     "text": [
      "Activation :  relu\n",
      "Y_tf : (1, 1)\n",
      "[[0.]]\n",
      "\n",
      "Y_man : (1, 1)\n",
      "[[0.]]\n",
      "\n"
     ]
    }
   ],
   "source": [
    "import tensorflow as tf\n",
    "\n",
    "from tensorflow.keras.layers import Dense\n",
    "from tensorflow.math import exp, maximum\n",
    "\n",
    "# activation = 'sigmoid'\n",
    "# activation = 'tanh'\n",
    "activation = 'relu'\n",
    "\n",
    "x = tf.random.uniform(shape = (1,10))\n",
    "\n",
    "dense = Dense(units =1, activation = activation)\n",
    "\n",
    "y_tf = dense(x)\n",
    "W, B = dense.get_weights()\n",
    "\n",
    "# calculate activation value manually \n",
    "y_man = tf.linalg.matmul(x,W) +B\n",
    "\n",
    "if activation == 'sigmoid':\n",
    "    y_man = 1/(1 + exp(-y_man))\n",
    "elif activation == 'tanh':\n",
    "    y_man = (exp(y_man) - exp(-y_man))/(exp(y_man) + exp(-y_man))\n",
    "elif activation == 'relu':\n",
    "    y_man = maximum(y_man, 0)\n",
    "\n",
    "print(\"Activation : \",activation)\n",
    "print(\"Y_tf : {}\\n{}\\n\".format(y_tf.shape, y_tf.numpy()))\n",
    "print(\"Y_man : {}\\n{}\\n\".format(y_man.shape, y_man.numpy())) "
   ]
  },
  {
   "cell_type": "markdown",
   "id": "5a0df64d",
   "metadata": {},
   "source": [
    "## Minibatches"
   ]
  },
  {
   "cell_type": "markdown",
   "id": "b86bf488",
   "metadata": {},
   "source": [
    "### Shapes of Dense Layers"
   ]
  },
  {
   "cell_type": "code",
   "execution_count": 21,
   "id": "f7d211ba",
   "metadata": {},
   "outputs": [
    {
     "name": "stdout",
     "output_type": "stream",
     "text": [
      "shape of x : {} (8, 10)\n",
      "shape of W : {} (10, 1)\n",
      "shape of B : {} (1,)\n"
     ]
    }
   ],
   "source": [
    "import tensorflow as tf\n",
    "from tensorflow.keras.layers import Dense\n",
    "\n",
    "N, n_feature = 8 ,10\n",
    "x = tf.random.normal(shape = (N , n_feature)) # generate minibatch\n",
    "\n",
    "dense = Dense(units =1 ,  activation = 'relu') \n",
    "\n",
    "y = dense(x) # foward propagation \n",
    "\n",
    "W,B = dense.get_weights()\n",
    "\n",
    "print(\"shape of x : {}\",x.shape)\n",
    "print(\"shape of W : {}\",W.shape)\n",
    "print(\"shape of B : {}\",B.shape)\n"
   ]
  },
  {
   "cell_type": "code",
   "execution_count": 24,
   "id": "9a9e64fd",
   "metadata": {},
   "outputs": [
    {
     "name": "stdout",
     "output_type": "stream",
     "text": [
      "Output(Tensorflow) : \n",
      " [[0.05373602]\n",
      " [0.25341251]\n",
      " [0.18336044]\n",
      " [0.7859914 ]\n",
      " [0.04279922]\n",
      " [0.3482342 ]\n",
      " [0.81956345]\n",
      " [0.80775386]]\n",
      "\n",
      "Output(Manual) : \n",
      " [[0.05373602]\n",
      " [0.25341251]\n",
      " [0.18336044]\n",
      " [0.7859914 ]\n",
      " [0.04279922]\n",
      " [0.3482342 ]\n",
      " [0.81956345]\n",
      " [0.80775386]]\n"
     ]
    }
   ],
   "source": [
    "N, n_feature = 8, 10\n",
    "x = tf.random.normal(shape = (N ,n_feature))\n",
    "\n",
    "dense = Dense(units =1, activation = 'sigmoid' )\n",
    "y_tf  = dense(x)\n",
    "\n",
    "W,B = dense.get_weights()\n",
    "\n",
    "y_man = tf.linalg.matmul(x,W) +B\n",
    "y_man = 1/ (1 +tf.math.exp(-y_man))\n",
    "\n",
    "print(\"Output(Tensorflow) : \\n\",y_tf.numpy())\n",
    "print()\n",
    "print(\"Output(Manual) : \\n\",y_man.numpy())"
   ]
  }
 ],
 "metadata": {
  "kernelspec": {
   "display_name": "Python 3",
   "language": "python",
   "name": "python3"
  },
  "language_info": {
   "codemirror_mode": {
    "name": "ipython",
    "version": 3
   },
   "file_extension": ".py",
   "mimetype": "text/x-python",
   "name": "python",
   "nbconvert_exporter": "python",
   "pygments_lexer": "ipython3",
   "version": "3.8.11"
  }
 },
 "nbformat": 4,
 "nbformat_minor": 5
}
