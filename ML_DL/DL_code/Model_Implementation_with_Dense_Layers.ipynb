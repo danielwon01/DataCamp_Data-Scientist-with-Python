{
 "cells": [
  {
   "cell_type": "code",
   "execution_count": 1,
   "id": "6197754e",
   "metadata": {},
   "outputs": [],
   "source": [
    "import numpy as np\n",
    "import pandas as pd\n",
    "import seaborn as sns\n",
    "import matplotlib.pyplot as plt\n",
    "import warnings\n",
    "warnings.filterwarnings(action='ignore')"
   ]
  },
  {
   "cell_type": "markdown",
   "id": "2ec84a5a",
   "metadata": {},
   "source": [
    "### Model Implementation with Sequential Method"
   ]
  },
  {
   "cell_type": "code",
   "execution_count": 2,
   "id": "b0b04445",
   "metadata": {},
   "outputs": [],
   "source": [
    "from tensorflow.keras.layers import Dense\n",
    "from tensorflow.keras.models import Sequential\n",
    "\n",
    "model = Sequential() # layers를 포함하고 있는 객체 \n",
    "model.add(Dense(units =10 , activation = 'sigmoid')) # 각 layers에 10개의 뉴런 생성\n",
    "model.add(Dense(units =20 , activation = 'sigmoid'))"
   ]
  },
  {
   "cell_type": "markdown",
   "id": "68f5d99d",
   "metadata": {},
   "source": [
    "### Model Implementation with Model-subclassing"
   ]
  },
  {
   "cell_type": "code",
   "execution_count": 3,
   "id": "beffa7db",
   "metadata": {},
   "outputs": [],
   "source": [
    "from tensorflow.keras.layers import Dense\n",
    "from tensorflow.keras.models import Model\n",
    "\n",
    "class TestModel (Model) :\n",
    "    def __init__(self):\n",
    "        super(TestModel , self).__init__()\n",
    "        \n",
    "        self.dense1 = Dense(units = 10,activation = 'sigmoid')\n",
    "        self.dense2 = Dense(units = 20,activation = 'sigmoid')\n",
    "\n",
    "        \n",
    "model = TestModel()"
   ]
  },
  {
   "cell_type": "markdown",
   "id": "dbcc2447",
   "metadata": {},
   "source": [
    "### Forward Propagation of Models"
   ]
  },
  {
   "cell_type": "code",
   "execution_count": 4,
   "id": "7c5552aa",
   "metadata": {},
   "outputs": [],
   "source": [
    "import tensorflow as tf\n",
    "from tensorflow.keras.layers import Dense\n",
    "from tensorflow.keras.models import Sequential\n",
    "from tensorflow.keras.models import Model\n",
    "\n",
    "X = tf.random.normal (shape=(4, 10))\n",
    "\n",
    "model = Sequential()\n",
    "model .add(Dense(units=10, activation = 'sigmoid'))\n",
    "model .add(Dense(units=20, activation ='sigmoid'))\n",
    "\n",
    "Y = model(X)\n",
    "\n",
    "class TestModel (Model) :\n",
    "    def __init__(self):\n",
    "        super(TestModel , self).__init__()\n",
    "        \n",
    "        self.dense1 = Dense(units = 10,activation = 'sigmoid')\n",
    "        self.dense2 = Dense(units = 20,activation = 'sigmoid')\n",
    "\n",
    "    def call (self, x) :\n",
    "        x = self.dense1(x)\n",
    "        x = self.dense2(x)\n",
    "        return x\n",
    "\n",
    "model = TestModel()\n",
    "Y = model(X)"
   ]
  },
  {
   "cell_type": "code",
   "execution_count": 5,
   "id": "990d5c75",
   "metadata": {},
   "outputs": [],
   "source": [
    "class TestModel (Model ) :\n",
    "    def __init__(self,n_neurons) :\n",
    "        super(TestModel , self).__init__()\n",
    "        self.n_neurons = n_neurons\n",
    "        \n",
    "        self.dense_layers = list()\n",
    "        for n_neuron in self.n_neurons :\n",
    "            self.dense_layers.append( Dense(units = 10,activation = 'sigmoid'))\n",
    "        \n",
    "             \n",
    "    def call (self, x) :\n",
    "        for dense in self.dense_layers :\n",
    "            x = self.dense1(x)\n",
    "        return x\n",
    "\n",
    "n_neurons = [3, 4, 5]\n",
    "model = TestModel(n_neurons)"
   ]
  },
  {
   "cell_type": "code",
   "execution_count": 6,
   "id": "9afcfa99",
   "metadata": {},
   "outputs": [],
   "source": [
    "class TestModel (Model ) :\n",
    "    def __init__(self,n_neurons) :\n",
    "        super(TestModel , self).__init__()\n",
    "        self.n_neurons = n_neurons\n",
    "\n",
    "        self.model = Sequential()\n",
    "        self.model.add(Dense(units =10 , activation = 'sigmoid')) \n",
    "        self.model.add(Dense(units =20 , activation = 'sigmoid'))\n",
    "        \n",
    "        \n",
    "    def call (self, x) :\n",
    "        x = self.dense1(x)\n",
    "        x = self.dense2(x)\n",
    "        return x\n",
    "\n",
    "n_neurons = [3, 4, 5]\n",
    "model = TestModel(n_neurons)"
   ]
  },
  {
   "cell_type": "markdown",
   "id": "55dcab04",
   "metadata": {},
   "source": [
    "### Layers in Models"
   ]
  },
  {
   "cell_type": "code",
   "execution_count": 7,
   "id": "a386e8ff",
   "metadata": {},
   "outputs": [
    {
     "name": "stdout",
     "output_type": "stream",
     "text": [
      "<class 'list'>\n",
      "[<keras.layers.core.dense.Dense object at 0x150b6dd00>, <keras.layers.core.dense.Dense object at 0x102fee730>]\n",
      "(10, 20) (20,)\n"
     ]
    }
   ],
   "source": [
    "import tensorflow as tf\n",
    "\n",
    "from tensorflow.keras.layers import Dense\n",
    "\n",
    "from tensorflow.keras.models import Sequential\n",
    "X = tf.random.normal(shape=(4, 10))\n",
    "\n",
    "model = Sequential()\n",
    "model.add(Dense(units=10,activation='sigmoid'))\n",
    "model.add(Dense(units=20,activation='sigmoid'))\n",
    "\n",
    "Y = model(X)\n",
    "\n",
    "print(type(model.layers))\n",
    "print(model.layers)\n",
    "\n",
    "for layer in model. layers:\n",
    "    w, b = layer.get_weights()\n",
    "    \n",
    "print(w.shape, b.shape)"
   ]
  },
  {
   "cell_type": "markdown",
   "id": "c0fb0a14",
   "metadata": {},
   "source": [
    "### Trainable Variables in Models"
   ]
  },
  {
   "cell_type": "code",
   "execution_count": 8,
   "id": "fa897c11",
   "metadata": {},
   "outputs": [
    {
     "name": "stdout",
     "output_type": "stream",
     "text": [
      "<class 'list'>\n",
      "4\n",
      "(10, 10)\n",
      "(10,)\n",
      "(10, 20)\n",
      "(20,)\n"
     ]
    }
   ],
   "source": [
    "import tensorflow as tf\n",
    "\n",
    "from tensorflow.keras.layers import Dense\n",
    "\n",
    "from tensorflow.keras.models import Sequential\n",
    "\n",
    "X = tf. random.normal (shape = (4, 10))\n",
    "\n",
    "model = Sequential()\n",
    "model.add(Dense(units=10, activation = 'sigmoid'))\n",
    "model.add(Dense(units=20, activation = 'sigmoid'))\n",
    "\n",
    "Y= model(X)\n",
    "\n",
    "print (type(model.trainable_variables) )\n",
    "print (len(model.trainable_variables) )\n",
    "\n",
    "for train_var in model.trainable_variables:\n",
    "    print(train_var.shape)"
   ]
  }
 ],
 "metadata": {
  "kernelspec": {
   "display_name": "Python 3",
   "language": "python",
   "name": "python3"
  },
  "language_info": {
   "codemirror_mode": {
    "name": "ipython",
    "version": 3
   },
   "file_extension": ".py",
   "mimetype": "text/x-python",
   "name": "python",
   "nbconvert_exporter": "python",
   "pygments_lexer": "ipython3",
   "version": "3.8.11"
  }
 },
 "nbformat": 4,
 "nbformat_minor": 5
}
