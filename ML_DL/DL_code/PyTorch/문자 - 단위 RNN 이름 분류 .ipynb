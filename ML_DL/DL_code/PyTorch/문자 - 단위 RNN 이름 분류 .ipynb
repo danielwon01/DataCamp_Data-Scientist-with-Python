{
 "cells": [
  {
   "cell_type": "code",
   "execution_count": 1,
   "id": "4db649f2",
   "metadata": {},
   "outputs": [],
   "source": [
    "import numpy as np\n",
    "import pandas as pd\n",
    "import seaborn as sns\n",
    "import matplotlib.pyplot as plt\n",
    "import warnings\n",
    "warnings.filterwarnings(action='ignore')"
   ]
  },
  {
   "cell_type": "markdown",
   "id": "7afbd991",
   "metadata": {},
   "source": [
    "from __future__ 는 구버전의 언어를 써야 하지만 최신 버전의 기능을 써야 하는 상황에서 상위 버전의 기능을 쓸 수 있도록 하는 것"
   ]
  },
  {
   "cell_type": "code",
   "execution_count": 2,
   "id": "9dd49fdd",
   "metadata": {},
   "outputs": [
    {
     "name": "stdout",
     "output_type": "stream",
     "text": [
      "['data 2/names/Czech.txt', 'data 2/names/German.txt', 'data 2/names/Arabic.txt', 'data 2/names/Japanese.txt', 'data 2/names/Chinese.txt', 'data 2/names/Vietnamese.txt', 'data 2/names/Russian.txt', 'data 2/names/French.txt', 'data 2/names/Irish.txt', 'data 2/names/English.txt', 'data 2/names/Spanish.txt', 'data 2/names/Greek.txt', 'data 2/names/Italian.txt', 'data 2/names/Portuguese.txt', 'data 2/names/Scottish.txt', 'data 2/names/Dutch.txt', 'data 2/names/Korean.txt', 'data 2/names/Polish.txt']\n",
      "Slusarski\n"
     ]
    }
   ],
   "source": [
    "from __future__ import unicode_literals, print_function, division\n",
    "from io import open\n",
    "import glob\n",
    "import os\n",
    "\n",
    "def findFiles(path): return glob.glob(path)\n",
    "\n",
    "print(findFiles('data 2/names/*.txt'))\n",
    "\n",
    "import unicodedata\n",
    "import string\n",
    "\n",
    "\n",
    "all_letters = string.ascii_letters + \" .,;'\"\n",
    "n_letters = len(all_letters)\n",
    "\n",
    "# 유니코드 문자열을 ASCII로 변환, https://stackoverflow.com/a/518232/2809427\n",
    "def unicodeToAscii(s):\n",
    "    return ''.join(\n",
    "        \n",
    "        # 유니코드 문자열 unistr에 대한 정규화 형식(normal form) form을 반환합니다.\n",
    "        # form의 유효한 값은 ‘NFC’, ‘NFKC’, ‘NFD’ 및 ‘NFKD’ 입니다.\n",
    "        c for c in unicodedata.normalize('NFD', s)\n",
    "        \n",
    "         # chr 문자에 할당된 일반 범주(general category)를 문자열로 반환\n",
    "        if unicodedata.category(c) != 'Mn'\n",
    "        and c in all_letters\n",
    "    )\n",
    "\n",
    "print(unicodeToAscii('Ślusàrski'))\n",
    "\n",
    "# 각 언어의 이름 목록인 category_lines 사전 생성\n",
    "category_lines = {}\n",
    "all_categories = []\n",
    "\n",
    "# 파일을 읽고 줄 단위로 분리\n",
    "def readLines(filename):\n",
    "    lines = open(filename, encoding='utf-8').read().strip().split('\\n')\n",
    "    return [unicodeToAscii(line) for line in lines]\n",
    "\n",
    "for filename in findFiles('data 2/names/*.txt'):\n",
    "    category = os.path.splitext(os.path.basename(filename))[0]\n",
    "    all_categories.append(category)\n",
    "    lines = readLines(filename)\n",
    "    category_lines[category] = lines\n",
    "\n",
    "n_categories = len(all_categories)"
   ]
  },
  {
   "cell_type": "code",
   "execution_count": 3,
   "id": "917b9c02",
   "metadata": {},
   "outputs": [
    {
     "name": "stdout",
     "output_type": "stream",
     "text": [
      "['Abandonato', 'Abatangelo', 'Abatantuono', 'Abate', 'Abategiovanni']\n"
     ]
    }
   ],
   "source": [
    "print(category_lines['Italian'][:5])"
   ]
  },
  {
   "cell_type": "code",
   "execution_count": 4,
   "id": "66370e18",
   "metadata": {},
   "outputs": [
    {
     "name": "stdout",
     "output_type": "stream",
     "text": [
      "tensor([[0., 0., 0., 0., 0., 0., 0., 0., 0., 0., 0., 0., 0., 0., 0., 0., 0., 0.,\n",
      "         0., 0., 0., 0., 0., 0., 0., 0., 0., 0., 0., 0., 0., 0., 0., 0., 0., 1.,\n",
      "         0., 0., 0., 0., 0., 0., 0., 0., 0., 0., 0., 0., 0., 0., 0., 0., 0., 0.,\n",
      "         0., 0., 0.]])\n",
      "torch.Size([5, 1, 57])\n"
     ]
    }
   ],
   "source": [
    "# Tesor로 변경 \n",
    "\n",
    "'''\n",
    ".. NOTE::\n",
    "역자 주:  One-Hot 벡터는 언어를 다룰 때 자주 이용되며,\n",
    "단어,글자 등을 벡터로 표현 할 때 단어,글자 사이의 상관 관계를 미리 알 수 없을 경우,\n",
    "One-Hot으로 표현하여 서로 직교한다고 가정하고 학습을 시작합니다.\n",
    "동일하게 상관 관계를 알 수 없는 다른 데이터의 경우에도 One-Hot 벡터를 활용 할 수 있습니다.\n",
    "'''\n",
    "\n",
    "\n",
    "import torch\n",
    "\n",
    "# all_letters 로 문자의 주소 찾기, 예시 \"a\" = 0\n",
    "def letterToIndex(letter):\n",
    "    return all_letters.find(letter)\n",
    "\n",
    "# 검증을 위해서 한개의 문자를 <1 x n_letters> Tensor로 변환\n",
    "def letterToTensor(letter):\n",
    "    tensor = torch.zeros(1, n_letters)\n",
    "    tensor[0][letterToIndex(letter)] = 1\n",
    "    return tensor\n",
    "\n",
    "# 한 줄(이름)을  <line_length x 1 x n_letters>,\n",
    "# 또는 One-Hot 문자 벡터의 Array로 변경\n",
    "def lineToTensor(line):\n",
    "    tensor = torch.zeros(len(line), 1, n_letters)\n",
    "    for li, letter in enumerate(line):\n",
    "        tensor[li][0][letterToIndex(letter)] = 1\n",
    "    return tensor\n",
    "\n",
    "print(letterToTensor('J'))\n",
    "\n",
    "print(lineToTensor('Jones').size())"
   ]
  },
  {
   "cell_type": "markdown",
   "id": "2ab18540",
   "metadata": {},
   "source": [
    "### 네트워크 생성 "
   ]
  },
  {
   "cell_type": "code",
   "execution_count": 5,
   "id": "82f99685",
   "metadata": {},
   "outputs": [],
   "source": [
    "import torch.nn as nn\n",
    "\n",
    "class RNN(nn.Module):\n",
    "    def __init__(self, input_size, hidden_size, output_size):\n",
    "        super(RNN, self).__init__()\n",
    "\n",
    "        self.hidden_size = hidden_size\n",
    "\n",
    "        self.i2h = nn.Linear(input_size + hidden_size, hidden_size)\n",
    "        self.i2o = nn.Linear(input_size + hidden_size, output_size)\n",
    "        self.softmax = nn.LogSoftmax(dim=1)\n",
    "\n",
    "    def forward(self, input, hidden):\n",
    "        # cat은 concat \n",
    "        combined = torch.cat((input, hidden), 1)\n",
    "        hidden = self.i2h(combined)\n",
    "        output = self.i2o(combined)\n",
    "        output = self.softmax(output)\n",
    "        return output, hidden\n",
    "\n",
    "    def initHidden(self):\n",
    "        return torch.zeros(1, self.hidden_size)\n",
    "\n",
    "n_hidden = 128\n",
    "rnn = RNN(n_letters, n_hidden, n_categories)"
   ]
  },
  {
   "cell_type": "code",
   "execution_count": 6,
   "id": "39b03f7d",
   "metadata": {},
   "outputs": [],
   "source": [
    "input = letterToTensor('A')\n",
    "hidden = torch.zeros(1, n_hidden)\n",
    "\n",
    "output, next_hidden = rnn(input, hidden)"
   ]
  },
  {
   "cell_type": "code",
   "execution_count": 7,
   "id": "36991c8d",
   "metadata": {},
   "outputs": [
    {
     "name": "stdout",
     "output_type": "stream",
     "text": [
      "tensor([[-2.8226, -2.8111, -2.8759, -2.9732, -2.8089, -2.8551, -2.9213, -2.9078,\n",
      "         -2.9249, -2.9568, -2.9853, -2.8478, -2.8216, -2.9264, -2.8472, -2.8759,\n",
      "         -2.9592, -2.9346]], grad_fn=<LogSoftmaxBackward0>)\n"
     ]
    }
   ],
   "source": [
    "input = lineToTensor('Albert')\n",
    "hidden = torch.zeros(1, n_hidden)\n",
    "\n",
    "output, next_hidden = rnn(input[0], hidden)\n",
    "print(output)"
   ]
  },
  {
   "cell_type": "markdown",
   "id": "cff8b4f1",
   "metadata": {},
   "source": [
    "## 학습 "
   ]
  },
  {
   "cell_type": "markdown",
   "id": "2dd1e320",
   "metadata": {},
   "source": [
    "### 학습준비 \n",
    "\n",
    "각 카테고리의 우도인 네트워크 출력해석, 가장 큰 값의 주소를 알기 위해서 Temsor.topk를 사용  \n",
    "\n",
    "네트워크 출력으로 가장 확률이 높은 카테고리 이름과 카테고리 번호 반환 "
   ]
  },
  {
   "cell_type": "code",
   "execution_count": 8,
   "id": "dd944300",
   "metadata": {},
   "outputs": [
    {
     "name": "stdout",
     "output_type": "stream",
     "text": [
      "('Chinese', 4)\n"
     ]
    }
   ],
   "source": [
    "def categoryFromOutput(output):\n",
    "    top_n, top_i = output.topk(1) # 텐서의 가장 큰 값 및 주소\n",
    "    category_i = top_i[0].item()     # 텐서에서 정수 값으로 변경\n",
    "    return all_categories[category_i], category_i\n",
    "\n",
    "print(categoryFromOutput(output))"
   ]
  },
  {
   "cell_type": "code",
   "execution_count": 9,
   "id": "f225004f",
   "metadata": {},
   "outputs": [
    {
     "name": "stdout",
     "output_type": "stream",
     "text": [
      "category = Scottish / line = Johnston\n",
      "category = Portuguese / line = Basurto\n",
      "category = Greek / line = Antoniadis\n",
      "category = Czech / line = Rypka\n",
      "category = French / line = Gagne\n",
      "category = Greek / line = Konstantatos\n",
      "category = Scottish / line = Cunningham\n",
      "category = Scottish / line = Martin\n",
      "category = Polish / line = Adamczak\n",
      "category = Arabic / line = Ganim\n"
     ]
    }
   ],
   "source": [
    "## 단일 이름과 언어를 얻는 방법 생성 \n",
    "\n",
    "import random\n",
    "\n",
    "def randomChoice(l):\n",
    "    return l[random.randint(0, len(l) - 1)]\n",
    "\n",
    "def randomTrainingExample():\n",
    "    category = randomChoice(all_categories)\n",
    "    line = randomChoice(category_lines[category])\n",
    "    category_tensor = torch.tensor([all_categories.index(category)], dtype=torch.long)\n",
    "    line_tensor = lineToTensor(line)\n",
    "    return category, line, category_tensor, line_tensor\n",
    "\n",
    "for i in range(10):\n",
    "    category, line, category_tensor, line_tensor = randomTrainingExample()\n",
    "    print('category =', category, '/ line =', line)"
   ]
  },
  {
   "cell_type": "markdown",
   "id": "076ab8fc",
   "metadata": {},
   "source": [
    "### 네트워크 학습 "
   ]
  },
  {
   "cell_type": "code",
   "execution_count": 10,
   "id": "de493efd",
   "metadata": {},
   "outputs": [],
   "source": [
    "# 손실함수 nn.NLLLoss \n",
    "\n",
    "criterion = nn.NLLLoss()"
   ]
  },
  {
   "cell_type": "markdown",
   "id": "af84cdc8",
   "metadata": {},
   "source": [
    "각 학습 루프:\n",
    "\n",
    "* 입력과 목표 Tensor 생성\n",
    "\n",
    "* 0 로 초기화된 은닉 상태 생성\n",
    "\n",
    "* 각 문자를 읽기\n",
    "\n",
    "* 다음 문자를 위한 은닉 상태 유지\n",
    "\n",
    "* 목표와 최종 출력 비교\n",
    "\n",
    "* 역전파\n",
    "\n",
    "* 출력과 손실 반환\n",
    "\n"
   ]
  },
  {
   "cell_type": "code",
   "execution_count": 11,
   "id": "6d49d0d0",
   "metadata": {},
   "outputs": [],
   "source": [
    "learning_rate = 0.005 \n",
    "\n",
    "def train(category_tensor, line_tensor):\n",
    "    hidden = rnn.initHidden()\n",
    "\n",
    "    rnn.zero_grad()\n",
    "\n",
    "    for i in range(line_tensor.size()[0]):\n",
    "        output, hidden = rnn(line_tensor[i], hidden)\n",
    "\n",
    "    loss = criterion(output, category_tensor)\n",
    "    loss.backward()\n",
    "\n",
    "    # 매개변수의 경사도에 학습률을 곱해서 그 매개변수의 값에 더합니다.\n",
    "    for p in rnn.parameters():\n",
    "        p.data.add_(p.grad.data, alpha=-learning_rate)\n",
    "\n",
    "    return output, loss.item()"
   ]
  },
  {
   "cell_type": "code",
   "execution_count": 12,
   "id": "f290c6df",
   "metadata": {},
   "outputs": [
    {
     "name": "stdout",
     "output_type": "stream",
     "text": [
      "5000 5% (0m 2s) 2.7634 Warner / German ✗ (English)\n",
      "10000 10% (0m 4s) 2.3807 Brodeur / Dutch ✗ (French)\n",
      "15000 15% (0m 6s) 2.1240 Blazejovsky / Polish ✗ (Czech)\n",
      "20000 20% (0m 8s) 2.0082 Kanak / Polish ✗ (Czech)\n",
      "25000 25% (0m 10s) 2.1440 Clancy / Czech ✗ (English)\n",
      "30000 30% (0m 13s) 1.6794 Dvorak / Czech ✓\n",
      "35000 35% (0m 15s) 0.6967 Watson / Scottish ✓\n",
      "40000 40% (0m 17s) 2.9348 Dahl / Vietnamese ✗ (German)\n",
      "45000 45% (0m 19s) 0.1869 Sniegowski / Polish ✓\n",
      "50000 50% (0m 21s) 0.7306 Kouri / Arabic ✓\n",
      "55000 55% (0m 23s) 1.4862 Wilchek / Polish ✗ (Czech)\n",
      "60000 60% (0m 26s) 2.4363 Gass / Greek ✗ (German)\n",
      "65000 65% (0m 28s) 0.7034 Banos / Greek ✓\n",
      "70000 70% (0m 30s) 1.0665 Cornett / French ✓\n",
      "75000 75% (0m 32s) 0.0761 Hadad / Arabic ✓\n",
      "80000 80% (0m 34s) 0.0415 Papadopulos / Greek ✓\n",
      "85000 85% (0m 36s) 1.3052 Kourempes / Greek ✓\n",
      "90000 90% (0m 39s) 0.7986 Doan / Vietnamese ✓\n",
      "95000 95% (0m 41s) 2.5765 Gerhardt / French ✗ (German)\n",
      "100000 100% (0m 43s) 0.5266 Demarchis / Greek ✓\n"
     ]
    }
   ],
   "source": [
    "import time\n",
    "import math\n",
    "\n",
    "n_iters = 100000\n",
    "print_every = 5000\n",
    "plot_every = 1000\n",
    "\n",
    "\n",
    "\n",
    "# 도식화를 위한 손실 추적\n",
    "current_loss = 0\n",
    "all_losses = []\n",
    "\n",
    "def timeSince(since):\n",
    "    now = time.time()\n",
    "    s = now - since\n",
    "    m = math.floor(s / 60)\n",
    "    s -= m * 60\n",
    "    return '%dm %ds' % (m, s)\n",
    "\n",
    "start = time.time()\n",
    "\n",
    "for iter in range(1, n_iters + 1):\n",
    "    category, line, category_tensor, line_tensor = randomTrainingExample()\n",
    "    output, loss = train(category_tensor, line_tensor)\n",
    "    current_loss += loss\n",
    "\n",
    "    # iter 숫자, 손실, 이름, 추측 화면 출력\n",
    "    if iter % print_every == 0:\n",
    "        guess, guess_i = categoryFromOutput(output)\n",
    "        correct = '✓' if guess == category else '✗ (%s)' % category\n",
    "        print('%d %d%% (%s) %.4f %s / %s %s' % (iter, iter / n_iters * 100, timeSince(start), loss, line, guess, correct))\n",
    "\n",
    "    # 현재 평균 손실을 전체 손실 리스트에 추가\n",
    "    if iter % plot_every == 0:\n",
    "        all_losses.append(current_loss / plot_every)\n",
    "        current_loss = 0"
   ]
  },
  {
   "cell_type": "code",
   "execution_count": 13,
   "id": "8db77b0c",
   "metadata": {},
   "outputs": [
    {
     "data": {
      "image/png": "[encoded data removed]",
      "text/plain": [
       "<Figure size 720x360 with 1 Axes>"
      ]
     },
     "metadata": {
      "needs_background": "light"
     },
     "output_type": "display_data"
    }
   ],
   "source": [
    "plt.figure(figsize = (10,5))\n",
    "plt.plot(all_losses)\n",
    "plt.show() "
   ]
  },
  {
   "cell_type": "markdown",
   "id": "0c1177e3",
   "metadata": {},
   "source": [
    "### 결과평가 \n",
    "네트워크가 다른 카테고리에서 얼마나 잘 작동하는지 보기위해 모든 실제 언어(행)가 네트워크에서 어떤 언어로 추측(열)되는지를 나타내는 혼동 행열(confusion matrix)을 만듭니다. 혼동 행렬을 계산하기 위해 evaluate() 로 많은 수의 샘플을 네트워크에 실행합니다. evaluate() 은 train () 과 역전파를 빼면 동일합니다."
   ]
  },
  {
   "cell_type": "code",
   "execution_count": 16,
   "id": "0674af18",
   "metadata": {},
   "outputs": [
    {
     "data": {
      "image/png": "[encoded data removed]",
      "text/plain": [
       "<Figure size 720x504 with 2 Axes>"
      ]
     },
     "metadata": {
      "needs_background": "light"
     },
     "output_type": "display_data"
    }
   ],
   "source": [
    "import matplotlib.ticker as ticker\n",
    "# confusion matrix \n",
    "\n",
    "\n",
    "confusion = torch.zeros(n_categories, n_categories)\n",
    "n_confusion = 10000\n",
    "\n",
    "# 주어진 라인의 출력 반환 \n",
    "\n",
    "def evaluate (line_tensor) :\n",
    "    hidden = rnn.initHidden()\n",
    "    \n",
    "    for i in range(line_tensor.size()[0]) :\n",
    "        output, hidden = rnn(line_tensor[i], hidden)\n",
    "        \n",
    "        \n",
    "    return output\n",
    "\n",
    "# 예시들 중 어떤 것이 정확하게 예측되었는지 기록 \n",
    "\n",
    "for i in range(n_confusion) :\n",
    "    category, line, category_tensor, line_tensor = randomTrainingExample()\n",
    "    output  = evaluate(line_tensor)\n",
    "    guess , guess_i = categoryFromOutput(output)\n",
    "    category_i = all_categories.index(category)\n",
    "    confusion[category_i][guess_i] +=1\n",
    "    \n",
    "# 모든 행을 합계로 나누어 정규화\n",
    "for i in range(n_categories):\n",
    "    confusion[i] = confusion[i] / confusion[i].sum()\n",
    "\n",
    "# 도식 설정\n",
    "fig = plt.figure(figsize = (10,7))\n",
    "ax = fig.add_subplot(111)\n",
    "cax = ax.matshow(confusion.numpy())\n",
    "fig.colorbar(cax)\n",
    "\n",
    "# 축 설정\n",
    "ax.set_xticklabels([''] + all_categories, rotation=90)\n",
    "ax.set_yticklabels([''] + all_categories)\n",
    "\n",
    "# 모든 tick에서 레이블 지정\n",
    "ax.xaxis.set_major_locator(ticker.MultipleLocator(1))\n",
    "ax.yaxis.set_major_locator(ticker.MultipleLocator(1))\n",
    "\n",
    "# sphinx_gallery_thumbnail_number = 2\n",
    "plt.show()"
   ]
  },
  {
   "cell_type": "code",
   "execution_count": 17,
   "id": "bc1be56d",
   "metadata": {},
   "outputs": [
    {
     "name": "stdout",
     "output_type": "stream",
     "text": [
      "\n",
      "> Dovesky\n",
      "(-0.84) Russian\n",
      "(-0.98) Czech\n",
      "(-2.51) English\n",
      "\n",
      "> Jackson\n",
      "(-0.72) Scottish\n",
      "(-2.01) Russian\n",
      "(-2.18) English\n",
      "\n",
      "> Satoshi\n",
      "(-0.89) Arabic\n",
      "(-1.21) Italian\n",
      "(-2.45) Czech\n"
     ]
    }
   ],
   "source": [
    "def predict(input_line, n_predictions=3):\n",
    "    print('\\n> %s' % input_line)\n",
    "    with torch.no_grad():\n",
    "        output = evaluate(lineToTensor(input_line))\n",
    "\n",
    "        # Get top N categories\n",
    "        topv, topi = output.topk(n_predictions, 1, True)\n",
    "        predictions = []\n",
    "\n",
    "        for i in range(n_predictions):\n",
    "            value = topv[0][i].item()\n",
    "            category_index = topi[0][i].item()\n",
    "            print('(%.2f) %s' % (value, all_categories[category_index]))\n",
    "            predictions.append([value, all_categories[category_index]])\n",
    "\n",
    "predict('Dovesky')\n",
    "predict('Jackson')\n",
    "predict('Satoshi')\n"
   ]
  }
 ],
 "metadata": {
  "kernelspec": {
   "display_name": "Python 3",
   "language": "python",
   "name": "python3"
  },
  "language_info": {
   "codemirror_mode": {
    "name": "ipython",
    "version": 3
   },
   "file_extension": ".py",
   "mimetype": "text/x-python",
   "name": "python",
   "nbconvert_exporter": "python",
   "pygments_lexer": "ipython3",
   "version": "3.8.13"
  }
 },
 "nbformat": 4,
 "nbformat_minor": 5
}
