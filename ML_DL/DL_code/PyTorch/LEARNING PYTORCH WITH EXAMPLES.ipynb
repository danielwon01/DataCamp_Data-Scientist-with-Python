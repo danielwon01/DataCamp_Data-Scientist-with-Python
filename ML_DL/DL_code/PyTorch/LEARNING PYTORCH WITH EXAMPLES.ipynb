{
 "cells": [
  {
   "cell_type": "markdown",
   "id": "b186b4bb",
   "metadata": {},
   "source": [
    "3차 다항식(third order polynomial)을 사용하여 y=$sin(x)$ 에 근사(fit)하는 문제를 다뤄보겠습니다. 신경망은 4개의 매개변수를 가지며, 정답과 신경망이 예측한 결과 사이의 유클리드 거리(Euclidean distance)를 최소화하여 임의의 값을 근사할 수 있도록 경사하강법(gradient descent)을 사용하여 학습"
   ]
  },
  {
   "cell_type": "code",
   "execution_count": 1,
   "id": "58231956",
   "metadata": {},
   "outputs": [
    {
     "name": "stdout",
     "output_type": "stream",
     "text": [
      "99 3456.0172333994374\n",
      "199 2288.6466876475897\n",
      "299 1516.6151615464423\n",
      "399 1006.0330344878869\n",
      "499 668.3566426977891\n",
      "599 445.0299565631988\n",
      "699 297.3281814298287\n",
      "799 199.64127892857687\n",
      "899 135.0322996402229\n",
      "999 92.30005064494591\n",
      "1099 64.03658646394666\n",
      "1199 45.34258492217921\n",
      "1299 32.97779040024142\n",
      "1399 24.799174383620546\n",
      "1499 19.38936957585435\n",
      "1599 15.810936906056963\n",
      "1699 13.44384979407786\n",
      "1799 11.878013081897748\n",
      "1899 10.84217876969486\n",
      "1999 10.156932768992924\n",
      "Result: y = 0.003522333086209108 + 0.8213070916629789 x + -0.0006076610692466191 x^2 + -0.08829024646223378 x^3\n"
     ]
    }
   ],
   "source": [
    "# numpy를 통해 신경망 구축 \n",
    "\n",
    "import numpy as np\n",
    "import math \n",
    "\n",
    "# 무작위로 입력과 출력 데이터 생성 \n",
    "\n",
    "x = np.linspace(-math.pi, math.pi, 2000)\n",
    "y = np.sin(x)\n",
    "\n",
    "# 무작위로 가중치 초기화\n",
    "a = np.random.randn()\n",
    "b = np.random.randn()\n",
    "c = np.random.randn()\n",
    "d = np.random.randn()\n",
    "\n",
    "learning_rate = 1e-6\n",
    "for t in range(2000) :\n",
    "    # 순전파 단계 예측값 계산 \n",
    "    # y = a + b x + c x^2 + d x^3\n",
    "    y_pred = a + b*x + c* x ** 2 + d *x **3\n",
    "    \n",
    "    # loss 계산 \n",
    "    loss = np.square(y_pred -y).sum()\n",
    "    if t % 100 ==99 :\n",
    "        print(t, loss)\n",
    "        \n",
    "    # loss에 따른 a,b,c,d의 변화도를 계산하고 역전파 \n",
    "    grad_y_pred = 2.0* (y_pred -y)\n",
    "    grad_a = grad_y_pred.sum()\n",
    "    grad_b = (grad_y_pred * x).sum()\n",
    "    grad_c = (grad_y_pred * x ** 2).sum()\n",
    "    grad_d = (grad_y_pred * x ** 3).sum()\n",
    "\n",
    "    # 가중치를 갱신합니다.\n",
    "    a -= learning_rate * grad_a\n",
    "    b -= learning_rate * grad_b\n",
    "    c -= learning_rate * grad_c\n",
    "    d -= learning_rate * grad_d\n",
    "\n",
    "print(f'Result: y = {a} + {b} x + {c} x^2 + {d} x^3')"
   ]
  },
  {
   "cell_type": "code",
   "execution_count": null,
   "id": "039e756b",
   "metadata": {},
   "outputs": [],
   "source": []
  },
  {
   "cell_type": "code",
   "execution_count": null,
   "id": "62b3b44e",
   "metadata": {},
   "outputs": [],
   "source": []
  },
  {
   "cell_type": "code",
   "execution_count": null,
   "id": "7919badd",
   "metadata": {},
   "outputs": [],
   "source": []
  },
  {
   "cell_type": "code",
   "execution_count": null,
   "id": "4c117f51",
   "metadata": {},
   "outputs": [],
   "source": []
  },
  {
   "cell_type": "code",
   "execution_count": null,
   "id": "47d8ee04",
   "metadata": {},
   "outputs": [],
   "source": []
  },
  {
   "cell_type": "code",
   "execution_count": null,
   "id": "e35516dc",
   "metadata": {},
   "outputs": [],
   "source": []
  },
  {
   "cell_type": "code",
   "execution_count": null,
   "id": "49f66a88",
   "metadata": {},
   "outputs": [],
   "source": []
  },
  {
   "cell_type": "code",
   "execution_count": null,
   "id": "c647b8b9",
   "metadata": {},
   "outputs": [],
   "source": []
  },
  {
   "cell_type": "code",
   "execution_count": null,
   "id": "d5dd8bf5",
   "metadata": {},
   "outputs": [],
   "source": []
  },
  {
   "cell_type": "code",
   "execution_count": null,
   "id": "2a82faf0",
   "metadata": {},
   "outputs": [],
   "source": []
  },
  {
   "cell_type": "code",
   "execution_count": null,
   "id": "eccd9936",
   "metadata": {},
   "outputs": [],
   "source": []
  },
  {
   "cell_type": "code",
   "execution_count": null,
   "id": "557cb1d2",
   "metadata": {},
   "outputs": [],
   "source": []
  },
  {
   "cell_type": "code",
   "execution_count": null,
   "id": "050bf2c1",
   "metadata": {},
   "outputs": [],
   "source": []
  },
  {
   "cell_type": "code",
   "execution_count": null,
   "id": "aa7b1215",
   "metadata": {},
   "outputs": [],
   "source": []
  },
  {
   "cell_type": "code",
   "execution_count": null,
   "id": "a887e0f6",
   "metadata": {},
   "outputs": [],
   "source": []
  },
  {
   "cell_type": "code",
   "execution_count": null,
   "id": "c8476c6f",
   "metadata": {},
   "outputs": [],
   "source": []
  },
  {
   "cell_type": "code",
   "execution_count": null,
   "id": "e5395ffc",
   "metadata": {},
   "outputs": [],
   "source": []
  }
 ],
 "metadata": {
  "kernelspec": {
   "display_name": "Python 3",
   "language": "python",
   "name": "python3"
  },
  "language_info": {
   "codemirror_mode": {
    "name": "ipython",
    "version": 3
   },
   "file_extension": ".py",
   "mimetype": "text/x-python",
   "name": "python",
   "nbconvert_exporter": "python",
   "pygments_lexer": "ipython3",
   "version": "3.8.13"
  }
 },
 "nbformat": 4,
 "nbformat_minor": 5
}
