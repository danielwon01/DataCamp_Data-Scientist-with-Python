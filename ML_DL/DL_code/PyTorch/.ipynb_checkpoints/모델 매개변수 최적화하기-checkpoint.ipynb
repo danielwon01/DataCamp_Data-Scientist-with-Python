{
 "cells": [
  {
   "cell_type": "markdown",
   "id": "d050e731",
   "metadata": {},
   "source": [
    "## 모델 매개변수 최적화 \n",
    "\n",
    "모델을 학습하는 과정은 반복적인 과정을 거칩니다; (에폭(epoch)이라고 부르는) 각 반복 단계에서 모델은 출력을 추측하고, 추측과 정답 사이의 오류(손실(loss))를 계산하고,매개변수에 대한 오류의 도함수(derivative)를 수집한 뒤, 경사하강법을 사용하여 이 파라매터들을 최적화(optimize)합니다."
   ]
  },
  {
   "cell_type": "code",
   "execution_count": 1,
   "id": "e1894a86",
   "metadata": {},
   "outputs": [],
   "source": [
    "import numpy as np\n",
    "import pandas as pd\n",
    "import seaborn as sns\n",
    "import matplotlib.pyplot as plt\n",
    "import warnings\n",
    "warnings.filterwarnings(action='ignore')"
   ]
  },
  {
   "cell_type": "code",
   "execution_count": 2,
   "id": "50427fe0",
   "metadata": {},
   "outputs": [],
   "source": [
    "import torch \n",
    "from torch import nn\n",
    "from torch.utils.data import DataLoader\n",
    "from torchvision import datasets\n",
    "from torchvision.transforms import ToTensor, Lambda"
   ]
  },
  {
   "cell_type": "code",
   "execution_count": 3,
   "id": "0c30331f",
   "metadata": {},
   "outputs": [],
   "source": [
    "train_data = datasets.FashionMNIST(\n",
    "    root = 'data',\n",
    "    train = True,\n",
    "    download = True,\n",
    "    transform = ToTensor()\n",
    ")\n",
    "\n",
    "test_data = datasets.FashionMNIST(\n",
    "    root=\"data\",\n",
    "    train=False,\n",
    "    download=True,\n",
    "    transform=ToTensor()\n",
    ")\n",
    "\n",
    "\n",
    "train_dataloader = DataLoader(train_data , batch_size = 64)\n",
    "test_dataloader = DataLoader(test_data, batch_size = 64)\n",
    "\n",
    "class NeuralNetwork(nn.Module) :\n",
    "    def __init__ (self) :\n",
    "        super(NeuralNetwork, self).__init__()\n",
    "        self.flatten = nn.Flatten()\n",
    "        self.linear_relu_stack = nn.Sequential(\n",
    "            nn.Linear(28*28,  512),\n",
    "            nn.ReLU(),\n",
    "            nn.Linear(512, 512),\n",
    "            nn.ReLU(),\n",
    "            nn.Linear(512, 10) \n",
    "        )\n",
    "        \n",
    "    def forward(self, x) :\n",
    "        x = self.flatten(x)\n",
    "        logits = self.linear_relu_stack(x)\n",
    "        return logits\n",
    "    \n",
    "model = NeuralNetwork()"
   ]
  },
  {
   "cell_type": "markdown",
   "id": "c8e09434",
   "metadata": {},
   "source": [
    "## 하이퍼파라미터(Hyperparameter)\n",
    "\n",
    "하이퍼파라미터(Hyperparameter)는 모델 최적화 과정을 제어할 수 있는 조절 가능한 매개변수입니다. 서로 다른 하이퍼파라미터 값은 모델 학습과 수렴율(convergence rate)에 영향을 미칠 수 있습니다. "
   ]
  },
  {
   "cell_type": "markdown",
   "id": "8a3fce5a",
   "metadata": {},
   "source": [
    "학습 시에는 다음과 같은 하이퍼파라매터를 정의합니다:\n",
    "* 에폭(epoch) 수 - 데이터셋을 반복하는 횟수  \n",
    "\n",
    "\n",
    "* 배치 크기(batch size) - 매개변수가 갱신되기 전 신경망을 통해 전파된 데이터 샘플의 수\n",
    "\n",
    "\n",
    "* 학습률(learning rate) - 각 배치/에폭에서 모델의 매개변수를 조절하는 비율. 값이 작을수록 학습 속도가 느려지고, 값이 크면 학습 중 예측할 수 없는 동작이 발생할 수 있습니다."
   ]
  },
  {
   "cell_type": "code",
   "execution_count": 4,
   "id": "8cdf82ee",
   "metadata": {},
   "outputs": [],
   "source": [
    "learning_rate = 1e-3\n",
    "batch_size = 64\n",
    "epochs = 5\n"
   ]
  },
  {
   "cell_type": "markdown",
   "id": "9e1bbebb",
   "metadata": {},
   "source": [
    "## 최적화 단계(Optimization Loop)\n",
    "하이퍼파라미터를 설정한 뒤에는 최적화 단계를 통해 모델을 학습하고 최적화할 수 있습니다. 최적화 단계의 각 반복(iteration)을 에폭이라고 부릅니다."
   ]
  },
  {
   "cell_type": "markdown",
   "id": "ff632458",
   "metadata": {},
   "source": [
    "#### 에폭 구성\n",
    "* 학습 단계(train loop) - 학습용 데이터셋을 반복(iterate)하고 최적의 매개변수로 수렴합니다.\n",
    "\n",
    "\n",
    "* 검증/테스트 단계(validation/test loop) - 모델 성능이 개선되고 있는지를 확인하기 위해 테스트 데이터셋을 반복(iterate)합니다."
   ]
  },
  {
   "cell_type": "markdown",
   "id": "508c5f7e",
   "metadata": {},
   "source": [
    "## 학습단계"
   ]
  },
  {
   "cell_type": "markdown",
   "id": "ddb9e1e9",
   "metadata": {},
   "source": [
    "### 손실 함수(loss function)\n",
    "학습용 데이터를 제공하면, 학습되지 않은 신경망은 정답을 제공하지 않을 확률이 높습니다. 손실 함수(loss function)는 획득한 결과와 실제 값 사이의 틀린 정도(degree of dissimilarity)를 측정하며, 학습 중에 이 값을 최소화하려고 합니다. 주어진 데이터 샘플을 입력으로 계산한 예측과 정답(label)을 비교하여 손실(loss)을 계산합니다.\n",
    "\n",
    "일반적인 손실함수에는 회귀 문제(regression task)에 사용하는 nn.MSELoss(평균 제곱 오차(MSE; Mean Square Error))나 분류(classification)에 사용하는 nn.NLLLoss (음의 로그 우도(Negative Log Likelihood)), 그리고 nn.LogSoftmax와 nn.NLLLoss를 합친 nn.CrossEntropyLoss 등이 있습니다."
   ]
  },
  {
   "cell_type": "code",
   "execution_count": 5,
   "id": "83a99e40",
   "metadata": {},
   "outputs": [],
   "source": [
    "# 손실함수 초기화\n",
    "loss_fn = nn.CrossEntropyLoss()"
   ]
  },
  {
   "cell_type": "markdown",
   "id": "d07b97c3",
   "metadata": {},
   "source": [
    "### 옵티마이저(Optimizer)\n",
    "최적화는 각 학습 단계에서 모델의 오류를 줄이기 위해 모델 매개변수를 조정하는 과정입니다. 최적화 알고리즘은 이 과정이 수행되는 방식(여기에서는 확률적 경사하강법(SGD; Stochastic Gradient Descent))을 정의합니다. 모든 최적화 절차(logic)는 optimizer 객체에 캡슐화(encapsulate)됩니다. 여기서는 SGD 옵티마이저를 사용하고 있으며, PyTorch에는 ADAM이나 RMSProp과 같은 다른 종류의 모델과 데이터에서 더 잘 동작하는 다양한 옵티마이저가 있습니다."
   ]
  },
  {
   "cell_type": "code",
   "execution_count": 6,
   "id": "b63399f3",
   "metadata": {},
   "outputs": [],
   "source": [
    "optimizer = torch.optim.SGD(model.parameters(), lr= learning_rate)"
   ]
  },
  {
   "cell_type": "markdown",
   "id": "506a25b4",
   "metadata": {},
   "source": [
    "#### 학습 단계(loop)에서 최적화는 세단계로 이뤄집니다:\n",
    "* optimizer.zero_grad()를 호출하여 모델 매개변수의 변화도를 재설정합니다. 기본적으로 변화도는 더해지기(add up) 때문에 중복 계산을 막기 위해 반복할 때마다 명시적으로 0으로 설정합니다.  \n",
    "\n",
    "\n",
    "* loss.backwards()를 호출하여 예측 손실(prediction loss)을 역전파합니다. PyTorch는 각 매개변수에 대한 손실의 변화도를 저장합니다.\n",
    "\n",
    "\n",
    "* 변화도를 계산한 뒤에는 optimizer.step()을 호출하여 역전파 단계에서 수집된 변화도로 매개변수를 조정합니다."
   ]
  },
  {
   "cell_type": "markdown",
   "id": "c7b8b68b",
   "metadata": {},
   "source": [
    "### 전체 구현"
   ]
  },
  {
   "cell_type": "code",
   "execution_count": 7,
   "id": "62c9f584",
   "metadata": {},
   "outputs": [],
   "source": [
    "def train_loop (dataloader, model, loss_fn ,optimizer) :\n",
    "    size = len(dataloader.dataset)\n",
    "    for batch, (X, y) in enumerate(dataloader) :\n",
    "        # 예측과 손실 계산 \n",
    "        pred = model(X)\n",
    "        loss = loss_fn(pred , y)\n",
    "        \n",
    "        # 역전파 \n",
    "        optimizer.zero_grad()\n",
    "        loss.backward()\n",
    "        optimizer.step()\n",
    "        \n",
    "        if batch % 100 == 0 :\n",
    "            loss,current = loss.item(), batch * len(X)\n",
    "            print(f\"loss: {loss:>7f}  [{current:>5d}/{size:>5d}]\")\n",
    "            \n",
    "            \n",
    "def test_loop(dataloader, model, loss_fn):\n",
    "    size = len(dataloader.dataset)\n",
    "    num_batches = len(dataloader)\n",
    "    test_loss, correct = 0, 0\n",
    "\n",
    "    with torch.no_grad():\n",
    "        for X, y in dataloader:\n",
    "            pred = model(X)\n",
    "            test_loss += loss_fn(pred, y).item()\n",
    "            correct += (pred.argmax(1) == y).type(torch.float).sum().item()\n",
    "\n",
    "    test_loss /= num_batches\n",
    "    correct /= size\n",
    "    print(f\"Test Error: \\n Accuracy: {(100*correct):>0.1f}%, Avg loss: {test_loss:>8f} \\n\")"
   ]
  },
  {
   "cell_type": "code",
   "execution_count": 8,
   "id": "0a58abd8",
   "metadata": {},
   "outputs": [
    {
     "name": "stdout",
     "output_type": "stream",
     "text": [
      "Epoch 1\n",
      "-------------------------------\n",
      "loss: 2.296014  [    0/60000]\n",
      "loss: 2.283252  [ 6400/60000]\n",
      "loss: 2.258115  [12800/60000]\n",
      "loss: 2.255654  [19200/60000]\n",
      "loss: 2.248875  [25600/60000]\n",
      "loss: 2.213744  [32000/60000]\n",
      "loss: 2.228846  [38400/60000]\n",
      "loss: 2.188412  [44800/60000]\n",
      "loss: 2.183378  [51200/60000]\n",
      "loss: 2.162195  [57600/60000]\n",
      "Test Error: \n",
      " Accuracy: 38.2%, Avg loss: 2.140067 \n",
      "\n",
      "Epoch 2\n",
      "-------------------------------\n",
      "loss: 2.156982  [    0/60000]\n",
      "loss: 2.139424  [ 6400/60000]\n",
      "loss: 2.070277  [12800/60000]\n",
      "loss: 2.086520  [19200/60000]\n",
      "loss: 2.045919  [25600/60000]\n",
      "loss: 1.989012  [32000/60000]\n",
      "loss: 2.012120  [38400/60000]\n",
      "loss: 1.929439  [44800/60000]\n",
      "loss: 1.933403  [51200/60000]\n",
      "loss: 1.867120  [57600/60000]\n",
      "Test Error: \n",
      " Accuracy: 52.5%, Avg loss: 1.847233 \n",
      "\n",
      "Epoch 3\n",
      "-------------------------------\n",
      "loss: 1.891790  [    0/60000]\n",
      "loss: 1.854612  [ 6400/60000]\n",
      "loss: 1.718576  [12800/60000]\n",
      "loss: 1.762171  [19200/60000]\n",
      "loss: 1.665865  [25600/60000]\n",
      "loss: 1.627624  [32000/60000]\n",
      "loss: 1.643456  [38400/60000]\n",
      "loss: 1.546124  [44800/60000]\n",
      "loss: 1.574680  [51200/60000]\n",
      "loss: 1.477116  [57600/60000]\n",
      "Test Error: \n",
      " Accuracy: 60.0%, Avg loss: 1.480015 \n",
      "\n",
      "Epoch 4\n",
      "-------------------------------\n",
      "loss: 1.551949  [    0/60000]\n",
      "loss: 1.519059  [ 6400/60000]\n",
      "loss: 1.355518  [12800/60000]\n",
      "loss: 1.435934  [19200/60000]\n",
      "loss: 1.329595  [25600/60000]\n",
      "loss: 1.330762  [32000/60000]\n",
      "loss: 1.342771  [38400/60000]\n",
      "loss: 1.268025  [44800/60000]\n",
      "loss: 1.306573  [51200/60000]\n",
      "loss: 1.216462  [57600/60000]\n",
      "Test Error: \n",
      " Accuracy: 63.2%, Avg loss: 1.230598 \n",
      "\n",
      "Epoch 5\n",
      "-------------------------------\n",
      "loss: 1.305168  [    0/60000]\n",
      "loss: 1.292466  [ 6400/60000]\n",
      "loss: 1.118299  [12800/60000]\n",
      "loss: 1.230967  [19200/60000]\n",
      "loss: 1.115338  [25600/60000]\n",
      "loss: 1.143449  [32000/60000]\n",
      "loss: 1.160563  [38400/60000]\n",
      "loss: 1.099262  [44800/60000]\n",
      "loss: 1.140281  [51200/60000]\n",
      "loss: 1.064079  [57600/60000]\n",
      "Test Error: \n",
      " Accuracy: 64.8%, Avg loss: 1.076065 \n",
      "\n",
      "Epoch 6\n",
      "-------------------------------\n",
      "loss: 1.141039  [    0/60000]\n",
      "loss: 1.148868  [ 6400/60000]\n",
      "loss: 0.961459  [12800/60000]\n",
      "loss: 1.102237  [19200/60000]\n",
      "loss: 0.981530  [25600/60000]\n",
      "loss: 1.016072  [32000/60000]\n",
      "loss: 1.045755  [38400/60000]\n",
      "loss: 0.991731  [44800/60000]\n",
      "loss: 1.030709  [51200/60000]\n",
      "loss: 0.967644  [57600/60000]\n",
      "Test Error: \n",
      " Accuracy: 66.0%, Avg loss: 0.974979 \n",
      "\n",
      "Epoch 7\n",
      "-------------------------------\n",
      "loss: 1.025420  [    0/60000]\n",
      "loss: 1.054027  [ 6400/60000]\n",
      "loss: 0.852389  [12800/60000]\n",
      "loss: 1.015823  [19200/60000]\n",
      "loss: 0.895295  [25600/60000]\n",
      "loss: 0.924338  [32000/60000]\n",
      "loss: 0.969063  [38400/60000]\n",
      "loss: 0.921156  [44800/60000]\n",
      "loss: 0.953632  [51200/60000]\n",
      "loss: 0.902118  [57600/60000]\n",
      "Test Error: \n",
      " Accuracy: 67.3%, Avg loss: 0.904947 \n",
      "\n",
      "Epoch 8\n",
      "-------------------------------\n",
      "loss: 0.939360  [    0/60000]\n",
      "loss: 0.986848  [ 6400/60000]\n",
      "loss: 0.772750  [12800/60000]\n",
      "loss: 0.953986  [19200/60000]\n",
      "loss: 0.836135  [25600/60000]\n",
      "loss: 0.856237  [32000/60000]\n",
      "loss: 0.914307  [38400/60000]\n",
      "loss: 0.873648  [44800/60000]\n",
      "loss: 0.897610  [51200/60000]\n",
      "loss: 0.854206  [57600/60000]\n",
      "Test Error: \n",
      " Accuracy: 68.6%, Avg loss: 0.853787 \n",
      "\n",
      "Epoch 9\n",
      "-------------------------------\n",
      "loss: 0.872443  [    0/60000]\n",
      "loss: 0.935635  [ 6400/60000]\n",
      "loss: 0.712099  [12800/60000]\n",
      "loss: 0.907511  [19200/60000]\n",
      "loss: 0.793350  [25600/60000]\n",
      "loss: 0.804309  [32000/60000]\n",
      "loss: 0.872349  [38400/60000]\n",
      "loss: 0.839792  [44800/60000]\n",
      "loss: 0.855590  [51200/60000]\n",
      "loss: 0.817039  [57600/60000]\n",
      "Test Error: \n",
      " Accuracy: 69.7%, Avg loss: 0.814529 \n",
      "\n",
      "Epoch 10\n",
      "-------------------------------\n",
      "loss: 0.818706  [    0/60000]\n",
      "loss: 0.894139  [ 6400/60000]\n",
      "loss: 0.664352  [12800/60000]\n",
      "loss: 0.871123  [19200/60000]\n",
      "loss: 0.760562  [25600/60000]\n",
      "loss: 0.763974  [32000/60000]\n",
      "loss: 0.838173  [38400/60000]\n",
      "loss: 0.814324  [44800/60000]\n",
      "loss: 0.822862  [51200/60000]\n",
      "loss: 0.786868  [57600/60000]\n",
      "Test Error: \n",
      " Accuracy: 71.2%, Avg loss: 0.783067 \n",
      "\n",
      "Done!\n"
     ]
    }
   ],
   "source": [
    "loss_fn = nn.CrossEntropyLoss()\n",
    "optimizer = torch.optim.SGD(model.parameters(), lr=learning_rate)\n",
    "\n",
    "epochs = 10\n",
    "for t in range(epochs):\n",
    "    print(f\"Epoch {t+1}\\n-------------------------------\")\n",
    "    train_loop(train_dataloader, model, loss_fn, optimizer)\n",
    "    test_loop(test_dataloader, model, loss_fn)\n",
    "print(\"Done!\")\n"
   ]
  }
 ],
 "metadata": {
  "kernelspec": {
   "display_name": "Python 3",
   "language": "python",
   "name": "python3"
  },
  "language_info": {
   "codemirror_mode": {
    "name": "ipython",
    "version": 3
   },
   "file_extension": ".py",
   "mimetype": "text/x-python",
   "name": "python",
   "nbconvert_exporter": "python",
   "pygments_lexer": "ipython3",
   "version": "3.8.13"
  }
 },
 "nbformat": 4,
 "nbformat_minor": 5
}
