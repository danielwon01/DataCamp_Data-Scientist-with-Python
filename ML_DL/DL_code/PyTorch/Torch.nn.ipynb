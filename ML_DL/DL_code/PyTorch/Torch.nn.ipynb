{
 "cells": [
  {
   "cell_type": "markdown",
   "id": "050b4b24",
   "metadata": {},
   "source": [
    "### 데이터준비"
   ]
  },
  {
   "cell_type": "code",
   "execution_count": 1,
   "id": "bb820f15",
   "metadata": {},
   "outputs": [],
   "source": [
    "from pathlib import Path\n",
    "import requests\n",
    "\n",
    "DATA_PATH = Path('data')\n",
    "PATH = DATA_PATH / 'mnist'\n",
    "\n",
    "PATH.mkdir(parents = True, exist_ok = True)\n",
    "\n",
    "URL = \"https://github.com/pytorch/tutorials/raw/master/_static/\"\n",
    "FILENAME = \"mnist.pkl.gz\"\n",
    "\n",
    "if not (PATH / FILENAME).exists() :\n",
    "    content = requests.get(URL + FILENAME).content\n",
    "    (PATH / FILENAME).open(\"wb\").write(content)\n",
    "    "
   ]
  },
  {
   "cell_type": "code",
   "execution_count": 2,
   "id": "163770c6",
   "metadata": {},
   "outputs": [],
   "source": [
    "# 텍스트 이외의 자료형을 파일로 저장하기 위하여 pickle 사용\n",
    "# 데이터를 직렬화하기 위해 사용\n",
    "import pickle\n",
    "#gzip 모듈은 open(), compress() 및 decompress() 편리 함수뿐만 아니라 GzipFile 클래스도 제공합니다.\n",
    "#GzipFile 클래스는 gzip-형식 파일을 읽고 쓰는데, 자동으로 데이터를 압축하거나 압축을 풀어서 일반적인 파일 객체처럼 보이게 합니다.\n",
    "import gzip \n",
    "\n",
    "with gzip.open((PATH / FILENAME).as_posix(), \"rb\") as f:\n",
    "        ((x_train, y_train), (x_valid, y_valid), _) = pickle.load(f, encoding=\"latin-1\")"
   ]
  },
  {
   "cell_type": "code",
   "execution_count": 3,
   "id": "98f1dbff",
   "metadata": {},
   "outputs": [
    {
     "name": "stdout",
     "output_type": "stream",
     "text": [
      "(50000, 784)\n"
     ]
    },
    {
     "data": {
      "image/png": "[encoded data removed]",
      "text/plain": [
       "<Figure size 432x288 with 1 Axes>"
      ]
     },
     "metadata": {
      "needs_background": "light"
     },
     "output_type": "display_data"
    }
   ],
   "source": [
    "from matplotlib import pyplot\n",
    "import numpy as np\n",
    "\n",
    "pyplot.imshow(x_train[0].reshape((28, 28)), cmap=\"gray\")\n",
    "print(x_train.shape)"
   ]
  },
  {
   "cell_type": "code",
   "execution_count": 4,
   "id": "e20375fd",
   "metadata": {},
   "outputs": [
    {
     "name": "stdout",
     "output_type": "stream",
     "text": [
      "tensor([[0., 0., 0.,  ..., 0., 0., 0.],\n",
      "        [0., 0., 0.,  ..., 0., 0., 0.],\n",
      "        [0., 0., 0.,  ..., 0., 0., 0.],\n",
      "        ...,\n",
      "        [0., 0., 0.,  ..., 0., 0., 0.],\n",
      "        [0., 0., 0.,  ..., 0., 0., 0.],\n",
      "        [0., 0., 0.,  ..., 0., 0., 0.]]) tensor([5, 0, 4,  ..., 8, 4, 8])\n",
      "torch.Size([50000, 784])\n",
      "tensor(0) tensor(9)\n"
     ]
    }
   ],
   "source": [
    "import torch \n",
    "\n",
    "x_train, y_train, x_valid, y_valid = map(\n",
    "    torch.tensor, (x_train, y_train, x_valid, y_valid)\n",
    ")\n",
    "n, c = x_train.shape\n",
    "print(x_train, y_train)\n",
    "print(x_train.shape)\n",
    "print(y_train.min(), y_train.max())\n"
   ]
  },
  {
   "cell_type": "markdown",
   "id": "fd05bd60",
   "metadata": {},
   "source": [
    "### torch.nn 사용 없이 신경망 생성"
   ]
  },
  {
   "cell_type": "code",
   "execution_count": 5,
   "id": "02fab759",
   "metadata": {},
   "outputs": [],
   "source": [
    "import math\n",
    "\n",
    "weight = torch.randn(784, 10) / math.sqrt(784) # 가중치 초기화 방법으로 weight initialization 를 사용\n",
    "weight.requires_grad_()\n",
    "bias = torch.zeros(10, requires_grad = True)"
   ]
  },
  {
   "cell_type": "code",
   "execution_count": 6,
   "id": "d1ee126f",
   "metadata": {},
   "outputs": [],
   "source": [
    "def log_softmax(x) :\n",
    "    return x - x.exp().sum(-1).log().unsqueeze(-1)\n",
    "\n",
    "# @ 행렬곱셈 연산의미\n",
    "def model(xb) :\n",
    "    return log_softmax(xb @ weight + bias)"
   ]
  },
  {
   "cell_type": "code",
   "execution_count": 7,
   "id": "c1198a67",
   "metadata": {},
   "outputs": [
    {
     "name": "stdout",
     "output_type": "stream",
     "text": [
      "tensor([-2.3770, -2.9994, -1.6751, -2.8987, -2.3696, -1.9591, -2.5774, -2.9274,\n",
      "        -2.4695, -1.7937], grad_fn=<SelectBackward>) torch.Size([64, 10])\n"
     ]
    }
   ],
   "source": [
    "bs = 64  # 배치 크기\n",
    "\n",
    "xb = x_train[0:bs]  # x로부터 미니배치(mini-batch) 추출\n",
    "preds = model(xb)  # 예측\n",
    "preds[0], preds.shape\n",
    "print(preds[0], preds.shape)"
   ]
  },
  {
   "cell_type": "code",
   "execution_count": 8,
   "id": "7dc7958e",
   "metadata": {},
   "outputs": [],
   "source": [
    "# 손실함수를 사용하기 위한 음의 로그 우도를 구현 \n",
    "\n",
    "def nll(input, target):\n",
    "    return -input[range(target.shape[0]), target].mean()\n",
    "\n",
    "loss_func = nll"
   ]
  },
  {
   "cell_type": "code",
   "execution_count": 9,
   "id": "ff31d9fb",
   "metadata": {},
   "outputs": [
    {
     "name": "stdout",
     "output_type": "stream",
     "text": [
      "tensor(2.3473, grad_fn=<NegBackward>)\n"
     ]
    }
   ],
   "source": [
    "# 손실 파악 \n",
    "yb = y_train[0:bs]\n",
    "print(loss_func(preds, yb))"
   ]
  },
  {
   "cell_type": "code",
   "execution_count": 10,
   "id": "e66dbefa",
   "metadata": {},
   "outputs": [],
   "source": [
    "# 모델 정확도 계산 \n",
    "\n",
    "def accuracy(out, yb) :\n",
    "    preds = torch.argmax(out, dim = 1)\n",
    "    return (preds == yb).float().mean()"
   ]
  },
  {
   "cell_type": "code",
   "execution_count": 11,
   "id": "dd8ee6a1",
   "metadata": {},
   "outputs": [
    {
     "name": "stdout",
     "output_type": "stream",
     "text": [
      "tensor(0.0625)\n"
     ]
    }
   ],
   "source": [
    "print(accuracy(preds, yb))"
   ]
  },
  {
   "cell_type": "markdown",
   "id": "997c29c7",
   "metadata": {},
   "source": [
    "#### 훈련루프 실행 \n",
    "\n",
    "* 데이터의 미니배치를 선택 (bs 크기)\n",
    "* 모델을 이용하여 예측 수행\n",
    "* 손실 계산\n",
    "* loss.backward() 를 이용하여 모델의 기울기 업데이트, 이 경우에 weights 와 bias.\n",
    "\n",
    "이 기울기들을 이용하여 가중치와 절편을 업데이트 합니다. 우리는 이것을 torch.no_grad() 컨텍스트 매니져(context manager) 내에서 실행합니다, 왜냐하면 이러한 실행이 다음 기울기의 계산에 기록되지 않기를 원하기 때문입니다.\n",
    "\n",
    "\n",
    " 기울기를 0으로 설정합니다, 그럼으로써 다음 루프(loop)에 준비하게 됩니다. 그렇지 않으면, 우리의 기울기들은 일어난 모든 연산의 누적 집계를 기록하게 되버립니다. (즉, loss.backward() 가 이미 저장된 것을 대체하기보단, 기존 값에 기울기를 더하게 됩니다)."
   ]
  },
  {
   "cell_type": "code",
   "execution_count": 13,
   "id": "84c8242f",
   "metadata": {},
   "outputs": [],
   "source": [
    "# 매 단계마다 다양한 변수 값을 점검\n",
    "from IPython.core.debugger import set_trace\n",
    "\n",
    "lr = 0.5 # 학습률\n",
    "epochs = 2 # 훈련에 사용할 에폭 수\n",
    "\n",
    "for epoch in range(epochs) :\n",
    "    for i in range( (n-1)// bs + 1) :\n",
    "        start_i = i * bs\n",
    "        end_i = start_i + bs\n",
    "        xb = x_train[start_i:end_i]\n",
    "        yb = y_train[start_i:end_i]\n",
    "        pred = model(xb)\n",
    "        loss = loss_func(pred, yb)\n",
    "\n",
    "        loss.backward()\n",
    "        with torch.no_grad():\n",
    "            weight -= weight.grad * lr\n",
    "            bias -= bias.grad * lr\n",
    "            weight.grad.zero_()\n",
    "            bias.grad.zero_()"
   ]
  },
  {
   "cell_type": "code",
   "execution_count": 14,
   "id": "14679bff",
   "metadata": {},
   "outputs": [
    {
     "name": "stdout",
     "output_type": "stream",
     "text": [
      "tensor(0.0780, grad_fn=<NegBackward>) tensor(1.)\n"
     ]
    }
   ],
   "source": [
    "print(loss_func(model(xb), yb), accuracy(model(xb), yb))"
   ]
  },
  {
   "cell_type": "markdown",
   "id": "31ff01b3",
   "metadata": {},
   "source": [
    "### torch.nn"
   ]
  },
  {
   "cell_type": "code",
   "execution_count": 17,
   "id": "684099ce",
   "metadata": {},
   "outputs": [],
   "source": [
    "import torch.nn.functional as F\n",
    "\n",
    "loss_func = F.cross_entropy\n",
    "\n",
    "def model(xb) :\n",
    "    return xb @ weight + bias"
   ]
  },
  {
   "cell_type": "code",
   "execution_count": 18,
   "id": "181a08c8",
   "metadata": {},
   "outputs": [
    {
     "name": "stdout",
     "output_type": "stream",
     "text": [
      "tensor(0.0780, grad_fn=<NllLossBackward>) tensor(1.)\n"
     ]
    }
   ],
   "source": [
    "print(loss_func(model(xb), yb), accuracy(model (xb), yb))"
   ]
  },
  {
   "cell_type": "markdown",
   "id": "3d5df517",
   "metadata": {},
   "source": [
    "## nn.Module"
   ]
  },
  {
   "cell_type": "code",
   "execution_count": 23,
   "id": "a2856174",
   "metadata": {},
   "outputs": [],
   "source": [
    " from torch import nn\n",
    "\n",
    "class Mnist_Logistic(nn.Module) :\n",
    "    def __init__ (self) :\n",
    "        super().__init__()\n",
    "        self.weight = nn.Parameter(torch.randn(784, 10)/ math.sqrt(784))\n",
    "        self.bias = nn.Parameter(torch.zeros(10))\n",
    "        \n",
    "    def forward(self , xb) :\n",
    "        return xb @ self.weight + self.bias"
   ]
  },
  {
   "cell_type": "code",
   "execution_count": 24,
   "id": "8ce8b855",
   "metadata": {},
   "outputs": [],
   "source": [
    "# 함수 대신 object사용하기 때문에 모델 instantiate \n",
    "\n",
    "model = Mnist_Logistic()"
   ]
  },
  {
   "cell_type": "code",
   "execution_count": 26,
   "id": "2261d764",
   "metadata": {},
   "outputs": [
    {
     "name": "stdout",
     "output_type": "stream",
     "text": [
      "tensor(2.2158, grad_fn=<NllLossBackward>)\n"
     ]
    }
   ],
   "source": [
    "print(loss_func(model(xb), yb))"
   ]
  },
  {
   "cell_type": "code",
   "execution_count": null,
   "id": "c2f223f4",
   "metadata": {},
   "outputs": [],
   "source": []
  },
  {
   "cell_type": "code",
   "execution_count": null,
   "id": "5642109f",
   "metadata": {},
   "outputs": [],
   "source": []
  }
 ],
 "metadata": {
  "kernelspec": {
   "display_name": "Python 3",
   "language": "python",
   "name": "python3"
  },
  "language_info": {
   "codemirror_mode": {
    "name": "ipython",
    "version": 3
   },
   "file_extension": ".py",
   "mimetype": "text/x-python",
   "name": "python",
   "nbconvert_exporter": "python",
   "pygments_lexer": "ipython3",
   "version": "3.8.13"
  }
 },
 "nbformat": 4,
 "nbformat_minor": 5
}
