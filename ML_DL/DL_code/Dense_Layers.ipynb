{
 "cells": [
  {
   "cell_type": "code",
   "execution_count": 1,
   "id": "22411f81",
   "metadata": {},
   "outputs": [],
   "source": [
    "import numpy as np\n",
    "import pandas as pd\n",
    "import seaborn as sns\n",
    "import matplotlib.pyplot as plt\n",
    "import warnings\n",
    "warnings.filterwarnings(action='ignore')"
   ]
  },
  {
   "cell_type": "markdown",
   "id": "99189608",
   "metadata": {},
   "source": [
    "## Dense Layers"
   ]
  },
  {
   "cell_type": "markdown",
   "id": "1f321071",
   "metadata": {},
   "source": [
    "### Shapes of Dense Layers"
   ]
  },
  {
   "cell_type": "code",
   "execution_count": 2,
   "id": "8fa02e85",
   "metadata": {},
   "outputs": [
    {
     "name": "stdout",
     "output_type": "stream",
     "text": [
      "===== Input / Weight / Bias =====\n",
      "X (1, 10)\n",
      "W (10, 3)\n",
      "B (3,)\n",
      "y (1, 3)\n"
     ]
    }
   ],
   "source": [
    "import tensorflow as tf \n",
    "from tensorflow.keras.layers import Dense\n",
    "\n",
    "N, n_feature = 1, 10\n",
    "\n",
    "X = tf.random.normal(shape = (N , n_feature))\n",
    "\n",
    "n_neuron = 3\n",
    "dense = Dense(units = n_neuron , activation = 'sigmoid')\n",
    "y = dense(X)\n",
    "\n",
    "W,B = dense.get_weights()\n",
    "\n",
    "print('===== Input / Weight / Bias =====')\n",
    "print('X' , X.shape)\n",
    "print('W', W.shape)\n",
    "print('B', B.shape)\n",
    "print('y', y.shape)"
   ]
  },
  {
   "cell_type": "code",
   "execution_count": 3,
   "id": "0f010d83",
   "metadata": {},
   "outputs": [
    {
     "name": "stdout",
     "output_type": "stream",
     "text": [
      "tf.Tensor(\n",
      "[[-2.6741207   2.0838857   0.32857665  0.17123345 -0.64629644 -0.1900288\n",
      "   1.6182722  -1.877005    1.450179    2.219537  ]], shape=(1, 10), dtype=float32)\n"
     ]
    }
   ],
   "source": [
    "print(X)"
   ]
  },
  {
   "cell_type": "code",
   "execution_count": 4,
   "id": "b6c7eb3c",
   "metadata": {},
   "outputs": [
    {
     "name": "stdout",
     "output_type": "stream",
     "text": [
      "[[ 0.51713383 -0.11236912  0.32149172]\n",
      " [ 0.5982853  -0.31094074 -0.08197951]\n",
      " [ 0.04823166  0.6344043   0.3361174 ]\n",
      " [ 0.597528   -0.6634063  -0.6342977 ]\n",
      " [ 0.05513108 -0.5185607   0.13362539]\n",
      " [-0.02883387  0.07512623  0.06819504]\n",
      " [-0.571998   -0.62948453  0.554765  ]\n",
      " [ 0.6422484  -0.6659772   0.5260639 ]\n",
      " [-0.6006482   0.6018007   0.6574739 ]\n",
      " [-0.20024854 -0.6642439   0.3123235 ]]\n"
     ]
    }
   ],
   "source": [
    "print(W)"
   ]
  },
  {
   "cell_type": "code",
   "execution_count": 5,
   "id": "bcf32312",
   "metadata": {},
   "outputs": [
    {
     "name": "stdout",
     "output_type": "stream",
     "text": [
      "tf.Tensor([[0.02946153 0.42507213 0.6056272 ]], shape=(1, 3), dtype=float32)\n"
     ]
    }
   ],
   "source": [
    "print(y)"
   ]
  },
  {
   "cell_type": "code",
   "execution_count": 6,
   "id": "ed625e9c",
   "metadata": {},
   "outputs": [
    {
     "name": "stdout",
     "output_type": "stream",
     "text": [
      "===== Input / Weight / Bias =====\n",
      "X (8, 10)\n",
      "W (10, 3)\n",
      "B (3,)\n",
      "y (8, 3)\n"
     ]
    }
   ],
   "source": [
    "N, n_feature = 8, 10\n",
    "\n",
    "X = tf.random.normal(shape = (N , n_feature))\n",
    "\n",
    "n_neuron = 3\n",
    "dense = Dense(units = n_neuron , activation = 'sigmoid')\n",
    "y = dense(X)\n",
    "\n",
    "W,B = dense.get_weights()\n",
    "\n",
    "print('===== Input / Weight / Bias =====')\n",
    "print('X' , X.shape)\n",
    "print('W', W.shape)\n",
    "print('B', B.shape)\n",
    "print('y', y.shape)"
   ]
  },
  {
   "cell_type": "code",
   "execution_count": 7,
   "id": "9266dc52",
   "metadata": {},
   "outputs": [
    {
     "name": "stdout",
     "output_type": "stream",
     "text": [
      "tf.Tensor(\n",
      "[[ 4.7070524e-01 -2.3363972e-01 -4.5851502e-01 -1.1734897e+00\n",
      "   5.3378981e-01  4.5817485e-01  4.7665110e-01  1.7618481e+00\n",
      "  -4.0884820e-01  2.3885149e-01]\n",
      " [-1.1240257e+00 -1.6397294e+00 -4.1507307e-01 -1.8162349e+00\n",
      "  -1.2270310e+00  5.2455121e-01  7.9637569e-01  1.3210137e+00\n",
      "   2.8832123e-01 -2.3886261e+00]\n",
      " [-8.2660103e-01 -5.7089522e-02  2.1002930e-01 -5.5220261e-02\n",
      "  -1.4567068e-01  8.1170183e-01 -3.7566018e-01  6.6331458e-01\n",
      "   1.2941332e+00  1.8061404e-01]\n",
      " [ 2.1501076e-01  5.4904604e-01 -1.2155801e+00  1.7600247e+00\n",
      "  -7.9174954e-01 -1.1384138e+00 -2.2441571e+00  2.3018834e-01\n",
      "   1.6071954e+00 -1.1176093e-01]\n",
      " [ 1.6399072e-01 -2.5516307e-01 -3.8311392e-01 -3.5246143e-01\n",
      "   3.6658943e-01  4.9448210e-01 -1.9243950e-01 -5.9736139e-01\n",
      "   3.2203069e-01 -3.3553764e-01]\n",
      " [-7.8198844e-01  1.0494427e-01  1.3733869e+00 -6.4147645e-01\n",
      "   5.8335066e-01 -1.4189959e-01 -2.7396547e-04 -1.8970186e-01\n",
      "   1.5510178e+00  6.6919106e-01]\n",
      " [-8.9947098e-01  7.6741087e-01  5.4170787e-01  8.7804355e-02\n",
      "   1.5102154e+00  1.1743269e+00 -2.0579326e+00 -1.3730830e-01\n",
      "  -3.4621468e-01  7.0333803e-01]\n",
      " [-1.4723492e+00  1.4523830e+00 -3.5106704e-01  8.7795901e-01\n",
      "   5.8777410e-01  9.3524277e-02  3.9814529e-01 -3.8053596e-01\n",
      "   9.0575725e-01 -9.8511070e-02]], shape=(8, 10), dtype=float32)\n"
     ]
    }
   ],
   "source": [
    "print(X)"
   ]
  },
  {
   "cell_type": "code",
   "execution_count": 8,
   "id": "4fbcc65e",
   "metadata": {},
   "outputs": [
    {
     "name": "stdout",
     "output_type": "stream",
     "text": [
      "[[ 0.51713383 -0.11236912  0.32149172]\n",
      " [ 0.5982853  -0.31094074 -0.08197951]\n",
      " [ 0.04823166  0.6344043   0.3361174 ]\n",
      " [ 0.597528   -0.6634063  -0.6342977 ]\n",
      " [ 0.05513108 -0.5185607   0.13362539]\n",
      " [-0.02883387  0.07512623  0.06819504]\n",
      " [-0.571998   -0.62948453  0.554765  ]\n",
      " [ 0.6422484  -0.6659772   0.5260639 ]\n",
      " [-0.6006482   0.6018007   0.6574739 ]\n",
      " [-0.20024854 -0.6642439   0.3123235 ]]\n"
     ]
    }
   ],
   "source": [
    "print(W)"
   ]
  },
  {
   "cell_type": "code",
   "execution_count": 9,
   "id": "b3c08765",
   "metadata": {},
   "outputs": [
    {
     "name": "stdout",
     "output_type": "stream",
     "text": [
      "tf.Tensor(\n",
      "[[0.61139715 0.16615793 0.86533743]\n",
      " [0.11381935 0.9329248  0.77515775]\n",
      " [0.33436307 0.70486856 0.7167213 ]\n",
      " [0.87106377 0.620623   0.14351736]\n",
      " [0.3338547  0.6972809  0.48427084]\n",
      " [0.14067285 0.8394749  0.85882735]\n",
      " [0.782115   0.5409805  0.23763767]\n",
      " [0.41301066 0.31523266 0.3550427 ]], shape=(8, 3), dtype=float32)\n"
     ]
    }
   ],
   "source": [
    "print(y)"
   ]
  },
  {
   "cell_type": "code",
   "execution_count": 10,
   "id": "c14df186",
   "metadata": {},
   "outputs": [
    {
     "name": "stdout",
     "output_type": "stream",
     "text": [
      "Y(tensorflow) : \n",
      " [[0.42491907 0.41503334 0.49371675]\n",
      " [0.03010065 0.6067051  0.7788673 ]\n",
      " [0.90485674 0.07454982 0.35991055]\n",
      " [0.91500676 0.5039135  0.02553702]]\n",
      "Y(with matrix multiplication : \n",
      ") [[0.42491907 0.41503334 0.49371675]\n",
      " [0.03010065 0.6067051  0.7788673 ]\n",
      " [0.90485674 0.07454982 0.35991055]\n",
      " [0.91500676 0.5039135  0.02553702]]\n",
      "Y(with dot product) : \n",
      " [[0.42491906 0.41503331 0.49371675]\n",
      " [0.03010065 0.60670505 0.77886723]\n",
      " [0.90485671 0.0745498  0.35991055]\n",
      " [0.91500676 0.50391347 0.02553702]]\n"
     ]
    }
   ],
   "source": [
    "from tensorflow.math import exp\n",
    "from tensorflow.linalg import matmul\n",
    "\n",
    "\n",
    "\n",
    "N, n_feature = 4, 10\n",
    "\n",
    "X = tf.random.normal(shape = (N , n_feature))\n",
    "\n",
    "n_neuron = 3\n",
    "dense = Dense(units = n_neuron , activation = 'sigmoid')\n",
    "y_tf = dense(X)\n",
    "\n",
    "W,B = dense.get_weights()\n",
    "\n",
    "print('Y(tensorflow) : \\n',y_tf.numpy())\n",
    "\n",
    "# calculation with matrix multiplication\n",
    "z = matmul(X , W) + B \n",
    "y_man_matmul = 1 / (1 + exp(-z)) \n",
    "\n",
    "print('Y(with matrix multiplication : \\n)', y_man_matmul.numpy())\n",
    "\n",
    "# calculation with dot products \n",
    "\n",
    "y_man_vec = np.zeros(shape = (N , n_neuron))\n",
    "\n",
    "for x_idx in range(N) :\n",
    "    x = X[x_idx]\n",
    "    \n",
    "    for nu_idx in range(n_neuron) :\n",
    "        w, b = W[: , nu_idx] , B[nu_idx]\n",
    "        \n",
    "        z = tf.reduce_sum( x * w) + b\n",
    "        a = 1 / (1 + np.exp(-z))\n",
    "        y_man_vec[x_idx , nu_idx] = a\n",
    "\n",
    "        \n",
    "print('Y(with dot product) : \\n' , y_man_vec)"
   ]
  },
  {
   "cell_type": "markdown",
   "id": "c0373fa1",
   "metadata": {},
   "source": [
    "##  Cascaded Dence Layers "
   ]
  },
  {
   "cell_type": "markdown",
   "id": "db6b284a",
   "metadata": {},
   "source": [
    "### Shapes of Cascaded Densc Layers"
   ]
  },
  {
   "cell_type": "code",
   "execution_count": 11,
   "id": "d3535967",
   "metadata": {},
   "outputs": [
    {
     "name": "stdout",
     "output_type": "stream",
     "text": [
      "X: (4, 10)\n",
      "\n",
      "W1:  (10, 3)\n",
      "B1:  (3,)\n",
      "A1: (4, 3)\n",
      "\n",
      "W2:  (10, 3)\n",
      "B2:  (3,)\n",
      "Y: (4, 5) \n"
     ]
    }
   ],
   "source": [
    "N , n_feature = 4, 10 \n",
    "X = tf.random.normal(shape = (N ,n_feature))\n",
    "\n",
    "n_neurons = [3, 5]\n",
    "dense1 = Dense(units= n_neurons[0], activation ='sigmoid')\n",
    "dense2 = Dense(units = n_neurons[1], activation = 'sigmoid')\n",
    "\n",
    "# foword propagation\n",
    "\n",
    "A1 = dense1(X)\n",
    "Y = dense2(A1)\n",
    "\n",
    "W1,B1 = dense1.get_weights()\n",
    "W2,B2 = dense1.get_weights()\n",
    "\n",
    "print(\"X: {}\\n\".format (X.shape))\n",
    "\n",
    "print(\"W1: \", W1.shape)\n",
    "print(\"B1: \", B1.shape)\n",
    "print(\"A1: {}\\n\".format(A1. shape))     \n",
    "      \n",
    "\n",
    "print(\"W2: \", W2.shape)\n",
    "print(\"B2: \", B2.shape)\n",
    "print(\"Y: {} \".format(Y.shape))"
   ]
  },
  {
   "cell_type": "markdown",
   "id": "4bc1b775",
   "metadata": {},
   "source": [
    "### Dense Layers with Python List"
   ]
  },
  {
   "cell_type": "code",
   "execution_count": 12,
   "id": "0f7bbb67",
   "metadata": {},
   "outputs": [
    {
     "name": "stdout",
     "output_type": "stream",
     "text": [
      "input :  (4, 10)\n",
      "After dense layers 0\n",
      "(4, 10) \n",
      "\n",
      "After dense layers 1\n",
      "(4, 20) \n",
      "\n",
      "After dense layers 2\n",
      "(4, 30) \n",
      "\n",
      "After dense layers 3\n",
      "(4, 40) \n",
      "\n",
      "After dense layers 4\n",
      "(4, 50) \n",
      "\n",
      "After dense layers 5\n",
      "(4, 60) \n",
      "\n",
      "After dense layers 6\n",
      "(4, 70) \n",
      "\n",
      "After dense layers 7\n",
      "(4, 80) \n",
      "\n",
      "After dense layers 8\n",
      "(4, 90) \n",
      "\n",
      "After dense layers 9\n",
      "(4, 100) \n",
      "\n"
     ]
    }
   ],
   "source": [
    "import tensorflow as tf\n",
    "\n",
    "from tensorflow.keras.layers import Dense\n",
    "\n",
    "N, n_feature = 4, 10\n",
    "\n",
    "n_neurons = [10, 20, 30, 40, 50, 60, 70, 80, 90, 100]\n",
    "\n",
    "dense_layers = list()\n",
    "for n_neuron in n_neurons :\n",
    "    dense = Dense(units = n_neuron , activation ='relu')\n",
    "    dense_layers.append(dense)\n",
    "\n",
    "print('input : ', X.shape)    \n",
    "\n",
    "for dense_idx , dense in enumerate (dense_layers) :\n",
    "    X = dense(X)\n",
    "    print('After dense layers' , dense_idx)\n",
    "    print(X.shape, '\\n')\n",
    "    \n",
    "Y = X "
   ]
  },
  {
   "cell_type": "code",
   "execution_count": 13,
   "id": "f23b7a95",
   "metadata": {},
   "outputs": [
    {
     "name": "stdout",
     "output_type": "stream",
     "text": [
      "Y(Tensorflow): \n",
      " [[0.3321249  0.40362194 0.46206877 0.55513555 0.35578746]\n",
      " [0.34208944 0.4122629  0.43631974 0.5716541  0.34109566]\n",
      " [0.32679465 0.40320945 0.45704907 0.55649024 0.3570157 ]\n",
      " [0.34284243 0.4066453  0.4640146  0.55759394 0.35086858]]\n",
      "Y(Manual): \n",
      " [[0.3321249  0.40362194 0.46206877 0.55513555 0.35578746]\n",
      " [0.34208944 0.4122629  0.43631974 0.5716541  0.34109566]\n",
      " [0.32679465 0.40320945 0.45704907 0.55649024 0.3570157 ]\n",
      " [0.34284243 0.4066453  0.4640146  0.55759394 0.35086858]]\n"
     ]
    }
   ],
   "source": [
    "from tensorflow.math import exp\n",
    "from tensorflow.linalg import matmul\n",
    "\n",
    "from tensorflow.keras.layers import Dense\n",
    "\n",
    "N, n_feature = 4, 10\n",
    "X = tf.random.normal (shape=(N, n_feature))\n",
    "X_cp = tf.identity(X) # X 변수가 할당된 주소를 상이하게 해주기 위해 \n",
    "                   \n",
    "n_neurons = [3, 4, 5]\n",
    "\n",
    "dense_layers = list()\n",
    "for n_neuron in n_neurons:  \n",
    "    dense = Dense(units=n_neuron, activation= 'sigmoid')\n",
    "    dense_layers.append(dense)\n",
    "\n",
    "W, B= list(), list()\n",
    "for dense_idx, dense in enumerate(dense_layers):\n",
    "    X = dense(X)\n",
    "    w,b = dense.get_weights()\n",
    "\n",
    "    W.append(w)\n",
    "    B.append(b)\n",
    "print(\"Y(Tensorflow): \\n\", X.numpy())\n",
    "\n",
    "for layer_idx in range(len(n_neurons)):\n",
    "    w, b = W[layer_idx], B[layer_idx]\n",
    "  \n",
    "    X_cp = matmul(X_cp, w) + b\n",
    "    X_cp = 1/(1 + exp(-X_cp))\n",
    "    \n",
    "print(\"Y(Manual): \\n\", X_cp.numpy())"
   ]
  }
 ],
 "metadata": {
  "kernelspec": {
   "display_name": "Python 3",
   "language": "python",
   "name": "python3"
  },
  "language_info": {
   "codemirror_mode": {
    "name": "ipython",
    "version": 3
   },
   "file_extension": ".py",
   "mimetype": "text/x-python",
   "name": "python",
   "nbconvert_exporter": "python",
   "pygments_lexer": "ipython3",
   "version": "3.8.11"
  }
 },
 "nbformat": 4,
 "nbformat_minor": 5
}
