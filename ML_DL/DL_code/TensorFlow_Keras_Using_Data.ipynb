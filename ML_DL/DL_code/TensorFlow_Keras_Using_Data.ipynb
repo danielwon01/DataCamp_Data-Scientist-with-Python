{
 "cells": [
  {
   "cell_type": "code",
   "execution_count": 1,
   "id": "0668d340",
   "metadata": {},
   "outputs": [],
   "source": [
    "import numpy as np\n",
    "import pandas as pd\n",
    "import seaborn as sns\n",
    "import matplotlib.pyplot as plt\n",
    "import warnings\n",
    "warnings.filterwarnings(action='ignore')"
   ]
  },
  {
   "cell_type": "code",
   "execution_count": 2,
   "id": "394f7acc",
   "metadata": {},
   "outputs": [],
   "source": [
    "import tensorflow as tf\n",
    "from tensorflow import keras"
   ]
  },
  {
   "cell_type": "markdown",
   "id": "a6822476",
   "metadata": {},
   "source": [
    "### FashoinMNIST data 불러오기"
   ]
  },
  {
   "cell_type": "code",
   "execution_count": 3,
   "id": "6506bad8",
   "metadata": {},
   "outputs": [],
   "source": [
    "mnist = keras.datasets.fashion_mnist\n",
    "class_names = ['T-shirt/top', 'Trouser', 'Pullover', 'Dress', 'Coat', 'Sandal', 'Shirt', 'Sneaker', 'Bag', 'Ankle boot']\n",
    "\n",
    "(train_images, train_labels), (test_images, test_labels) = mnist.load_data()"
   ]
  },
  {
   "cell_type": "code",
   "execution_count": 4,
   "id": "6c15ee46",
   "metadata": {},
   "outputs": [
    {
     "name": "stdout",
     "output_type": "stream",
     "text": [
      "(60000, 28, 28) (60000,)\n"
     ]
    }
   ],
   "source": [
    "# train_images, train_labels의 shape 확인\n",
    "print(train_images.shape, train_labels.shape)"
   ]
  },
  {
   "cell_type": "code",
   "execution_count": 5,
   "id": "88dd712b",
   "metadata": {},
   "outputs": [
    {
     "name": "stdout",
     "output_type": "stream",
     "text": [
      "(10000, 28, 28) (10000,)\n"
     ]
    }
   ],
   "source": [
    "# test_images, test_labels의 shape 확인\n",
    "print(test_images.shape, test_labels.shape)"
   ]
  },
  {
   "cell_type": "code",
   "execution_count": 6,
   "id": "26d2841d",
   "metadata": {},
   "outputs": [
    {
     "data": {
      "text/plain": [
       "numpy.ndarray"
      ]
     },
     "execution_count": 6,
     "metadata": {},
     "output_type": "execute_result"
    }
   ],
   "source": [
    "type(train_images)"
   ]
  },
  {
   "cell_type": "code",
   "execution_count": 7,
   "id": "ae9dd75a",
   "metadata": {},
   "outputs": [
    {
     "data": {
      "text/plain": [
       "{0: 6000,\n",
       " 1: 6000,\n",
       " 2: 6000,\n",
       " 3: 6000,\n",
       " 4: 6000,\n",
       " 5: 6000,\n",
       " 6: 6000,\n",
       " 7: 6000,\n",
       " 8: 6000,\n",
       " 9: 6000}"
      ]
     },
     "execution_count": 7,
     "metadata": {},
     "output_type": "execute_result"
    }
   ],
   "source": [
    "# training set의 각 class 별 image 수 확인\n",
    "unique, counts = np.unique(train_labels, axis=-1, return_counts=True)\n",
    "dict(zip(unique, counts))"
   ]
  },
  {
   "cell_type": "code",
   "execution_count": 8,
   "id": "6ab38e3d",
   "metadata": {},
   "outputs": [
    {
     "data": {
      "text/plain": [
       "{0: 1000,\n",
       " 1: 1000,\n",
       " 2: 1000,\n",
       " 3: 1000,\n",
       " 4: 1000,\n",
       " 5: 1000,\n",
       " 6: 1000,\n",
       " 7: 1000,\n",
       " 8: 1000,\n",
       " 9: 1000}"
      ]
     },
     "execution_count": 8,
     "metadata": {},
     "output_type": "execute_result"
    }
   ],
   "source": [
    "# test set의 각 class 별 image 수 확인\n",
    "unique, counts = np.unique(test_labels, axis=-1, return_counts=True)\n",
    "dict(zip(unique, counts))"
   ]
  },
  {
   "cell_type": "markdown",
   "id": "60059735",
   "metadata": {},
   "source": [
    "### Data 시각화하기"
   ]
  },
  {
   "cell_type": "code",
   "execution_count": 10,
   "id": "e39dffc3",
   "metadata": {},
   "outputs": [
    {
     "data": {
      "image/png": "[encoded data removed]",
      "text/plain": [
       "<Figure size 576x576 with 9 Axes>"
      ]
     },
     "metadata": {},
     "output_type": "display_data"
    }
   ],
   "source": [
    "plt.figure(figsize = (8,8))\n",
    "\n",
    "for i in range(9) :\n",
    "    plt.subplot(3,3, i+1)\n",
    "    plt.xticks([])\n",
    "    plt.yticks([])\n",
    "    plt.grid(False)\n",
    "    plt.imshow(train_images[i], cmap='gray')\n",
    "    plt.title(class_names[train_labels[i]])\n",
    "    \n",
    "plt.show()"
   ]
  },
  {
   "cell_type": "markdown",
   "id": "0122261b",
   "metadata": {},
   "source": [
    "### Data 전처리"
   ]
  },
  {
   "cell_type": "code",
   "execution_count": 12,
   "id": "9b3d62d4",
   "metadata": {},
   "outputs": [],
   "source": [
    "# image를 0~1사이 값으로 만들기 위하여 255로 나누어줌\n",
    "# 픽셀값이 0~255 이기 때문에 255로 나누어 값 생성 \n",
    "train_image = train_images.astype(np.float32) / 255.\n",
    "test_image = test_images.astype(np.float32) / 255.\n",
    "\n",
    "# one-hot encoding \n",
    "train_labels = keras.utils.to_categorical(train_labels, 10)\n",
    "test_labels = keras.utils.to_categorical(test_labels, 10)"
   ]
  },
  {
   "cell_type": "code",
   "execution_count": 13,
   "id": "39c76cbc",
   "metadata": {},
   "outputs": [
    {
     "name": "stdout",
     "output_type": "stream",
     "text": [
      "[[[0. 0. 0. ... 0. 0. 0.]\n",
      "  [0. 0. 0. ... 0. 0. 0.]\n",
      "  [0. 0. 0. ... 0. 0. 0.]\n",
      "  ...\n",
      "  [0. 0. 0. ... 0. 0. 0.]\n",
      "  [0. 0. 0. ... 0. 0. 0.]\n",
      "  [0. 0. 0. ... 0. 0. 0.]]\n",
      "\n",
      " [[0. 0. 0. ... 0. 0. 0.]\n",
      "  [0. 0. 0. ... 0. 0. 0.]\n",
      "  [0. 0. 0. ... 0. 0. 0.]\n",
      "  ...\n",
      "  [0. 0. 0. ... 0. 0. 0.]\n",
      "  [0. 0. 0. ... 0. 0. 0.]\n",
      "  [0. 0. 0. ... 0. 0. 0.]]\n",
      "\n",
      " [[0. 0. 0. ... 0. 0. 0.]\n",
      "  [0. 0. 0. ... 0. 0. 0.]\n",
      "  [0. 0. 0. ... 0. 0. 0.]\n",
      "  ...\n",
      "  [0. 0. 0. ... 0. 0. 0.]\n",
      "  [0. 0. 0. ... 0. 0. 0.]\n",
      "  [0. 0. 0. ... 0. 0. 0.]]\n",
      "\n",
      " ...\n",
      "\n",
      " [[0. 0. 0. ... 0. 0. 0.]\n",
      "  [0. 0. 0. ... 0. 0. 0.]\n",
      "  [0. 0. 0. ... 0. 0. 0.]\n",
      "  ...\n",
      "  [0. 0. 0. ... 0. 0. 0.]\n",
      "  [0. 0. 0. ... 0. 0. 0.]\n",
      "  [0. 0. 0. ... 0. 0. 0.]]\n",
      "\n",
      " [[0. 0. 0. ... 0. 0. 0.]\n",
      "  [0. 0. 0. ... 0. 0. 0.]\n",
      "  [0. 0. 0. ... 0. 0. 0.]\n",
      "  ...\n",
      "  [0. 0. 0. ... 0. 0. 0.]\n",
      "  [0. 0. 0. ... 0. 0. 0.]\n",
      "  [0. 0. 0. ... 0. 0. 0.]]\n",
      "\n",
      " [[0. 0. 0. ... 0. 0. 0.]\n",
      "  [0. 0. 0. ... 0. 0. 0.]\n",
      "  [0. 0. 0. ... 0. 0. 0.]\n",
      "  ...\n",
      "  [0. 0. 0. ... 0. 0. 0.]\n",
      "  [0. 0. 0. ... 0. 0. 0.]\n",
      "  [0. 0. 0. ... 0. 0. 0.]]] [[0. 0. 0. ... 0. 0. 1.]\n",
      " [1. 0. 0. ... 0. 0. 0.]\n",
      " [1. 0. 0. ... 0. 0. 0.]\n",
      " ...\n",
      " [0. 0. 0. ... 0. 0. 0.]\n",
      " [1. 0. 0. ... 0. 0. 0.]\n",
      " [0. 0. 0. ... 0. 0. 0.]]\n"
     ]
    }
   ],
   "source": [
    "print(train_image , train_labels)"
   ]
  },
  {
   "cell_type": "markdown",
   "id": "91f646f3",
   "metadata": {},
   "source": [
    "### Dataset 만들기"
   ]
  },
  {
   "cell_type": "code",
   "execution_count": 14,
   "id": "49c61ac4",
   "metadata": {},
   "outputs": [],
   "source": [
    "# from_tensor_slices - numpy 배열이 있고 그걸 tensorflow로 넣는 작업 \n",
    "# 데이터를 특성(feature)과 라벨(label)로 나누어 사용하는 경우 아래와 같이 \n",
    "# batch 학습 시 이미지가 여러개가 한번에 들어가게 되는데 몇개 씩 넣어줄 건지 정해주는 것 \n",
    "train_dataset = tf.data.Dataset.from_tensor_slices((train_images, train_labels)).shuffle(\n",
    "                buffer_size=100000).batch(64)\n",
    "\n",
    "test_dataset = tf.data.Dataset.from_tensor_slices((test_images, test_labels)).batch(64)"
   ]
  },
  {
   "cell_type": "code",
   "execution_count": 15,
   "id": "8f83d6da",
   "metadata": {},
   "outputs": [
    {
     "name": "stdout",
     "output_type": "stream",
     "text": [
      "Feature batch shape: (64, 28, 28)\n",
      "Labels batch shape: (64, 10)\n"
     ]
    },
    {
     "data": {
      "image/png": "[encoded data removed]",
      "text/plain": [
       "<Figure size 432x288 with 1 Axes>"
      ]
     },
     "metadata": {
      "needs_background": "light"
     },
     "output_type": "display_data"
    },
    {
     "name": "stdout",
     "output_type": "stream",
     "text": [
      "Label: [0. 0. 0. 0. 0. 0. 1. 0. 0. 0.]\n"
     ]
    }
   ],
   "source": [
    "# Dataset을 통해 반복하기(iterate)\n",
    "# 이미지와 정답(label)을 표시합니다.\n",
    "imgs, lbs = next(iter(train_dataset))\n",
    "print(f\"Feature batch shape: {imgs.shape}\")\n",
    "print(f\"Labels batch shape: {lbs.shape}\")\n",
    "\n",
    "img = imgs[0]\n",
    "lb = lbs[0]\n",
    "plt.imshow(img, cmap='gray')\n",
    "plt.show()\n",
    "print(f\"Label: {lb}\")"
   ]
  },
  {
   "cell_type": "markdown",
   "id": "ce0518c3",
   "metadata": {},
   "source": [
    "### Custom Dataset 만들기"
   ]
  },
  {
   "cell_type": "code",
   "execution_count": 16,
   "id": "b38d80b5",
   "metadata": {},
   "outputs": [
    {
     "name": "stdout",
     "output_type": "stream",
     "text": [
      "[0 1 2 3 4 5 6 7 8 9]\n",
      "<TensorSliceDataset element_spec=TensorSpec(shape=(), dtype=tf.int64, name=None)>\n",
      "tf.Tensor(0, shape=(), dtype=int64)\n",
      "tf.Tensor(1, shape=(), dtype=int64)\n",
      "tf.Tensor(2, shape=(), dtype=int64)\n",
      "tf.Tensor(3, shape=(), dtype=int64)\n",
      "tf.Tensor(4, shape=(), dtype=int64)\n",
      "tf.Tensor(5, shape=(), dtype=int64)\n",
      "tf.Tensor(6, shape=(), dtype=int64)\n",
      "tf.Tensor(7, shape=(), dtype=int64)\n",
      "tf.Tensor(8, shape=(), dtype=int64)\n",
      "tf.Tensor(9, shape=(), dtype=int64)\n"
     ]
    }
   ],
   "source": [
    "a = np.arange(10)\n",
    "print(a)\n",
    "\n",
    "ds_tensors = tf.data.Dataset.from_tensor_slices(a)\n",
    "print(ds_tensors)\n",
    "\n",
    "for x in ds_tensors:\n",
    "    print (x)"
   ]
  },
  {
   "cell_type": "code",
   "execution_count": 17,
   "id": "35b69c10",
   "metadata": {},
   "outputs": [],
   "source": [
    "# data 전처리(변환), shuffle, batch 추가\n",
    "ds_tensors = ds_tensors.map(tf.square).shuffle(10).batch(2)"
   ]
  },
  {
   "cell_type": "code",
   "execution_count": 19,
   "id": "1edc5c73",
   "metadata": {},
   "outputs": [
    {
     "name": "stdout",
     "output_type": "stream",
     "text": [
      "tf.Tensor([ 0 49], shape=(2,), dtype=int64)\n",
      "tf.Tensor([ 9 36], shape=(2,), dtype=int64)\n",
      "tf.Tensor([81 16], shape=(2,), dtype=int64)\n",
      "tf.Tensor([25 64], shape=(2,), dtype=int64)\n",
      "tf.Tensor([4 1], shape=(2,), dtype=int64)\n",
      "==================================================\n",
      "tf.Tensor([ 4 81], shape=(2,), dtype=int64)\n",
      "tf.Tensor([16  9], shape=(2,), dtype=int64)\n",
      "tf.Tensor([25 49], shape=(2,), dtype=int64)\n",
      "tf.Tensor([0 1], shape=(2,), dtype=int64)\n",
      "tf.Tensor([36 64], shape=(2,), dtype=int64)\n",
      "==================================================\n",
      "tf.Tensor([64 49], shape=(2,), dtype=int64)\n",
      "tf.Tensor([ 4 36], shape=(2,), dtype=int64)\n",
      "tf.Tensor([1 0], shape=(2,), dtype=int64)\n",
      "tf.Tensor([ 9 25], shape=(2,), dtype=int64)\n",
      "tf.Tensor([16 81], shape=(2,), dtype=int64)\n",
      "==================================================\n"
     ]
    }
   ],
   "source": [
    "for _ in range(3) :\n",
    "    for x in ds_tensors :\n",
    "        print(x)\n",
    "    print('='*50)"
   ]
  },
  {
   "cell_type": "markdown",
   "id": "086c6b41",
   "metadata": {},
   "source": [
    "## Model"
   ]
  },
  {
   "cell_type": "markdown",
   "id": "078e5abf",
   "metadata": {},
   "source": [
    "### Keras Sequential API 사용"
   ]
  },
  {
   "cell_type": "code",
   "execution_count": 20,
   "id": "f3cc1d59",
   "metadata": {},
   "outputs": [],
   "source": [
    "def create_seq_model():\n",
    "    model = keras.Sequential()\n",
    "    # Flatten, 멀리레이어를 1차원 벡터로 변환 \n",
    "    model.add(keras.layers.Flatten(input_shape=(28, 28)))\n",
    "    model.add(keras.layers.Dense(128, activation='relu'))\n",
    "    # Dropout, 오버피팅 제어 \n",
    "    model.add(keras.layers.Dropout(0.2))\n",
    "    model.add(keras.layers.Dense(10, activation='softmax'))\n",
    "    return model"
   ]
  },
  {
   "cell_type": "code",
   "execution_count": 21,
   "id": "39f0d974",
   "metadata": {},
   "outputs": [],
   "source": [
    "seq_model = create_seq_model()"
   ]
  },
  {
   "cell_type": "code",
   "execution_count": 22,
   "id": "ef10c740",
   "metadata": {},
   "outputs": [
    {
     "name": "stdout",
     "output_type": "stream",
     "text": [
      "Model: \"sequential\"\n",
      "_________________________________________________________________\n",
      " Layer (type)                Output Shape              Param #   \n",
      "=================================================================\n",
      " flatten (Flatten)           (None, 784)               0         \n",
      "                                                                 \n",
      " dense (Dense)               (None, 128)               100480    \n",
      "                                                                 \n",
      " dropout (Dropout)           (None, 128)               0         \n",
      "                                                                 \n",
      " dense_1 (Dense)             (None, 10)                1290      \n",
      "                                                                 \n",
      "=================================================================\n",
      "Total params: 101,770\n",
      "Trainable params: 101,770\n",
      "Non-trainable params: 0\n",
      "_________________________________________________________________\n"
     ]
    }
   ],
   "source": [
    "seq_model.summary()"
   ]
  },
  {
   "cell_type": "markdown",
   "id": "27237fd5",
   "metadata": {},
   "source": [
    "### Keras Functional API 사용"
   ]
  },
  {
   "cell_type": "code",
   "execution_count": 23,
   "id": "97b36c5d",
   "metadata": {},
   "outputs": [],
   "source": [
    "def create_func_model():\n",
    "    inputs = keras.Input(shape=(28,28))\n",
    "    flatten = keras.layers.Flatten()(inputs)\n",
    "    dense = keras.layers.Dense(128, activation='relu')(flatten)\n",
    "    drop = keras.layers.Dropout(0.2)(dense)\n",
    "    outputs = keras.layers.Dense(10, activation='softmax')(drop)\n",
    "    model = keras.Model(inputs=inputs, outputs=outputs)\n",
    "    return model"
   ]
  },
  {
   "cell_type": "code",
   "execution_count": 24,
   "id": "b43f1f6f",
   "metadata": {},
   "outputs": [],
   "source": [
    "func_model = create_func_model()"
   ]
  },
  {
   "cell_type": "code",
   "execution_count": 25,
   "id": "c27fdbba",
   "metadata": {},
   "outputs": [
    {
     "name": "stdout",
     "output_type": "stream",
     "text": [
      "Model: \"model\"\n",
      "_________________________________________________________________\n",
      " Layer (type)                Output Shape              Param #   \n",
      "=================================================================\n",
      " input_1 (InputLayer)        [(None, 28, 28)]          0         \n",
      "                                                                 \n",
      " flatten_1 (Flatten)         (None, 784)               0         \n",
      "                                                                 \n",
      " dense_2 (Dense)             (None, 128)               100480    \n",
      "                                                                 \n",
      " dropout_1 (Dropout)         (None, 128)               0         \n",
      "                                                                 \n",
      " dense_3 (Dense)             (None, 10)                1290      \n",
      "                                                                 \n",
      "=================================================================\n",
      "Total params: 101,770\n",
      "Trainable params: 101,770\n",
      "Non-trainable params: 0\n",
      "_________________________________________________________________\n"
     ]
    }
   ],
   "source": [
    "func_model.summary()"
   ]
  },
  {
   "cell_type": "markdown",
   "id": "b1ae823b",
   "metadata": {},
   "source": [
    "### Model Class Subclassing 사용"
   ]
  },
  {
   "cell_type": "code",
   "execution_count": 26,
   "id": "3d7e83cf",
   "metadata": {},
   "outputs": [],
   "source": [
    "class SubClassModel(keras.Model):\n",
    "    def __init__(self):\n",
    "        super(SubClassModel, self).__init__()\n",
    "        self.flatten = keras.layers.Flatten(input_shape=(28, 28))\n",
    "        self.dense1 = keras.layers.Dense(128, activation='relu')\n",
    "        self.drop = keras.layers.Dropout(0.2)\n",
    "        self.dense2 = keras.layers.Dense(10, activation='softmax')\n",
    "    def call(self, x, training=False):\n",
    "        x = self.flatten(x)\n",
    "        x = self.dense1(x)\n",
    "        x = self.drop(x)\n",
    "        return self.dense2(x)"
   ]
  },
  {
   "cell_type": "code",
   "execution_count": 27,
   "id": "977ed307",
   "metadata": {},
   "outputs": [],
   "source": [
    "subclass_model = SubClassModel()"
   ]
  },
  {
   "cell_type": "code",
   "execution_count": 28,
   "id": "48821576",
   "metadata": {},
   "outputs": [
    {
     "name": "stdout",
     "output_type": "stream",
     "text": [
      "Model: \"sub_class_model\"\n",
      "_________________________________________________________________\n",
      " Layer (type)                Output Shape              Param #   \n",
      "=================================================================\n",
      " flatten_2 (Flatten)         multiple                  0         \n",
      "                                                                 \n",
      " dense_4 (Dense)             multiple                  100480    \n",
      "                                                                 \n",
      " dropout_2 (Dropout)         multiple                  0         \n",
      "                                                                 \n",
      " dense_5 (Dense)             multiple                  1290      \n",
      "                                                                 \n",
      "=================================================================\n",
      "Total params: 101,770\n",
      "Trainable params: 101,770\n",
      "Non-trainable params: 0\n",
      "_________________________________________________________________\n"
     ]
    }
   ],
   "source": [
    "inputs = tf.zeros((1, 28, 28))\n",
    "subclass_model(inputs)\n",
    "subclass_model.summary()"
   ]
  },
  {
   "cell_type": "code",
   "execution_count": 29,
   "id": "d317b229",
   "metadata": {},
   "outputs": [
    {
     "name": "stdout",
     "output_type": "stream",
     "text": [
      "Predicted class: [4]\n"
     ]
    }
   ],
   "source": [
    "# 가상의 data 만들어서 예측해보기\n",
    "inputs = tf.random.normal((1, 28, 28))\n",
    "outputs = subclass_model(inputs)\n",
    "pred = tf.argmax(outputs, -1)\n",
    "print(f\"Predicted class: {pred}\")"
   ]
  },
  {
   "cell_type": "markdown",
   "id": "7a5728ae",
   "metadata": {},
   "source": [
    "## Traing / Validation"
   ]
  },
  {
   "cell_type": "markdown",
   "id": "c19acf95",
   "metadata": {},
   "source": [
    "### Keras API 사용"
   ]
  },
  {
   "cell_type": "code",
   "execution_count": 27,
   "id": "b465f1c3",
   "metadata": {},
   "outputs": [],
   "source": [
    "learning_rate = 0.001\n",
    "seq_model.compile(optimizer= tf.keras.optimizers.Adam(learning_rate),\n",
    "                    loss = 'categorical_crossentropy',\n",
    "                    metrics =['accuracy'])"
   ]
  },
  {
   "cell_type": "code",
   "execution_count": 30,
   "id": "253f4346",
   "metadata": {},
   "outputs": [
    {
     "name": "stdout",
     "output_type": "stream",
     "text": [
      "Epoch 1/10\n",
      "938/938 [==============================] - 12s 10ms/step - loss: 4.3288 - accuracy: 0.6085 - val_loss: 0.8691 - val_accuracy: 0.6734\n",
      "Epoch 2/10\n",
      "938/938 [==============================] - 9s 10ms/step - loss: 0.9126 - accuracy: 0.6497 - val_loss: 0.7198 - val_accuracy: 0.7212\n",
      "Epoch 3/10\n",
      "938/938 [==============================] - 10s 10ms/step - loss: 0.7948 - accuracy: 0.6941 - val_loss: 0.6876 - val_accuracy: 0.7616\n",
      "Epoch 4/10\n",
      "938/938 [==============================] - 11s 11ms/step - loss: 0.7331 - accuracy: 0.7205 - val_loss: 0.6132 - val_accuracy: 0.7770\n",
      "Epoch 5/10\n",
      "938/938 [==============================] - 10s 10ms/step - loss: 0.6803 - accuracy: 0.7449 - val_loss: 0.5978 - val_accuracy: 0.7984\n",
      "Epoch 6/10\n",
      "938/938 [==============================] - 10s 10ms/step - loss: 0.6521 - accuracy: 0.7588 - val_loss: 0.6107 - val_accuracy: 0.7986\n",
      "Epoch 7/10\n",
      "938/938 [==============================] - 11s 11ms/step - loss: 0.6547 - accuracy: 0.7596 - val_loss: 0.5705 - val_accuracy: 0.7976\n",
      "Epoch 8/10\n",
      "938/938 [==============================] - 10s 11ms/step - loss: 0.6228 - accuracy: 0.7726 - val_loss: 0.5785 - val_accuracy: 0.7781\n",
      "Epoch 9/10\n",
      "938/938 [==============================] - 10s 11ms/step - loss: 0.6070 - accuracy: 0.7789 - val_loss: 0.5094 - val_accuracy: 0.8233\n",
      "Epoch 10/10\n",
      "938/938 [==============================] - 10s 11ms/step - loss: 0.5911 - accuracy: 0.7852 - val_loss: 0.5100 - val_accuracy: 0.8315\n"
     ]
    }
   ],
   "source": [
    "history = seq_model.fit(train_dataset , epochs=  10 , validation_data = test_dataset)"
   ]
  },
  {
   "cell_type": "code",
   "execution_count": 31,
   "id": "1e93eb14",
   "metadata": {},
   "outputs": [
    {
     "data": {
      "image/png": "[encoded data removed]",
      "text/plain": [
       "<Figure size 432x288 with 1 Axes>"
      ]
     },
     "metadata": {
      "needs_background": "light"
     },
     "output_type": "display_data"
    }
   ],
   "source": [
    "# plot losses \n",
    "\n",
    "plt.plot(history.history['loss'],'b-', label = 'loss')\n",
    "plt.plot(history.history['val_loss'],'r--', label = 'val_loss')\n",
    "plt.xlabel('Epoch')\n",
    "plt.legend()\n",
    "plt.show()"
   ]
  },
  {
   "cell_type": "code",
   "execution_count": 32,
   "id": "fa43dc62",
   "metadata": {},
   "outputs": [
    {
     "data": {
      "image/png": "[encoded data removed]",
      "text/plain": [
       "<Figure size 432x288 with 1 Axes>"
      ]
     },
     "metadata": {
      "needs_background": "light"
     },
     "output_type": "display_data"
    }
   ],
   "source": [
    "## Plot Accuracy\n",
    "plt.plot(history.history['accuracy'], 'b-', label='acc')\n",
    "plt.plot(history.history['val_accuracy'], 'r--', label='val_acc')\n",
    "plt.xlabel('Epoch')\n",
    "plt.legend()\n",
    "plt.show()"
   ]
  },
  {
   "cell_type": "markdown",
   "id": "f789c3ec",
   "metadata": {},
   "source": [
    "### GradientTape 사용"
   ]
  },
  {
   "cell_type": "code",
   "execution_count": 33,
   "id": "22b2048c",
   "metadata": {},
   "outputs": [],
   "source": [
    "# loss function\n",
    "\n",
    "loss_object = keras.losses.CategoricalCrossentropy()"
   ]
  },
  {
   "cell_type": "code",
   "execution_count": 34,
   "id": "926348d1",
   "metadata": {},
   "outputs": [],
   "source": [
    "# optimizer \n",
    "learning_rate = 0.001\n",
    "optimizer = keras.optimizers.Adam(learning_rate = learning_rate)"
   ]
  },
  {
   "cell_type": "code",
   "execution_count": 35,
   "id": "1e626818",
   "metadata": {},
   "outputs": [],
   "source": [
    "# loss , accuracy 계산 \n",
    "\n",
    "train_loss = keras.metrics.Mean(name = 'train_loss')\n",
    "train_accuracy = keras.metrics.CategoricalAccuracy(name = 'train_accuracy')\n",
    "\n",
    "test_loss = keras.metrics.Mean(name='test_loss')\n",
    "test_accuracy = keras.metrics.CategoricalAccuracy(name='test_accuracy')"
   ]
  },
  {
   "cell_type": "code",
   "execution_count": 40,
   "id": "b28f9ad0",
   "metadata": {},
   "outputs": [],
   "source": [
    "@tf.function # 데코레이터 속도를 높여주기 위해\n",
    "\n",
    "def train_step(model, images, labels) :\n",
    " with tf.GradientTape() as tape:\n",
    "    # training=True is only needed if there are layers with different\n",
    "    # behavior during training versus inference (e.g. Dropout).\n",
    "    predictions = model(images, training=True)\n",
    "    loss = loss_object(labels, predictions)\n",
    " gradients = tape.gradient(loss, model.trainable_variables)\n",
    " optimizer.apply_gradients(zip(gradients, model.trainable_variables))\n",
    "\n",
    " train_loss(loss)\n",
    " train_accuracy(labels, predictions)"
   ]
  },
  {
   "cell_type": "code",
   "execution_count": 41,
   "id": "5344ad78",
   "metadata": {},
   "outputs": [],
   "source": [
    "@tf.function\n",
    "def test_step(model, images, labels):\n",
    "  # training=False is only needed if there are layers with different\n",
    "  # behavior during training versus inference (e.g. Dropout).\n",
    "  predictions = model(images, training=False)\n",
    "  t_loss = loss_object(labels, predictions)\n",
    "\n",
    "  test_loss(t_loss)\n",
    "  test_accuracy(labels, predictions)"
   ]
  },
  {
   "cell_type": "code",
   "execution_count": 42,
   "id": "c2bf2bfe",
   "metadata": {},
   "outputs": [
    {
     "name": "stdout",
     "output_type": "stream",
     "text": [
      "Epoch 1, Loss: 4.0126633644104, Accuracy: 62.22833251953125, Test Loss: 0.826589047908783, Test Accuracy: 68.47000122070312\n",
      "Epoch 2, Loss: 0.8513519763946533, Accuracy: 67.22833251953125, Test Loss: 0.7382464408874512, Test Accuracy: 71.93000030517578\n",
      "Epoch 3, Loss: 0.7351130843162537, Accuracy: 72.59166717529297, Test Loss: 0.6402825117111206, Test Accuracy: 76.52000427246094\n",
      "Epoch 4, Loss: 0.6679299473762512, Accuracy: 74.42166900634766, Test Loss: 0.5724889039993286, Test Accuracy: 79.69000244140625\n",
      "Epoch 5, Loss: 0.6308379173278809, Accuracy: 75.84833526611328, Test Loss: 0.5486971735954285, Test Accuracy: 81.1100082397461\n",
      "Epoch 6, Loss: 0.6257153153419495, Accuracy: 76.56666564941406, Test Loss: 0.5175210237503052, Test Accuracy: 81.66000366210938\n",
      "Epoch 7, Loss: 0.6168609261512756, Accuracy: 76.68000030517578, Test Loss: 0.5435712337493896, Test Accuracy: 80.8800048828125\n",
      "Epoch 8, Loss: 0.6177356839179993, Accuracy: 76.54666900634766, Test Loss: 0.6138946413993835, Test Accuracy: 80.59000396728516\n",
      "Epoch 9, Loss: 0.6127327680587769, Accuracy: 76.97166442871094, Test Loss: 0.5357788801193237, Test Accuracy: 82.17000579833984\n",
      "Epoch 10, Loss: 0.5890440344810486, Accuracy: 77.76166534423828, Test Loss: 0.5278530120849609, Test Accuracy: 81.97000885009766\n"
     ]
    }
   ],
   "source": [
    "EPOCHS = 10\n",
    "\n",
    "for epoch in range(EPOCHS):\n",
    "  # Reset the metrics at the start of the next epoch\n",
    "  train_loss.reset_states()\n",
    "  train_accuracy.reset_states()\n",
    "  test_loss.reset_states()\n",
    "  test_accuracy.reset_states()\n",
    "\n",
    "  for images, labels in train_dataset:\n",
    "    train_step(func_model, images, labels)\n",
    "\n",
    "  for test_images, test_labels in test_dataset:\n",
    "    test_step(func_model, test_images, test_labels)\n",
    "\n",
    "  print(\n",
    "    f'Epoch {epoch + 1}, '\n",
    "    f'Loss: {train_loss.result()}, '\n",
    "    f'Accuracy: {train_accuracy.result() * 100}, '\n",
    "    f'Test Loss: {test_loss.result()}, '\n",
    "    f'Test Accuracy: {test_accuracy.result() * 100}'\n",
    "  )"
   ]
  },
  {
   "cell_type": "markdown",
   "id": "bb448581",
   "metadata": {},
   "source": [
    "## Model 저장하고 불러오기"
   ]
  },
  {
   "cell_type": "markdown",
   "id": "b42868b0",
   "metadata": {},
   "source": [
    "### parameter 만 저장하고 불러오기 "
   ]
  },
  {
   "cell_type": "code",
   "execution_count": 43,
   "id": "a7f12831",
   "metadata": {},
   "outputs": [],
   "source": [
    "seq_model.save_weights('seq_model.ckpt')"
   ]
  },
  {
   "cell_type": "code",
   "execution_count": 44,
   "id": "fe64b751",
   "metadata": {},
   "outputs": [],
   "source": [
    "seq_model_2 = create_seq_model()\n",
    "seq_model_2.compile(optimizer=tf.keras.optimizers.Adam(learning_rate),\n",
    "              loss='categorical_crossentropy',\n",
    "              metrics=['accuracy'])"
   ]
  },
  {
   "cell_type": "code",
   "execution_count": 45,
   "id": "2682f449",
   "metadata": {},
   "outputs": [
    {
     "name": "stdout",
     "output_type": "stream",
     "text": [
      "157/157 [==============================] - 1s 8ms/step - loss: 320.3085 - accuracy: 0.0886\n"
     ]
    },
    {
     "data": {
      "text/plain": [
       "[320.3084716796875, 0.08860000222921371]"
      ]
     },
     "execution_count": 45,
     "metadata": {},
     "output_type": "execute_result"
    }
   ],
   "source": [
    "seq_model_2.evaluate(test_dataset)"
   ]
  },
  {
   "cell_type": "code",
   "execution_count": 46,
   "id": "33d518ba",
   "metadata": {},
   "outputs": [
    {
     "data": {
      "text/plain": [
       "<tensorflow.python.training.tracking.util.CheckpointLoadStatus at 0x299805700>"
      ]
     },
     "execution_count": 46,
     "metadata": {},
     "output_type": "execute_result"
    }
   ],
   "source": [
    "seq_model_2.load_weights('seq_model.ckpt')"
   ]
  },
  {
   "cell_type": "code",
   "execution_count": 47,
   "id": "9274ddcd",
   "metadata": {},
   "outputs": [
    {
     "name": "stdout",
     "output_type": "stream",
     "text": [
      "157/157 [==============================] - 1s 8ms/step - loss: 0.5100 - accuracy: 0.8315\n"
     ]
    },
    {
     "data": {
      "text/plain": [
       "[0.5099893808364868, 0.8315000534057617]"
      ]
     },
     "execution_count": 47,
     "metadata": {},
     "output_type": "execute_result"
    }
   ],
   "source": [
    "seq_model_2.evaluate(test_dataset)"
   ]
  },
  {
   "cell_type": "markdown",
   "id": "d1779bea",
   "metadata": {},
   "source": [
    "### Model 전체를 저장하고 불러오기"
   ]
  },
  {
   "cell_type": "code",
   "execution_count": 48,
   "id": "ede011a9",
   "metadata": {},
   "outputs": [
    {
     "name": "stdout",
     "output_type": "stream",
     "text": [
      "INFO:tensorflow:Assets written to: seq_model/assets\n"
     ]
    }
   ],
   "source": [
    "seq_model.save('seq_model')"
   ]
  },
  {
   "cell_type": "code",
   "execution_count": 49,
   "id": "13da6ac4",
   "metadata": {},
   "outputs": [
    {
     "name": "stdout",
     "output_type": "stream",
     "text": [
      "Affine_Functions.ipynb\r\n",
      "Binary_Classifiers.ipynb\r\n",
      "Dense_Layers.ipynb\r\n",
      "Model_Implementation_with_Dense_Layers.ipynb\r\n",
      "Pytorch.ipynb\r\n",
      "TensorFlow_Keras.ipynb\r\n",
      "TensorFlow_Keras_Using_Data.ipynb\r\n",
      "checkpoint\r\n",
      "\u001b[34mseq_model\u001b[m\u001b[m\r\n",
      "seq_model.ckpt.data-00000-of-00001\r\n",
      "seq_model.ckpt.index\r\n"
     ]
    }
   ],
   "source": [
    "!ls"
   ]
  },
  {
   "cell_type": "code",
   "execution_count": 50,
   "id": "7c1d9aab",
   "metadata": {},
   "outputs": [],
   "source": [
    "seq_model_3 = keras.models.load_model('seq_model')"
   ]
  },
  {
   "cell_type": "code",
   "execution_count": 51,
   "id": "549dfa57",
   "metadata": {},
   "outputs": [
    {
     "name": "stdout",
     "output_type": "stream",
     "text": [
      "157/157 [==============================] - 1s 8ms/step - loss: 0.5100 - accuracy: 0.8315\n"
     ]
    },
    {
     "data": {
      "text/plain": [
       "[0.5099893808364868, 0.8315000534057617]"
      ]
     },
     "execution_count": 51,
     "metadata": {},
     "output_type": "execute_result"
    }
   ],
   "source": [
    "seq_model_3.evaluate(test_dataset)"
   ]
  },
  {
   "cell_type": "markdown",
   "id": "356add1d",
   "metadata": {},
   "source": [
    "### Tensorboard 사용하여 시각화하기"
   ]
  },
  {
   "cell_type": "code",
   "execution_count": 52,
   "id": "a9416d68",
   "metadata": {},
   "outputs": [],
   "source": [
    "%load_ext tensorboard"
   ]
  },
  {
   "cell_type": "markdown",
   "id": "0885f73f",
   "metadata": {},
   "source": [
    "### Keras Callback 사용"
   ]
  },
  {
   "cell_type": "code",
   "execution_count": 53,
   "id": "116fb1ba",
   "metadata": {},
   "outputs": [],
   "source": [
    "new_model_1 = create_seq_model()\n",
    "new_model_1.compile(optimizer=tf.keras.optimizers.Adam(learning_rate),\n",
    "              loss='categorical_crossentropy',\n",
    "              metrics=['accuracy'])"
   ]
  },
  {
   "cell_type": "code",
   "execution_count": 54,
   "id": "fb790292",
   "metadata": {},
   "outputs": [
    {
     "name": "stdout",
     "output_type": "stream",
     "text": [
      "157/157 [==============================] - 2s 9ms/step - loss: 320.3085 - accuracy: 0.0886\n"
     ]
    },
    {
     "data": {
      "text/plain": [
       "[320.3084716796875, 0.08860000222921371]"
      ]
     },
     "execution_count": 54,
     "metadata": {},
     "output_type": "execute_result"
    }
   ],
   "source": [
    "new_model_1.evaluate(test_dataset)"
   ]
  },
  {
   "cell_type": "code",
   "execution_count": 55,
   "id": "c080f7cc",
   "metadata": {},
   "outputs": [],
   "source": [
    "log_dir = './logs/new_model_1'\n",
    "\n",
    "tensorboard_cb = keras.callbacks.TensorBoard(log_dir, histogram_freq=1)"
   ]
  },
  {
   "cell_type": "code",
   "execution_count": 56,
   "id": "3406fdd7",
   "metadata": {},
   "outputs": [
    {
     "name": "stdout",
     "output_type": "stream",
     "text": [
      "Epoch 1/10\n",
      "938/938 [==============================] - 12s 13ms/step - loss: 4.5496 - accuracy: 0.6175 - val_loss: 0.8282 - val_accuracy: 0.6872\n",
      "Epoch 2/10\n",
      "938/938 [==============================] - 10s 10ms/step - loss: 0.8941 - accuracy: 0.6531 - val_loss: 0.6929 - val_accuracy: 0.7392\n",
      "Epoch 3/10\n",
      "938/938 [==============================] - 10s 10ms/step - loss: 0.7687 - accuracy: 0.7058 - val_loss: 0.6481 - val_accuracy: 0.7805\n",
      "Epoch 4/10\n",
      "938/938 [==============================] - 10s 10ms/step - loss: 0.7074 - accuracy: 0.7332 - val_loss: 0.6061 - val_accuracy: 0.7915\n",
      "Epoch 5/10\n",
      "938/938 [==============================] - 10s 11ms/step - loss: 0.6726 - accuracy: 0.7458 - val_loss: 0.5581 - val_accuracy: 0.8143\n",
      "Epoch 6/10\n",
      "938/938 [==============================] - 10s 11ms/step - loss: 0.6470 - accuracy: 0.7540 - val_loss: 0.5792 - val_accuracy: 0.8054\n",
      "Epoch 7/10\n",
      "938/938 [==============================] - 11s 11ms/step - loss: 0.6468 - accuracy: 0.7551 - val_loss: 0.5451 - val_accuracy: 0.8102\n",
      "Epoch 8/10\n",
      "938/938 [==============================] - 11s 12ms/step - loss: 0.6372 - accuracy: 0.7607 - val_loss: 0.5856 - val_accuracy: 0.7921\n",
      "Epoch 9/10\n",
      "938/938 [==============================] - 10s 11ms/step - loss: 0.6542 - accuracy: 0.7550 - val_loss: 0.5464 - val_accuracy: 0.8060\n",
      "Epoch 10/10\n",
      "938/938 [==============================] - 11s 11ms/step - loss: 0.6273 - accuracy: 0.7631 - val_loss: 0.4937 - val_accuracy: 0.8309\n"
     ]
    },
    {
     "data": {
      "text/plain": [
       "<keras.callbacks.History at 0x29810de50>"
      ]
     },
     "execution_count": 56,
     "metadata": {},
     "output_type": "execute_result"
    }
   ],
   "source": [
    "new_model_1.fit(train_dataset, epochs=EPOCHS, validation_data=test_dataset,\n",
    "          callbacks=[tensorboard_cb])"
   ]
  },
  {
   "cell_type": "code",
   "execution_count": null,
   "id": "a94fb05c",
   "metadata": {},
   "outputs": [],
   "source": [
    "%tensorboard --logdir $log_dir"
   ]
  },
  {
   "cell_type": "markdown",
   "id": "9bf60ead",
   "metadata": {},
   "source": [
    "### Summary Writer 사용"
   ]
  },
  {
   "cell_type": "code",
   "execution_count": 57,
   "id": "bc2fbbb4",
   "metadata": {},
   "outputs": [],
   "source": [
    "new_model_2 = create_seq_model()"
   ]
  },
  {
   "cell_type": "code",
   "execution_count": 58,
   "id": "12a2f535",
   "metadata": {},
   "outputs": [],
   "source": [
    "# loss function\n",
    "loss_object = keras.losses.CategoricalCrossentropy()"
   ]
  },
  {
   "cell_type": "code",
   "execution_count": 59,
   "id": "50b1638d",
   "metadata": {},
   "outputs": [],
   "source": [
    "# optimizer\n",
    "learning_rate = 0.001\n",
    "optimizer = keras.optimizers.Adam(learning_rate=learning_rate)"
   ]
  },
  {
   "cell_type": "code",
   "execution_count": 60,
   "id": "f07af124",
   "metadata": {},
   "outputs": [],
   "source": [
    "# loss, accuracy 계산\n",
    "train_loss = keras.metrics.Mean(name='train_loss')\n",
    "train_accuracy = keras.metrics.CategoricalAccuracy(name='train_accuracy')\n",
    "\n",
    "test_loss = keras.metrics.Mean(name='test_loss')\n",
    "test_accuracy = keras.metrics.CategoricalAccuracy(name='test_accuracy')"
   ]
  },
  {
   "cell_type": "code",
   "execution_count": 61,
   "id": "e3c26918",
   "metadata": {},
   "outputs": [],
   "source": [
    "@tf.function\n",
    "def train_step(model, images, labels):\n",
    "  with tf.GradientTape() as tape:\n",
    "    # training=True is only needed if there are layers with different\n",
    "    # behavior during training versus inference (e.g. Dropout).\n",
    "    predictions = model(images, training=True)\n",
    "    loss = loss_object(labels, predictions)\n",
    "  gradients = tape.gradient(loss, model.trainable_variables)\n",
    "  optimizer.apply_gradients(zip(gradients, model.trainable_variables))\n",
    "\n",
    "  train_loss(loss)\n",
    "  train_accuracy(labels, predictions)"
   ]
  },
  {
   "cell_type": "code",
   "execution_count": 62,
   "id": "78af8e17",
   "metadata": {},
   "outputs": [],
   "source": [
    "@tf.function\n",
    "def test_step(model, images, labels):\n",
    "  # training=False is only needed if there are layers with different\n",
    "  # behavior during training versus inference (e.g. Dropout).\n",
    "  predictions = model(images, training=False)\n",
    "  t_loss = loss_object(labels, predictions)\n",
    "\n",
    "  test_loss(t_loss)\n",
    "  test_accuracy(labels, predictions)"
   ]
  },
  {
   "cell_type": "code",
   "execution_count": 63,
   "id": "5e8c92b9",
   "metadata": {},
   "outputs": [],
   "source": [
    "import datetime\n",
    "\n",
    "current_time = datetime.datetime.now().strftime(\"%Y%m%d-%H%M%S\")\n",
    "train_log_dir = 'logs/gradient_tape/' + current_time + '/train'\n",
    "test_log_dir = 'logs/gradient_tape/' + current_time + '/test'\n",
    "train_summary_writer = tf.summary.create_file_writer(train_log_dir)\n",
    "test_summary_writer = tf.summary.create_file_writer(test_log_dir)"
   ]
  },
  {
   "cell_type": "code",
   "execution_count": null,
   "id": "18f178aa",
   "metadata": {},
   "outputs": [],
   "source": [
    "EPOCHS = 10\n",
    "\n",
    "for epoch in range(EPOCHS):\n",
    "  # Reset the metrics at the start of the next epoch\n",
    "  train_loss.reset_states()\n",
    "  train_accuracy.reset_states()\n",
    "  test_loss.reset_states()\n",
    "  test_accuracy.reset_states()\n",
    "\n",
    "  for images, labels in train_dataset:\n",
    "    train_step(new_model_2, images, labels)\n",
    "  with train_summary_writer.as_default():\n",
    "    tf.summary.scalar('loss', train_loss.result(), step=epoch)\n",
    "    tf.summary.scalar('accuracy', train_accuracy.result(), step=epoch)\n",
    "\n",
    "  for test_images, test_labels in test_dataset:\n",
    "    test_step(new_model_2, test_images, test_labels)\n",
    "  with test_summary_writer.as_default():\n",
    "    tf.summary.scalar('loss', test_loss.result(), step=epoch)\n",
    "    tf.summary.scalar('accuracy', test_accuracy.result(), step=epoch)\n",
    "\n",
    "  print(\n",
    "    f'Epoch {epoch + 1}, '\n",
    "    f'Loss: {train_loss.result()}, '\n",
    "    f'Accuracy: {train_accuracy.result() * 100}, '\n",
    "    f'Test Loss: {test_loss.result()}, '\n",
    "    f'Test Accuracy: {test_accuracy.result() * 100}'\n",
    "  )"
   ]
  },
  {
   "cell_type": "code",
   "execution_count": null,
   "id": "2f66225f",
   "metadata": {},
   "outputs": [],
   "source": [
    "%tensorboard --logdir 'logs/gradient_tape'"
   ]
  }
 ],
 "metadata": {
  "kernelspec": {
   "display_name": "Python 3",
   "language": "python",
   "name": "python3"
  },
  "language_info": {
   "codemirror_mode": {
    "name": "ipython",
    "version": 3
   },
   "file_extension": ".py",
   "mimetype": "text/x-python",
   "name": "python",
   "nbconvert_exporter": "python",
   "pygments_lexer": "ipython3",
   "version": "3.8.11"
  }
 },
 "nbformat": 4,
 "nbformat_minor": 5
}
