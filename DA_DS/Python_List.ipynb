{
 "cells": [
  {
   "cell_type": "markdown",
   "id": "33dba8ce",
   "metadata": {},
   "source": [
    "# Python List(리스트)\n",
    "* List란  순서가 있는 수정 가능한 객체의 집합입니다.\n",
    "* 수정가능한 객체를 mutable 이라고 한다. set, dictionary, list etc\n",
    "\n",
    ">  연속형 데이터 (Sequential Data Types)\n",
    "* 연속형 데이터란, 하나의 변수가 하나의 데이터를 가지고 있던 숫자형 데이터와 달리, 여러개의 데이터를 하나의 변수에 가지고 있는 데이터 타입이다.  \n",
    "\n",
    "* 연속형 데이터 타입에는 리스트(List), 튜플(Tuple), 문자열(String)이 있다. (문자열을 문자들의 나열로 인식하기 때문에, 연속형 데이터이다.)  "
   ]
  },
  {
   "cell_type": "markdown",
   "id": "dac71c54",
   "metadata": {},
   "source": [
    "### List객체 생성 "
   ]
  },
  {
   "cell_type": "code",
   "execution_count": 1,
   "id": "632f017b",
   "metadata": {},
   "outputs": [],
   "source": [
    "NUM = [1,2,3,4,5,6]\n",
    "Str = ['A','B','C','D']\n",
    "W   = [1,2,'A','B']\n",
    "X   = [1,2,['A','B']]"
   ]
  },
  {
   "cell_type": "markdown",
   "id": "d53177af",
   "metadata": {},
   "source": [
    "##### 리스트를 만들 때는 위에서 보는 것과 같이 대괄호([ ])로 감싸 주고 각 요 솟값은 쉼표(,)로 구분해 줍니다. \n",
    "\n",
    "###### W 변수처럼 여러가지 type 함께 사용 가능하고 X처럼 리스트 자체를 요솟값으로 가질 수도 있습니다. "
   ]
  },
  {
   "cell_type": "markdown",
   "id": "cf41140f",
   "metadata": {},
   "source": [
    "### List 인덱싱 \n",
    "* 문자열 에서 인덱싱 적용 메커니즘과 같이 list에서도 적용  "
   ]
  },
  {
   "cell_type": "code",
   "execution_count": 2,
   "id": "a113e3bb",
   "metadata": {},
   "outputs": [
    {
     "name": "stdout",
     "output_type": "stream",
     "text": [
      "1\n",
      "5\n"
     ]
    }
   ],
   "source": [
    "A = [1,2,3,4,5]\n",
    "\n",
    "print(A[0]) # A [0]은 리스트 a의 첫 번째 요 솟값을 말합니다. \n",
    "\n",
    "print(A[-1]) # A [-1] 은 마지막 요 솟값을 말합니다."
   ]
  },
  {
   "cell_type": "markdown",
   "id": "b611e20e",
   "metadata": {},
   "source": [
    "#### 실제 분석에서는 아래와 같은 인덱싱을 할 경우는 없지만 연습하는 의도로  'Hellow' 값 찾기\n"
   ]
  },
  {
   "cell_type": "code",
   "execution_count": 3,
   "id": "98fc7789",
   "metadata": {},
   "outputs": [
    {
     "data": {
      "text/plain": [
       "'Hellow'"
      ]
     },
     "execution_count": 3,
     "metadata": {},
     "output_type": "execute_result"
    }
   ],
   "source": [
    "B = [1, 2, [3,4] , [5, [100, 200, [\"Hellow\"] ], 23, 11], 1, 7]\n",
    "B[3][1][2][0]\n"
   ]
  },
  {
   "cell_type": "markdown",
   "id": "fcd1e509",
   "metadata": {},
   "source": [
    "풀이 B[3] = [5,  [100, 200 , [ ‘Hellow’ ] ]  \n",
    "\n",
    "     B[3][1] = [100, 200 , [ ‘Hellow’ ] ]  \n",
    "\n",
    "     B[3][1][2][0] = [ ‘Hellow’ ]"
   ]
  },
  {
   "cell_type": "markdown",
   "id": "9d2fbb78",
   "metadata": {},
   "source": [
    "### List의 슬라이싱"
   ]
  },
  {
   "cell_type": "code",
   "execution_count": 4,
   "id": "4a4f85aa",
   "metadata": {},
   "outputs": [
    {
     "data": {
      "text/plain": [
       "[1, 2]"
      ]
     },
     "execution_count": 4,
     "metadata": {},
     "output_type": "execute_result"
    }
   ],
   "source": [
    "A = [1,2,3,4,5]\n",
    "A[0:2]"
   ]
  },
  {
   "cell_type": "markdown",
   "id": "856d0124",
   "metadata": {},
   "source": [
    "A [0:2] 은 A [0]과 A [1]까지의 요 솟값을 반환하라는 의미입니다. "
   ]
  },
  {
   "cell_type": "code",
   "execution_count": 5,
   "id": "84942b17",
   "metadata": {},
   "outputs": [
    {
     "name": "stdout",
     "output_type": "stream",
     "text": [
      "[1, 2, 3]\n",
      "[4, 5]\n"
     ]
    }
   ],
   "source": [
    "A = [1,2,3,4,5]\n",
    "print(A[:3])\n",
    "\n",
    "print(A[3:])\n"
   ]
  },
  {
   "cell_type": "markdown",
   "id": "7cc32762",
   "metadata": {},
   "source": [
    "A [ : 3] 은 리스트 A의 첫 번째 요소부터 세 번째 요소인 a [2]까지 나타내는 리스트입니다.\n",
    "\n",
    "A [3: ]  은 리스트 A의 두 번째 요소부터 끝까지 나타내는 리스트입니다."
   ]
  },
  {
   "cell_type": "markdown",
   "id": "4d1822ef",
   "metadata": {},
   "source": [
    "### List 요소 값 변경, 삭제 하기"
   ]
  },
  {
   "cell_type": "code",
   "execution_count": 7,
   "id": "72b589b4",
   "metadata": {},
   "outputs": [
    {
     "name": "stdout",
     "output_type": "stream",
     "text": [
      "['Kim Yeon-Koung', 'volleyball', 'Son Heung-min', 'football']\n"
     ]
    }
   ],
   "source": [
    "# 'footall'을 'football'로 인덱싱을 사용해 변경\n",
    "\n",
    "A = ['Kim Yeon-Koung','volleyball','Son Heung-min','footall']\n",
    "A[3] = 'football'\n",
    "\n",
    "print(A) "
   ]
  },
  {
   "cell_type": "markdown",
   "id": "ba143a84",
   "metadata": {},
   "source": [
    "A [3] 요 솟값이 'football'로 변경되었습니다."
   ]
  },
  {
   "cell_type": "code",
   "execution_count": 8,
   "id": "f76e979b",
   "metadata": {},
   "outputs": [
    {
     "name": "stdout",
     "output_type": "stream",
     "text": [
      "['Kim Yeon-Koung', 'volleyball', 'Son Heung-min', 'football', 'Shin Yubin', 'pingpong']\n"
     ]
    }
   ],
   "source": [
    "# 요솟값 추가하기\n",
    "A = ['Kim Yeon-Koung', 'volleyball', 'Son Heung-min', 'football']\n",
    "B = A + ['Shin Yubin','pingpong'] \n",
    "print(B)"
   ]
  },
  {
   "cell_type": "markdown",
   "id": "6ab6c88d",
   "metadata": {},
   "source": [
    "['Shin Yubin' , 'pingpong']  요솟값이 추가된 것을 볼 수 있습니다."
   ]
  },
  {
   "cell_type": "markdown",
   "id": "475beb84",
   "metadata": {},
   "source": [
    "### del 함수를 이용해 요솟값 삭제"
   ]
  },
  {
   "cell_type": "code",
   "execution_count": 9,
   "id": "51dfc0a7",
   "metadata": {},
   "outputs": [
    {
     "name": "stdout",
     "output_type": "stream",
     "text": [
      "['Kim Yeon-Koung', 'volleyball', 'Son Heung-min', 'football']\n"
     ]
    }
   ],
   "source": [
    "B = ['Kim Yeon-Koung', 'volleyball', 'Son Heung-min', 'football', 'Shin Yubin', 'pingpong']\n",
    "del(B[4:])\n",
    "print(B)"
   ]
  },
  {
   "cell_type": "markdown",
   "id": "3cc842e5",
   "metadata": {},
   "source": [
    "B [4 : ] 요 솟값인 ['Shin Yubin' , 'pingpong']  삭제된 것을 볼 수 있습니다."
   ]
  },
  {
   "cell_type": "markdown",
   "id": "d31450a3",
   "metadata": {},
   "source": [
    "### remove 함수 사용하여 요솟값 제거 "
   ]
  },
  {
   "cell_type": "code",
   "execution_count": 10,
   "id": "d2c55d2c",
   "metadata": {},
   "outputs": [
    {
     "data": {
      "text/plain": [
       "[2, 3, 4, 1, 1]"
      ]
     },
     "execution_count": 10,
     "metadata": {},
     "output_type": "execute_result"
    }
   ],
   "source": [
    "A = [1,2,3,4,1,1]\n",
    "A.remove(1)\n",
    "\n",
    "A"
   ]
  },
  {
   "cell_type": "markdown",
   "id": "75592b19",
   "metadata": {},
   "source": [
    "### clear 함수 이용해  빈 list를 반환"
   ]
  },
  {
   "cell_type": "code",
   "execution_count": 11,
   "id": "a5380246",
   "metadata": {},
   "outputs": [
    {
     "data": {
      "text/plain": [
       "[]"
      ]
     },
     "execution_count": 11,
     "metadata": {},
     "output_type": "execute_result"
    }
   ],
   "source": [
    "A.clear()\n",
    "\n",
    "A"
   ]
  },
  {
   "cell_type": "markdown",
   "id": "cb466d6e",
   "metadata": {},
   "source": [
    "### List 함수들\n",
    "* 리스트에 요소 추가(append) - 리스트의 마지막에 인자로 전달된 아이템을 추가합니다."
   ]
  },
  {
   "cell_type": "code",
   "execution_count": 12,
   "id": "76ff84e3",
   "metadata": {},
   "outputs": [
    {
     "name": "stdout",
     "output_type": "stream",
     "text": [
      "[2, 9, 3, 'a']\n"
     ]
    }
   ],
   "source": [
    "list = [2, 9, 3]\n",
    "list.append('a')  \n",
    "\n",
    "print(list)"
   ]
  },
  {
   "cell_type": "markdown",
   "id": "b2bf73cb",
   "metadata": {},
   "source": [
    "* 리스트 확장 extend(iterable) - 인자로 전달된 iterable의 모든 아이템을 리스트에 추가합니다."
   ]
  },
  {
   "cell_type": "code",
   "execution_count": 13,
   "id": "218d0c20",
   "metadata": {},
   "outputs": [
    {
     "name": "stdout",
     "output_type": "stream",
     "text": [
      "[2, 9, 3, 1, 2, 3]\n"
     ]
    }
   ],
   "source": [
    "list = [2, 9, 3] \n",
    "list2 = [1, 2, 3]\n",
    "\n",
    "list.extend(list2) \n",
    "\n",
    "print(list)"
   ]
  },
  {
   "cell_type": "markdown",
   "id": "1a54a0f8",
   "metadata": {},
   "source": [
    "* 리스트에 요소 삽입 insert(index, item)은 인자로 전달된 index의 위치에 item을 추가합니다."
   ]
  },
  {
   "cell_type": "code",
   "execution_count": 14,
   "id": "bc023ca3",
   "metadata": {},
   "outputs": [
    {
     "name": "stdout",
     "output_type": "stream",
     "text": [
      "['a', 2, 9, 3]\n"
     ]
    }
   ],
   "source": [
    "list = [2, 9, 3] \n",
    "list.insert(0, 'a') \n",
    " \n",
    "print(list)  # list[0]위치에 'a' 값 삽입"
   ]
  },
  {
   "cell_type": "markdown",
   "id": "fd5adc31",
   "metadata": {},
   "source": [
    "* 리스트에 포함된 ( x ) 값이 list안에 몇 개 있는지 count"
   ]
  },
  {
   "cell_type": "code",
   "execution_count": 15,
   "id": "f5f9736b",
   "metadata": {},
   "outputs": [
    {
     "data": {
      "text/plain": [
       "3"
      ]
     },
     "execution_count": 15,
     "metadata": {},
     "output_type": "execute_result"
    }
   ],
   "source": [
    "A = [1,2,3,1,1]\n",
    "\n",
    "A.count(1)"
   ]
  },
  {
   "cell_type": "markdown",
   "id": "3e28f837",
   "metadata": {},
   "source": [
    "* 리스트에 (index)  index 위치 반환"
   ]
  },
  {
   "cell_type": "code",
   "execution_count": 16,
   "id": "862e7e8a",
   "metadata": {},
   "outputs": [
    {
     "data": {
      "text/plain": [
       "0"
      ]
     },
     "execution_count": 16,
     "metadata": {},
     "output_type": "execute_result"
    }
   ],
   "source": [
    "A = ['Kim Yeon-Koung', 'volleyball', 'Son Heung-min', 'football']\n",
    "\n",
    "A.index('Kim Yeon-Koung')"
   ]
  },
  {
   "cell_type": "markdown",
   "id": "9a79ac7f",
   "metadata": {},
   "source": [
    "* 리스트 정렬(sort)  list안에 값을 ascending으로 정렬"
   ]
  },
  {
   "cell_type": "code",
   "execution_count": 17,
   "id": "58e2a69d",
   "metadata": {},
   "outputs": [
    {
     "name": "stdout",
     "output_type": "stream",
     "text": [
      "[1, 2, 3, 4, 5]\n"
     ]
    }
   ],
   "source": [
    "A = [1,5,3,2,4]\n",
    "A.sort()\n",
    "\n",
    "print(A)"
   ]
  },
  {
   "cell_type": "markdown",
   "id": "7a6677a8",
   "metadata": {},
   "source": [
    "* 리스트 뒤집기 (reverse)  lilst 값 반대로 정렬"
   ]
  },
  {
   "cell_type": "code",
   "execution_count": 18,
   "id": "8f7b62bf",
   "metadata": {},
   "outputs": [
    {
     "data": {
      "text/plain": [
       "['c', 'b', 'a']"
      ]
     },
     "execution_count": 18,
     "metadata": {},
     "output_type": "execute_result"
    }
   ],
   "source": [
    "A = ['a','b','c']\n",
    "A.reverse()\n",
    "\n",
    "A"
   ]
  },
  {
   "cell_type": "markdown",
   "id": "5fbda8dd",
   "metadata": {},
   "source": [
    "* 리스트 Pop   리스트의 맨 마지막 요소를 돌려주고 그 요소는 삭제한다."
   ]
  },
  {
   "cell_type": "code",
   "execution_count": 19,
   "id": "7d69cc12",
   "metadata": {},
   "outputs": [
    {
     "data": {
      "text/plain": [
       "[1, 2]"
      ]
     },
     "execution_count": 19,
     "metadata": {},
     "output_type": "execute_result"
    }
   ],
   "source": [
    "a = [1,2,3]\n",
    "a.pop()\n",
    "3\n",
    "\n",
    "a"
   ]
  }
 ],
 "metadata": {
  "kernelspec": {
   "display_name": "Python 3",
   "language": "python",
   "name": "python3"
  },
  "language_info": {
   "codemirror_mode": {
    "name": "ipython",
    "version": 3
   },
   "file_extension": ".py",
   "mimetype": "text/x-python",
   "name": "python",
   "nbconvert_exporter": "python",
   "pygments_lexer": "ipython3",
   "version": "3.8.8"
  }
 },
 "nbformat": 4,
 "nbformat_minor": 5
}
