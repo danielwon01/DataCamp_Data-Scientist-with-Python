{
 "cells": [
  {
   "cell_type": "code",
   "execution_count": 1,
   "id": "d4a1e8d3",
   "metadata": {},
   "outputs": [],
   "source": [
    "import numpy as np\n",
    "import pandas as pd"
   ]
  },
  {
   "cell_type": "code",
   "execution_count": 2,
   "id": "dedb469f",
   "metadata": {},
   "outputs": [
    {
     "name": "stdout",
     "output_type": "stream",
     "text": [
      "25\n"
     ]
    }
   ],
   "source": [
    "def square(v) : # Function Header\n",
    "    new_value = v**2  # Fuction body\n",
    "    print(new_value)\n",
    "\n",
    "square(5) # parameter 전달 "
   ]
  },
  {
   "cell_type": "code",
   "execution_count": 3,
   "id": "38d461e5",
   "metadata": {},
   "outputs": [
    {
     "name": "stdout",
     "output_type": "stream",
     "text": [
      "9\n"
     ]
    }
   ],
   "source": [
    "# 값을 직접 출력하지 않고 대신 값을 반환하고 변수에 할당하고 싶을때 return키워드와 반환 할 값을 추가하여 함수가 새 값을 반환하도록 함 \n",
    "\n",
    "def square(v) : # Function Header\n",
    "    new_value = v**2  # Fuction body\n",
    "    return(new_value)\n",
    "num = square(3)\n",
    "\n",
    "print(num) "
   ]
  },
  {
   "cell_type": "code",
   "execution_count": 4,
   "id": "62456ef2",
   "metadata": {},
   "outputs": [],
   "source": [
    "# Docstrings 함수가 수행하는 계산 또는 반환 값과 같이 함수가 수행하는 작업을 설명하는데 사용\n",
    "# 설명은 함수에 대한 문서 역할을 하므로 함수를 읽는 사람은 누구나 함수 정의의 모든 코드를 추적할 필요없이 함수가 수행하는 방법을 이해 \n",
    "\n",
    "def square(v) : # Function Header\n",
    "    \"\"\"Return the squre if a value \"\"\"\n",
    "    new_value = v**2  # Fuction body\n",
    "    return(new_value)"
   ]
  },
  {
   "cell_type": "code",
   "execution_count": 5,
   "id": "31d5e9c1",
   "metadata": {},
   "outputs": [
    {
     "data": {
      "text/plain": [
       "10"
      ]
     },
     "execution_count": 5,
     "metadata": {},
     "output_type": "execute_result"
    }
   ],
   "source": [
    "# 여러 매개 변수 \n",
    "def add (x,y ) :\n",
    "    plus = x + y\n",
    "    return plus\n",
    "\n",
    "add(5,5)"
   ]
  },
  {
   "cell_type": "code",
   "execution_count": 6,
   "id": "ad8b5b25",
   "metadata": {},
   "outputs": [],
   "source": [
    "# 튜플을 이용해 여러 values 값 반환 \n",
    "\n",
    "def double (x, y ) :\n",
    "    new_v1 = x ** y \n",
    "    new_v2 = y ** x\n",
    "    \n",
    "    new_tuple = (new_v1 , new_v2 )\n",
    "    \n",
    "    return new_tuple"
   ]
  },
  {
   "cell_type": "code",
   "execution_count": 7,
   "id": "592156b7",
   "metadata": {},
   "outputs": [
    {
     "name": "stdout",
     "output_type": "stream",
     "text": [
      "(3125, 3125)\n"
     ]
    }
   ],
   "source": [
    "result = double(5,5)\n",
    "\n",
    "print(result)"
   ]
  }
 ],
 "metadata": {
  "kernelspec": {
   "display_name": "Python 3",
   "language": "python",
   "name": "python3"
  },
  "language_info": {
   "codemirror_mode": {
    "name": "ipython",
    "version": 3
   },
   "file_extension": ".py",
   "mimetype": "text/x-python",
   "name": "python",
   "nbconvert_exporter": "python",
   "pygments_lexer": "ipython3",
   "version": "3.8.8"
  }
 },
 "nbformat": 4,
 "nbformat_minor": 5
}
