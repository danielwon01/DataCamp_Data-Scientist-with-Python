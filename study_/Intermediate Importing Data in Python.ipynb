{
 "cells": [
  {
   "cell_type": "markdown",
   "id": "6f81e1a6",
   "metadata": {},
   "source": [
    "### Importing data from the Internet"
   ]
  },
  {
   "cell_type": "code",
   "execution_count": 1,
   "id": "5c547b07",
   "metadata": {},
   "outputs": [],
   "source": [
    "import numpy as np\n",
    "import pandas as pd\n",
    "import warnings\n",
    "warnings.filterwarnings(action='ignore')"
   ]
  },
  {
   "cell_type": "markdown",
   "id": "7913264e",
   "metadata": {},
   "source": [
    "urllib는 URL 작업을 위한 여러 모듈을 모은 패키지입니다.  \n",
    "urllib.request는 URL(Uniform Resource Locator)을 가져오기 위한 파이썬 모듈  "
   ]
  },
  {
   "cell_type": "code",
   "execution_count": 2,
   "id": "1079c27c",
   "metadata": {},
   "outputs": [
    {
     "data": {
      "text/plain": [
       "('winequality-red.csv', <http.client.HTTPMessage at 0x20491289790>)"
      ]
     },
     "execution_count": 2,
     "metadata": {},
     "output_type": "execute_result"
    }
   ],
   "source": [
    "from urllib.request import urlretrieve\n",
    "url =  'https://s3.amazonaws.com/assets.datacamp.com/production/course_1606/datasets/winequality-red.csv'\n",
    "urlretrieve(url , 'winequality-red.csv')"
   ]
  },
  {
   "cell_type": "code",
   "execution_count": 3,
   "id": "995dcd60",
   "metadata": {},
   "outputs": [
    {
     "data": {
      "text/html": [
       "<div>\n",
       "<style scoped>\n",
       "    .dataframe tbody tr th:only-of-type {\n",
       "        vertical-align: middle;\n",
       "    }\n",
       "\n",
       "    .dataframe tbody tr th {\n",
       "        vertical-align: top;\n",
       "    }\n",
       "\n",
       "    .dataframe thead th {\n",
       "        text-align: right;\n",
       "    }\n",
       "</style>\n",
       "<table border=\"1\" class=\"dataframe\">\n",
       "  <thead>\n",
       "    <tr style=\"text-align: right;\">\n",
       "      <th></th>\n",
       "      <th>fixed acidity</th>\n",
       "      <th>volatile acidity</th>\n",
       "      <th>citric acid</th>\n",
       "      <th>residual sugar</th>\n",
       "      <th>chlorides</th>\n",
       "      <th>free sulfur dioxide</th>\n",
       "      <th>total sulfur dioxide</th>\n",
       "      <th>density</th>\n",
       "      <th>pH</th>\n",
       "      <th>sulphates</th>\n",
       "      <th>alcohol</th>\n",
       "      <th>quality</th>\n",
       "    </tr>\n",
       "  </thead>\n",
       "  <tbody>\n",
       "    <tr>\n",
       "      <th>0</th>\n",
       "      <td>7.4</td>\n",
       "      <td>0.70</td>\n",
       "      <td>0.00</td>\n",
       "      <td>1.9</td>\n",
       "      <td>0.076</td>\n",
       "      <td>11.0</td>\n",
       "      <td>34.0</td>\n",
       "      <td>0.9978</td>\n",
       "      <td>3.51</td>\n",
       "      <td>0.56</td>\n",
       "      <td>9.4</td>\n",
       "      <td>5</td>\n",
       "    </tr>\n",
       "    <tr>\n",
       "      <th>1</th>\n",
       "      <td>7.8</td>\n",
       "      <td>0.88</td>\n",
       "      <td>0.00</td>\n",
       "      <td>2.6</td>\n",
       "      <td>0.098</td>\n",
       "      <td>25.0</td>\n",
       "      <td>67.0</td>\n",
       "      <td>0.9968</td>\n",
       "      <td>3.20</td>\n",
       "      <td>0.68</td>\n",
       "      <td>9.8</td>\n",
       "      <td>5</td>\n",
       "    </tr>\n",
       "    <tr>\n",
       "      <th>2</th>\n",
       "      <td>7.8</td>\n",
       "      <td>0.76</td>\n",
       "      <td>0.04</td>\n",
       "      <td>2.3</td>\n",
       "      <td>0.092</td>\n",
       "      <td>15.0</td>\n",
       "      <td>54.0</td>\n",
       "      <td>0.9970</td>\n",
       "      <td>3.26</td>\n",
       "      <td>0.65</td>\n",
       "      <td>9.8</td>\n",
       "      <td>5</td>\n",
       "    </tr>\n",
       "  </tbody>\n",
       "</table>\n",
       "</div>"
      ],
      "text/plain": [
       "   fixed acidity  volatile acidity  citric acid  residual sugar  chlorides  \\\n",
       "0            7.4              0.70         0.00             1.9      0.076   \n",
       "1            7.8              0.88         0.00             2.6      0.098   \n",
       "2            7.8              0.76         0.04             2.3      0.092   \n",
       "\n",
       "   free sulfur dioxide  total sulfur dioxide  density    pH  sulphates  \\\n",
       "0                 11.0                  34.0   0.9978  3.51       0.56   \n",
       "1                 25.0                  67.0   0.9968  3.20       0.68   \n",
       "2                 15.0                  54.0   0.9970  3.26       0.65   \n",
       "\n",
       "   alcohol  quality  \n",
       "0      9.4        5  \n",
       "1      9.8        5  \n",
       "2      9.8        5  "
      ]
     },
     "execution_count": 3,
     "metadata": {},
     "output_type": "execute_result"
    }
   ],
   "source": [
    "df = pd.read_csv('winequality-red.csv', sep=';')\n",
    "df.head(3)"
   ]
  },
  {
   "cell_type": "markdown",
   "id": "74559b11",
   "metadata": {},
   "source": [
    "### HTTP requests to import files from the web"
   ]
  },
  {
   "cell_type": "markdown",
   "id": "909c3641",
   "metadata": {},
   "source": [
    "URL - Uniform/Universal Resource Locator , Reference to web resources  \n",
    "Ingredient - protocol identifier - http:, https:, resource name  - datacamp.com    \n",
    "HTTP - HTML 문서와 같은 리소스들을 가져올 수 있도록 해주는 프로토콜입니다. HTTP는 웹에서 이루어지는 모든 데이터 교환의 기초이며, 클라이언트-서버 프로토콜이기도 합니다. 클라이언트-서버 프로토콜이란 (보통 웹브라우저인) 수신자 측에 의해 요청이 초기화되는 프로토콜을 의미합니다. 하나의 완전한 문서는 텍스트, 레이아웃 설명, 이미지, 비디오, 스크립트 등 불러온(fetched) 하위 문서들로 재구성됩니다."
   ]
  },
  {
   "cell_type": "code",
   "execution_count": 10,
   "id": "68d48ff6",
   "metadata": {},
   "outputs": [],
   "source": [
    "from urllib.request import urlopen , Request\n",
    "url =\"https://campus.datacamp.com/courses/1606/4135?ex=2\"\n",
    "request = Request(url)\n",
    "response = urlopen(request)\n",
    "response.close()"
   ]
  },
  {
   "cell_type": "code",
   "execution_count": 9,
   "id": "6bae4114",
   "metadata": {},
   "outputs": [],
   "source": [
    "html = response.read()"
   ]
  },
  {
   "cell_type": "code",
   "execution_count": 6,
   "id": "cc2f016f",
   "metadata": {},
   "outputs": [
    {
     "name": "stdout",
     "output_type": "stream",
     "text": [
      "b''\n"
     ]
    }
   ],
   "source": [
    "print(html)"
   ]
  },
  {
   "cell_type": "code",
   "execution_count": 7,
   "id": "ba3fd280",
   "metadata": {},
   "outputs": [
    {
     "name": "stdout",
     "output_type": "stream",
     "text": [
      "<!DOCTYPE HTML>\n",
      "<html lang=\"en-US\">\n",
      "<head>\n",
      "  <meta charset=\"UTF-8\" />\n",
      "  <meta http-equiv=\"Content-Type\" content=\"text/html; charset=UTF-8\" />\n",
      "  <meta http-equiv=\"X-UA-Compatible\" content=\"IE=Edge,chrome=1\" />\n",
      "  <meta name=\"robots\" content=\"noindex, nofollow\" />\n",
      "  <meta name=\"viewport\" content=\"width=device-width,initial-scale=1\" />\n",
      "  <title>Just a moment...</title>\n",
      "  <style type=\"text/css\">\n",
      "    html, body {width: 100%; height: 100%; margin: 0; padding: 0;}\n",
      "    body {background-color: #ffffff; color: #000000; font-family:-apple-system, system-ui, BlinkMacSystemFont, \"Segoe UI\", Roboto, Oxygen, Ubuntu, \"Helvetica Neue\",Arial, sans-serif; font-size: 16px; line-height: 1.7em;-webkit-font-smoothing: antialiased;}\n",
      "    h1 { text-align: center; font-weight:700; margin: 16px 0; font-size: 32px; color:#000000; line-height: 1.25;}\n",
      "    p {font-size: 20px; font-weight: 400; margin: 8px 0;}\n",
      "    p, .attribution, {text-align: center;}\n",
      "    #spinner {margin: 0 auto 30px auto; display: block;}\n",
      "    .attribution {margin-top: 32px;}\n",
      "    @keyframes fader     { 0% {opacity: 0.2;} 50% {opacity: 1.0;} 100% {opacity: 0.2;} }\n",
      "    @-webkit-keyframes fader { 0% {opacity: 0.2;} 50% {opacity: 1.0;} 100% {opacity: 0.2;} }\n",
      "    #cf-bubbles > .bubbles { animation: fader 1.6s infinite;}\n",
      "    #cf-bubbles > .bubbles:nth-child(2) { animation-delay: .2s;}\n",
      "    #cf-bubbles > .bubbles:nth-child(3) { animation-delay: .4s;}\n",
      "    .bubbles { background-color: #f58220; width:20px; height: 20px; margin:2px; border-radius:100%; display:inline-block; }\n",
      "    a { color: #2c7cb0; text-decoration: none; -moz-transition: color 0.15s ease; -o-transition: color 0.15s ease; -webkit-transition: color 0.15s ease; transition: color 0.15s ease; }\n",
      "    a:hover{color: #f4a15d}\n",
      "    .attribution{font-size: 16px; line-height: 1.5;}\n",
      "    .ray_id{display: block; margin-top: 8px;}\n",
      "    #cf-wrapper #challenge-form { padding-top:25px; padding-bottom:25px; }\n",
      "    #cf-hcaptcha-container { text-align:center;}\n",
      "    #cf-hcaptcha-container iframe { display: inline-block;}\n",
      "  </style>\n",
      "\n",
      "      <meta http-equiv=\"refresh\" content=\"35\">\n",
      "  <script type=\"text/javascript\">\n",
      "    //<![CDATA[\n",
      "    (function(){\n",
      "      \n",
      "      window._cf_chl_opt={\n",
      "        cvId: \"2\",\n",
      "        cType: \"non-interactive\",\n",
      "        cNounce: \"82726\",\n",
      "        cRay: \"6bbfeedb7db83526\",\n",
      "        cHash: \"bcb1e04ab3dabdc\",\n",
      "        cPMDTk: \"\",\n",
      "        cFPWv: \"b\",\n",
      "        cTTimeMs: \"1000\",\n",
      "        cRq: {\n",
      "          ru: \"aHR0cDovL3d3dy5kYXRhY2FtcC5jb20vdGVhY2gvZG9jdW1lbnRhdGlvbg==\",\n",
      "          ra: \"cHl0aG9uLXJlcXVlc3RzLzIuMjUuMQ==\",\n",
      "          rm: \"R0VU\",\n",
      "          d: \"GIm25H84vzM0BlwEWq6emUmy4Ulrq5bmlfTw2oqB1M3ohduCbt+DubqYhAm6X9zlc5XJUYdYoZdKg+HuTAZ5cvX4ns+j1dvEKmXLxi78ihym/rP0TRROPAOiEKZE0PSpakiWweOcfNgg7FmNY9emBHIZOrdEDbRTPxiWQkdyRe+VB7PbCC/l+ygRp3GJRn3EZHY7Zw1L0aPQZIUYNM1xbJSWZWMchvhEZ/59F6vmaltsBkNHok3yTCczbBKOm4Pb3GJpQtDsgi3M/Brsdi1o1JAms0WJEjra3H2aZBZLqd2ULgUn9dh+uJoLG58/5Haob/2gKxGn73nZPOEVfU8VV67ozeUuFcKWs7+6FTLX5OGWjnL7NFlsRim0S1XMwJqfdcHBeB+V3qPFWaHItTcNMnSezMvHnGU5ULhbkCYH3J0mIOKWnS6nsQTPTaVwXz6daBbiqK4RKxXRgjAUqHSIMODuO0KYRNQ/Rg0HHXt0TQ3QPNWVMZpnfaLyvcUMkLRClLFvzc6r8NSkxLNfeySlaq1gV+GfjCH6MPH9kc5erakitIY5KiuVMRizHA7MhRqC\",\n",
      "          t: \"MTYzOTIzODUwMS42ODQwMDA=\",\n",
      "          m: \"BC7HggUHHg1EvjJUHhLH8wr63EcwWrVo1dRfXf1cZd8=\",\n",
      "          i1: \"tksfMbrw+YvIgG2wm8778A==\",\n",
      "          i2: \"jsMAGexJs1hfVXrceYAtUw==\",\n",
      "          zh: \"hzfiqo9hugT9sHeHQ1zy81NCL/S0295H0+GuRnkSV9o=\",\n",
      "          uh: \"5GU+jYv2xJ+bCaE/ARmi/DORbiS/v56CW7E0TH4XWQk=\",\n",
      "          hh: \"rAZnIHiyrNuZ60h9aAZNML8izDilqmOSNuCtac1WqPs=\",\n",
      "        }\n",
      "      }\n",
      "      window._cf_chl_enter = function(){window._cf_chl_opt.p=1};\n",
      "      \n",
      "    })();\n",
      "    //]]>\n",
      "  </script>\n",
      "  \n",
      "\n",
      "</head>\n",
      "<body>\n",
      "  <table width=\"100%\" height=\"100%\" cellpadding=\"20\">\n",
      "    <tr>\n",
      "      <td align=\"center\" valign=\"middle\">\n",
      "          <div class=\"cf-browser-verification cf-im-under-attack\">\n",
      "  <noscript>\n",
      "    <h1 data-translate=\"turn_on_js\" style=\"color:#bd2426;\">Please turn JavaScript on and reload the page.</h1>\n",
      "  </noscript>\n",
      "  <div id=\"cf-content\" style=\"display:none\">\n",
      "    \n",
      "    <div id=\"cf-bubbles\">\n",
      "      <div class=\"bubbles\"></div>\n",
      "      <div class=\"bubbles\"></div>\n",
      "      <div class=\"bubbles\"></div>\n",
      "    </div>\n",
      "    <h1><span data-translate=\"checking_browser\">Checking your browser before accessing</span> www.datacamp.com.</h1>\n",
      "    \n",
      "    <div id=\"no-cookie-warning\" class=\"cookie-warning\" data-translate=\"turn_on_cookies\" style=\"display:none\">\n",
      "      <p data-translate=\"turn_on_cookies\" style=\"color:#bd2426;\">Please enable Cookies and reload the page.</p>\n",
      "    </div>\n",
      "    <p data-translate=\"process_is_automatic\">This process is automatic. Your browser will redirect to your requested content shortly.</p>\n",
      "    <p data-translate=\"allow_5_secs\" id=\"cf-spinner-allow-5-secs\" >Please allow up to 5 seconds&hellip;</p>\n",
      "    <p data-translate=\"redirecting\" id=\"cf-spinner-redirecting\" style=\"display:none\">Redirecting&hellip;</p>\n",
      "  </div>\n",
      "   \n",
      "  <form class=\"challenge-form\" id=\"challenge-form\" action=\"/teach/documentation?__cf_chl_jschl_tk__=POZQifgg49S.xR716zoOQ8XdS8odSEMSd0ffN19YwGY-1639238501-0-gaNycGzNAn0\" method=\"POST\" enctype=\"application/x-www-form-urlencoded\">\n",
      "    <input type=\"hidden\" name=\"md\" value=\"w39Mksljfq4_Vt91o61VVzH4iKrySDl7Kqlj_stHzzI-1639238501-0-AdtkFppdC8MzdOKbf93Zao-okvBprNjmzjnx46ip8p3JpPgUj0Fj1JgxIdqnzFIq8ESYqZBKlAAZH1gTSGA81gQ6tJw0sBxWXwAJGtrWHl1S7yVr4rUvtN-eJP8bHuPE6uhExSvG--eeN-n4A8zOtnpMu0w30qwK8TjMuEPyaYAbUu8b3OmaqiLLLzpNyi9_9QnPhn1m3P7mnxCemtjModznFLfBIvNpxRjRq0wVNyNVuVzT6DmR34-DT9D-JNMm7ywQBJ0B6ldZ2ZkipoKpDsQTe3CIeSwAssHCXgiWaOhEflLqFUQ9Fw4-LLld7w5ehLkzTMq8FIbyaMwrBsWoyZYQTszYxCWYLQYoB9w9LUK9J4LtLFFTcIzGqT3L4Qjzf_GL3O1C8gh370Rz_C8oeXzFXudGudOpedoqtQqL9TCgTFIbddwG9MsOQ-owLul8ePBOP0R65LhiMk03ycm-9AubYybiUCT39ayfXu4Su-MeAsDA653AGl5eZVt9Vd_U-29iC9Qruk29Mug-9TNwAmCCJjIk8Eg1OUpnkr6sw5ZjfOmqnBhwZFOCPIk12RTzHij2PUDgYo933Ql2LG9me4JfsoPByBE1g7_AhNk4Wk6dH7THw81GJ2kEF9jYpcA1yW8Uryk9HJm5OMDtnKGqtikJ_ojqdaYZoKMByTqjegCd\" />\n",
      "    <input type=\"hidden\" name=\"r\" value=\"eikYkIvvts73oKPBX3jN_mCD1lI0UsB6VeAESdaYa.A-1639238501-0-Ad6uetWf0AYEN26Ixi2qDujKuheELWY5nSh55+ogYEvv0C+8dvIBVFHcnFcKq9n+D9kas/K7PRSETe/2ckoZ559lf7UdTkzlo0FrVd1zAEH9j9QjyTXrs9nIzRzhnF5s7zEt8XQD5IexapInzFHiBeJd4i+FZTDgjyQU67yW7lRKrxOoiWPWkIH8/03hNywdwO4ZaNQdkX6EsddXBU3H2/nHvyVG2QqjWPR15Ce6AlsyS5+xK8vxWfwIM/6+v/HPOxX2VoHCXCqUYgDmeZdg/xgkL3hbNXPoPOYfCEBXKUNo0nDgDk9LWj2Cs53sLh4D1DZq7lt8o8W6Tb7+18HIBrfb3uRWMA9CoM4kHm5F8gsdbAzdHhFybkPHEotXXjlnCd2qef9qJhfWhq+iaHL1JBFPmnRMCgnxE0m6OHBLxe3xlNqXey772toPtKVzdXMy3Uq0SkTZ6dTGXPmk9Z/qViBMkyuGkhkIgMpdzLgv2snVFBxepUrgYccQdtNLrBu1pik69dkW7mkO7rSX4n/TWfzegGFlaRIJFJq5soP3B0c8wZNp8C34vS6x8h4uCKuRIQ==\"/>\n",
      "    <input type=\"hidden\" value=\"115393c4fcf70fd97b5b2f53ee21f211\" id=\"jschl-vc\" name=\"jschl_vc\"/>\n",
      "    <!-- <input type=\"hidden\" value=\"\" id=\"jschl-vc\" name=\"jschl_vc\"/> -->\n",
      "    <input type=\"hidden\" name=\"pass\" value=\"1639238502.684-TeeoRSFbxZ\"/>\n",
      "    <input type=\"hidden\" id=\"jschl-answer\" name=\"jschl_answer\"/>\n",
      "  </form>\n",
      "     \n",
      "    <script type=\"text/javascript\">\n",
      "      //<![CDATA[\n",
      "      (function(){\n",
      "          var a = document.getElementById('cf-content');\n",
      "          a.style.display = 'block';\n",
      "          var isIE = /(MSIE|Trident\\/|Edge\\/)/i.test(window.navigator.userAgent);\n",
      "          var trkjs = isIE ? new Image() : document.createElement('img');\n",
      "          trkjs.setAttribute(\"src\", \"/cdn-cgi/images/trace/jschal/js/transparent.gif?ray=6bbfeedb7db83526\");\n",
      "          trkjs.id = \"trk_jschal_js\";\n",
      "          trkjs.setAttribute(\"alt\", \"\");\n",
      "          document.body.appendChild(trkjs);\n",
      "          var cpo=document.createElement('script');\n",
      "          cpo.type='text/javascript';\n",
      "          cpo.src=\"/cdn-cgi/challenge-platform/h/b/orchestrate/jsch/v1?ray=6bbfeedb7db83526\";\n",
      "          \n",
      "          document.getElementsByTagName('head')[0].appendChild(cpo);\n",
      "        }());\n",
      "      //]]>\n",
      "    </script>\n",
      "  \n",
      "\n",
      "  \n",
      "  <div id=\"trk_jschal_nojs\" style=\"background-image:url('/cdn-cgi/images/trace/jschal/nojs/transparent.gif?ray=6bbfeedb7db83526')\"> </div>\n",
      "</div>\n",
      "\n",
      "          \n",
      "          <div class=\"attribution\">\n",
      "            DDoS protection by <a rel=\"noopener noreferrer\" href=\"https://www.cloudflare.com/5xx-error-landing/\" target=\"_blank\">Cloudflare</a>\n",
      "            <br />\n",
      "            <span class=\"ray_id\">Ray ID: <code>6bbfeedb7db83526</code></span>\n",
      "          </div>\n",
      "      </td>\n",
      "     \n",
      "    </tr>\n",
      "  </table>\n",
      "</body>\n",
      "</html>\n",
      "\n"
     ]
    }
   ],
   "source": [
    "import requests\n",
    "\n",
    "url = \"http://www.datacamp.com/teach/documentation\"\n",
    "\n",
    "r = requests.get(url)\n",
    "text = r.text\n",
    "print(text)"
   ]
  },
  {
   "cell_type": "markdown",
   "id": "5ef380b0",
   "metadata": {},
   "source": [
    "### Scraping the web in Python"
   ]
  },
  {
   "cell_type": "code",
   "execution_count": 12,
   "id": "fd6d2d36",
   "metadata": {
    "scrolled": true
   },
   "outputs": [
    {
     "data": {
      "text/plain": [
       "'<!DOCTYPE HTML PUBLIC \"-//W3C//DTD HTML 4.0 Transitional//EN\" \"http://www.w3.org/TR/REC-html40/transitional.dtd\">\\n<html>\\n <head>\\n  <meta content=\"text/html; charset=utf-8\" http-equiv=\"Content-Type\"/>\\n  <title>\\n   Beautiful Soup: We called him Tortoise because he taught us.\\n  </title>\\n  <link href=\"mailto:leonardr@segfault.org\" rev=\"made\"/>\\n  <link href=\"/nb/themes/Default/nb.css\" rel=\"stylesheet\" type=\"text/css\"/>\\n  <meta content=\"Beautiful Soup: a library designed for screen-scraping HTML and XML.\" name=\"Description\"/>\\n  <meta content=\"Markov Approximation 1.4 (module: leonardr)\" name=\"generator\"/>\\n  <meta content=\"Leonard Richardson\" name=\"author\"/>\\n </head>\\n <body alink=\"red\" bgcolor=\"white\" link=\"blue\" text=\"black\" vlink=\"660066\">\\n  <style>\\n   #tidelift { }\\n\\n#tidelift a {\\n border: 1px solid #666666;\\n margin-left: auto;\\n padding: 10px;\\n text-decoration: none;\\n}\\n\\n#tidelift .cta {\\n background: url(\"tidelift.svg\") no-repeat;\\n padding-left: 30px;\\n}\\n  </style>\\n  <img align=\"right\" src=\"10.1.jpg\" width=\"250\"/>\\n  <br/>\\n  <p>\\n   [\\n   <a href=\"#Download\">\\n    Download\\n   </a>\\n   |\\n   <a href=\"bs4/doc/\">\\n    Documentation\\n   </a>\\n   |\\n   <a href=\"#HallOfFame\">\\n    Hall of Fame\\n   </a>\\n   |\\n   <a href=\"enterprise.html\">\\n    For enterprise\\n   </a>\\n   |\\n   <a href=\"https://code.launchpad.net/beautifulsoup\">\\n    Source\\n   </a>\\n   |\\n   <a href=\"https://bazaar.launchpad.net/%7Eleonardr/beautifulsoup/bs4/view/head:/CHANGELOG\">\\n    Changelog\\n   </a>\\n   |\\n   <a href=\"https://groups.google.com/forum/?fromgroups#!forum/beautifulsoup\">\\n    Discussion group\\n   </a>\\n   |\\n   <a href=\"zine/\">\\n    Zine\\n   </a>\\n   ]\\n  </p>\\n  <div align=\"center\">\\n   <a href=\"bs4/download/\">\\n    <h1>\\n     Beautiful Soup\\n    </h1>\\n   </a>\\n  </div>\\n  <p>\\n   You didn\\'t write that awful page. You\\'re just trying to get some\\ndata out of it. Beautiful Soup is here to help. Since 2004, it\\'s been\\nsaving programmers hours or days of work on quick-turnaround\\nscreen scraping projects.\\n  </p>\\n  <p>\\n   Beautiful Soup is a Python library designed for quick turnaround\\nprojects like screen-scraping. Three features make it powerful:\\n  </p>\\n  <ol>\\n   <li>\\n    Beautiful Soup provides a few simple methods and Pythonic idioms\\nfor navigating, searching, and modifying a parse tree: a toolkit for\\ndissecting a document and extracting what you need. It doesn\\'t take\\nmuch code to write an application\\n   </li>\\n   <li>\\n    Beautiful Soup automatically converts incoming documents to\\nUnicode and outgoing documents to UTF-8. You don\\'t have to think\\nabout encodings, unless the document doesn\\'t specify an encoding and\\nBeautiful Soup can\\'t detect one. Then you just have to specify the\\noriginal encoding.\\n   </li>\\n   <li>\\n    Beautiful Soup sits on top of popular Python parsers like\\n    <a href=\"http://lxml.de/\">\\n     lxml\\n    </a>\\n    and\\n    <a href=\"http://code.google.com/p/html5lib/\">\\n     html5lib\\n    </a>\\n    , allowing you\\nto try out different parsing strategies or trade speed for\\nflexibility.\\n   </li>\\n  </ol>\\n  <p>\\n   Beautiful Soup parses anything you give it, and does the tree\\ntraversal stuff for you. You can tell it \"Find all the links\", or\\n\"Find all the links of class\\n   <tt>\\n    externalLink\\n   </tt>\\n   \", or \"Find all the\\nlinks whose urls match \"foo.com\", or \"Find the table heading that\\'s\\ngot bold text, then give me that text.\"\\n  </p>\\n  <p>\\n   Valuable data that was once locked up in poorly-designed websites\\nis now within your reach. Projects that would have taken hours take\\nonly minutes with Beautiful Soup.\\n  </p>\\n  <p>\\n   Interested?\\n   <a href=\"bs4/doc/\">\\n    Read more.\\n   </a>\\n  </p>\\n  <h3>\\n   Getting and giving support\\n  </h3>\\n  <div align=\"center\" id=\"tidelift\">\\n   <a href=\"https://tidelift.com/subscription/pkg/pypi-beautifulsoup4?utm_source=pypi-beautifulsoup4&amp;utm_medium=referral&amp;utm_campaign=enterprise\" target=\"_blank\">\\n    <span class=\"cta\">\\n     Beautiful Soup for enterprise available via Tidelift\\n    </span>\\n   </a>\\n  </div>\\n  <p>\\n   If you have questions, send them to\\n   <a href=\"https://groups.google.com/forum/?fromgroups#!forum/beautifulsoup\">\\n    the discussion\\ngroup\\n   </a>\\n   . If you find a bug,\\n   <a href=\"https://bugs.launchpad.net/beautifulsoup/\">\\n    file it on Launchpad\\n   </a>\\n   . If it\\'s a security vulnerability, report it confidentially through\\n   <a href=\"https://tidelift.com/security\">\\n    Tidelift\\n   </a>\\n   .\\n  </p>\\n  <p>\\n   If you use Beautiful Soup as part of your work, please consider a\\n   <a href=\"https://tidelift.com/subscription/pkg/pypi-beautifulsoup4?utm_source=pypi-beautifulsoup4&amp;utm_medium=referral&amp;utm_campaign=website\">\\n    Tidelift subscription\\n   </a>\\n   . This will support many of the free software projects your organization depends on, not just Beautiful Soup.\\n  </p>\\n  <p>\\n   If Beautiful Soup is useful to you on a personal level, you might like to read\\n   <a href=\"zine/\">\\n    <i>\\n     Tool Safety\\n    </i>\\n   </a>\\n   , a short zine I wrote about what I learned about software development from working on Beautiful Soup. Thanks!\\n  </p>\\n  <a name=\"Download\">\\n   <h2>\\n    Download Beautiful Soup\\n   </h2>\\n  </a>\\n  <p>\\n   The current release is\\n   <a href=\"bs4/download/\">\\n    Beautiful Soup\\n4.10.0\\n   </a>\\n   (September 7, 2021). You can install Beautiful Soup 4 with\\n   <code>\\n    pip install beautifulsoup4\\n   </code>\\n   .\\n  </p>\\n  <p>\\n   In Debian and Ubuntu, Beautiful Soup is available as the\\n   <code>\\n    python-bs4\\n   </code>\\n   package (for Python 2) or the\\n   <code>\\n    python3-bs4\\n   </code>\\n   package (for Python 3). In Fedora it\\'s\\navailable as the\\n   <code>\\n    python-beautifulsoup4\\n   </code>\\n   package.\\n  </p>\\n  <p>\\n   Beautiful Soup is licensed under the MIT license, so you can also\\ndownload the tarball, drop the\\n   <code>\\n    bs4/\\n   </code>\\n   directory into almost\\nany Python application (or into your library path) and start using it\\nimmediately. (If you want to do this under Python 3, you will need to\\nmanually convert the code using\\n   <code>\\n    2to3\\n   </code>\\n   .)\\n  </p>\\n  <p>\\n   Beautiful Soup 4 works on both Python 2 (2.7+) and Python\\n3. Support for Python 2 will be discontinued on or after December 31,\\n2020—one year after the Python 2 sunsetting date.\\n  </p>\\n  <h3>\\n   Beautiful Soup 3\\n  </h3>\\n  <p>\\n   Beautiful Soup 3 was the official release line of Beautiful Soup\\nfrom May 2006 to March 2012. It does not support Python 3 and it will\\nbe discontinued on or after December 31, 2020—one year after the\\nPython 2 sunsetting date. If you have any active projects using\\nBeautiful Soup 3, you should migrate to Beautiful Soup 4 as part of\\nyour Python 3 conversion.\\n  </p>\\n  <p>\\n   <a href=\"http://www.crummy.com/software/BeautifulSoup/bs3/documentation.html\">\\n    Here\\'s\\nthe Beautiful Soup 3 documentation.\\n   </a>\\n  </p>\\n  <p>\\n   The current and hopefully final release of Beautiful Soup 3 is\\n   <a href=\"download/3.x/BeautifulSoup-3.2.2.tar.gz\">\\n    3.2.2\\n   </a>\\n   (October 5,\\n2019). It\\'s the\\n   <code>\\n    BeautifulSoup\\n   </code>\\n   package on pip. It\\'s also\\navailable as\\n   <code>\\n    python-beautifulsoup\\n   </code>\\n   in Debian and Ubuntu,\\nand as\\n   <code>\\n    python-BeautifulSoup\\n   </code>\\n   in Fedora.\\n  </p>\\n  <p>\\n   Once Beautiful Soup 3 is discontinued, these package names will be available for use by a more recent version of Beautiful Soup.\\n  </p>\\n  <p>\\n   Beautiful Soup 3, like Beautiful Soup 4, is\\n   <a href=\"https://tidelift.com/subscription/pkg/pypi-beautifulsoup?utm_source=pypi-beautifulsoup&amp;utm_medium=referral&amp;utm_campaign=website\">\\n    supported through Tidelift\\n   </a>\\n   .\\n  </p>\\n  <a name=\"HallOfFame\">\\n   <h2>\\n    Hall of Fame\\n   </h2>\\n  </a>\\n  <p>\\n   Over the years, Beautiful Soup has been used in hundreds of\\ndifferent projects. There\\'s no way I can list them all, but I want to\\nhighlight a few high-profile projects. Beautiful Soup isn\\'t what makes\\nthese projects interesting, but it did make their completion easier:\\n  </p>\\n  <ul>\\n   <li>\\n    <a href=\"http://www.nytimes.com/2007/10/25/arts/design/25vide.html\">\\n     \"Movable\\n Type\"\\n    </a>\\n    , a work of digital art on display in the lobby of the New\\n York Times building, uses Beautiful Soup to scrape news feeds.\\n   </li>\\n   <li>\\n    Jiabao Lin\\'s\\n    <a href=\"https://github.com/BlankerL/DXY-COVID-19-Crawler\">\\n     DXY-COVID-19-Crawler\\n    </a>\\n    uses Beautiful Soup to scrape a Chinese medical site for information\\nabout COVID-19, making it easier for researchers to track the spread\\nof the virus. (Source:\\n    <a href=\"https://blog.tidelift.com/how-open-source-software-is-fighting-covid-19\">\\n     \"How open source software is fighting COVID-19\"\\n    </a>\\n    )\\n   </li>\\n   <li>\\n    Reddit uses Beautiful Soup to\\n    <a href=\"https://github.com/reddit/reddit/blob/85f9cff3e2ab9bb8f19b96acd8da4ebacc079f04/r2/r2/lib/media.py\">\\n     parse\\na page that\\'s been linked to and find a representative image\\n    </a>\\n    .\\n   </li>\\n   <li>\\n    Alexander Harrowell uses Beautiful Soup to\\n    <a href=\"http://www.harrowell.org.uk/viktormap.html\">\\n     track the business\\n activities\\n    </a>\\n    of an arms merchant.\\n   </li>\\n   <li>\\n    The developers of Python itself used Beautiful Soup to\\n    <a href=\"http://svn.python.org/view/tracker/importer/\">\\n     migrate the Python\\nbug tracker from Sourceforge to Roundup\\n    </a>\\n    .\\n   </li>\\n   <li>\\n    The\\n    <a href=\"http://www2.ljworld.com/\">\\n     Lawrence Journal-World\\n    </a>\\n    uses Beautiful Soup to\\n    <a href=\"http://www.b-list.org/weblog/2010/nov/02/news-done-broke/\">\\n     gather\\nstatewide election results\\n    </a>\\n    .\\n   </li>\\n   <li>\\n    The\\n    <a href=\"http://esrl.noaa.gov/gsd/fab/\">\\n     NOAA\\'s Forecast\\nApplications Branch\\n    </a>\\n    uses Beautiful Soup in\\n    <a href=\"http://laps.noaa.gov/topograbber/\">\\n     TopoGrabber\\n    </a>\\n    , a script for\\ndownloading \"high resolution USGS datasets.\"\\n   </li>\\n  </ul>\\n  <p>\\n   If you\\'ve used Beautiful Soup in a project you\\'d like me to know\\nabout, please do send email to me or\\n   <a href=\"http://groups.google.com/group/beautifulsoup/\">\\n    the discussion\\ngroup\\n   </a>\\n   .\\n  </p>\\n  <h2>\\n   Development\\n  </h2>\\n  <p>\\n   Development happens at\\n   <a href=\"https://launchpad.net/beautifulsoup\">\\n    Launchpad\\n   </a>\\n   . You can\\n   <a href=\"https://code.launchpad.net/beautifulsoup/\">\\n    get the source\\ncode\\n   </a>\\n   or\\n   <a href=\"https://bugs.launchpad.net/beautifulsoup/\">\\n    file\\nbugs\\n   </a>\\n   .\\n  </p>\\n  <hr/>\\n  <table>\\n   <tr>\\n    <td valign=\"top\">\\n     <p>\\n      This document (\\n      <a href=\"/source/software/BeautifulSoup/index.bhtml\">\\n       source\\n      </a>\\n      ) is part of Crummy, the webspace of\\n      <a href=\"/self/\">\\n       Leonard Richardson\\n      </a>\\n      (\\n      <a href=\"/self/contact.html\">\\n       contact information\\n      </a>\\n      ). It was last modified on Wednesday, December 08 2021, 21:41:28 Nowhere Standard Time and last built on Saturday, December 11 2021, 16:00:02 Nowhere Standard Time.\\n     </p>\\n     <p>\\n     </p>\\n     <table class=\"licenseText\">\\n      <tr>\\n       <td>\\n        <a href=\"http://creativecommons.org/licenses/by-sa/2.0/\">\\n         <img border=\"0\" src=\"/nb//resources/img/somerights20.jpg\"/>\\n        </a>\\n       </td>\\n       <td valign=\"top\">\\n        Crummy is © 1996-2021 Leonard Richardson. Unless otherwise noted, all text licensed under a\\n        <a href=\"http://creativecommons.org/licenses/by-sa/2.0/\">\\n         Creative Commons License\\n        </a>\\n        .\\n       </td>\\n      </tr>\\n     </table>\\n     <!--<rdf:RDF xmlns=\"http://web.resource.org/cc/\" xmlns:dc=\"http://purl.org/dc/elements/1.1/\" xmlns:rdf=\"http://www.w3.org/1999/02/22-rdf-syntax-ns#\"><Work rdf:about=\"http://www.crummy.com/\"><dc:title>Crummy: The Site</dc:title><dc:rights><Agent><dc:title>Crummy: the Site</dc:title></Agent></dc:rights><dc:format>text/html</dc:format><license rdf:resource=http://creativecommons.org/licenses/by-sa/2.0//></Work><License rdf:about=\"http://creativecommons.org/licenses/by-sa/2.0/\"></License></rdf:RDF>-->\\n    </td>\\n    <td valign=\"top\">\\n     <p>\\n      <b>\\n       Document tree:\\n      </b>\\n     </p>\\n     <dl>\\n      <dd>\\n       <a href=\"http://www.crummy.com/\">\\n        http://www.crummy.com/\\n       </a>\\n       <dl>\\n        <dd>\\n         <a href=\"http://www.crummy.com/software/\">\\n          software/\\n         </a>\\n         <dl>\\n          <dd>\\n           <a href=\"http://www.crummy.com/software/BeautifulSoup/\">\\n            BeautifulSoup/\\n           </a>\\n          </dd>\\n         </dl>\\n        </dd>\\n       </dl>\\n      </dd>\\n     </dl>\\n     Site Search:\\n     <form action=\"/search/\" method=\"get\">\\n      <input maxlength=\"255\" name=\"q\" type=\"text\" value=\"\"/>\\n     </form>\\n    </td>\\n   </tr>\\n  </table>\\n </body>\\n</html>\\n'"
      ]
     },
     "execution_count": 12,
     "metadata": {},
     "output_type": "execute_result"
    }
   ],
   "source": [
    "from bs4 import BeautifulSoup\n",
    "import requests\n",
    "url = 'https://www.crummy.com/software/BeautifulSoup/'\n",
    "r = requests.get(url)\n",
    "html_doc = r.text\n",
    "soup = BeautifulSoup(html_doc)\n",
    "soup.prettifyfy()  # html구조를 파악하기 쉽게 바꿔줌 "
   ]
  },
  {
   "cell_type": "code",
   "execution_count": 13,
   "id": "38db4c5e",
   "metadata": {},
   "outputs": [
    {
     "data": {
      "text/plain": [
       "<title>Beautiful Soup: We called him Tortoise because he taught us.</title>"
      ]
     },
     "execution_count": 13,
     "metadata": {},
     "output_type": "execute_result"
    }
   ],
   "source": [
    "soup.title"
   ]
  },
  {
   "cell_type": "code",
   "execution_count": 14,
   "id": "e36bfe36",
   "metadata": {
    "scrolled": true
   },
   "outputs": [
    {
     "data": {
      "text/plain": [
       "'\\n\\n\\nBeautiful Soup: We called him Tortoise because he taught us.\\n\\n\\n\\n\\n\\n\\n\\n\\n\\n[ Download | Documentation | Hall of Fame | For enterprise | Source | Changelog | Discussion group  | Zine ]\\n\\nBeautiful Soup\\n\\nYou didn\\'t write that awful page. You\\'re just trying to get some\\ndata out of it. Beautiful Soup is here to help. Since 2004, it\\'s been\\nsaving programmers hours or days of work on quick-turnaround\\nscreen scraping projects.\\nBeautiful Soup is a Python library designed for quick turnaround\\nprojects like screen-scraping. Three features make it powerful:\\n\\n\\nBeautiful Soup provides a few simple methods and Pythonic idioms\\nfor navigating, searching, and modifying a parse tree: a toolkit for\\ndissecting a document and extracting what you need. It doesn\\'t take\\nmuch code to write an application\\n\\nBeautiful Soup automatically converts incoming documents to\\nUnicode and outgoing documents to UTF-8. You don\\'t have to think\\nabout encodings, unless the document doesn\\'t specify an encoding and\\nBeautiful Soup can\\'t detect one. Then you just have to specify the\\noriginal encoding.\\n\\nBeautiful Soup sits on top of popular Python parsers like lxml and html5lib, allowing you\\nto try out different parsing strategies or trade speed for\\nflexibility.\\n\\n\\nBeautiful Soup parses anything you give it, and does the tree\\ntraversal stuff for you. You can tell it \"Find all the links\", or\\n\"Find all the links of class externalLink\", or \"Find all the\\nlinks whose urls match \"foo.com\", or \"Find the table heading that\\'s\\ngot bold text, then give me that text.\"\\n\\nValuable data that was once locked up in poorly-designed websites\\nis now within your reach. Projects that would have taken hours take\\nonly minutes with Beautiful Soup.\\n\\nInterested? Read more.\\nGetting and giving support\\n\\n\\n\\n  Beautiful Soup for enterprise available via Tidelift\\n \\n\\n\\nIf you have questions, send them to the discussion\\ngroup. If you find a bug, file it on Launchpad. If it\\'s a security vulnerability, report it confidentially through Tidelift.\\nIf you use Beautiful Soup as part of your work, please consider a Tidelift subscription. This will support many of the free software projects your organization depends on, not just Beautiful Soup.\\n\\n\\nIf Beautiful Soup is useful to you on a personal level, you might like to read Tool Safety, a short zine I wrote about what I learned about software development from working on Beautiful Soup. Thanks!\\nDownload Beautiful Soup\\nThe current release is Beautiful Soup\\n4.10.0 (September 7, 2021). You can install Beautiful Soup 4 with\\npip install beautifulsoup4.\\n\\nIn Debian and Ubuntu, Beautiful Soup is available as the\\npython-bs4 package (for Python 2) or the\\npython3-bs4 package (for Python 3). In Fedora it\\'s\\navailable as the python-beautifulsoup4 package.\\n\\nBeautiful Soup is licensed under the MIT license, so you can also\\ndownload the tarball, drop the bs4/ directory into almost\\nany Python application (or into your library path) and start using it\\nimmediately. (If you want to do this under Python 3, you will need to\\nmanually convert the code using 2to3.)\\n\\nBeautiful Soup 4 works on both Python 2 (2.7+) and Python\\n3. Support for Python 2 will be discontinued on or after December 31,\\n2020—one year after the Python 2 sunsetting date.\\n\\nBeautiful Soup 3\\nBeautiful Soup 3 was the official release line of Beautiful Soup\\nfrom May 2006 to March 2012. It does not support Python 3 and it will\\nbe discontinued on or after December 31, 2020—one year after the\\nPython 2 sunsetting date. If you have any active projects using\\nBeautiful Soup 3, you should migrate to Beautiful Soup 4 as part of\\nyour Python 3 conversion.\\n\\nHere\\'s\\nthe Beautiful Soup 3 documentation.\\nThe current and hopefully final release of Beautiful Soup 3 is 3.2.2 (October 5,\\n2019). It\\'s the BeautifulSoup package on pip. It\\'s also\\navailable as python-beautifulsoup in Debian and Ubuntu,\\nand as python-BeautifulSoup in Fedora.\\n\\nOnce Beautiful Soup 3 is discontinued, these package names will be available for use by a more recent version of Beautiful Soup.\\n\\nBeautiful Soup 3, like Beautiful Soup 4, is supported through Tidelift.\\nHall of Fame\\nOver the years, Beautiful Soup has been used in hundreds of\\ndifferent projects. There\\'s no way I can list them all, but I want to\\nhighlight a few high-profile projects. Beautiful Soup isn\\'t what makes\\nthese projects interesting, but it did make their completion easier:\\n\\n\\n\"Movable\\n Type\", a work of digital art on display in the lobby of the New\\n York Times building, uses Beautiful Soup to scrape news feeds.\\n\\nJiabao Lin\\'s DXY-COVID-19-Crawler\\nuses Beautiful Soup to scrape a Chinese medical site for information\\nabout COVID-19, making it easier for researchers to track the spread\\nof the virus. (Source: \"How open source software is fighting COVID-19\")\\n\\nReddit uses Beautiful Soup to parse\\na page that\\'s been linked to and find a representative image.\\n\\nAlexander Harrowell uses Beautiful Soup to track the business\\n activities of an arms merchant.\\n\\nThe developers of Python itself used Beautiful Soup to migrate the Python\\nbug tracker from Sourceforge to Roundup.\\n\\nThe Lawrence Journal-World\\nuses Beautiful Soup to gather\\nstatewide election results.\\n\\nThe NOAA\\'s Forecast\\nApplications Branch uses Beautiful Soup in TopoGrabber, a script for\\ndownloading \"high resolution USGS datasets.\"\\n\\n\\nIf you\\'ve used Beautiful Soup in a project you\\'d like me to know\\nabout, please do send email to me or the discussion\\ngroup.\\n\\nDevelopment\\nDevelopment happens at Launchpad. You can get the source\\ncode or file\\nbugs.\\nThis document (source) is part of Crummy, the webspace of Leonard Richardson (contact information). It was last modified on Wednesday, December 08 2021, 21:41:28 Nowhere Standard Time and last built on Saturday, December 11 2021, 16:00:02 Nowhere Standard Time.Crummy is © 1996-2021 Leonard Richardson. Unless otherwise noted, all text licensed under a Creative Commons License.Document tree:\\nhttp://www.crummy.com/software/BeautifulSoup/\\n\\n\\n\\n\\nSite Search:\\n\\n\\n\\n\\n\\n\\n\\n\\n\\n'"
      ]
     },
     "execution_count": 14,
     "metadata": {},
     "output_type": "execute_result"
    }
   ],
   "source": [
    "soup.get_text()"
   ]
  },
  {
   "cell_type": "code",
   "execution_count": 15,
   "id": "2197dce1",
   "metadata": {
    "scrolled": true
   },
   "outputs": [
    {
     "name": "stdout",
     "output_type": "stream",
     "text": [
      "#Download\n",
      "bs4/doc/\n",
      "#HallOfFame\n",
      "enterprise.html\n",
      "https://code.launchpad.net/beautifulsoup\n",
      "https://bazaar.launchpad.net/%7Eleonardr/beautifulsoup/bs4/view/head:/CHANGELOG\n",
      "https://groups.google.com/forum/?fromgroups#!forum/beautifulsoup\n",
      "zine/\n",
      "bs4/download/\n",
      "http://lxml.de/\n",
      "http://code.google.com/p/html5lib/\n",
      "bs4/doc/\n",
      "https://tidelift.com/subscription/pkg/pypi-beautifulsoup4?utm_source=pypi-beautifulsoup4&utm_medium=referral&utm_campaign=enterprise\n",
      "https://groups.google.com/forum/?fromgroups#!forum/beautifulsoup\n",
      "https://bugs.launchpad.net/beautifulsoup/\n",
      "https://tidelift.com/security\n",
      "https://tidelift.com/subscription/pkg/pypi-beautifulsoup4?utm_source=pypi-beautifulsoup4&utm_medium=referral&utm_campaign=website\n",
      "zine/\n",
      "None\n",
      "bs4/download/\n",
      "http://www.crummy.com/software/BeautifulSoup/bs3/documentation.html\n",
      "download/3.x/BeautifulSoup-3.2.2.tar.gz\n",
      "https://tidelift.com/subscription/pkg/pypi-beautifulsoup?utm_source=pypi-beautifulsoup&utm_medium=referral&utm_campaign=website\n",
      "None\n",
      "http://www.nytimes.com/2007/10/25/arts/design/25vide.html\n",
      "https://github.com/BlankerL/DXY-COVID-19-Crawler\n",
      "https://blog.tidelift.com/how-open-source-software-is-fighting-covid-19\n",
      "https://github.com/reddit/reddit/blob/85f9cff3e2ab9bb8f19b96acd8da4ebacc079f04/r2/r2/lib/media.py\n",
      "http://www.harrowell.org.uk/viktormap.html\n",
      "http://svn.python.org/view/tracker/importer/\n",
      "http://www2.ljworld.com/\n",
      "http://www.b-list.org/weblog/2010/nov/02/news-done-broke/\n",
      "http://esrl.noaa.gov/gsd/fab/\n",
      "http://laps.noaa.gov/topograbber/\n",
      "http://groups.google.com/group/beautifulsoup/\n",
      "https://launchpad.net/beautifulsoup\n",
      "https://code.launchpad.net/beautifulsoup/\n",
      "https://bugs.launchpad.net/beautifulsoup/\n",
      "/source/software/BeautifulSoup/index.bhtml\n",
      "/self/\n",
      "/self/contact.html\n",
      "http://creativecommons.org/licenses/by-sa/2.0/\n",
      "http://creativecommons.org/licenses/by-sa/2.0/\n",
      "http://www.crummy.com/\n",
      "http://www.crummy.com/software/\n",
      "http://www.crummy.com/software/BeautifulSoup/\n"
     ]
    }
   ],
   "source": [
    "# html에 있는 모든 하이퍼링크의 URL을 추출하기 위해 find_all 사용\n",
    "for link in soup.find_all('a') :\n",
    "    print(link.get('href'))"
   ]
  },
  {
   "cell_type": "markdown",
   "id": "121c618f",
   "metadata": {},
   "source": [
    "### APIs and JSONs\n",
    "API - 소프트웨어 어플리케이션을 구축하고 상호 작용하기 위한 프로토콜 및 루틴의 집합 , API는 일련의 코드로 두 소프트웨어 프로그램이 서로 통신 할 수 있도록 합니다. \n",
    "Json(javascript object notation)"
   ]
  },
  {
   "cell_type": "code",
   "execution_count": null,
   "id": "a0067088",
   "metadata": {},
   "outputs": [],
   "source": [
    "import json\n",
    "with open (' .json', 'r') as json_file :\n",
    "    json_data = json.load(json_file)"
   ]
  },
  {
   "cell_type": "code",
   "execution_count": null,
   "id": "d97bf1d8",
   "metadata": {},
   "outputs": [],
   "source": [
    "# dictionary key와 value 값 반환 \n",
    "for k in json_data.keys() :\n",
    "    print(K + ':' , json_data[k])"
   ]
  },
  {
   "cell_type": "code",
   "execution_count": 3,
   "id": "3d9d2fd2",
   "metadata": {},
   "outputs": [
    {
     "name": "stdout",
     "output_type": "stream",
     "text": [
      "Title: The Social Network\n",
      "Year: 2010\n",
      "Rated: PG-13\n",
      "Released: 01 Oct 2010\n",
      "Runtime: 120 min\n",
      "Genre: Biography, Drama\n",
      "Director: David Fincher\n",
      "Writer: Aaron Sorkin, Ben Mezrich\n",
      "Actors: Jesse Eisenberg, Andrew Garfield, Justin Timberlake\n",
      "Plot: As Harvard student Mark Zuckerberg creates the social networking site that would become known as Facebook, he is sued by the twins who claimed he stole their idea, and by the co-founder who was later squeezed out of the business.\n",
      "Language: English, French\n",
      "Country: United States\n",
      "Awards: Won 3 Oscars. 172 wins & 186 nominations total\n",
      "Poster: https://m.media-amazon.com/images/M/MV5BOGUyZDUxZjEtMmIzMC00MzlmLTg4MGItZWJmMzBhZjE0Mjc1XkEyXkFqcGdeQXVyMTMxODk2OTU@._V1_SX300.jpg\n",
      "Ratings: [{'Source': 'Internet Movie Database', 'Value': '7.7/10'}, {'Source': 'Rotten Tomatoes', 'Value': '96%'}, {'Source': 'Metacritic', 'Value': '95/100'}]\n",
      "Metascore: 95\n",
      "imdbRating: 7.7\n",
      "imdbVotes: 660,629\n",
      "imdbID: tt1285016\n",
      "Type: movie\n",
      "DVD: 11 Jan 2011\n",
      "BoxOffice: $96,962,694\n",
      "Production: N/A\n",
      "Website: N/A\n",
      "Response: True\n"
     ]
    }
   ],
   "source": [
    "# APIs and interacting with the world wide web\n",
    "\n",
    "import requests\n",
    "url = 'http://www.omdbapi.com/?apikey=72bc447a&t=the+social+network' # ?t= 쿼리문자열,기존의 계층 적 경로 구조에 반드시 맞지 않는 URL의 일부\n",
    "r = requests.get(url)\n",
    "json_data = r.json()\n",
    "for  k, v in json_data.items():\n",
    "    print(k + ':', v)"
   ]
  },
  {
   "cell_type": "code",
   "execution_count": 5,
   "id": "7faf79f9",
   "metadata": {},
   "outputs": [
    {
     "data": {
      "text/plain": [
       "{'batchcomplete': '',\n",
       " 'warnings': {'extracts': {'*': 'HTML may be malformed and/or unbalanced and may omit inline images. Use at your own risk. Known problems are listed at https://www.mediawiki.org/wiki/Special:MyLanguage/Extension:TextExtracts#Caveats.'}},\n",
       " 'query': {'normalized': [{'from': 'pizza', 'to': 'Pizza'}],\n",
       "  'pages': {'24768': {'pageid': 24768,\n",
       "    'ns': 0,\n",
       "    'title': 'Pizza',\n",
       "    'extract': '<link rel=\"mw-deduplicated-inline-style\" href=\"mw-data:TemplateStyles:r1033289096\">\\n<p class=\"mw-empty-elt\">\\n</p>\\n<p><b>Pizza</b> (<small>Italian:\\xa0</small><span title=\"Representation in the International Phonetic Alphabet (IPA)\">[ˈpittsa]</span>, <small>Neapolitan:\\xa0</small><span title=\"Representation in the International Phonetic Alphabet (IPA)\">[ˈpittsə]</span>) is a dish of  Italian origin consisting of a usually round, flat base of leavened wheat-based dough topped with tomatoes, cheese, and often various other ingredients (such as anchovies, mushrooms, onions, olives, pineapple, meat, etc.), which is then baked at a high temperature, traditionally in a wood-fired oven. A small pizza is sometimes called a pizzetta. A person who makes pizza is known as a <b>pizzaiolo</b>.\\n</p><p>In Italy, pizza served in formal settings, such as at a restaurant, is presented unsliced, and is eaten with the use of a knife and fork. In casual settings, however, it is cut into wedges to be eaten while held in the hand.\\n</p><p>The term <i>pizza</i> was first recorded in the 10th century in a Latin manuscript from the Southern Italian town of Gaeta in Lazio, on the border with Campania. Modern pizza was invented in Naples, and the dish and its variants have since become popular in many countries. It has become one of the most popular foods in the world and a common fast food item in Europe, North America and Australasia; available at pizzerias (restaurants specializing in pizza),  restaurants offering Mediterranean cuisine, via pizza delivery, and as street food. Various food companies sell ready-baked pizzas, which may be frozen, in grocery stores, to be reheated in a home oven.\\n</p><p>In 2017, the world pizza market was US$128 billion, and in the US it was $44 billion spread over 76,000 pizzerias.  Overall, 13% of the U.S. population aged 2 years and over consumed pizza on any given day.</p><p>The <i>Associazione Verace Pizza Napoletana</i> (lit. True Neapolitan Pizza Association) is a non-profit organization founded in 1984 with headquarters in Naples that aims to promote traditional Neapolitan pizza. In 2009, upon Italy\\'s request, Neapolitan pizza was registered with the European Union as a Traditional Speciality Guaranteed dish, and in 2017 the art of its making was included on UNESCO\\'s list of intangible cultural heritage.</p>'}}}}"
      ]
     },
     "execution_count": 5,
     "metadata": {},
     "output_type": "execute_result"
    }
   ],
   "source": [
    "url = 'https://en.wikipedia.org/w/api.php?action=query&prop=extracts&format=json&exintro=&titles=pizza'\n",
    "r= requests.get(url)\n",
    "json_data = r.json()\n",
    "json_data"
   ]
  },
  {
   "cell_type": "code",
   "execution_count": 6,
   "id": "9cef6979",
   "metadata": {},
   "outputs": [
    {
     "name": "stdout",
     "output_type": "stream",
     "text": [
      "<link rel=\"mw-deduplicated-inline-style\" href=\"mw-data:TemplateStyles:r1033289096\">\n",
      "<p class=\"mw-empty-elt\">\n",
      "</p>\n",
      "<p><b>Pizza</b> (<small>Italian: </small><span title=\"Representation in the International Phonetic Alphabet (IPA)\">[ˈpittsa]</span>, <small>Neapolitan: </small><span title=\"Representation in the International Phonetic Alphabet (IPA)\">[ˈpittsə]</span>) is a dish of  Italian origin consisting of a usually round, flat base of leavened wheat-based dough topped with tomatoes, cheese, and often various other ingredients (such as anchovies, mushrooms, onions, olives, pineapple, meat, etc.), which is then baked at a high temperature, traditionally in a wood-fired oven. A small pizza is sometimes called a pizzetta. A person who makes pizza is known as a <b>pizzaiolo</b>.\n",
      "</p><p>In Italy, pizza served in formal settings, such as at a restaurant, is presented unsliced, and is eaten with the use of a knife and fork. In casual settings, however, it is cut into wedges to be eaten while held in the hand.\n",
      "</p><p>The term <i>pizza</i> was first recorded in the 10th century in a Latin manuscript from the Southern Italian town of Gaeta in Lazio, on the border with Campania. Modern pizza was invented in Naples, and the dish and its variants have since become popular in many countries. It has become one of the most popular foods in the world and a common fast food item in Europe, North America and Australasia; available at pizzerias (restaurants specializing in pizza),  restaurants offering Mediterranean cuisine, via pizza delivery, and as street food. Various food companies sell ready-baked pizzas, which may be frozen, in grocery stores, to be reheated in a home oven.\n",
      "</p><p>In 2017, the world pizza market was US$128 billion, and in the US it was $44 billion spread over 76,000 pizzerias.  Overall, 13% of the U.S. population aged 2 years and over consumed pizza on any given day.</p><p>The <i>Associazione Verace Pizza Napoletana</i> (lit. True Neapolitan Pizza Association) is a non-profit organization founded in 1984 with headquarters in Naples that aims to promote traditional Neapolitan pizza. In 2009, upon Italy's request, Neapolitan pizza was registered with the European Union as a Traditional Speciality Guaranteed dish, and in 2017 the art of its making was included on UNESCO's list of intangible cultural heritage.</p>\n"
     ]
    }
   ],
   "source": [
    "pizza_extract = json_data['query']['pages']['24768']['extract']\n",
    "print(pizza_extract)"
   ]
  }
 ],
 "metadata": {
  "kernelspec": {
   "display_name": "Python 3",
   "language": "python",
   "name": "python3"
  },
  "language_info": {
   "codemirror_mode": {
    "name": "ipython",
    "version": 3
   },
   "file_extension": ".py",
   "mimetype": "text/x-python",
   "name": "python",
   "nbconvert_exporter": "python",
   "pygments_lexer": "ipython3",
   "version": "3.8.8"
  }
 },
 "nbformat": 4,
 "nbformat_minor": 5
}
