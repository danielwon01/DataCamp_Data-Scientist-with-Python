{
 "cells": [
  {
   "cell_type": "markdown",
   "id": "e7bc4a4c",
   "metadata": {},
   "source": [
    "# Aggregating DataFrames -  Summary statistics "
   ]
  },
  {
   "cell_type": "code",
   "execution_count": 90,
   "id": "9f66b289",
   "metadata": {},
   "outputs": [],
   "source": [
    "import numpy as np\n",
    "import pandas as pd"
   ]
  },
  {
   "cell_type": "code",
   "execution_count": 48,
   "id": "52ff00b5",
   "metadata": {},
   "outputs": [
    {
     "data": {
      "text/html": [
       "<div>\n",
       "<style scoped>\n",
       "    .dataframe tbody tr th:only-of-type {\n",
       "        vertical-align: middle;\n",
       "    }\n",
       "\n",
       "    .dataframe tbody tr th {\n",
       "        vertical-align: top;\n",
       "    }\n",
       "\n",
       "    .dataframe thead th {\n",
       "        text-align: right;\n",
       "    }\n",
       "</style>\n",
       "<table border=\"1\" class=\"dataframe\">\n",
       "  <thead>\n",
       "    <tr style=\"text-align: right;\">\n",
       "      <th></th>\n",
       "      <th>Ship Mode</th>\n",
       "      <th>Segment</th>\n",
       "      <th>Country</th>\n",
       "      <th>City</th>\n",
       "      <th>State</th>\n",
       "      <th>Postal Code</th>\n",
       "      <th>Region</th>\n",
       "      <th>Category</th>\n",
       "      <th>Sub-Category</th>\n",
       "      <th>Sales</th>\n",
       "      <th>Quantity</th>\n",
       "      <th>Discount</th>\n",
       "      <th>Profit</th>\n",
       "    </tr>\n",
       "  </thead>\n",
       "  <tbody>\n",
       "    <tr>\n",
       "      <th>0</th>\n",
       "      <td>Second Class</td>\n",
       "      <td>Consumer</td>\n",
       "      <td>United States</td>\n",
       "      <td>Henderson</td>\n",
       "      <td>Kentucky</td>\n",
       "      <td>42420</td>\n",
       "      <td>South</td>\n",
       "      <td>Furniture</td>\n",
       "      <td>Bookcases</td>\n",
       "      <td>261.96</td>\n",
       "      <td>2</td>\n",
       "      <td>0.0</td>\n",
       "      <td>41.9136</td>\n",
       "    </tr>\n",
       "    <tr>\n",
       "      <th>1</th>\n",
       "      <td>Second Class</td>\n",
       "      <td>Consumer</td>\n",
       "      <td>United States</td>\n",
       "      <td>Henderson</td>\n",
       "      <td>Kentucky</td>\n",
       "      <td>42420</td>\n",
       "      <td>South</td>\n",
       "      <td>Furniture</td>\n",
       "      <td>Chairs</td>\n",
       "      <td>731.94</td>\n",
       "      <td>3</td>\n",
       "      <td>0.0</td>\n",
       "      <td>219.5820</td>\n",
       "    </tr>\n",
       "    <tr>\n",
       "      <th>2</th>\n",
       "      <td>Second Class</td>\n",
       "      <td>Corporate</td>\n",
       "      <td>United States</td>\n",
       "      <td>Los Angeles</td>\n",
       "      <td>California</td>\n",
       "      <td>90036</td>\n",
       "      <td>West</td>\n",
       "      <td>Office Supplies</td>\n",
       "      <td>Labels</td>\n",
       "      <td>14.62</td>\n",
       "      <td>2</td>\n",
       "      <td>0.0</td>\n",
       "      <td>6.8714</td>\n",
       "    </tr>\n",
       "  </tbody>\n",
       "</table>\n",
       "</div>"
      ],
      "text/plain": [
       "      Ship Mode    Segment        Country         City       State  \\\n",
       "0  Second Class   Consumer  United States    Henderson    Kentucky   \n",
       "1  Second Class   Consumer  United States    Henderson    Kentucky   \n",
       "2  Second Class  Corporate  United States  Los Angeles  California   \n",
       "\n",
       "   Postal Code Region         Category Sub-Category   Sales  Quantity  \\\n",
       "0        42420  South        Furniture    Bookcases  261.96         2   \n",
       "1        42420  South        Furniture       Chairs  731.94         3   \n",
       "2        90036   West  Office Supplies       Labels   14.62         2   \n",
       "\n",
       "   Discount    Profit  \n",
       "0       0.0   41.9136  \n",
       "1       0.0  219.5820  \n",
       "2       0.0    6.8714  "
      ]
     },
     "execution_count": 48,
     "metadata": {},
     "output_type": "execute_result"
    }
   ],
   "source": [
    "sp = pd.read_csv ( \"Desktop/SampleSuperstore.csv\")\n",
    "sp.head(3)"
   ]
  },
  {
   "cell_type": "markdown",
   "id": "40de9bfd",
   "metadata": {},
   "source": [
    "#### 결측값 확인 "
   ]
  },
  {
   "cell_type": "code",
   "execution_count": 50,
   "id": "9df61679",
   "metadata": {},
   "outputs": [
    {
     "name": "stdout",
     "output_type": "stream",
     "text": [
      "0.0 Ship Mode\n",
      "0.0 Segment\n",
      "0.0 Country\n",
      "0.0 City\n",
      "0.0 State\n",
      "0.0 Postal Code\n",
      "0.0 Region\n",
      "0.0 Category\n",
      "0.0 Sub-Category\n",
      "0.0 Sales\n",
      "0.0 Quantity\n",
      "0.0 Discount\n",
      "0.0 Profit\n"
     ]
    }
   ],
   "source": [
    "for col in sp.columns :\n",
    "    print(np.round (sp[col].isnull().sum() / len(sp[col] * 100 ) , 1) , col )"
   ]
  },
  {
   "cell_type": "markdown",
   "id": "1eb546fc",
   "metadata": {},
   "source": [
    "#### Summary statistics  데이터 세트에 대해 요약하고 알려주는 숫자"
   ]
  },
  {
   "cell_type": "markdown",
   "id": "25143e29",
   "metadata": {},
   "source": [
    "SuperStore 데이터 셋 에서 Sales 데이터를 갖고 Summary statistics 주로 표현하겠습니다. "
   ]
  },
  {
   "cell_type": "markdown",
   "id": "521309cd",
   "metadata": {},
   "source": [
    " #### mean () 평균"
   ]
  },
  {
   "cell_type": "code",
   "execution_count": 51,
   "id": "c3c0f131",
   "metadata": {},
   "outputs": [
    {
     "data": {
      "text/plain": [
       "229.85790077045777"
      ]
     },
     "execution_count": 51,
     "metadata": {},
     "output_type": "execute_result"
    }
   ],
   "source": [
    "sp[\"Sales\"].mean()"
   ]
  },
  {
   "cell_type": "markdown",
   "id": "ead9ceb6",
   "metadata": {},
   "source": [
    "#### min()    최솟값 "
   ]
  },
  {
   "cell_type": "code",
   "execution_count": 53,
   "id": "ba6bb6f9",
   "metadata": {},
   "outputs": [
    {
     "data": {
      "text/plain": [
       "0.444"
      ]
     },
     "execution_count": 53,
     "metadata": {},
     "output_type": "execute_result"
    }
   ],
   "source": [
    "sp[\"Sales\"].min()"
   ]
  },
  {
   "cell_type": "markdown",
   "id": "82b7d4be",
   "metadata": {},
   "source": [
    "#### max()  최대값"
   ]
  },
  {
   "cell_type": "code",
   "execution_count": 55,
   "id": "82826564",
   "metadata": {},
   "outputs": [
    {
     "data": {
      "text/plain": [
       "22638.48"
      ]
     },
     "execution_count": 55,
     "metadata": {},
     "output_type": "execute_result"
    }
   ],
   "source": [
    "sp[\"Sales\"].max()"
   ]
  },
  {
   "cell_type": "markdown",
   "id": "56a14d91",
   "metadata": {},
   "source": [
    "#### median() # 중앙값 반환"
   ]
  },
  {
   "cell_type": "code",
   "execution_count": 57,
   "id": "747d2280",
   "metadata": {},
   "outputs": [
    {
     "data": {
      "text/plain": [
       "54.489999999999995"
      ]
     },
     "execution_count": 57,
     "metadata": {},
     "output_type": "execute_result"
    }
   ],
   "source": [
    "sp[\"Sales\"].median()"
   ]
  },
  {
   "cell_type": "markdown",
   "id": "335497c1",
   "metadata": {},
   "source": [
    "#### mode() # 최빈값 반환  ( 빈도수가 가장 많은 값 )"
   ]
  },
  {
   "cell_type": "code",
   "execution_count": 58,
   "id": "53168ae4",
   "metadata": {},
   "outputs": [
    {
     "data": {
      "text/plain": [
       "0    12.96\n",
       "dtype: float64"
      ]
     },
     "execution_count": 58,
     "metadata": {},
     "output_type": "execute_result"
    }
   ],
   "source": [
    "sp[\"Sales\"].mode() # 0이 12.96번으로 sp[\"Sales\"] 에 있는 가장 많은 데이터값"
   ]
  },
  {
   "cell_type": "markdown",
   "id": "56c9d9dc",
   "metadata": {},
   "source": [
    "#### var()   분산 "
   ]
  },
  {
   "cell_type": "code",
   "execution_count": 59,
   "id": "f9bee7c1",
   "metadata": {},
   "outputs": [
    {
     "data": {
      "text/plain": [
       "388434.4842038931"
      ]
     },
     "execution_count": 59,
     "metadata": {},
     "output_type": "execute_result"
    }
   ],
   "source": [
    "sp[\"Sales\"].var()"
   ]
  },
  {
   "cell_type": "markdown",
   "id": "917d366b",
   "metadata": {},
   "source": [
    "#### std()  표준편차"
   ]
  },
  {
   "cell_type": "code",
   "execution_count": 60,
   "id": "2ef8b119",
   "metadata": {},
   "outputs": [
    {
     "data": {
      "text/plain": [
       "623.245123690425"
      ]
     },
     "execution_count": 60,
     "metadata": {},
     "output_type": "execute_result"
    }
   ],
   "source": [
    "sp[\"Sales\"].std()"
   ]
  },
  {
   "cell_type": "markdown",
   "id": "4e619913",
   "metadata": {},
   "source": [
    "#### sum()   합계"
   ]
  },
  {
   "cell_type": "code",
   "execution_count": 61,
   "id": "ed079f95",
   "metadata": {},
   "outputs": [
    {
     "data": {
      "text/plain": [
       "2297199.8603000003"
      ]
     },
     "execution_count": 61,
     "metadata": {},
     "output_type": "execute_result"
    }
   ],
   "source": [
    "sp[\"Sales\"].sum()"
   ]
  },
  {
   "cell_type": "markdown",
   "id": "34e8db55",
   "metadata": {},
   "source": [
    "#### quantile()  \n",
    "* quantile 은 수치 데이터를 크기 순서로 정렬했을 때 0% ~ 100% (0 ~ 1) 위치에 해당하는 숫자를 리턴.\n",
    "\n",
    "* 즉, Q1 은 25% , Q2 는 50%, Q3 는 75%, Q4 는 100% 를 파라미터로 주면 되는데,각 퍼센트는 소수로 입력하면 됩니다."
   ]
  },
  {
   "cell_type": "code",
   "execution_count": 64,
   "id": "aa448dba",
   "metadata": {},
   "outputs": [
    {
     "data": {
      "text/plain": [
       "17.28"
      ]
     },
     "metadata": {},
     "output_type": "display_data"
    },
    {
     "data": {
      "text/plain": [
       "54.489999999999995"
      ]
     },
     "metadata": {},
     "output_type": "display_data"
    },
    {
     "data": {
      "text/plain": [
       "209.94"
      ]
     },
     "metadata": {},
     "output_type": "display_data"
    }
   ],
   "source": [
    "sp[\"Sales\"].quantile()\n",
    "\n",
    "display(sp[\"Sales\"].quantile(0.25), sp[\"Sales\"].quantile(0.5) , sp[\"Sales\"].quantile(0.75))"
   ]
  },
  {
   "cell_type": "markdown",
   "id": "ab7db663",
   "metadata": {},
   "source": [
    "#### cumsum() , cummin() ,cummax( )    누적합계 , 누적최소값 , 누적최대값"
   ]
  },
  {
   "cell_type": "code",
   "execution_count": 82,
   "id": "e92af7fc",
   "metadata": {},
   "outputs": [
    {
     "data": {
      "text/plain": [
       "0           2\n",
       "1           5\n",
       "2           7\n",
       "3          12\n",
       "4          14\n",
       "        ...  \n",
       "9989    37863\n",
       "9990    37865\n",
       "9991    37867\n",
       "9992    37871\n",
       "9993    37873\n",
       "Name: Quantity, Length: 9994, dtype: int64"
      ]
     },
     "metadata": {},
     "output_type": "display_data"
    },
    {
     "data": {
      "text/plain": [
       "0       2\n",
       "1       2\n",
       "2       2\n",
       "3       2\n",
       "4       2\n",
       "       ..\n",
       "9989    1\n",
       "9990    1\n",
       "9991    1\n",
       "9992    1\n",
       "9993    1\n",
       "Name: Quantity, Length: 9994, dtype: int64"
      ]
     },
     "metadata": {},
     "output_type": "display_data"
    },
    {
     "data": {
      "text/plain": [
       "0        2\n",
       "1        3\n",
       "2        3\n",
       "3        5\n",
       "4        5\n",
       "        ..\n",
       "9989    14\n",
       "9990    14\n",
       "9991    14\n",
       "9992    14\n",
       "9993    14\n",
       "Name: Quantity, Length: 9994, dtype: int64"
      ]
     },
     "metadata": {},
     "output_type": "display_data"
    }
   ],
   "source": [
    "display ( sp[\"Quantity\"].cumsum() , sp[\"Quantity\"].cummin(), sp[\"Quantity\"].cummax () )"
   ]
  },
  {
   "cell_type": "markdown",
   "id": "fd015680",
   "metadata": {},
   "source": [
    "#### agg() method 사용자 정의 요약 통계를 계산할 수 있다. df['column'].agg(function)"
   ]
  },
  {
   "cell_type": "code",
   "execution_count": 84,
   "id": "01c22b13",
   "metadata": {},
   "outputs": [
    {
     "data": {
      "text/plain": [
       "2297199.8603000003"
      ]
     },
     "execution_count": 84,
     "metadata": {},
     "output_type": "execute_result"
    }
   ],
   "source": [
    "sp['Sales'].agg(sum)"
   ]
  },
  {
   "cell_type": "code",
   "execution_count": 88,
   "id": "3fcc0a05",
   "metadata": {},
   "outputs": [
    {
     "data": {
      "text/html": [
       "<div>\n",
       "<style scoped>\n",
       "    .dataframe tbody tr th:only-of-type {\n",
       "        vertical-align: middle;\n",
       "    }\n",
       "\n",
       "    .dataframe tbody tr th {\n",
       "        vertical-align: top;\n",
       "    }\n",
       "\n",
       "    .dataframe thead th {\n",
       "        text-align: right;\n",
       "    }\n",
       "</style>\n",
       "<table border=\"1\" class=\"dataframe\">\n",
       "  <thead>\n",
       "    <tr style=\"text-align: right;\">\n",
       "      <th></th>\n",
       "      <th>Sales</th>\n",
       "      <th>Quantity</th>\n",
       "    </tr>\n",
       "  </thead>\n",
       "  <tbody>\n",
       "    <tr>\n",
       "      <th>std</th>\n",
       "      <td>6.232451e+02</td>\n",
       "      <td>2.225110</td>\n",
       "    </tr>\n",
       "    <tr>\n",
       "      <th>mean</th>\n",
       "      <td>2.298579e+02</td>\n",
       "      <td>3.789574</td>\n",
       "    </tr>\n",
       "    <tr>\n",
       "      <th>sum</th>\n",
       "      <td>2.297200e+06</td>\n",
       "      <td>37873.000000</td>\n",
       "    </tr>\n",
       "  </tbody>\n",
       "</table>\n",
       "</div>"
      ],
      "text/plain": [
       "             Sales      Quantity\n",
       "std   6.232451e+02      2.225110\n",
       "mean  2.298579e+02      3.789574\n",
       "sum   2.297200e+06  37873.000000"
      ]
     },
     "execution_count": 88,
     "metadata": {},
     "output_type": "execute_result"
    }
   ],
   "source": [
    "sp[[\"Sales\", \"Quantity\"]].agg([ 'std' , 'mean' , 'sum' ])"
   ]
  }
 ],
 "metadata": {
  "kernelspec": {
   "display_name": "Python 3",
   "language": "python",
   "name": "python3"
  },
  "language_info": {
   "codemirror_mode": {
    "name": "ipython",
    "version": 3
   },
   "file_extension": ".py",
   "mimetype": "text/x-python",
   "name": "python",
   "nbconvert_exporter": "python",
   "pygments_lexer": "ipython3",
   "version": "3.8.8"
  }
 },
 "nbformat": 4,
 "nbformat_minor": 5
}
