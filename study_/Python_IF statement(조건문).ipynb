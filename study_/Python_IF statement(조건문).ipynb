{
 "cells": [
  {
   "cell_type": "markdown",
   "id": "40076cd4",
   "metadata": {},
   "source": [
    "# If statement (조건문)"
   ]
  },
  {
   "cell_type": "markdown",
   "id": "af0932dc",
   "metadata": {},
   "source": [
    "* if , elif , else 구문을 이용하여 조건문을 사용할 수 있다."
   ]
  },
  {
   "cell_type": "markdown",
   "id": "28e3dea7",
   "metadata": {},
   "source": [
    "#### if 문 사용해보기"
   ]
  },
  {
   "cell_type": "code",
   "execution_count": 1,
   "id": "c24c2ac7",
   "metadata": {},
   "outputs": [
    {
     "name": "stdout",
     "output_type": "stream",
     "text": [
      "너는 숫자 3\n"
     ]
    }
   ],
   "source": [
    "a = 3\n",
    "\n",
    "if a ==3 :\n",
    "    print(\"너는 숫자 3\")"
   ]
  },
  {
   "cell_type": "markdown",
   "id": "e41fde55",
   "metadata": {},
   "source": [
    "#### if , elif , else 를 이용해 자판기 만들어보기 \n",
    "\n",
    "* **자판기에 들어갈 프로그램을 만들어야 한다.** 자판기에 입력된 돈이 300원이면 커피를 주고, 300원보다 적은 경우엔 돈을 그냥 돌려주고, 300원보다 많은 경우에는 커피와 함께 거스름돈을 주어야 한다. 이를 어떻게 구현할 수 있을까?"
   ]
  },
  {
   "cell_type": "code",
   "execution_count": 3,
   "id": "af660c28",
   "metadata": {},
   "outputs": [
    {
     "name": "stdout",
     "output_type": "stream",
     "text": [
      "coffee\n",
      "400원 거스름돈 입니다.\n"
     ]
    }
   ],
   "source": [
    "money = 700\n",
    "\n",
    "if  money == 300 :\n",
    "    print(\"coffee\")\n",
    "\n",
    "elif money < 300 :\n",
    "    print(\"%d원을 돌려드립니다 .\" % (money))\n",
    "\n",
    "else :\n",
    "    print(\"coffee\")\n",
    "    print(\"%d원 거스름돈 입니다.\" % (money - 300))\n"
   ]
  },
  {
   "cell_type": "markdown",
   "id": "9c6cdc89",
   "metadata": {},
   "source": [
    "#### if-elif-else 말고 nested 구조를 이용해 작성해보자. "
   ]
  },
  {
   "cell_type": "code",
   "execution_count": 4,
   "id": "c1555023",
   "metadata": {},
   "outputs": [
    {
     "name": "stdout",
     "output_type": "stream",
     "text": [
      "150원을 돌려줍니다.\n"
     ]
    }
   ],
   "source": [
    "money = 150\n",
    "if money == 300:\n",
    "    print(\"Coffee\")\n",
    "else:\n",
    "    if money < 300:\n",
    "        print(\"%d원을 돌려줍니다.\" % money)\n",
    "    else:\n",
    "        print(\"Coffee\")\n",
    "        print(\"%d원을 돌려줍니다.\" % (money - 300))"
   ]
  },
  {
   "cell_type": "markdown",
   "id": "446f7251",
   "metadata": {},
   "source": [
    "elif 없이 else 안에 if문을 작성하여 조건을 줍니다. "
   ]
  }
 ],
 "metadata": {
  "kernelspec": {
   "display_name": "Python 3",
   "language": "python",
   "name": "python3"
  },
  "language_info": {
   "codemirror_mode": {
    "name": "ipython",
    "version": 3
   },
   "file_extension": ".py",
   "mimetype": "text/x-python",
   "name": "python",
   "nbconvert_exporter": "python",
   "pygments_lexer": "ipython3",
   "version": "3.8.8"
  }
 },
 "nbformat": 4,
 "nbformat_minor": 5
}
