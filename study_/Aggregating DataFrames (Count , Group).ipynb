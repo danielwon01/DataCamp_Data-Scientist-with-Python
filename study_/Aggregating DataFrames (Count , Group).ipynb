{
 "cells": [
  {
   "cell_type": "markdown",
   "id": "e815eda6",
   "metadata": {},
   "source": [
    "# Aggregating DataFrames \n",
    "* count  계수를 사용하여 범주 형 데이터를 요약 \n",
    "* Grouped summary statistics "
   ]
  },
  {
   "cell_type": "code",
   "execution_count": 1,
   "id": "2509b44b",
   "metadata": {},
   "outputs": [],
   "source": [
    "import numpy as np\n",
    "import pandas as pd"
   ]
  },
  {
   "cell_type": "code",
   "execution_count": 3,
   "id": "b3d576dc",
   "metadata": {},
   "outputs": [
    {
     "data": {
      "text/html": [
       "<div>\n",
       "<style scoped>\n",
       "    .dataframe tbody tr th:only-of-type {\n",
       "        vertical-align: middle;\n",
       "    }\n",
       "\n",
       "    .dataframe tbody tr th {\n",
       "        vertical-align: top;\n",
       "    }\n",
       "\n",
       "    .dataframe thead th {\n",
       "        text-align: right;\n",
       "    }\n",
       "</style>\n",
       "<table border=\"1\" class=\"dataframe\">\n",
       "  <thead>\n",
       "    <tr style=\"text-align: right;\">\n",
       "      <th></th>\n",
       "      <th>datetime</th>\n",
       "      <th>season</th>\n",
       "      <th>holiday</th>\n",
       "      <th>workingday</th>\n",
       "      <th>weather</th>\n",
       "      <th>temp</th>\n",
       "      <th>atemp</th>\n",
       "      <th>humidity</th>\n",
       "      <th>windspeed</th>\n",
       "      <th>casual</th>\n",
       "      <th>registered</th>\n",
       "      <th>count</th>\n",
       "    </tr>\n",
       "  </thead>\n",
       "  <tbody>\n",
       "    <tr>\n",
       "      <th>0</th>\n",
       "      <td>2011-01-01 00:00:00</td>\n",
       "      <td>1</td>\n",
       "      <td>0</td>\n",
       "      <td>0</td>\n",
       "      <td>1</td>\n",
       "      <td>9.84</td>\n",
       "      <td>14.395</td>\n",
       "      <td>81</td>\n",
       "      <td>0.0</td>\n",
       "      <td>3</td>\n",
       "      <td>13</td>\n",
       "      <td>16</td>\n",
       "    </tr>\n",
       "    <tr>\n",
       "      <th>1</th>\n",
       "      <td>2011-01-01 01:00:00</td>\n",
       "      <td>1</td>\n",
       "      <td>0</td>\n",
       "      <td>0</td>\n",
       "      <td>1</td>\n",
       "      <td>9.02</td>\n",
       "      <td>13.635</td>\n",
       "      <td>80</td>\n",
       "      <td>0.0</td>\n",
       "      <td>8</td>\n",
       "      <td>32</td>\n",
       "      <td>40</td>\n",
       "    </tr>\n",
       "    <tr>\n",
       "      <th>2</th>\n",
       "      <td>2011-01-01 02:00:00</td>\n",
       "      <td>1</td>\n",
       "      <td>0</td>\n",
       "      <td>0</td>\n",
       "      <td>1</td>\n",
       "      <td>9.02</td>\n",
       "      <td>13.635</td>\n",
       "      <td>80</td>\n",
       "      <td>0.0</td>\n",
       "      <td>5</td>\n",
       "      <td>27</td>\n",
       "      <td>32</td>\n",
       "    </tr>\n",
       "  </tbody>\n",
       "</table>\n",
       "</div>"
      ],
      "text/plain": [
       "              datetime  season  holiday  workingday  weather  temp   atemp  \\\n",
       "0  2011-01-01 00:00:00       1        0           0        1  9.84  14.395   \n",
       "1  2011-01-01 01:00:00       1        0           0        1  9.02  13.635   \n",
       "2  2011-01-01 02:00:00       1        0           0        1  9.02  13.635   \n",
       "\n",
       "   humidity  windspeed  casual  registered  count  \n",
       "0        81        0.0       3          13     16  \n",
       "1        80        0.0       8          32     40  \n",
       "2        80        0.0       5          27     32  "
      ]
     },
     "execution_count": 3,
     "metadata": {},
     "output_type": "execute_result"
    }
   ],
   "source": [
    "bike = pd.read_csv(\"Desktop/bike.csv\")\n",
    "bike.head(3)"
   ]
  },
  {
   "cell_type": "markdown",
   "id": "5e06b124",
   "metadata": {},
   "source": [
    "#### drop_duplicates- 중복값 처리(unique한 1개의 key만 남기고 나머지 중복은 제거)\n",
    "\n"
   ]
  },
  {
   "cell_type": "code",
   "execution_count": 16,
   "id": "c3f43b43",
   "metadata": {},
   "outputs": [
    {
     "data": {
      "text/html": [
       "<div>\n",
       "<style scoped>\n",
       "    .dataframe tbody tr th:only-of-type {\n",
       "        vertical-align: middle;\n",
       "    }\n",
       "\n",
       "    .dataframe tbody tr th {\n",
       "        vertical-align: top;\n",
       "    }\n",
       "\n",
       "    .dataframe thead th {\n",
       "        text-align: right;\n",
       "    }\n",
       "</style>\n",
       "<table border=\"1\" class=\"dataframe\">\n",
       "  <thead>\n",
       "    <tr style=\"text-align: right;\">\n",
       "      <th></th>\n",
       "      <th>datetime</th>\n",
       "      <th>season</th>\n",
       "      <th>holiday</th>\n",
       "      <th>workingday</th>\n",
       "      <th>weather</th>\n",
       "      <th>temp</th>\n",
       "      <th>atemp</th>\n",
       "      <th>humidity</th>\n",
       "      <th>windspeed</th>\n",
       "      <th>casual</th>\n",
       "      <th>registered</th>\n",
       "      <th>count</th>\n",
       "    </tr>\n",
       "  </thead>\n",
       "  <tbody>\n",
       "    <tr>\n",
       "      <th>8311</th>\n",
       "      <td>2012-07-07 16:00:00</td>\n",
       "      <td>3</td>\n",
       "      <td>0</td>\n",
       "      <td>0</td>\n",
       "      <td>1</td>\n",
       "      <td>41.00</td>\n",
       "      <td>43.180</td>\n",
       "      <td>19</td>\n",
       "      <td>11.0014</td>\n",
       "      <td>102</td>\n",
       "      <td>192</td>\n",
       "      <td>294</td>\n",
       "    </tr>\n",
       "    <tr>\n",
       "      <th>8309</th>\n",
       "      <td>2012-07-07 14:00:00</td>\n",
       "      <td>3</td>\n",
       "      <td>0</td>\n",
       "      <td>0</td>\n",
       "      <td>2</td>\n",
       "      <td>39.36</td>\n",
       "      <td>43.180</td>\n",
       "      <td>30</td>\n",
       "      <td>8.9981</td>\n",
       "      <td>105</td>\n",
       "      <td>203</td>\n",
       "      <td>308</td>\n",
       "    </tr>\n",
       "    <tr>\n",
       "      <th>8307</th>\n",
       "      <td>2012-07-07 12:00:00</td>\n",
       "      <td>3</td>\n",
       "      <td>0</td>\n",
       "      <td>0</td>\n",
       "      <td>1</td>\n",
       "      <td>39.36</td>\n",
       "      <td>43.180</td>\n",
       "      <td>31</td>\n",
       "      <td>23.9994</td>\n",
       "      <td>124</td>\n",
       "      <td>218</td>\n",
       "      <td>342</td>\n",
       "    </tr>\n",
       "    <tr>\n",
       "      <th>8308</th>\n",
       "      <td>2012-07-07 13:00:00</td>\n",
       "      <td>3</td>\n",
       "      <td>0</td>\n",
       "      <td>0</td>\n",
       "      <td>2</td>\n",
       "      <td>39.36</td>\n",
       "      <td>43.180</td>\n",
       "      <td>31</td>\n",
       "      <td>16.9979</td>\n",
       "      <td>116</td>\n",
       "      <td>244</td>\n",
       "      <td>360</td>\n",
       "    </tr>\n",
       "    <tr>\n",
       "      <th>8312</th>\n",
       "      <td>2012-07-07 17:00:00</td>\n",
       "      <td>3</td>\n",
       "      <td>0</td>\n",
       "      <td>0</td>\n",
       "      <td>1</td>\n",
       "      <td>39.36</td>\n",
       "      <td>42.425</td>\n",
       "      <td>26</td>\n",
       "      <td>8.9981</td>\n",
       "      <td>103</td>\n",
       "      <td>176</td>\n",
       "      <td>279</td>\n",
       "    </tr>\n",
       "  </tbody>\n",
       "</table>\n",
       "</div>"
      ],
      "text/plain": [
       "                 datetime  season  holiday  workingday  weather   temp  \\\n",
       "8311  2012-07-07 16:00:00       3        0           0        1  41.00   \n",
       "8309  2012-07-07 14:00:00       3        0           0        2  39.36   \n",
       "8307  2012-07-07 12:00:00       3        0           0        1  39.36   \n",
       "8308  2012-07-07 13:00:00       3        0           0        2  39.36   \n",
       "8312  2012-07-07 17:00:00       3        0           0        1  39.36   \n",
       "\n",
       "       atemp  humidity  windspeed  casual  registered  count  \n",
       "8311  43.180        19    11.0014     102         192    294  \n",
       "8309  43.180        30     8.9981     105         203    308  \n",
       "8307  43.180        31    23.9994     124         218    342  \n",
       "8308  43.180        31    16.9979     116         244    360  \n",
       "8312  42.425        26     8.9981     103         176    279  "
      ]
     },
     "execution_count": 16,
     "metadata": {},
     "output_type": "execute_result"
    }
   ],
   "source": [
    "bike.drop_duplicates().sort_values(by = \"temp\" ,ascending = False).head(5) # 모든 열을 기준으로 중복값 제거 "
   ]
  },
  {
   "cell_type": "markdown",
   "id": "b17e2fd6",
   "metadata": {},
   "source": [
    "#### drop_duplicates(subset = \" \" )  \n",
    "* 열을 전달하면 중복된 열에 대해서만 고려됩니다. 열 또는 열 레이블 리스트를 사용하며 기본값은 none입니다. "
   ]
  },
  {
   "cell_type": "code",
   "execution_count": 32,
   "id": "fc6e165c",
   "metadata": {},
   "outputs": [
    {
     "data": {
      "text/html": [
       "<div>\n",
       "<style scoped>\n",
       "    .dataframe tbody tr th:only-of-type {\n",
       "        vertical-align: middle;\n",
       "    }\n",
       "\n",
       "    .dataframe tbody tr th {\n",
       "        vertical-align: top;\n",
       "    }\n",
       "\n",
       "    .dataframe thead th {\n",
       "        text-align: right;\n",
       "    }\n",
       "</style>\n",
       "<table border=\"1\" class=\"dataframe\">\n",
       "  <thead>\n",
       "    <tr style=\"text-align: right;\">\n",
       "      <th></th>\n",
       "      <th>datetime</th>\n",
       "      <th>season</th>\n",
       "      <th>holiday</th>\n",
       "      <th>workingday</th>\n",
       "      <th>weather</th>\n",
       "      <th>temp</th>\n",
       "      <th>atemp</th>\n",
       "      <th>humidity</th>\n",
       "      <th>windspeed</th>\n",
       "      <th>casual</th>\n",
       "      <th>registered</th>\n",
       "      <th>count</th>\n",
       "    </tr>\n",
       "  </thead>\n",
       "  <tbody>\n",
       "    <tr>\n",
       "      <th>8311</th>\n",
       "      <td>2012-07-07 16:00:00</td>\n",
       "      <td>3</td>\n",
       "      <td>0</td>\n",
       "      <td>0</td>\n",
       "      <td>1</td>\n",
       "      <td>41.00</td>\n",
       "      <td>43.180</td>\n",
       "      <td>19</td>\n",
       "      <td>11.0014</td>\n",
       "      <td>102</td>\n",
       "      <td>192</td>\n",
       "      <td>294</td>\n",
       "    </tr>\n",
       "    <tr>\n",
       "      <th>8307</th>\n",
       "      <td>2012-07-07 12:00:00</td>\n",
       "      <td>3</td>\n",
       "      <td>0</td>\n",
       "      <td>0</td>\n",
       "      <td>1</td>\n",
       "      <td>39.36</td>\n",
       "      <td>43.180</td>\n",
       "      <td>31</td>\n",
       "      <td>23.9994</td>\n",
       "      <td>124</td>\n",
       "      <td>218</td>\n",
       "      <td>342</td>\n",
       "    </tr>\n",
       "    <tr>\n",
       "      <th>2441</th>\n",
       "      <td>2011-06-09 15:00:00</td>\n",
       "      <td>2</td>\n",
       "      <td>0</td>\n",
       "      <td>1</td>\n",
       "      <td>1</td>\n",
       "      <td>38.54</td>\n",
       "      <td>41.665</td>\n",
       "      <td>31</td>\n",
       "      <td>11.0014</td>\n",
       "      <td>18</td>\n",
       "      <td>86</td>\n",
       "      <td>104</td>\n",
       "    </tr>\n",
       "    <tr>\n",
       "      <th>2416</th>\n",
       "      <td>2011-06-08 14:00:00</td>\n",
       "      <td>2</td>\n",
       "      <td>0</td>\n",
       "      <td>1</td>\n",
       "      <td>1</td>\n",
       "      <td>37.72</td>\n",
       "      <td>43.940</td>\n",
       "      <td>40</td>\n",
       "      <td>16.9979</td>\n",
       "      <td>44</td>\n",
       "      <td>111</td>\n",
       "      <td>155</td>\n",
       "    </tr>\n",
       "    <tr>\n",
       "      <th>2247</th>\n",
       "      <td>2011-06-01 13:00:00</td>\n",
       "      <td>2</td>\n",
       "      <td>0</td>\n",
       "      <td>1</td>\n",
       "      <td>1</td>\n",
       "      <td>36.90</td>\n",
       "      <td>40.910</td>\n",
       "      <td>37</td>\n",
       "      <td>12.9980</td>\n",
       "      <td>29</td>\n",
       "      <td>125</td>\n",
       "      <td>154</td>\n",
       "    </tr>\n",
       "  </tbody>\n",
       "</table>\n",
       "</div>"
      ],
      "text/plain": [
       "                 datetime  season  holiday  workingday  weather   temp  \\\n",
       "8311  2012-07-07 16:00:00       3        0           0        1  41.00   \n",
       "8307  2012-07-07 12:00:00       3        0           0        1  39.36   \n",
       "2441  2011-06-09 15:00:00       2        0           1        1  38.54   \n",
       "2416  2011-06-08 14:00:00       2        0           1        1  37.72   \n",
       "2247  2011-06-01 13:00:00       2        0           1        1  36.90   \n",
       "\n",
       "       atemp  humidity  windspeed  casual  registered  count  \n",
       "8311  43.180        19    11.0014     102         192    294  \n",
       "8307  43.180        31    23.9994     124         218    342  \n",
       "2441  41.665        31    11.0014      18          86    104  \n",
       "2416  43.940        40    16.9979      44         111    155  \n",
       "2247  40.910        37    12.9980      29         125    154  "
      ]
     },
     "execution_count": 32,
     "metadata": {},
     "output_type": "execute_result"
    }
   ],
   "source": [
    "bike.drop_duplicates(subset = \"temp\").sort_values(by = \"temp\" ,ascending = False).head(5) \n",
    "#subset 지정없이 \"열이름\" 사용 가능 "
   ]
  },
  {
   "cell_type": "markdown",
   "id": "8a51b9db",
   "metadata": {},
   "source": [
    "#### value_counts - Unique values 로 count 해주는 함수 \n",
    "* sort - 정렬인수로 수 반환\n",
    "* normalize - 정규화 인수를 사용하여 개수를 합계의 비율로 반환 "
   ]
  },
  {
   "cell_type": "code",
   "execution_count": 38,
   "id": "0f7bc707",
   "metadata": {},
   "outputs": [
    {
     "data": {
      "text/plain": [
       "3      195\n",
       "4      190\n",
       "5      177\n",
       "6      155\n",
       "2      150\n",
       "      ... \n",
       "636      1\n",
       "620      1\n",
       "678      1\n",
       "694      1\n",
       "839      1\n",
       "Name: registered, Length: 731, dtype: int64"
      ]
     },
     "execution_count": 38,
     "metadata": {},
     "output_type": "execute_result"
    }
   ],
   "source": [
    "bike[\"registered\"].value_counts(sort =True) # Sort(True)는 디폴트 "
   ]
  },
  {
   "cell_type": "code",
   "execution_count": 39,
   "id": "a1f9850a",
   "metadata": {},
   "outputs": [
    {
     "data": {
      "text/plain": [
       "3      0.017913\n",
       "4      0.017454\n",
       "5      0.016259\n",
       "6      0.014238\n",
       "2      0.013779\n",
       "         ...   \n",
       "636    0.000092\n",
       "620    0.000092\n",
       "678    0.000092\n",
       "694    0.000092\n",
       "839    0.000092\n",
       "Name: registered, Length: 731, dtype: float64"
      ]
     },
     "execution_count": 39,
     "metadata": {},
     "output_type": "execute_result"
    }
   ],
   "source": [
    "bike[\"registered\"].value_counts(normalize = True)"
   ]
  },
  {
   "cell_type": "markdown",
   "id": "e72e1e86",
   "metadata": {},
   "source": [
    "#### Grouped summary statistics "
   ]
  },
  {
   "cell_type": "markdown",
   "id": "a9c2cc03",
   "metadata": {},
   "source": [
    "#### groupby() - 데이터를 그룹별로 구분하여 비교하기 위한 함수 "
   ]
  },
  {
   "cell_type": "code",
   "execution_count": 30,
   "id": "3f959888",
   "metadata": {},
   "outputs": [
    {
     "data": {
      "text/plain": [
       "270893"
      ]
     },
     "metadata": {},
     "output_type": "display_data"
    },
    {
     "data": {
      "text/plain": [
       "458610"
      ]
     },
     "metadata": {},
     "output_type": "display_data"
    },
    {
     "data": {
      "text/plain": [
       "497944"
      ]
     },
     "metadata": {},
     "output_type": "display_data"
    },
    {
     "data": {
      "text/plain": [
       "465894"
      ]
     },
     "metadata": {},
     "output_type": "display_data"
    }
   ],
   "source": [
    "bike_registered_4 = bike[bike[\"season\"]== 4][\"registered\"].sum()\n",
    "bike_registered_3 = bike[bike[\"season\"]== 3][\"registered\"].sum()\n",
    "bike_registered_2 = bike[bike[\"season\"]== 2][\"registered\"].sum()\n",
    "bike_registered_1 = bike[bike[\"season\"]== 1][\"registered\"].sum()\n",
    "\n",
    "display(bike_registered_1 ,bike_registered_2 ,bike_registered_3 , bike_registered_4)"
   ]
  },
  {
   "cell_type": "code",
   "execution_count": 31,
   "id": "f21adee5",
   "metadata": {},
   "outputs": [
    {
     "data": {
      "text/plain": [
       "season\n",
       "1    270893\n",
       "2    458610\n",
       "3    497944\n",
       "4    465894\n",
       "Name: registered, dtype: int64"
      ]
     },
     "execution_count": 31,
     "metadata": {},
     "output_type": "execute_result"
    }
   ],
   "source": [
    "bike_registered_group = bike.groupby(\"season\")[\"registered\"].sum()\n",
    "bike_registered_group"
   ]
  },
  {
   "cell_type": "markdown",
   "id": "e5659d9e",
   "metadata": {},
   "source": [
    "groupby 함수를 사용할 시 복작한 코드 구성없이 그룹별 값을 추출할 수 있습니다."
   ]
  }
 ],
 "metadata": {
  "kernelspec": {
   "display_name": "Python 3",
   "language": "python",
   "name": "python3"
  },
  "language_info": {
   "codemirror_mode": {
    "name": "ipython",
    "version": 3
   },
   "file_extension": ".py",
   "mimetype": "text/x-python",
   "name": "python",
   "nbconvert_exporter": "python",
   "pygments_lexer": "ipython3",
   "version": "3.8.8"
  }
 },
 "nbformat": 4,
 "nbformat_minor": 5
}
