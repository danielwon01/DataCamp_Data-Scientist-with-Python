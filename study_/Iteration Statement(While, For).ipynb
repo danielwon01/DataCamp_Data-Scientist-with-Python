{
 "cells": [
  {
   "cell_type": "markdown",
   "id": "81c67bf1",
   "metadata": {},
   "source": [
    "# Python Loops (while, for)"
   ]
  },
  {
   "cell_type": "markdown",
   "id": "32d06beb",
   "metadata": {},
   "source": [
    "### While문\n",
    "* 조건문이 참인 동안 while문 아래의 문장이 반복해서 수행됩니다.\n",
    " \n",
    "\n",
    "while <조건문>:  \n",
    "    <수행할 문장1>  \n",
    "    <수행할 문장2>  \n",
    "    <수행할 문장3>  \n",
    "    ... "
   ]
  },
  {
   "cell_type": "markdown",
   "id": "84f1b23a",
   "metadata": {},
   "source": [
    "### while 문 생성"
   ]
  },
  {
   "cell_type": "code",
   "execution_count": 1,
   "id": "32f5cf1f",
   "metadata": {},
   "outputs": [
    {
     "name": "stdout",
     "output_type": "stream",
     "text": [
      "3\n",
      "2\n",
      "1\n"
     ]
    }
   ],
   "source": [
    "A = 3\n",
    "while A :\n",
    "    print(A)     \n",
    "    A -=1                "
   ]
  },
  {
   "cell_type": "code",
   "execution_count": 1,
   "id": "d9cb17a7",
   "metadata": {},
   "outputs": [
    {
     "name": "stdout",
     "output_type": "stream",
     "text": [
      "양이 적당합니다.\n",
      "양이 많아요.\n"
     ]
    }
   ],
   "source": [
    "apple = 1\n",
    "\n",
    "while apple < 2 :\n",
    "    apple = apple + 1\n",
    "    print('양이 적당합니다.')\n",
    "    if apple == 2 :\n",
    "        print('양이 많아요.')"
   ]
  },
  {
   "cell_type": "code",
   "execution_count": 2,
   "id": "d7a82e5f",
   "metadata": {},
   "outputs": [
    {
     "name": "stdout",
     "output_type": "stream",
     "text": [
      "2 x 2 = 4 \n",
      "2 x 3 = 6 \n",
      "2 x 4 = 8 \n",
      "2 x 5 = 10 \n",
      "2 x 6 = 12 \n",
      "2 x 7 = 14 \n",
      "2 x 8 = 16 \n",
      "2 x 9 = 18 \n"
     ]
    }
   ],
   "source": [
    "# 구구단 2단  \n",
    "num = 1\n",
    "\n",
    "while num < 9 :\n",
    "    num+=1\n",
    "    print(\"2 x %d = %d \" % (num , num*2))"
   ]
  },
  {
   "cell_type": "markdown",
   "id": "130f9a85",
   "metadata": {},
   "source": [
    "#### 자판기 커피 만들기 "
   ]
  },
  {
   "cell_type": "code",
   "execution_count": 3,
   "id": "ae832999",
   "metadata": {},
   "outputs": [
    {
     "name": "stdout",
     "output_type": "stream",
     "text": [
      "금액을 입력해주세요 : 500\n",
      "coffee\n",
      "200 거스름 돈을 돌려준다\n",
      "금액을 입력해주세요 : 300\n",
      "coffee\n",
      "금액을 입력해주세요 : 500\n",
      "coffee\n",
      "200 거스름 돈을 돌려준다\n",
      "커피가 모두 소진되었으니, 관리자에게 문의해주세요.\n"
     ]
    }
   ],
   "source": [
    "# 자판기의 커피 수량\n",
    "coffee = 3\n",
    "\n",
    "# 커피가 남아있는 동안 작동!\n",
    "while coffee > 0:\n",
    "\n",
    "    # 실제로는 자판기를 통해서 넣은 금액.\n",
    "    money = int(input(\"금액을 입력해주세요 : \"))\n",
    "    \n",
    "    if money == 300:\n",
    "        # 실제로 이 파트는 자판기에서 커피를 뽑는 명령으로 대체된다.\n",
    "        print(\"coffee\") \n",
    "        # 이제 커피를 하나씩 줄인다.\n",
    "        coffee -= 1\n",
    "\n",
    "    elif money < 300:\n",
    "        # 실제로 이 파트는 돈을 반환한다.\n",
    "        print(\"%d원을 돌려줍니다.\" % money)\n",
    "        \n",
    "     \n",
    "    else: # or elif money > 300:\n",
    "\n",
    "        # 커피를 뽑아주고\n",
    "        print(\"coffee\")\n",
    "        \n",
    "        # 이제 커피를 하나씩 줄인다.\n",
    "        coffee-=1\n",
    "        \n",
    "        # 거스름돈을 돌려준다.\n",
    "        print(\"%d 거스름 돈을 돌려준다\" % (money - 300))\n",
    "    \n",
    "    # 커피가 다 떨어진 경우 알려야한다.\n",
    "print(\"커피가 모두 소진되었으니, 관리자에게 문의해주세요.\")"
   ]
  },
  {
   "cell_type": "markdown",
   "id": "3da1f753",
   "metadata": {},
   "source": [
    "###  Break 문\n",
    "*break문은 반복문안에서 특정 조건에서 반복문을 중단 시키고 빠져나올때 사용합니다."
   ]
  },
  {
   "cell_type": "code",
   "execution_count": 3,
   "id": "c92c1281",
   "metadata": {},
   "outputs": [
    {
     "name": "stdout",
     "output_type": "stream",
     "text": [
      "2\n",
      "3\n",
      "4\n",
      "5\n",
      "그만해도 될거 같아요\n"
     ]
    }
   ],
   "source": [
    "num = 1\n",
    "\n",
    "while num < 10 :\n",
    "    num+=1\n",
    "    print(num)\n",
    "    if num == 5 :\n",
    "        print('그만해도 될거 같아요')\n",
    "        break "
   ]
  },
  {
   "cell_type": "markdown",
   "id": "932b1975",
   "metadata": {},
   "source": [
    "### Continue 문\n",
    "* continue문은 break문과 비슷하게 반복문을 빠져나오지만 반복문을 중단시키지 않고 다음 반복으로 넘어갑니다."
   ]
  },
  {
   "cell_type": "code",
   "execution_count": 4,
   "id": "cbea7b9d",
   "metadata": {},
   "outputs": [
    {
     "name": "stdout",
     "output_type": "stream",
     "text": [
      "1\n",
      "2\n",
      "4\n",
      "5\n"
     ]
    }
   ],
   "source": [
    "num = 0\n",
    "while num < 5:\n",
    "        num += 1\n",
    "        if num == 3:\n",
    "                continue\n",
    "        print(num)                          "
   ]
  },
  {
   "cell_type": "markdown",
   "id": "15dbd03e",
   "metadata": {},
   "source": [
    "> 반복문이 실행되다가 continue를 만나면 그 아래의 코드를 수행하지 않고 while 문의 조건을 판단하는 곳으로 점프하게 됩니다. 따라서 다음 코드를 실행하면 num 값이 3일 때는 화면에 3가 출력되지 않은 채로 다시 while 문의 조건식으로 이동하게 되고 그다음 'num += 1'에 의해 num 값이 3에서 4으로 증가하게 됩니다."
   ]
  },
  {
   "cell_type": "markdown",
   "id": "2a73b462",
   "metadata": {},
   "source": [
    "### for 문\n",
    "*파이썬에서는 for 문은 기본적으로 for 변수 in 목록: 형태로 작성  \n",
    "\n",
    ">여기서 목록 부분에는 리스트(list), 튜플(tuple), 문자열(string), 반복자(iterator), 제너레이터(generator) 등 순회가 가능한 왠  만한 모든 데이터 타입을 사용할 수 있습니다. 변수 부분은 흔히 순회 변수(loop variable)라고 하는데,목록 부분에 넘긴 객체가 담고 있는 원소들이 루프가 도는 동안 하나씩 차례로 할당됩니다.\n",
    "\n",
    "for 변수 in 목록():    \n",
    "    수행할 문장1  \n",
    "    수행할 문장2 \n",
    "    ...."
   ]
  },
  {
   "cell_type": "markdown",
   "id": "abac4556",
   "metadata": {},
   "source": [
    "### for 문 생성"
   ]
  },
  {
   "cell_type": "code",
   "execution_count": 5,
   "id": "26a2a692",
   "metadata": {},
   "outputs": [
    {
     "name": "stdout",
     "output_type": "stream",
     "text": [
      "A\n",
      "B\n",
      "C\n"
     ]
    }
   ],
   "source": [
    "for letter in ['A','B','C'] :\n",
    "    print(letter)"
   ]
  },
  {
   "cell_type": "markdown",
   "id": "9f6e43ed",
   "metadata": {},
   "source": [
    "### 다양한 for 문"
   ]
  },
  {
   "cell_type": "code",
   "execution_count": 6,
   "id": "bb4b5464",
   "metadata": {},
   "outputs": [
    {
     "name": "stdout",
     "output_type": "stream",
     "text": [
      "3\n",
      "7\n",
      "11\n"
     ]
    }
   ],
   "source": [
    "a = [(1,2), (3,4), (5,6)] # a 리스트의 요솟값이 튜플이기 때문에 각각의 요소가 자동으로 (first, last) 변수에 대입\n",
    "\n",
    "for (first, last) in a:\n",
    "         print(first + last)\n",
    "         "
   ]
  },
  {
   "cell_type": "code",
   "execution_count": 6,
   "id": "5a06507e",
   "metadata": {},
   "outputs": [
    {
     "name": "stdout",
     "output_type": "stream",
     "text": [
      "the hallway is 11.25 sqm\n",
      "the kitchen is 18.0 sqm\n",
      "the living room is 20.0 sqm\n",
      "the bedroom is 10.75 sqm\n",
      "the bathroom is 9.5 sqm\n"
     ]
    }
   ],
   "source": [
    "house = [[\"hallway\", 11.25],  # list of lists 요소 자동으로 변수에 대입\n",
    "         [\"kitchen\", 18.0],     \n",
    "         [\"living room\", 20.0], \n",
    "         [\"bedroom\", 10.75], \n",
    "         [\"bathroom\", 9.50]]\n",
    "         \n",
    "\n",
    "for n,h in house :\n",
    "    print(\"the\" +\" \"+  str(n) + \" \" +  \"is\" + \" \" +  str(h) + \" \" +  \"sqm\" ) "
   ]
  },
  {
   "cell_type": "code",
   "execution_count": 7,
   "id": "add4df60",
   "metadata": {},
   "outputs": [
    {
     "name": "stdout",
     "output_type": "stream",
     "text": [
      "the hallway is 11.25 sqm\n",
      "the kitchen is 18.0 sqm\n",
      "the living room is 20.0 sqm\n",
      "the bedroom is 10.75 sqm\n",
      "the bathroom is 9.5 sqm\n"
     ]
    }
   ],
   "source": [
    "# indexing으로 값 추출  \n",
    "\n",
    "for x in house :\n",
    "    print(\"the\" + \" \" + x[0] + \" \" + \"is\" +\" \" + str(x[1]) + \" \" + \"sqm\")"
   ]
  },
  {
   "cell_type": "markdown",
   "id": "bcee91d4",
   "metadata": {},
   "source": [
    "### for문의 단짝 range() 함수\n",
    "\n",
    "- for문은 특정 횟수동안 반복을 하기 때문에, 횟수를 자동으로 만들어주는 기능이 있으면 좋다.\n",
    "\n",
    "- 파이썬에서 기본적으로 제공하는 range 함수는 특정 숫자 범위내의 값들을 자동으로 생성해주는 함수이다.\n",
    "\n",
    "\n",
    "e.g. range(1, 5)는 1, 2, 3, 4를 차례대로 생성해준다. (5는 범위에서 제외된다. 즉, 마지막 숫자는 제외된다. 1 <= x < 5)"
   ]
  },
  {
   "cell_type": "code",
   "execution_count": 9,
   "id": "2cb74f86",
   "metadata": {},
   "outputs": [
    {
     "name": "stdout",
     "output_type": "stream",
     "text": [
      "0\n",
      "1\n",
      "2\n",
      "3\n",
      "4\n"
     ]
    }
   ],
   "source": [
    "for i in range (5) :\n",
    "    print(i)"
   ]
  },
  {
   "cell_type": "markdown",
   "id": "d45f10ef",
   "metadata": {},
   "source": [
    "####  6개의 커피 음료와 음료의 가격이 담긴 리스트가 있다. 오늘은 할인 행사를 하여 모든 음료가 500원 할인 되었다!\n",
    "\n",
    "#### 가지고 있는 돈이 5,000원일 때 먹을 수 있는 모든 음료를 찾아보자!"
   ]
  },
  {
   "cell_type": "code",
   "execution_count": 18,
   "id": "cb761fc5",
   "metadata": {},
   "outputs": [
    {
     "name": "stdout",
     "output_type": "stream",
     "text": [
      "아메리카노\n",
      "카페라떼\n",
      "카페모카\n",
      "바닐라라떼\n",
      "핸드드립\n",
      "콜드브루\n"
     ]
    }
   ],
   "source": [
    "coffees = ['아메리카노', '카페라떼', '카페모카', '바닐라라떼', '핸드드립', '콜드브루']\n",
    "prices = [4100, 4600, 4600, 5100, 6000, 5000]\n",
    "\n",
    "\n",
    "for i in range(len(prices)) :\n",
    "    prices[i] = prices[i] - 500  # prices[] indexing을 이용해 요소값을 반환하고  - 500 \n",
    "    \n",
    "for i in range(len(coffees)) :\n",
    "    if prices[i] - 500 <= 5000 :\n",
    "        print(coffees[i])\n",
    "        "
   ]
  },
  {
   "cell_type": "markdown",
   "id": "447e90e0",
   "metadata": {},
   "source": [
    "### list comprehension - 리스트[ 원소의 표현 , 반복문 , 조건문 ] \n",
    "* for 문을 간략하게 줄여 쓸 수 있는 강력한 도구 "
   ]
  },
  {
   "cell_type": "code",
   "execution_count": 21,
   "id": "4347b97d",
   "metadata": {},
   "outputs": [
    {
     "data": {
      "text/plain": [
       "[1, 3, 5, 7, 9]"
      ]
     },
     "execution_count": 21,
     "metadata": {},
     "output_type": "execute_result"
    }
   ],
   "source": [
    "A = []\n",
    "\n",
    "for x in range(1,10) :\n",
    "    if x % 2 != 0 :\n",
    "        A.append(x)\n",
    "A"
   ]
  },
  {
   "cell_type": "code",
   "execution_count": 24,
   "id": "082e3392",
   "metadata": {},
   "outputs": [
    {
     "data": {
      "text/plain": [
       "[1, 3, 5, 7, 9]"
      ]
     },
     "execution_count": 24,
     "metadata": {},
     "output_type": "execute_result"
    }
   ],
   "source": [
    "# list comprehension 적용\n",
    "\n",
    "A1 = [x for x in range(1,10 ) if x % 2 != 0]\n",
    "A1"
   ]
  },
  {
   "cell_type": "code",
   "execution_count": 25,
   "id": "c8437116",
   "metadata": {},
   "outputs": [
    {
     "name": "stdout",
     "output_type": "stream",
     "text": [
      "콤마를 기준으로 숫자를 여러개 입력해주세요 : 1,2,3\n"
     ]
    },
    {
     "data": {
      "text/plain": [
       "[1, 2, 3]"
      ]
     },
     "execution_count": 25,
     "metadata": {},
     "output_type": "execute_result"
    }
   ],
   "source": [
    "L =[] \n",
    "for x in input(\"콤마를 기준으로 숫자를 여러개 입력해주세요 : \").split(','):\n",
    "    x = int(x)\n",
    "    L.append(x)\n",
    "L"
   ]
  },
  {
   "cell_type": "code",
   "execution_count": 27,
   "id": "183c60f1",
   "metadata": {},
   "outputs": [
    {
     "name": "stdout",
     "output_type": "stream",
     "text": [
      "콤마를 기준으로 숫자를 여러개 입력해주세요 : 1,2,3\n"
     ]
    },
    {
     "data": {
      "text/plain": [
       "[1, 2, 3]"
      ]
     },
     "execution_count": 27,
     "metadata": {},
     "output_type": "execute_result"
    }
   ],
   "source": [
    "# listcomprehension 적용\n",
    "L = [int(x) for x in input(\"콤마를 기준으로 숫자를 여러개 입력해주세요 : \").split(',')]\n",
    "L"
   ]
  },
  {
   "cell_type": "markdown",
   "id": "7fe45c4c",
   "metadata": {},
   "source": [
    "#### 위의 식 해석 :  원소가 input함수로 부터 입력받은 string 을 쉼표기준으로 split 해서 하나하나의 원소를 int 로 바꾼 원소를 갖는 리스트 "
   ]
  },
  {
   "cell_type": "markdown",
   "id": "c256a645",
   "metadata": {},
   "source": [
    "### enumerate 함수 \n",
    "* 기본적으로 인덱스와 원소로 이루어진 튜플(tuple)을 만들어줍니다."
   ]
  },
  {
   "cell_type": "code",
   "execution_count": 9,
   "id": "bd5c34ab",
   "metadata": {},
   "outputs": [
    {
     "name": "stdout",
     "output_type": "stream",
     "text": [
      "(1, 'A')\n",
      "(2, 'B')\n",
      "(3, 'C')\n"
     ]
    }
   ],
   "source": [
    "for letter in enumerate([\"A\",\"B\",\"C\"],start = 1) :\n",
    "    print(letter)\n",
    "    "
   ]
  },
  {
   "cell_type": "code",
   "execution_count": 10,
   "id": "e5f7d107",
   "metadata": {},
   "outputs": [
    {
     "name": "stdout",
     "output_type": "stream",
     "text": [
      "person 0: 1.73\n",
      "person 1: 1.68\n",
      "person 2: 1.71\n",
      "person 3: 1.89\n"
     ]
    }
   ],
   "source": [
    "fam = [1.73, 1.68, 1.71, 1.89] \n",
    "for index, height in enumerate(fam) :\n",
    "    print(\"person \" + str(index) + \": \" + str(height))"
   ]
  },
  {
   "cell_type": "markdown",
   "id": "c557d70a",
   "metadata": {},
   "source": [
    "### items 함수  사용\n",
    "* 딕셔너리 내장함수로 key와 value 값 같이 반환 "
   ]
  },
  {
   "cell_type": "code",
   "execution_count": 11,
   "id": "567ff821",
   "metadata": {},
   "outputs": [
    {
     "name": "stdout",
     "output_type": "stream",
     "text": [
      "the capital of spain ismadrid\n",
      "the capital of france isparis\n",
      "the capital of germany isberlin\n",
      "the capital of norway isoslo\n",
      "the capital of italy isrome\n",
      "the capital of poland iswarsaw\n",
      "the capital of austria isvienna\n"
     ]
    }
   ],
   "source": [
    "europe = {'spain':'madrid', 'france':'paris', 'germany':'berlin',\n",
    "          'norway':'oslo', 'italy':'rome', 'poland':'warsaw', 'austria':'vienna' }\n",
    "          \n",
    "\n",
    "for k ,v in europe.items() :\n",
    "    print(\"the capital of \" + k +\" \" +\"is\" + \"\" + v)"
   ]
  },
  {
   "cell_type": "markdown",
   "id": "a24b9906",
   "metadata": {},
   "source": [
    "items() 함수를 통해 각 반복에서 key 와 value 값이 생성되어 오류없이 반환됩니다."
   ]
  },
  {
   "cell_type": "markdown",
   "id": "bfd0d8a4",
   "metadata": {},
   "source": [
    "### NumPy  nditer 함수 사용"
   ]
  },
  {
   "cell_type": "code",
   "execution_count": 12,
   "id": "454ed265",
   "metadata": {},
   "outputs": [],
   "source": [
    "import numpy as np"
   ]
  },
  {
   "cell_type": "code",
   "execution_count": 13,
   "id": "b7e8c6a0",
   "metadata": {},
   "outputs": [
    {
     "name": "stdout",
     "output_type": "stream",
     "text": [
      "1\n",
      "2\n",
      "3\n",
      "4\n",
      "5\n",
      "6\n",
      "7\n",
      "8\n"
     ]
    }
   ],
   "source": [
    "arr = np.array([[[1, 2], [3, 4]], [[5, 6], [7, 8]]])\n",
    "\n",
    "for y in np.nditer(arr):\n",
    "    print(y)"
   ]
  },
  {
   "cell_type": "markdown",
   "id": "47229fca",
   "metadata": {},
   "source": [
    "### Pandas DataFrame iterrows 함수 "
   ]
  },
  {
   "cell_type": "code",
   "execution_count": 14,
   "id": "57e0b011",
   "metadata": {},
   "outputs": [],
   "source": [
    "import pandas as pd"
   ]
  },
  {
   "cell_type": "code",
   "execution_count": 15,
   "id": "f4719c14",
   "metadata": {},
   "outputs": [
    {
     "data": {
      "text/html": [
       "<div>\n",
       "<style scoped>\n",
       "    .dataframe tbody tr th:only-of-type {\n",
       "        vertical-align: middle;\n",
       "    }\n",
       "\n",
       "    .dataframe tbody tr th {\n",
       "        vertical-align: top;\n",
       "    }\n",
       "\n",
       "    .dataframe thead th {\n",
       "        text-align: right;\n",
       "    }\n",
       "</style>\n",
       "<table border=\"1\" class=\"dataframe\">\n",
       "  <thead>\n",
       "    <tr style=\"text-align: right;\">\n",
       "      <th></th>\n",
       "      <th>price</th>\n",
       "      <th>weight</th>\n",
       "    </tr>\n",
       "  </thead>\n",
       "  <tbody>\n",
       "    <tr>\n",
       "      <th>A</th>\n",
       "      <td>100</td>\n",
       "      <td>20.3</td>\n",
       "    </tr>\n",
       "    <tr>\n",
       "      <th>B</th>\n",
       "      <td>200</td>\n",
       "      <td>15.1</td>\n",
       "    </tr>\n",
       "    <tr>\n",
       "      <th>C</th>\n",
       "      <td>300</td>\n",
       "      <td>25.9</td>\n",
       "    </tr>\n",
       "    <tr>\n",
       "      <th>D</th>\n",
       "      <td>400</td>\n",
       "      <td>30.2</td>\n",
       "    </tr>\n",
       "    <tr>\n",
       "      <th>E</th>\n",
       "      <td>500</td>\n",
       "      <td>21.3</td>\n",
       "    </tr>\n",
       "  </tbody>\n",
       "</table>\n",
       "</div>"
      ],
      "text/plain": [
       "   price  weight\n",
       "A    100    20.3\n",
       "B    200    15.1\n",
       "C    300    25.9\n",
       "D    400    30.2\n",
       "E    500    21.3"
      ]
     },
     "execution_count": 15,
     "metadata": {},
     "output_type": "execute_result"
    }
   ],
   "source": [
    "df = pd.DataFrame(\n",
    "    {'price': [100, 200, 300,400,500],\n",
    "     'weight': [20.3, 15.1, 25.9, 30.2, 21.3]},\n",
    "    index=['A', 'B', 'C','D','E'])\n",
    "df"
   ]
  },
  {
   "cell_type": "code",
   "execution_count": 16,
   "id": "61c5b37f",
   "metadata": {},
   "outputs": [
    {
     "name": "stdout",
     "output_type": "stream",
     "text": [
      "A\n",
      "price     100.0\n",
      "weight     20.3\n",
      "Name: A, dtype: float64\n",
      "B\n",
      "price     200.0\n",
      "weight     15.1\n",
      "Name: B, dtype: float64\n",
      "C\n",
      "price     300.0\n",
      "weight     25.9\n",
      "Name: C, dtype: float64\n",
      "D\n",
      "price     400.0\n",
      "weight     30.2\n",
      "Name: D, dtype: float64\n",
      "E\n",
      "price     500.0\n",
      "weight     21.3\n",
      "Name: E, dtype: float64\n"
     ]
    }
   ],
   "source": [
    "for lab , row in df.iterrows():\n",
    "    print(lab)\n",
    "    print(row)"
   ]
  },
  {
   "cell_type": "markdown",
   "id": "448a4a18",
   "metadata": {},
   "source": [
    "df.iterrows() 행(row)에 대해서 반복하면서 인덱스와 각 행별 데이터를 출력합니다."
   ]
  },
  {
   "cell_type": "markdown",
   "id": "1cc35a50",
   "metadata": {},
   "source": [
    "### Pandas DataFrame iteritems 함수"
   ]
  },
  {
   "cell_type": "code",
   "execution_count": 17,
   "id": "2cb365a2",
   "metadata": {},
   "outputs": [
    {
     "name": "stdout",
     "output_type": "stream",
     "text": [
      "price\n",
      "A    100\n",
      "B    200\n",
      "C    300\n",
      "D    400\n",
      "E    500\n",
      "Name: price, dtype: int64\n",
      "weight\n",
      "A    20.3\n",
      "B    15.1\n",
      "C    25.9\n",
      "D    30.2\n",
      "E    21.3\n",
      "Name: weight, dtype: float64\n"
     ]
    }
   ],
   "source": [
    "for col,item in df.iteritems() :\n",
    "    print(col)\n",
    "    print(item)"
   ]
  },
  {
   "cell_type": "markdown",
   "id": "b34fffa6",
   "metadata": {},
   "source": [
    "dfiteritems() 열(col)에 대해서 반복하면서 열값과 행별 값을 출력합니다."
   ]
  }
 ],
 "metadata": {
  "kernelspec": {
   "display_name": "Python 3",
   "language": "python",
   "name": "python3"
  },
  "language_info": {
   "codemirror_mode": {
    "name": "ipython",
    "version": 3
   },
   "file_extension": ".py",
   "mimetype": "text/x-python",
   "name": "python",
   "nbconvert_exporter": "python",
   "pygments_lexer": "ipython3",
   "version": "3.8.8"
  }
 },
 "nbformat": 4,
 "nbformat_minor": 5
}
