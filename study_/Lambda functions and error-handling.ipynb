{
 "cells": [
  {
   "cell_type": "markdown",
   "id": "feb03aef",
   "metadata": {},
   "source": [
    "## Lambda functions and error-handling\n",
    "> lambda 키워드 뒤에 인수이름을 지정 , 콜론뒤에 함수가 반환할 것을 지정하는 표현식을 사용합니다."
   ]
  },
  {
   "cell_type": "code",
   "execution_count": 1,
   "id": "c5ee769e",
   "metadata": {},
   "outputs": [
    {
     "data": {
      "text/plain": [
       "4"
      ]
     },
     "execution_count": 1,
     "metadata": {},
     "output_type": "execute_result"
    }
   ],
   "source": [
    "x = lambda x , y : x * y \n",
    "x(2,2)"
   ]
  },
  {
   "cell_type": "code",
   "execution_count": 2,
   "id": "6c2fbe3b",
   "metadata": {},
   "outputs": [
    {
     "data": {
      "text/plain": [
       "'Hello!!!!'"
      ]
     },
     "execution_count": 2,
     "metadata": {},
     "output_type": "execute_result"
    }
   ],
   "source": [
    "add = lambda a : a + \"!!!!\"\n",
    "add(\"Hello\")"
   ]
  },
  {
   "cell_type": "code",
   "execution_count": 3,
   "id": "9c6b1403",
   "metadata": {},
   "outputs": [
    {
     "data": {
      "text/plain": [
       "4"
      ]
     },
     "execution_count": 3,
     "metadata": {},
     "output_type": "execute_result"
    }
   ],
   "source": [
    "# 위의 함수식을 간단하게 람다로 표현\n",
    "A = lambda x,y : x+y\n",
    "A(1,3)"
   ]
  },
  {
   "cell_type": "code",
   "execution_count": 4,
   "id": "2442cd16",
   "metadata": {},
   "outputs": [
    {
     "data": {
      "text/plain": [
       "8"
      ]
     },
     "execution_count": 4,
     "metadata": {},
     "output_type": "execute_result"
    }
   ],
   "source": [
    "# 람다 표현식 자체를 호출  \n",
    "# (lambda 매개변수들: 표현식)(인수들)\n",
    "\n",
    "(lambda x ,y : x**y)(2,3)"
   ]
  },
  {
   "cell_type": "code",
   "execution_count": 5,
   "id": "d0693493",
   "metadata": {},
   "outputs": [
    {
     "data": {
      "text/plain": [
       "'abc'"
      ]
     },
     "execution_count": 5,
     "metadata": {},
     "output_type": "execute_result"
    }
   ],
   "source": [
    "x = \"abcdef\"\n",
    "\n",
    "(lambda x : x[:3])(x)"
   ]
  },
  {
   "cell_type": "code",
   "execution_count": 6,
   "id": "2a2ca156",
   "metadata": {},
   "outputs": [
    {
     "data": {
      "text/plain": [
       "20"
      ]
     },
     "execution_count": 6,
     "metadata": {},
     "output_type": "execute_result"
    }
   ],
   "source": [
    "# 람다 표현식안에서는 변수 생성 못함 , 람다 표현식 밖에서 생성 필요\n",
    "\n",
    "a  = 10\n",
    "(lambda x : x+ a)(10)"
   ]
  },
  {
   "cell_type": "markdown",
   "id": "5d80ac03",
   "metadata": {},
   "source": [
    "### Map 함수\n",
    "> Map (func(적용시킬함수) ,seq(적용할요소들)), Map함수는 시퀀스의 모든 elements에 함수를 적용한다.  \n",
    "  변수명을 지정하지 않고도 람다 함수를 매핑에 전달할 수 있으며 이를 익명함수(anonymous fuctions)라고 한다."
   ]
  },
  {
   "cell_type": "code",
   "execution_count": 7,
   "id": "caf9968a",
   "metadata": {},
   "outputs": [
    {
     "name": "stdout",
     "output_type": "stream",
     "text": [
      "<map object at 0x000001807ADF5FA0>\n"
     ]
    }
   ],
   "source": [
    "n = [5,6,7,11]\n",
    "\n",
    "s = map(lambda n: n + 2 ,n)\n",
    "print(s) # map함수를 갖고 있는 변수명을 print하면 map객체임을 알 수 있다."
   ]
  },
  {
   "cell_type": "code",
   "execution_count": 8,
   "id": "d3b35293",
   "metadata": {},
   "outputs": [
    {
     "name": "stdout",
     "output_type": "stream",
     "text": [
      "[7, 8, 9, 13]\n"
     ]
    }
   ],
   "source": [
    "print(list(s))"
   ]
  },
  {
   "cell_type": "code",
   "execution_count": 9,
   "id": "b051ee5f",
   "metadata": {},
   "outputs": [
    {
     "name": "stdout",
     "output_type": "stream",
     "text": [
      "[1, 4, 9, 16, 25]\n"
     ]
    }
   ],
   "source": [
    "L = [1,2,3,4,5]\n",
    "result = []\n",
    "\n",
    "for i in L : \n",
    "    result.append(i**2)\n",
    "print(result)"
   ]
  },
  {
   "cell_type": "code",
   "execution_count": 10,
   "id": "62cefdf7",
   "metadata": {},
   "outputs": [
    {
     "name": "stdout",
     "output_type": "stream",
     "text": [
      "[1, 4, 9, 16, 25]\n"
     ]
    }
   ],
   "source": [
    "# 위의 for문을 Map함수 사용해서 변환 \n",
    "\n",
    "L = [1,2,3,4,5]\n",
    "result = list(map(lambda x : x**2 , L))\n",
    "print(result)"
   ]
  },
  {
   "cell_type": "markdown",
   "id": "5ed42187",
   "metadata": {},
   "source": [
    "### filter() \n",
    ">  filter(func(적용시킬함수) ,seq(적용할요소들)) ,특정 조건으로 걸러서 걸러진 요소들로 iterator객체를 만들어서 리턴해준다.  \n",
    "   map함수와 사용 방법은 동일하나, 함수의 결과가 참인지 거짓인지에 따라, 해당 요소를 포함할지를 결정한다."
   ]
  },
  {
   "cell_type": "code",
   "execution_count": 6,
   "id": "49ff85a5",
   "metadata": {},
   "outputs": [
    {
     "name": "stdout",
     "output_type": "stream",
     "text": [
      "['samwise', 'aragorn', 'boromir', 'legolas', 'gandalf']\n"
     ]
    }
   ],
   "source": [
    "fellowship = ['frodo', 'samwise', 'merry', 'pippin', 'aragorn', 'boromir', 'legolas', 'gimli', 'gandalf']\n",
    "\n",
    "result = filter(lambda member : len(member) >6 ,fellowship)\n",
    "result_list = list(result)\n",
    "\n",
    "print(result_list)"
   ]
  },
  {
   "cell_type": "markdown",
   "id": "e284b515",
   "metadata": {},
   "source": [
    "### reduce()\n",
    ">  reduce 함수를 사용하기 위해서는 from functools import reduce 사용해 인포트 해줘야한다.  \n",
    "   reduce(func, iterable , initializer = None)  \n",
    "   입력받은 iterable을 지정한 함수에 따라 계산한 후 단일 값으로 결과를 반환한다."
   ]
  },
  {
   "cell_type": "code",
   "execution_count": 7,
   "id": "a10cdcfe",
   "metadata": {},
   "outputs": [
    {
     "name": "stdout",
     "output_type": "stream",
     "text": [
      "123onetwothree456\n"
     ]
    }
   ],
   "source": [
    "from functools import reduce\n",
    "\n",
    "stark = ['123', 'one', 'two', 'three', '456']\n",
    "result = reduce(lambda item1 ,item2 : item1 + item2 , stark)\n",
    "\n",
    "print(result)"
   ]
  },
  {
   "cell_type": "markdown",
   "id": "2bf1320d",
   "metadata": {},
   "source": [
    "## Introduction to error handling"
   ]
  },
  {
   "cell_type": "markdown",
   "id": "b47031e4",
   "metadata": {},
   "source": [
    "### Try , Except \n",
    "> try안에 있는 블록 수행중 오류가 발생하면 except블록이 수행된다.  \n",
    "하지만 try 블록에서 오류가 발생하지 않는다면 except 블록은 수행되지 않는다.\n",
    "   "
   ]
  },
  {
   "cell_type": "code",
   "execution_count": 8,
   "id": "b85fb7de",
   "metadata": {},
   "outputs": [
    {
     "name": "stdout",
     "output_type": "stream",
     "text": [
      "word1 must be a string and echo must be an integer.\n"
     ]
    },
    {
     "data": {
      "text/plain": [
       "''"
      ]
     },
     "execution_count": 8,
     "metadata": {},
     "output_type": "execute_result"
    }
   ],
   "source": [
    "def shout_echo(word1, echo=1):\n",
    "    \n",
    "    echo_word = (\"\")\n",
    "    shout_words = (\"\")\n",
    "    \n",
    "    try:\n",
    "        \n",
    "        echo_word = echo * word1\n",
    "\n",
    "        shout_words = echo_word + \"!!!\"\n",
    "    except:\n",
    "        \n",
    "        print(\"word1 must be a string and echo must be an integer.\")\n",
    "\n",
    "    return shout_words\n",
    "\n",
    "shout_echo(\"particle\", echo=\"accelerator\")"
   ]
  }
 ],
 "metadata": {
  "kernelspec": {
   "display_name": "Python 3",
   "language": "python",
   "name": "python3"
  },
  "language_info": {
   "codemirror_mode": {
    "name": "ipython",
    "version": 3
   },
   "file_extension": ".py",
   "mimetype": "text/x-python",
   "name": "python",
   "nbconvert_exporter": "python",
   "pygments_lexer": "ipython3",
   "version": "3.8.8"
  }
 },
 "nbformat": 4,
 "nbformat_minor": 5
}
