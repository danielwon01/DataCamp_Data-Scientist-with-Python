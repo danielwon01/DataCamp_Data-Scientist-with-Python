{
 "cells": [
  {
   "cell_type": "markdown",
   "id": "bc2cf4c2",
   "metadata": {},
   "source": [
    "# Function \n",
    "\n",
    "- 정확하게 함수는 특정 기능을 구현한 **코드 묶음**이다.\n",
    "> 하나의 기능을 구현하기 위한 코드들을 함수라고 부른다.\n",
    "\n",
    "\n",
    "- def 함수이름(param1, param2, ... ):\n",
    "        <statement1>\n",
    "        <statement2>\n",
    "      return\n",
    "\n",
    "\n",
    "- 함수를 쓰는 이유는 **재사용성** 때문이다.\n",
    "            \n",
    "> 함수를 사용하는 가장 중요한 이유는 재사용성 때문이다. Reusability라고 하며, ***똑같은 구조의 코드가 반복되는 것을 피하기 위해 사용***된다. 똑같은 구조의 코드는 보통 한 가지의 기능 단위로 묶이게 되며, 이 기능 단위를 코드로 묶어서 함수로 만든다."
   ]
  },
  {
   "cell_type": "markdown",
   "id": "cd825f96",
   "metadata": {},
   "source": [
    "### Python Function Definition"
   ]
  },
  {
   "cell_type": "code",
   "execution_count": 1,
   "id": "19831d8a",
   "metadata": {},
   "outputs": [
    {
     "name": "stdout",
     "output_type": "stream",
     "text": [
      "12\n"
     ]
    }
   ],
   "source": [
    "def add (a , b)  :  #  (a,b) input parameter \n",
    "    print(a * b)    #   print(a,b) output parameter \n",
    "\n",
    "add(2,6)   "
   ]
  },
  {
   "cell_type": "markdown",
   "id": "8fb986fc",
   "metadata": {},
   "source": [
    "### 함수 정의의 다양한 형태"
   ]
  },
  {
   "cell_type": "markdown",
   "id": "f3ff51d1",
   "metadata": {},
   "source": [
    "#### 가장 흔하게 사용되는 경우 -> 함수 parameter와 return이 모두 존재하는 경우."
   ]
  },
  {
   "cell_type": "code",
   "execution_count": 2,
   "id": "efac9336",
   "metadata": {},
   "outputs": [
    {
     "data": {
      "text/plain": [
       "8"
      ]
     },
     "execution_count": 2,
     "metadata": {},
     "output_type": "execute_result"
    }
   ],
   "source": [
    "def add(a, b):\n",
    "    return a + b\n",
    "\n",
    "add(3 , 5)"
   ]
  },
  {
   "cell_type": "markdown",
   "id": "5aa7faaf",
   "metadata": {},
   "source": [
    "#### 함수 parameter는 없고 return이 존재하는 경우."
   ]
  },
  {
   "cell_type": "code",
   "execution_count": null,
   "id": "373a6969",
   "metadata": {},
   "outputs": [],
   "source": [
    "def get_data():\n",
    "    data = pd.read_csv(\"test.csv\")  # test.csv 데이터만 가져올때 유용 \n",
    "    return data"
   ]
  },
  {
   "cell_type": "markdown",
   "id": "54cb722a",
   "metadata": {},
   "source": [
    "#### 함수 parameter는 있는데 return이 없는 경우."
   ]
  },
  {
   "cell_type": "code",
   "execution_count": null,
   "id": "0e7e6d97",
   "metadata": {},
   "outputs": [],
   "source": [
    "def print_name(name) :\n",
    "    print(name)"
   ]
  },
  {
   "cell_type": "markdown",
   "id": "fa4d8a63",
   "metadata": {},
   "source": [
    "#### 함수 parameter도 없고 return도 없는 경우."
   ]
  },
  {
   "cell_type": "code",
   "execution_count": 3,
   "id": "279e876c",
   "metadata": {},
   "outputs": [],
   "source": [
    "def say_hi () :\n",
    "    print(\"Hi\")"
   ]
  },
  {
   "cell_type": "markdown",
   "id": "855577f9",
   "metadata": {},
   "source": [
    "### 만약에 함수의 입력 parameter의 개수를 모를땐 어떻게 해야할까? \n",
    "\n",
    "(asterisk)를 앞에 붙이는 것으로 여러개의 parameter를 받아서 tuple로 변환하여 준다.\n",
    "   "
   ]
  },
  {
   "cell_type": "code",
   "execution_count": 4,
   "id": "f2226e33",
   "metadata": {},
   "outputs": [
    {
     "data": {
      "text/plain": [
       "14"
      ]
     },
     "execution_count": 4,
     "metadata": {},
     "output_type": "execute_result"
    }
   ],
   "source": [
    "def many (*args) :  \n",
    "    total = 0\n",
    "\n",
    "    for num in args :    # tuple은 sequence 타입이기때문에 for문 사용 가능 \n",
    "        total+=num\n",
    "    \n",
    "    return total\n",
    "\n",
    "many(1,5,3,5)"
   ]
  },
  {
   "cell_type": "markdown",
   "id": "1aef8c2b",
   "metadata": {},
   "source": [
    "### keyword parameter  - parameter 값 default 로 지정  \n",
    "\n",
    "* parameter가 너무 많을때 유용 "
   ]
  },
  {
   "cell_type": "code",
   "execution_count": 5,
   "id": "3dbefed8",
   "metadata": {},
   "outputs": [
    {
     "name": "stdout",
     "output_type": "stream",
     "text": [
      "0\n"
     ]
    }
   ],
   "source": [
    "def sub (a , b =3) :  #   b = 3 값 default로 지정 \n",
    "    print(a - b)\n",
    "   \n",
    "sub(3)"
   ]
  },
  {
   "cell_type": "markdown",
   "id": "898973a7",
   "metadata": {},
   "source": [
    "### local variable - 지역 변수는 항상 함수 블록 내에서 선언  \n",
    "### global variable - 프로그램에있는 모든 함수 밖에서 선언"
   ]
  },
  {
   "cell_type": "code",
   "execution_count": 6,
   "id": "479d7c12",
   "metadata": {},
   "outputs": [
    {
     "name": "stdout",
     "output_type": "stream",
     "text": [
      "in fuction : kim\n",
      "lee\n"
     ]
    }
   ],
   "source": [
    "def change_name(name) :\n",
    "    name = \"kim\"     #   local variable(함수 외부에는 영향이 없다.)\n",
    "    print(\"in fuction :\" ,name)  \n",
    "    \n",
    "name = \"lee\" # global variable\n",
    "change_name(name)\n",
    "print(name)"
   ]
  },
  {
   "cell_type": "markdown",
   "id": "a9cfa091",
   "metadata": {},
   "source": [
    "함수 내의 정의된 변수(local variable) 인 name = \"kim\" 은 change_name 문에 걸려 반환   \n",
    "함수 밖에 정의된 변수(global variable)인 name = \"lee\" 은 print문에 걸려 반환 "
   ]
  },
  {
   "cell_type": "markdown",
   "id": "95b5938f",
   "metadata": {},
   "source": [
    "### Lambda 함수\n",
    "> Lambda Expression   -   **lambda 파라미터들 :  리턴에대한 표시**\n",
    "\n",
    "\n",
    "- 굉장히 간단한 함수가 있는 경우, 한 줄짜리 함수로 간편하게 사용할 수 있다.\n",
    "> inline function, def 라고 하는 명령어 없이 간단하게 정의해서 사용할 수 있다.\n",
    "\n",
    "- 이런 함수를 Lambda 함수라고 하며, lambda 함수와 반복문을 통해 함수의 정의없이 다양한 프로그래밍이 가능하다."
   ]
  },
  {
   "cell_type": "code",
   "execution_count": 7,
   "id": "4e343150",
   "metadata": {},
   "outputs": [
    {
     "data": {
      "text/plain": [
       "3"
      ]
     },
     "execution_count": 7,
     "metadata": {},
     "output_type": "execute_result"
    }
   ],
   "source": [
    "def add (a, b) :\n",
    "    print(a + b)\n",
    "\n",
    "# 위의 함수를 lambda로 표현 \n",
    "\n",
    "A =lambda a,b : a+ b\n",
    "A(1,2)"
   ]
  }
 ],
 "metadata": {
  "kernelspec": {
   "display_name": "Python 3",
   "language": "python",
   "name": "python3"
  },
  "language_info": {
   "codemirror_mode": {
    "name": "ipython",
    "version": 3
   },
   "file_extension": ".py",
   "mimetype": "text/x-python",
   "name": "python",
   "nbconvert_exporter": "python",
   "pygments_lexer": "ipython3",
   "version": "3.8.8"
  }
 },
 "nbformat": 4,
 "nbformat_minor": 5
}
