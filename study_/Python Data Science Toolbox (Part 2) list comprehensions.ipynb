{
 "cells": [
  {
   "cell_type": "markdown",
   "id": "1af0134d",
   "metadata": {},
   "source": [
    "## iterators(반복자)\n",
    "iterable 객체 - 반복 가능한 객체(값을 차례대로 꺼낼 수 있는 객체)  \n",
    "대표적으로 iterable한 타입 - list, dict, set, str, bytes, tuple, range  \n",
    "\n",
    "iterable의 정의는 연관된 iter method가 있는 객체  \n",
    "iter method가 iterable에 적용되면 iterator 객체가 생성  \n",
    "iterator는 연속된 값을 생성하는 next method은 객체로 정의   "
   ]
  },
  {
   "cell_type": "code",
   "execution_count": 1,
   "id": "5d468a12",
   "metadata": {},
   "outputs": [
    {
     "data": {
      "text/plain": [
       "'a'"
      ]
     },
     "execution_count": 1,
     "metadata": {},
     "output_type": "execute_result"
    }
   ],
   "source": [
    "ab = \"ab\"\n",
    "it = iter(ab)\n",
    "next(it)"
   ]
  },
  {
   "cell_type": "code",
   "execution_count": 2,
   "id": "a703eaec",
   "metadata": {},
   "outputs": [
    {
     "data": {
      "text/plain": [
       "'b'"
      ]
     },
     "execution_count": 2,
     "metadata": {},
     "output_type": "execute_result"
    }
   ],
   "source": [
    "next(it)"
   ]
  },
  {
   "cell_type": "code",
   "execution_count": 3,
   "id": "d16e760d",
   "metadata": {},
   "outputs": [
    {
     "name": "stdout",
     "output_type": "stream",
     "text": [
      "D a t a\n"
     ]
    }
   ],
   "source": [
    "# * 를 사용하여 모든값 반환 \n",
    "word = 'Data'\n",
    "it = iter(word)\n",
    "print(*it)\n",
    "# 수행 후 반복할 값이 더 이상 없기 때문에 다시 수행 불가 , 재수행하기 위해서는 반복자 재정의 필요"
   ]
  },
  {
   "cell_type": "code",
   "execution_count": 4,
   "id": "199c32a5",
   "metadata": {},
   "outputs": [
    {
     "name": "stdout",
     "output_type": "stream",
     "text": [
      "data\n"
     ]
    }
   ],
   "source": [
    "# Iterating over file connections\n",
    "file = open('text.txt.txt')\n",
    "it = iter(file)\n",
    "print(next(it))"
   ]
  },
  {
   "cell_type": "code",
   "execution_count": 5,
   "id": "bea86572",
   "metadata": {},
   "outputs": [
    {
     "name": "stdout",
     "output_type": "stream",
     "text": [
      "<enumerate object at 0x7f9579d06740>\n"
     ]
    }
   ],
   "source": [
    "# enumerator 함수는 인자의 값을 추출 할 때 인덱스를 추출하는 기법\n",
    "a = [\"A\",\"B\",\"C\",\"D\"]\n",
    "e = enumerate(a)\n",
    "print(e)"
   ]
  },
  {
   "cell_type": "code",
   "execution_count": 6,
   "id": "0219acfd",
   "metadata": {},
   "outputs": [
    {
     "name": "stdout",
     "output_type": "stream",
     "text": [
      "[(0, 'A'), (1, 'B'), (2, 'C'), (3, 'D')]\n"
     ]
    }
   ],
   "source": [
    "e_list = list(e)\n",
    "print(e_list)"
   ]
  },
  {
   "cell_type": "code",
   "execution_count": 7,
   "id": "47e50b6f",
   "metadata": {},
   "outputs": [
    {
     "name": "stdout",
     "output_type": "stream",
     "text": [
      "1 A\n",
      "2 B\n",
      "3 C\n",
      "4 D\n"
     ]
    }
   ],
   "source": [
    "for i, v in enumerate(a, start = 1) :\n",
    "    print(i,v)"
   ]
  },
  {
   "cell_type": "code",
   "execution_count": 8,
   "id": "88bb9c4c",
   "metadata": {},
   "outputs": [
    {
     "name": "stdout",
     "output_type": "stream",
     "text": [
      "index: 0, value: A\n",
      "index: 1, value: B\n",
      "index: 2, value: C\n"
     ]
    }
   ],
   "source": [
    "for i, v in enumerate([\"A\",\"B\",\"C\"]) :\n",
    "    print(f\"index: {i}, value: {v}\")"
   ]
  },
  {
   "cell_type": "markdown",
   "id": "e93881c3",
   "metadata": {},
   "source": [
    "### iterable 내장함수"
   ]
  },
  {
   "cell_type": "code",
   "execution_count": 9,
   "id": "dc7428ab",
   "metadata": {},
   "outputs": [
    {
     "name": "stdout",
     "output_type": "stream",
     "text": [
      "<zip object at 0x7f95683c2d40>\n"
     ]
    }
   ],
   "source": [
    "# zip 여러 개의 순회 가능한(iterable) 객체를 인자로 받아 동일한 개수로 이루어진 자료형을 묶어서 튜플의 형태로 반환\n",
    "num = [1,2,3]\n",
    "s = [\"sun\",\"rain\",\"cloud\"]\n",
    "\n",
    "z  = zip(num ,s)\n",
    "print(z)"
   ]
  },
  {
   "cell_type": "code",
   "execution_count": 10,
   "id": "7865bf63",
   "metadata": {},
   "outputs": [
    {
     "name": "stdout",
     "output_type": "stream",
     "text": [
      "[(1, 'sun'), (2, 'rain'), (3, 'cloud')]\n"
     ]
    }
   ],
   "source": [
    "z_list = list(z)\n",
    "print(z_list)"
   ]
  },
  {
   "cell_type": "code",
   "execution_count": 11,
   "id": "7aaadcd4",
   "metadata": {},
   "outputs": [
    {
     "name": "stdout",
     "output_type": "stream",
     "text": [
      "1 sun\n",
      "2 rain\n",
      "3 cloud\n"
     ]
    }
   ],
   "source": [
    "for i,v in zip(num,s):\n",
    "    print(i,v)"
   ]
  },
  {
   "cell_type": "code",
   "execution_count": 12,
   "id": "99c1b313",
   "metadata": {},
   "outputs": [
    {
     "name": "stdout",
     "output_type": "stream",
     "text": [
      "\n"
     ]
    }
   ],
   "source": [
    "# 수행 후 반복할 값이 사라짐 \n",
    "print(*z)"
   ]
  },
  {
   "cell_type": "code",
   "execution_count": 13,
   "id": "ac21de13",
   "metadata": {},
   "outputs": [
    {
     "name": "stdout",
     "output_type": "stream",
     "text": [
      "{1: 'sun', 2: 'rain', 3: 'cloud'}\n"
     ]
    }
   ],
   "source": [
    "# zip함수를 활용해 dict 생성\n",
    "num = [1,2,3]\n",
    "s = [\"sun\",\"rain\",\"cloud\"]\n",
    "\n",
    "dict_m = dict(zip(num, s))\n",
    "print(dict_m)"
   ]
  },
  {
   "cell_type": "code",
   "execution_count": 14,
   "id": "713552c1",
   "metadata": {},
   "outputs": [
    {
     "name": "stdout",
     "output_type": "stream",
     "text": [
      "0 -> sun\n",
      "1 -> rain\n",
      "2 -> cloud\n"
     ]
    }
   ],
   "source": [
    "# enumerater와 zip 혼용\n",
    "num = [\"->\",\"->\",\"->\"]\n",
    "s = [\"sun\",\"rain\",\"cloud\"]\n",
    "\n",
    "for i, (n,s) in enumerate(zip(num,s)) :\n",
    "    print(i,n,s)"
   ]
  },
  {
   "cell_type": "code",
   "execution_count": 15,
   "id": "1490bea5",
   "metadata": {},
   "outputs": [
    {
     "name": "stdout",
     "output_type": "stream",
     "text": [
      "True\n",
      "False\n"
     ]
    }
   ],
   "source": [
    "# all(iterable)은 iterable한 객체를 인수로 받으며, 인수의 원소가 모두 참이면 True, 거짓이 하나라도 있 으면 False를 return\n",
    "print(all([1,2,3]))\n",
    "print(all([0,1,2])) "
   ]
  },
  {
   "cell_type": "code",
   "execution_count": 16,
   "id": "3b50e367",
   "metadata": {},
   "outputs": [
    {
     "name": "stdout",
     "output_type": "stream",
     "text": [
      "True\n"
     ]
    }
   ],
   "source": [
    "# any(iterable)은 iterable한 객체를 인수로 받으며, 인수의 원소 중 하나라도 참이면 True, 모두 거짓일때만 False를 리턴, all의 반대\n",
    "print(any([0, False , True]))"
   ]
  },
  {
   "cell_type": "markdown",
   "id": "5000f8dc",
   "metadata": {},
   "source": [
    "### itertools\n",
    "반복연산 패키지로 자체 또는 조합되어 효율적이고 빠르게 동작하며 operator 모듈과 효과적으로 동작"
   ]
  },
  {
   "cell_type": "code",
   "execution_count": 17,
   "id": "23650b0a",
   "metadata": {},
   "outputs": [],
   "source": [
    "import itertools "
   ]
  },
  {
   "cell_type": "code",
   "execution_count": 18,
   "id": "13417303",
   "metadata": {},
   "outputs": [
    {
     "name": "stdout",
     "output_type": "stream",
     "text": [
      "10\n",
      "12\n",
      "14\n",
      "16\n",
      "18\n"
     ]
    }
   ],
   "source": [
    "# count(시작, [step]) 의 함수로 시작 숫자부터 step만큼(없으면 1) 씩 무한히 증가하는 제네레이터\n",
    "# count 는 반복하고자 하는 최대수를 미리 알지 않아도 되는 경우 사용\n",
    "# islice(iterable객체, [시작], 정지[,step])의 함수로, iterable한 객체를 특정 범위로 슬라이싱하고 iterator로 반환됩니다.\n",
    "\n",
    "from itertools import count ,islice\n",
    "\n",
    "for i in islice(count(10,step = 2), 5) :\n",
    "    print(i)"
   ]
  },
  {
   "cell_type": "markdown",
   "id": "6255773f",
   "metadata": {},
   "source": [
    "### List comprehensions\n",
    "[ ( 변수를 활용한 값 ) for ( 사용할 변수 이름 ) in ( 순회할 수 있는 값 )]"
   ]
  },
  {
   "cell_type": "code",
   "execution_count": 19,
   "id": "1c546f64",
   "metadata": {},
   "outputs": [
    {
     "name": "stdout",
     "output_type": "stream",
     "text": [
      "[1, 2, 3, 4, 5, 6, 7, 8, 9, 10]\n"
     ]
    }
   ],
   "source": [
    "# for 문 \n",
    "\n",
    "empty_list = []\n",
    "for i in range(1,11):\n",
    "    empty_list.append(i)  \n",
    "\n",
    "print(empty_list)"
   ]
  },
  {
   "cell_type": "code",
   "execution_count": 20,
   "id": "02716235",
   "metadata": {},
   "outputs": [
    {
     "data": {
      "text/plain": [
       "[1, 2, 3, 4, 5, 6, 7, 8, 9, 10]"
      ]
     },
     "execution_count": 20,
     "metadata": {},
     "output_type": "execute_result"
    }
   ],
   "source": [
    "# list comprehensions\n",
    "\n",
    "em_list = [x for x in range(1,11)]\n",
    "em_list"
   ]
  },
  {
   "cell_type": "code",
   "execution_count": 21,
   "id": "06e0e73a",
   "metadata": {},
   "outputs": [
    {
     "name": "stdout",
     "output_type": "stream",
     "text": [
      "[2, 4, 6, 8, 10]\n"
     ]
    }
   ],
   "source": [
    "size  = 10\n",
    "arr = [n for n in range(1,11) if n % 2 == 0]\n",
    "print(arr)"
   ]
  },
  {
   "cell_type": "code",
   "execution_count": 22,
   "id": "b0d1bb0a",
   "metadata": {},
   "outputs": [
    {
     "name": "stdout",
     "output_type": "stream",
     "text": [
      "[8, 16]\n"
     ]
    }
   ],
   "source": [
    "# 다중 조건문 (두 if 문 사이에 and 를 명시하지 않아도 and 조건으로 계산 but and 를 명시해주면 오류발생 )\n",
    "arr =  [n for n in range(1,20) if n & 2 ==0 if n & 5 ==0]\n",
    "print(arr)"
   ]
  },
  {
   "cell_type": "code",
   "execution_count": 23,
   "id": "b778046c",
   "metadata": {},
   "outputs": [
    {
     "name": "stdout",
     "output_type": "stream",
     "text": [
      "[1, 2, 4, 5, 8, 9, 10, 12, 13, 16, 17, 18]\n"
     ]
    }
   ],
   "source": [
    "#  if 문에서 or연산자로 논리 연산 , or 다중 if문에서 or 연산 안됨 \n",
    "arr =  [n for n in range(1,20) if n & 2 ==0 or n & 5 ==0]\n",
    "print(arr)"
   ]
  },
  {
   "cell_type": "code",
   "execution_count": 24,
   "id": "d4c6dffc",
   "metadata": {},
   "outputs": [
    {
     "name": "stdout",
     "output_type": "stream",
     "text": [
      "[(0, 2), (0, 3), (1, 2), (1, 3)]\n"
     ]
    }
   ],
   "source": [
    "a = [(n,n1) for n in range(0,2) for n1 in range(2,4)]\n",
    "print(a)"
   ]
  },
  {
   "cell_type": "markdown",
   "id": "6f1c44c1",
   "metadata": {},
   "source": [
    "### Advanced comprehensions\n",
    "[output expression + conditional on output for iterator variable +_conditional on iterator]\n"
   ]
  },
  {
   "cell_type": "code",
   "execution_count": 25,
   "id": "ed52d4cb",
   "metadata": {},
   "outputs": [
    {
     "name": "stdout",
     "output_type": "stream",
     "text": [
      "['', 'samwise', '', 'aragorn', 'legolas', 'boromir', '']\n"
     ]
    }
   ],
   "source": [
    "fellowship = ['frodo', 'samwise', 'merry', 'aragorn', 'legolas', 'boromir', 'gimli']\n",
    "\n",
    "\n",
    "new_fellowship = [member if len(member) >= 7 else '' for member in fellowship]\n",
    "print(new_fellowship)"
   ]
  },
  {
   "cell_type": "code",
   "execution_count": 26,
   "id": "b00d67bb",
   "metadata": {},
   "outputs": [
    {
     "name": "stdout",
     "output_type": "stream",
     "text": [
      "{'frodo': 5, 'samwise': 7, 'merry': 5, 'aragorn': 7, 'legolas': 7, 'boromir': 7, 'gimli': 5}\n"
     ]
    }
   ],
   "source": [
    "fellowship = ['frodo', 'samwise', 'merry', 'aragorn', 'legolas', 'boromir', 'gimli']\n",
    "\n",
    "\n",
    "new_fellowship = { member:len(member) for member in fellowship }\n",
    "print(new_fellowship)"
   ]
  },
  {
   "cell_type": "code",
   "execution_count": 27,
   "id": "267ed00c",
   "metadata": {},
   "outputs": [
    {
     "data": {
      "text/plain": [
       "{0: 0, 1: -1, 2: -2, 3: -3, 4: -4, 5: -5, 6: -6, 7: -7, 8: -8}"
      ]
     },
     "execution_count": 27,
     "metadata": {},
     "output_type": "execute_result"
    }
   ],
   "source": [
    "# dict\n",
    "d  = {n : -n for n in range(9)}\n",
    "d"
   ]
  },
  {
   "cell_type": "code",
   "execution_count": 28,
   "id": "55439633",
   "metadata": {},
   "outputs": [
    {
     "name": "stdout",
     "output_type": "stream",
     "text": [
      "{0, 1, 4, 9, 16}\n"
     ]
    }
   ],
   "source": [
    "# set \n",
    "n = {i * i for i in range(0,5)}\n",
    "print(n)"
   ]
  },
  {
   "cell_type": "markdown",
   "id": "58df8d60",
   "metadata": {},
   "source": [
    "### Introduction to generator expressions\n",
    "제너레이터는 모든 값을 메모리에 담고 있지 않고 그때그때 값을 생성(generator)해서 반환하기 때문에\n",
    "\n",
    "제너레이터를 사용할 때에는 한 번에 한 개의 값만 순환(iterate)할 수 있다."
   ]
  },
  {
   "cell_type": "code",
   "execution_count": 29,
   "id": "a230b247",
   "metadata": {},
   "outputs": [
    {
     "data": {
      "text/plain": [
       "[1, 4]"
      ]
     },
     "execution_count": 29,
     "metadata": {},
     "output_type": "execute_result"
    }
   ],
   "source": [
    "[n**2 for n in range(1,3)]"
   ]
  },
  {
   "cell_type": "code",
   "execution_count": 30,
   "id": "4c0934d0",
   "metadata": {},
   "outputs": [
    {
     "data": {
      "text/plain": [
       "<generator object <genexpr> at 0x7f95683f9f90>"
      ]
     },
     "execution_count": 30,
     "metadata": {},
     "output_type": "execute_result"
    }
   ],
   "source": [
    "# generator는 메모리에 저장되지 않는다.\n",
    "(n**2 for n in range(1,3))"
   ]
  },
  {
   "cell_type": "code",
   "execution_count": 31,
   "id": "512526ef",
   "metadata": {},
   "outputs": [
    {
     "name": "stdout",
     "output_type": "stream",
     "text": [
      "[<generator object <genexpr> at 0x7f956840e040>, <generator object <genexpr> at 0x7f956840e040>, <generator object <genexpr> at 0x7f956840e040>, <generator object <genexpr> at 0x7f956840e040>, <generator object <genexpr> at 0x7f956840e040>, <generator object <genexpr> at 0x7f956840e040>]\n"
     ]
    }
   ],
   "source": [
    "n = (n for num in range(10) if num & 2 == 0)\n",
    "print(list(n))"
   ]
  },
  {
   "cell_type": "code",
   "execution_count": 32,
   "id": "bae2c1ba",
   "metadata": {},
   "outputs": [
    {
     "name": "stdout",
     "output_type": "stream",
     "text": [
      "6\n",
      "5\n",
      "5\n",
      "6\n",
      "7\n"
     ]
    }
   ],
   "source": [
    "lannister = ['cersei', 'jaime', 'tywin', 'tyrion', 'joffrey']\n",
    "\n",
    "lengths = (len(person) for person in lannister)\n",
    "\n",
    "for value in lengths:\n",
    "    print(value)"
   ]
  },
  {
   "cell_type": "code",
   "execution_count": 33,
   "id": "19e57f3b",
   "metadata": {},
   "outputs": [
    {
     "data": {
      "text/plain": [
       "<generator object number at 0x7f956840e3c0>"
      ]
     },
     "execution_count": 33,
     "metadata": {},
     "output_type": "execute_result"
    }
   ],
   "source": [
    "# generator function (return X yeield O)\n",
    "def number(n):\n",
    "    for i in range(n):\n",
    "        yield i\n",
    "        \n",
    "number(5)"
   ]
  },
  {
   "cell_type": "code",
   "execution_count": 34,
   "id": "3c2dcc39",
   "metadata": {},
   "outputs": [
    {
     "name": "stdout",
     "output_type": "stream",
     "text": [
      "3\n",
      "4\n",
      "5\n"
     ]
    }
   ],
   "source": [
    "a = [\"ABC\", \"ABCD\",\"ABCDE\"]\n",
    "\n",
    "def number(l) :\n",
    "    for i in l:\n",
    "        yield len(i)\n",
    "\n",
    "for v in number(a):\n",
    "    print(v)"
   ]
  },
  {
   "cell_type": "code",
   "execution_count": 35,
   "id": "77434c55",
   "metadata": {},
   "outputs": [
    {
     "data": {
      "text/html": [
       "<div>\n",
       "<style scoped>\n",
       "    .dataframe tbody tr th:only-of-type {\n",
       "        vertical-align: middle;\n",
       "    }\n",
       "\n",
       "    .dataframe tbody tr th {\n",
       "        vertical-align: top;\n",
       "    }\n",
       "\n",
       "    .dataframe thead th {\n",
       "        text-align: right;\n",
       "    }\n",
       "</style>\n",
       "<table border=\"1\" class=\"dataframe\">\n",
       "  <thead>\n",
       "    <tr style=\"text-align: right;\">\n",
       "      <th></th>\n",
       "      <th>CountryName</th>\n",
       "      <th>CountryCode</th>\n",
       "      <th>Year</th>\n",
       "      <th>Total Population</th>\n",
       "      <th>Urban population (% of total)</th>\n",
       "    </tr>\n",
       "  </thead>\n",
       "  <tbody>\n",
       "    <tr>\n",
       "      <th>0</th>\n",
       "      <td>Arab World</td>\n",
       "      <td>ARB</td>\n",
       "      <td>1960</td>\n",
       "      <td>9.249590e+07</td>\n",
       "      <td>31.285384</td>\n",
       "    </tr>\n",
       "    <tr>\n",
       "      <th>1</th>\n",
       "      <td>Caribbean small states</td>\n",
       "      <td>CSS</td>\n",
       "      <td>1960</td>\n",
       "      <td>4.190810e+06</td>\n",
       "      <td>31.597490</td>\n",
       "    </tr>\n",
       "    <tr>\n",
       "      <th>2</th>\n",
       "      <td>Central Europe and the Baltics</td>\n",
       "      <td>CEB</td>\n",
       "      <td>1960</td>\n",
       "      <td>9.140158e+07</td>\n",
       "      <td>44.507921</td>\n",
       "    </tr>\n",
       "    <tr>\n",
       "      <th>3</th>\n",
       "      <td>East Asia &amp; Pacific (all income levels)</td>\n",
       "      <td>EAS</td>\n",
       "      <td>1960</td>\n",
       "      <td>1.042475e+09</td>\n",
       "      <td>22.471132</td>\n",
       "    </tr>\n",
       "    <tr>\n",
       "      <th>4</th>\n",
       "      <td>East Asia &amp; Pacific (developing only)</td>\n",
       "      <td>EAP</td>\n",
       "      <td>1960</td>\n",
       "      <td>8.964930e+08</td>\n",
       "      <td>16.917679</td>\n",
       "    </tr>\n",
       "  </tbody>\n",
       "</table>\n",
       "</div>"
      ],
      "text/plain": [
       "                               CountryName CountryCode  Year  \\\n",
       "0                               Arab World         ARB  1960   \n",
       "1                   Caribbean small states         CSS  1960   \n",
       "2           Central Europe and the Baltics         CEB  1960   \n",
       "3  East Asia & Pacific (all income levels)         EAS  1960   \n",
       "4    East Asia & Pacific (developing only)         EAP  1960   \n",
       "\n",
       "   Total Population  Urban population (% of total)  \n",
       "0      9.249590e+07                      31.285384  \n",
       "1      4.190810e+06                      31.597490  \n",
       "2      9.140158e+07                      44.507921  \n",
       "3      1.042475e+09                      22.471132  \n",
       "4      8.964930e+08                      16.917679  "
      ]
     },
     "execution_count": 35,
     "metadata": {},
     "output_type": "execute_result"
    }
   ],
   "source": [
    "import numpy as np\n",
    "import pandas as pd\n",
    "\n",
    "df = pd.read_csv('world_ind_pop_data.csv')\n",
    "df.head()"
   ]
  },
  {
   "cell_type": "code",
   "execution_count": 36,
   "id": "9cb31406",
   "metadata": {},
   "outputs": [],
   "source": [
    "feature_names  = df.columns\n",
    "row_vals = df.iloc[0].values"
   ]
  },
  {
   "cell_type": "code",
   "execution_count": 37,
   "id": "4009ea97",
   "metadata": {},
   "outputs": [
    {
     "name": "stdout",
     "output_type": "stream",
     "text": [
      "{'CountryName': 'Arab World', 'CountryCode': 'ARB', 'Year': 1960, 'Total Population': 92495902.0, 'Urban population (% of total)': 31.2853842116054}\n"
     ]
    }
   ],
   "source": [
    "zipped_lists = zip(feature_names , row_vals)\n",
    "rs_dict = dict(zipped_lists)\n",
    "\n",
    "print(rs_dict)"
   ]
  },
  {
   "cell_type": "code",
   "execution_count": 38,
   "id": "3d294a28",
   "metadata": {},
   "outputs": [
    {
     "name": "stdout",
     "output_type": "stream",
     "text": [
      "{'CountryName': 'Arab World', 'CountryCode': 'ARB', 'Year': 1960, 'Total Population': 92495902.0, 'Urban population (% of total)': 31.2853842116054}\n"
     ]
    }
   ],
   "source": [
    "def lists2dict(list1, list2):\n",
    "    \"\"\"Return a dictionary where list1 provides\n",
    "    the keys and list2 provides the values.\"\"\"\n",
    "\n",
    "    zipped_lists = zip(list1, list2)\n",
    "\n",
    "    rs_dict = dict(zipped_lists)\n",
    "    \n",
    "    return rs_dict\n",
    "\n",
    "rs_fxn = lists2dict(feature_names , row_vals)\n",
    "\n",
    "print(rs_fxn)"
   ]
  },
  {
   "cell_type": "code",
   "execution_count": 39,
   "id": "18195775",
   "metadata": {},
   "outputs": [
    {
     "name": "stdout",
     "output_type": "stream",
     "text": [
      "{'CountryName': 'Arab World', 'CountryCode': 'ARB', 'Year': 1960, 'Total Population': 92495902.0, 'Urban population (% of total)': 31.2853842116054}\n",
      "{'CountryName': 'Caribbean small states', 'CountryCode': 'CSS', 'Year': 1960, 'Total Population': 4190810.0, 'Urban population (% of total)': 31.5974898513652}\n"
     ]
    }
   ],
   "source": [
    "list_of_dict = [lists2dict(feature_names , sublist) for  sublist in df.values]\n",
    "\n",
    "print(list_of_dict[0])\n",
    "print(list_of_dict[1])"
   ]
  },
  {
   "cell_type": "code",
   "execution_count": 40,
   "id": "e595192e",
   "metadata": {},
   "outputs": [
    {
     "data": {
      "text/html": [
       "<div>\n",
       "<style scoped>\n",
       "    .dataframe tbody tr th:only-of-type {\n",
       "        vertical-align: middle;\n",
       "    }\n",
       "\n",
       "    .dataframe tbody tr th {\n",
       "        vertical-align: top;\n",
       "    }\n",
       "\n",
       "    .dataframe thead th {\n",
       "        text-align: right;\n",
       "    }\n",
       "</style>\n",
       "<table border=\"1\" class=\"dataframe\">\n",
       "  <thead>\n",
       "    <tr style=\"text-align: right;\">\n",
       "      <th></th>\n",
       "      <th>CountryName</th>\n",
       "      <th>CountryCode</th>\n",
       "      <th>Year</th>\n",
       "      <th>Total Population</th>\n",
       "      <th>Urban population (% of total)</th>\n",
       "    </tr>\n",
       "  </thead>\n",
       "  <tbody>\n",
       "    <tr>\n",
       "      <th>0</th>\n",
       "      <td>Arab World</td>\n",
       "      <td>ARB</td>\n",
       "      <td>1960</td>\n",
       "      <td>9.249590e+07</td>\n",
       "      <td>31.285384</td>\n",
       "    </tr>\n",
       "    <tr>\n",
       "      <th>1</th>\n",
       "      <td>Caribbean small states</td>\n",
       "      <td>CSS</td>\n",
       "      <td>1960</td>\n",
       "      <td>4.190810e+06</td>\n",
       "      <td>31.597490</td>\n",
       "    </tr>\n",
       "    <tr>\n",
       "      <th>2</th>\n",
       "      <td>Central Europe and the Baltics</td>\n",
       "      <td>CEB</td>\n",
       "      <td>1960</td>\n",
       "      <td>9.140158e+07</td>\n",
       "      <td>44.507921</td>\n",
       "    </tr>\n",
       "    <tr>\n",
       "      <th>3</th>\n",
       "      <td>East Asia &amp; Pacific (all income levels)</td>\n",
       "      <td>EAS</td>\n",
       "      <td>1960</td>\n",
       "      <td>1.042475e+09</td>\n",
       "      <td>22.471132</td>\n",
       "    </tr>\n",
       "    <tr>\n",
       "      <th>4</th>\n",
       "      <td>East Asia &amp; Pacific (developing only)</td>\n",
       "      <td>EAP</td>\n",
       "      <td>1960</td>\n",
       "      <td>8.964930e+08</td>\n",
       "      <td>16.917679</td>\n",
       "    </tr>\n",
       "  </tbody>\n",
       "</table>\n",
       "</div>"
      ],
      "text/plain": [
       "                               CountryName CountryCode  Year  \\\n",
       "0                               Arab World         ARB  1960   \n",
       "1                   Caribbean small states         CSS  1960   \n",
       "2           Central Europe and the Baltics         CEB  1960   \n",
       "3  East Asia & Pacific (all income levels)         EAS  1960   \n",
       "4    East Asia & Pacific (developing only)         EAP  1960   \n",
       "\n",
       "   Total Population  Urban population (% of total)  \n",
       "0      9.249590e+07                      31.285384  \n",
       "1      4.190810e+06                      31.597490  \n",
       "2      9.140158e+07                      44.507921  \n",
       "3      1.042475e+09                      22.471132  \n",
       "4      8.964930e+08                      16.917679  "
      ]
     },
     "execution_count": 40,
     "metadata": {},
     "output_type": "execute_result"
    }
   ],
   "source": [
    "# DataFrame \n",
    "\n",
    "df_list_of_dict = pd.DataFrame(list_of_dict)\n",
    "df_list_of_dict.head()"
   ]
  },
  {
   "cell_type": "markdown",
   "id": "c6619aa9",
   "metadata": {},
   "source": [
    "### Processing data in chunks"
   ]
  },
  {
   "cell_type": "code",
   "execution_count": 41,
   "id": "43d16761",
   "metadata": {},
   "outputs": [
    {
     "name": "stdout",
     "output_type": "stream",
     "text": [
      "{'Arab World': 2, 'Caribbean small states': 2, 'Central Europe and the Baltics': 2, 'East Asia & Pacific (all income levels)': 2, 'East Asia & Pacific (developing only)': 2, 'Euro area': 2, 'Europe & Central Asia (all income levels)': 2, 'Europe & Central Asia (developing only)': 2, 'European Union': 2, 'Fragile and conflict affected situations': 2, 'Heavily indebted poor countries (HIPC)': 2, 'High income': 2, 'High income: nonOECD': 2, 'High income: OECD': 2, 'Latin America & Caribbean (all income levels)': 2, 'Latin America & Caribbean (developing only)': 2, 'Least developed countries: UN classification': 2, 'Low & middle income': 2, 'Low income': 2, 'Lower middle income': 2, 'Middle East & North Africa (all income levels)': 2, 'Middle East & North Africa (developing only)': 2, 'Middle income': 2, 'North America': 2, 'OECD members': 2, 'Other small states': 2, 'Pacific island small states': 2, 'Small states': 2, 'South Asia': 2, 'Sub-Saharan Africa (all income levels)': 2, 'Sub-Saharan Africa (developing only)': 2, 'Upper middle income': 2, 'World': 2, 'Afghanistan': 2, 'Albania': 2, 'Algeria': 2, 'American Samoa': 2, 'Andorra': 2, 'Angola': 2, 'Antigua and Barbuda': 2, 'Argentina': 2, 'Armenia': 2, 'Aruba': 2, 'Australia': 2, 'Austria': 2, 'Azerbaijan': 2, '\"Bahamas': 2, 'Bahrain': 2, 'Bangladesh': 2, 'Barbados': 2, 'Belarus': 2, 'Belgium': 2, 'Belize': 2, 'Benin': 2, 'Bermuda': 2, 'Bhutan': 2, 'Bolivia': 2, 'Bosnia and Herzegovina': 2, 'Botswana': 1, 'Brazil': 1, 'Brunei Darussalam': 1, 'Bulgaria': 1, 'Burkina Faso': 1, 'Burundi': 1, 'Cabo Verde': 1, 'Cambodia': 1, 'Cameroon': 1, 'Canada': 1, 'Cayman Islands': 1, 'Central African Republic': 1, 'Chad': 1, 'Channel Islands': 1, 'Chile': 1, 'China': 1, 'Colombia': 1, 'Comoros': 1, '\"Congo': 2, 'Costa Rica': 1, \"Cote d'Ivoire\": 1, 'Croatia': 1, 'Cuba': 1, 'Curacao': 1, 'Cyprus': 1, 'Czech Republic': 1, 'Denmark': 1, 'Djibouti': 1, 'Dominica': 1, 'Dominican Republic': 1, 'Ecuador': 1, '\"Egypt': 1, 'El Salvador': 1, 'Equatorial Guinea': 1, 'Eritrea': 1, 'Estonia': 1, 'Ethiopia': 1, 'Faeroe Islands': 1, 'Fiji': 1, 'Finland': 1, 'France': 1, 'French Polynesia': 1, 'Gabon': 1, '\"Gambia': 1, 'Georgia': 1, 'Germany': 1, 'Ghana': 1, 'Greece': 1, 'Greenland': 1, 'Grenada': 1, 'Guam': 1, 'Guatemala': 1, 'Guinea': 1, 'Guinea-Bissau': 1, 'Guyana': 1, 'Haiti': 1, 'Honduras': 1, '\"Hong Kong SAR': 1, 'Hungary': 1, 'Iceland': 1, 'India': 1, 'Indonesia': 1, '\"Iran': 1, 'Iraq': 1, 'Ireland': 1, 'Isle of Man': 1, 'Israel': 1, 'Italy': 1, 'Jamaica': 1, 'Japan': 1, 'Jordan': 1, 'Kazakhstan': 1, 'Kenya': 1, 'Kiribati': 1, '\"Korea': 2, 'Kuwait': 1, 'Kyrgyz Republic': 1, 'Lao PDR': 1, 'Latvia': 1, 'Lebanon': 1, 'Lesotho': 1, 'Liberia': 1, 'Libya': 1, 'Liechtenstein': 1, 'Lithuania': 1, 'Luxembourg': 1, '\"Macao SAR': 1, '\"Macedonia': 1, 'Madagascar': 1, 'Malawi': 1, 'Malaysia': 1, 'Maldives': 1, 'Mali': 1, 'Malta': 1, 'Marshall Islands': 1, 'Mauritania': 1, 'Mauritius': 1, 'Mexico': 1, '\"Micronesia': 1, 'Moldova': 1, 'Monaco': 1, 'Mongolia': 1, 'Montenegro': 1, 'Morocco': 1, 'Mozambique': 1, 'Myanmar': 1, 'Namibia': 1, 'Nepal': 1, 'Netherlands': 1, 'New Caledonia': 1, 'New Zealand': 1, 'Nicaragua': 1, 'Niger': 1, 'Nigeria': 1, 'Northern Mariana Islands': 1, 'Norway': 1, 'Oman': 1, 'Pakistan': 1, 'Palau': 1, 'Panama': 1, 'Papua New Guinea': 1, 'Paraguay': 1, 'Peru': 1, 'Philippines': 1, 'Poland': 1, 'Portugal': 1, 'Puerto Rico': 1, 'Qatar': 1, 'Romania': 1, 'Russian Federation': 1, 'Rwanda': 1, 'Samoa': 1, 'San Marino': 1, 'Sao Tome and Principe': 1, 'Saudi Arabia': 1, 'Senegal': 1, 'Seychelles': 1, 'Sierra Leone': 1, 'Singapore': 1, 'Slovak Republic': 1, 'Slovenia': 1, 'Solomon Islands': 1, 'Somalia': 1, 'South Africa': 1, 'South Sudan': 1, 'Spain': 1, 'Sri Lanka': 1, 'St. Kitts and Nevis': 1, 'St. Lucia': 1, 'St. Vincent and the Grenadines': 1, 'Sudan': 1, 'Suriname': 1, 'Swaziland': 1, 'Sweden': 1, 'Switzerland': 1, 'Syrian Arab Republic': 1, 'Tajikistan': 1, 'Tanzania': 1, 'Thailand': 1, 'Timor-Leste': 1, 'Togo': 1, 'Tonga': 1, 'Trinidad and Tobago': 1, 'Tunisia': 1, 'Turkey': 1, 'Turkmenistan': 1, 'Turks and Caicos Islands': 1, 'Tuvalu': 1, 'Uganda': 1, 'Ukraine': 1, 'United Arab Emirates': 1, 'United Kingdom': 1, 'United States': 1, 'Uruguay': 1, 'Uzbekistan': 1, 'Vanuatu': 1, '\"Venezuela': 1, 'Vietnam': 1, 'Virgin Islands (U.S.)': 1, '\"Yemen': 1, 'Zambia': 1, 'Zimbabwe': 1}\n"
     ]
    }
   ],
   "source": [
    "# Open a connection to the file\n",
    "with open('world_ind_pop_data.csv') as file:\n",
    "\n",
    "    # Skip the column names\n",
    "    file.readline()\n",
    "\n",
    "    # Initialize an empty dictionary: counts_dict\n",
    "    counts_dict = {}\n",
    "\n",
    "    for j in range(0,300):\n",
    "\n",
    "        # Split the current line into a list: line\n",
    "        line = file.readline().split(',')\n",
    "\n",
    "        # Get the value for the first column: first_col\n",
    "        first_col = line[0]\n",
    "\n",
    "        # If the column value is in the dict, increment its value\n",
    "        if first_col in counts_dict.keys():\n",
    "            counts_dict[first_col] += 1\n",
    "\n",
    "        # Else, add to the dict and set value to 1\n",
    "        else:\n",
    "            counts_dict[first_col] = 1\n",
    "\n",
    "print(counts_dict)"
   ]
  },
  {
   "cell_type": "code",
   "execution_count": 42,
   "id": "488358c5",
   "metadata": {},
   "outputs": [
    {
     "name": "stdout",
     "output_type": "stream",
     "text": [
      "CountryName,CountryCode,Year,Total Population,Urban population (% of total)\n",
      "\n",
      "Arab World,ARB,1960,92495902.0,31.285384211605397\n",
      "\n",
      "Caribbean small states,CSS,1960,4190810.0,31.5974898513652\n",
      "\n"
     ]
    }
   ],
   "source": [
    "### lazy evaluation\n",
    "\n",
    "def read_large_file(file_object):\n",
    "    \"\"\"A generator function to read a large file lazily.\"\"\"\n",
    "\n",
    "    # Loop indefinitely until the end of the file\n",
    "    while True:\n",
    "\n",
    "        # file_object = file 변수명 \n",
    "        # 전체파일을 라인단위로 모두 읽어 그 결과 값으로 list를 반환\n",
    "        data = file_object.readline()\n",
    "\n",
    "        # Break if this is the end of the file\n",
    "        if not data:\n",
    "            break\n",
    "\n",
    "        # Yield the line of data\n",
    "        yield data\n",
    "        \n",
    "# Open a connection to the file\n",
    "with open('world_ind_pop_data.csv') as file:\n",
    "\n",
    "    # Create a generator object for the file: gen_file\n",
    "    gen_file = read_large_file(file)\n",
    "\n",
    "    print(next(gen_file))\n",
    "    print(next(gen_file))\n",
    "    print(next(gen_file))"
   ]
  },
  {
   "cell_type": "code",
   "execution_count": 43,
   "id": "8111443b",
   "metadata": {},
   "outputs": [
    {
     "name": "stdout",
     "output_type": "stream",
     "text": [
      "{'CountryName': 1, 'Arab World': 55, 'Caribbean small states': 55, 'Central Europe and the Baltics': 55, 'East Asia & Pacific (all income levels)': 55, 'East Asia & Pacific (developing only)': 55, 'Euro area': 55, 'Europe & Central Asia (all income levels)': 55, 'Europe & Central Asia (developing only)': 55, 'European Union': 55, 'Fragile and conflict affected situations': 55, 'Heavily indebted poor countries (HIPC)': 55, 'High income': 55, 'High income: nonOECD': 55, 'High income: OECD': 55, 'Latin America & Caribbean (all income levels)': 55, 'Latin America & Caribbean (developing only)': 55, 'Least developed countries: UN classification': 55, 'Low & middle income': 55, 'Low income': 55, 'Lower middle income': 55, 'Middle East & North Africa (all income levels)': 55, 'Middle East & North Africa (developing only)': 55, 'Middle income': 55, 'North America': 55, 'OECD members': 55, 'Other small states': 55, 'Pacific island small states': 55, 'Small states': 55, 'South Asia': 55, 'Sub-Saharan Africa (all income levels)': 55, 'Sub-Saharan Africa (developing only)': 55, 'Upper middle income': 55, 'World': 55, 'Afghanistan': 55, 'Albania': 55, 'Algeria': 55, 'American Samoa': 55, 'Andorra': 55, 'Angola': 55, 'Antigua and Barbuda': 55, 'Argentina': 55, 'Armenia': 55, 'Aruba': 55, 'Australia': 55, 'Austria': 55, 'Azerbaijan': 55, '\"Bahamas': 55, 'Bahrain': 55, 'Bangladesh': 55, 'Barbados': 55, 'Belarus': 55, 'Belgium': 55, 'Belize': 55, 'Benin': 55, 'Bermuda': 55, 'Bhutan': 55, 'Bolivia': 55, 'Bosnia and Herzegovina': 55, 'Botswana': 55, 'Brazil': 55, 'Brunei Darussalam': 55, 'Bulgaria': 55, 'Burkina Faso': 55, 'Burundi': 55, 'Cabo Verde': 55, 'Cambodia': 55, 'Cameroon': 55, 'Canada': 55, 'Cayman Islands': 55, 'Central African Republic': 55, 'Chad': 55, 'Channel Islands': 55, 'Chile': 55, 'China': 55, 'Colombia': 55, 'Comoros': 55, '\"Congo': 110, 'Costa Rica': 55, \"Cote d'Ivoire\": 55, 'Croatia': 55, 'Cuba': 55, 'Curacao': 55, 'Cyprus': 55, 'Czech Republic': 55, 'Denmark': 55, 'Djibouti': 55, 'Dominica': 55, 'Dominican Republic': 55, 'Ecuador': 55, '\"Egypt': 55, 'El Salvador': 55, 'Equatorial Guinea': 55, 'Eritrea': 55, 'Estonia': 55, 'Ethiopia': 55, 'Faeroe Islands': 55, 'Fiji': 55, 'Finland': 55, 'France': 55, 'French Polynesia': 55, 'Gabon': 55, '\"Gambia': 55, 'Georgia': 55, 'Germany': 55, 'Ghana': 55, 'Greece': 55, 'Greenland': 55, 'Grenada': 55, 'Guam': 55, 'Guatemala': 55, 'Guinea': 55, 'Guinea-Bissau': 55, 'Guyana': 55, 'Haiti': 55, 'Honduras': 55, '\"Hong Kong SAR': 55, 'Hungary': 55, 'Iceland': 55, 'India': 55, 'Indonesia': 55, '\"Iran': 55, 'Iraq': 55, 'Ireland': 55, 'Isle of Man': 55, 'Israel': 55, 'Italy': 55, 'Jamaica': 55, 'Japan': 55, 'Jordan': 55, 'Kazakhstan': 55, 'Kenya': 55, 'Kiribati': 55, '\"Korea': 110, 'Kuwait': 52, 'Kyrgyz Republic': 55, 'Lao PDR': 55, 'Latvia': 55, 'Lebanon': 55, 'Lesotho': 55, 'Liberia': 55, 'Libya': 55, 'Liechtenstein': 55, 'Lithuania': 55, 'Luxembourg': 55, '\"Macao SAR': 55, '\"Macedonia': 55, 'Madagascar': 55, 'Malawi': 55, 'Malaysia': 55, 'Maldives': 55, 'Mali': 55, 'Malta': 55, 'Marshall Islands': 55, 'Mauritania': 55, 'Mauritius': 55, 'Mexico': 55, '\"Micronesia': 55, 'Moldova': 55, 'Monaco': 55, 'Mongolia': 55, 'Montenegro': 55, 'Morocco': 55, 'Mozambique': 55, 'Myanmar': 55, 'Namibia': 55, 'Nepal': 55, 'Netherlands': 55, 'New Caledonia': 55, 'New Zealand': 55, 'Nicaragua': 55, 'Niger': 55, 'Nigeria': 55, 'Northern Mariana Islands': 55, 'Norway': 55, 'Oman': 55, 'Pakistan': 55, 'Palau': 55, 'Panama': 55, 'Papua New Guinea': 55, 'Paraguay': 55, 'Peru': 55, 'Philippines': 55, 'Poland': 55, 'Portugal': 55, 'Puerto Rico': 55, 'Qatar': 55, 'Romania': 55, 'Russian Federation': 55, 'Rwanda': 55, 'Samoa': 55, 'San Marino': 55, 'Sao Tome and Principe': 55, 'Saudi Arabia': 55, 'Senegal': 55, 'Seychelles': 55, 'Sierra Leone': 55, 'Singapore': 55, 'Slovak Republic': 55, 'Slovenia': 55, 'Solomon Islands': 55, 'Somalia': 55, 'South Africa': 55, 'South Sudan': 55, 'Spain': 55, 'Sri Lanka': 55, 'St. Kitts and Nevis': 55, 'St. Lucia': 55, 'St. Vincent and the Grenadines': 55, 'Sudan': 55, 'Suriname': 55, 'Swaziland': 55, 'Sweden': 55, 'Switzerland': 55, 'Syrian Arab Republic': 55, 'Tajikistan': 55, 'Tanzania': 55, 'Thailand': 55, 'Timor-Leste': 55, 'Togo': 55, 'Tonga': 55, 'Trinidad and Tobago': 55, 'Tunisia': 55, 'Turkey': 55, 'Turkmenistan': 55, 'Turks and Caicos Islands': 55, 'Tuvalu': 55, 'Uganda': 55, 'Ukraine': 55, 'United Arab Emirates': 55, 'United Kingdom': 55, 'United States': 55, 'Uruguay': 55, 'Uzbekistan': 55, 'Vanuatu': 55, '\"Venezuela': 55, 'Vietnam': 55, 'Virgin Islands (U.S.)': 55, '\"Yemen': 55, 'Zambia': 55, 'Zimbabwe': 55, 'Serbia': 25, 'West Bank and Gaza': 25, 'Sint Maarten (Dutch part)': 17}\n"
     ]
    }
   ],
   "source": [
    "counts_dict = {}\n",
    "\n",
    "with open('world_ind_pop_data.csv') as file:\n",
    "\n",
    "    # Iterate over the generator from read_large_file()\n",
    "    for line in read_large_file(file):\n",
    "\n",
    "        row = line.split(',')\n",
    "        first_col = row[0]\n",
    "\n",
    "        if first_col in counts_dict.keys():\n",
    "            counts_dict[first_col] += 1\n",
    "        else:\n",
    "            counts_dict[first_col] = 1         \n",
    "print(counts_dict)"
   ]
  }
 ],
 "metadata": {
  "kernelspec": {
   "display_name": "Python 3 (ipykernel)",
   "language": "python",
   "name": "python3"
  },
  "language_info": {
   "codemirror_mode": {
    "name": "ipython",
    "version": 3
   },
   "file_extension": ".py",
   "mimetype": "text/x-python",
   "name": "python",
   "nbconvert_exporter": "python",
   "pygments_lexer": "ipython3",
   "version": "3.9.7"
  }
 },
 "nbformat": 4,
 "nbformat_minor": 5
}
