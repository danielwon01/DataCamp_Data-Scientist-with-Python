{
 "cells": [
  {
   "cell_type": "markdown",
   "id": "1af0134d",
   "metadata": {},
   "source": [
    "## iterators(반복자)\n",
    "iterable 객체 - 반복 가능한 객체(값을 차례대로 꺼낼 수 있는 객체)  \n",
    "대표적으로 iterable한 타입 - list, dict, set, str, bytes, tuple, range  \n",
    "\n",
    "iterable의 정의는 연관된 iter method가 있는 객체  \n",
    "iter method가 iterable에 적용되면 iterator 객체가 생성  \n",
    "iterator는 연속된 값을 생성하는 next method은 객체로 정의   "
   ]
  },
  {
   "cell_type": "code",
   "execution_count": 6,
   "id": "5d468a12",
   "metadata": {},
   "outputs": [
    {
     "data": {
      "text/plain": [
       "'a'"
      ]
     },
     "execution_count": 6,
     "metadata": {},
     "output_type": "execute_result"
    }
   ],
   "source": [
    "ab = \"ab\"\n",
    "it = iter(ab)\n",
    "next(it)"
   ]
  },
  {
   "cell_type": "code",
   "execution_count": 7,
   "id": "a703eaec",
   "metadata": {},
   "outputs": [
    {
     "data": {
      "text/plain": [
       "'b'"
      ]
     },
     "execution_count": 7,
     "metadata": {},
     "output_type": "execute_result"
    }
   ],
   "source": [
    "next(it)"
   ]
  },
  {
   "cell_type": "code",
   "execution_count": 8,
   "id": "d16e760d",
   "metadata": {},
   "outputs": [
    {
     "name": "stdout",
     "output_type": "stream",
     "text": [
      "D a t a\n"
     ]
    }
   ],
   "source": [
    "# * 를 사용하여 모든값 반환 \n",
    "word = 'Data'\n",
    "it = iter(word)\n",
    "print(*it)\n",
    "# 수행 후 반복할 값이 더 이상 없기 때문에 다시 수행 불가 , 재수행하기 위해서는 반복자 재정의 필요"
   ]
  },
  {
   "cell_type": "code",
   "execution_count": 7,
   "id": "e477b9a3",
   "metadata": {},
   "outputs": [],
   "source": [
    "import os \n",
    "os.chdir('C://Users//my/Desktop//')"
   ]
  },
  {
   "cell_type": "code",
   "execution_count": 3,
   "id": "199c32a5",
   "metadata": {},
   "outputs": [
    {
     "name": "stdout",
     "output_type": "stream",
     "text": [
      "data\n"
     ]
    }
   ],
   "source": [
    "# Iterating over file connections\n",
    "file = open('text.txt.txt')\n",
    "it = iter(file)\n",
    "print(next(it))"
   ]
  },
  {
   "cell_type": "code",
   "execution_count": 9,
   "id": "bea86572",
   "metadata": {},
   "outputs": [
    {
     "name": "stdout",
     "output_type": "stream",
     "text": [
      "<enumerate object at 0x000001950A5C6B40>\n"
     ]
    }
   ],
   "source": [
    "# enumerator 함수는 인자의 값을 추출 할 때 인덱스를 추출하는 기법\n",
    "a = [\"A\",\"B\",\"C\",\"D\"]\n",
    "e = enumerate(a)\n",
    "print(e)"
   ]
  },
  {
   "cell_type": "code",
   "execution_count": 10,
   "id": "0219acfd",
   "metadata": {},
   "outputs": [
    {
     "name": "stdout",
     "output_type": "stream",
     "text": [
      "[(0, 'A'), (1, 'B'), (2, 'C'), (3, 'D')]\n"
     ]
    }
   ],
   "source": [
    "e_list = list(e)\n",
    "print(e_list)"
   ]
  },
  {
   "cell_type": "code",
   "execution_count": 11,
   "id": "47e50b6f",
   "metadata": {},
   "outputs": [
    {
     "name": "stdout",
     "output_type": "stream",
     "text": [
      "1 A\n",
      "2 B\n",
      "3 C\n",
      "4 D\n"
     ]
    }
   ],
   "source": [
    "for i, v in enumerate(a, start = 1) :\n",
    "    print(i,v)"
   ]
  },
  {
   "cell_type": "code",
   "execution_count": 12,
   "id": "88bb9c4c",
   "metadata": {},
   "outputs": [
    {
     "name": "stdout",
     "output_type": "stream",
     "text": [
      "index: 0, value: A\n",
      "index: 1, value: B\n",
      "index: 2, value: C\n"
     ]
    }
   ],
   "source": [
    "for i, v in enumerate([\"A\",\"B\",\"C\"]) :\n",
    "    print(f\"index: {i}, value: {v}\")"
   ]
  },
  {
   "cell_type": "markdown",
   "id": "e93881c3",
   "metadata": {},
   "source": [
    "### iterable 내장함수"
   ]
  },
  {
   "cell_type": "code",
   "execution_count": 13,
   "id": "dc7428ab",
   "metadata": {},
   "outputs": [
    {
     "name": "stdout",
     "output_type": "stream",
     "text": [
      "<zip object at 0x000001950A77DF00>\n"
     ]
    }
   ],
   "source": [
    "# zip 여러 개의 순회 가능한(iterable) 객체를 인자로 받아 동일한 개수로 이루어진 자료형을 묶어서 튜플의 형태로 반환\n",
    "num = [1,2,3]\n",
    "s = [\"sun\",\"rain\",\"cloud\"]\n",
    "\n",
    "z  = zip(num ,s)\n",
    "print(z)"
   ]
  },
  {
   "cell_type": "code",
   "execution_count": 14,
   "id": "7865bf63",
   "metadata": {},
   "outputs": [
    {
     "name": "stdout",
     "output_type": "stream",
     "text": [
      "[(1, 'sun'), (2, 'rain'), (3, 'cloud')]\n"
     ]
    }
   ],
   "source": [
    "z_list = list(z)\n",
    "print(z_list)"
   ]
  },
  {
   "cell_type": "code",
   "execution_count": 15,
   "id": "7aaadcd4",
   "metadata": {},
   "outputs": [
    {
     "name": "stdout",
     "output_type": "stream",
     "text": [
      "1 sun\n",
      "2 rain\n",
      "3 cloud\n"
     ]
    }
   ],
   "source": [
    "for i,v in zip(num,s):\n",
    "    print(i,v)"
   ]
  },
  {
   "cell_type": "code",
   "execution_count": 16,
   "id": "99c1b313",
   "metadata": {},
   "outputs": [
    {
     "name": "stdout",
     "output_type": "stream",
     "text": [
      "\n"
     ]
    }
   ],
   "source": [
    "# 수행 후 반복할 값이 사라짐 \n",
    "print(*z)"
   ]
  },
  {
   "cell_type": "code",
   "execution_count": 17,
   "id": "ac21de13",
   "metadata": {},
   "outputs": [
    {
     "name": "stdout",
     "output_type": "stream",
     "text": [
      "{1: 'sun', 2: 'rain', 3: 'cloud'}\n"
     ]
    }
   ],
   "source": [
    "# zip함수를 활용해 dict 생성\n",
    "num = [1,2,3]\n",
    "s = [\"sun\",\"rain\",\"cloud\"]\n",
    "\n",
    "dict_m = dict(zip(num, s))\n",
    "print(dict_m)"
   ]
  },
  {
   "cell_type": "code",
   "execution_count": 18,
   "id": "713552c1",
   "metadata": {},
   "outputs": [
    {
     "name": "stdout",
     "output_type": "stream",
     "text": [
      "0 -> sun\n",
      "1 -> rain\n",
      "2 -> cloud\n"
     ]
    }
   ],
   "source": [
    "# enumerater와 zip 혼용\n",
    "num = [\"->\",\"->\",\"->\"]\n",
    "s = [\"sun\",\"rain\",\"cloud\"]\n",
    "\n",
    "for i, (n,s) in enumerate(zip(num,s)) :\n",
    "    print(i,n,s)"
   ]
  },
  {
   "cell_type": "code",
   "execution_count": null,
   "id": "f1af0894",
   "metadata": {},
   "outputs": [],
   "source": [
    "# Using iterators to load large files into memory\n",
    "result = [] # 빈리스트생성 \n",
    "\n",
    "for c in pd.read_csv(\"df.csv\",  chunksize = 1000) :   # 업로드할 데이텃이 너무 방대하면 chuck_size로 끊어서 가져올 row 지정 \n",
    "    result.append( )"
   ]
  },
  {
   "cell_type": "code",
   "execution_count": 22,
   "id": "1490bea5",
   "metadata": {},
   "outputs": [
    {
     "name": "stdout",
     "output_type": "stream",
     "text": [
      "True\n",
      "False\n"
     ]
    }
   ],
   "source": [
    "# all(iterable)은 iterable한 객체를 인수로 받으며, 인수의 원소가 모두 참이면 True, 거짓이 하나라도 있 으면 False를 return\n",
    "print(all([1,2,3]))\n",
    "print(all([0,1,2])) "
   ]
  },
  {
   "cell_type": "code",
   "execution_count": 25,
   "id": "3b50e367",
   "metadata": {},
   "outputs": [
    {
     "name": "stdout",
     "output_type": "stream",
     "text": [
      "True\n"
     ]
    }
   ],
   "source": [
    "# any(iterable)은 iterable한 객체를 인수로 받으며, 인수의 원소 중 하나라도 참이면 True, 모두 거짓일때만 False를 리턴, all의 반대\n",
    "print(any([0, False , True]))"
   ]
  },
  {
   "cell_type": "markdown",
   "id": "5000f8dc",
   "metadata": {},
   "source": [
    "### itertools\n",
    "반복연산 패키지로 자체 또는 조합되어 효율적이고 빠르게 동작하며 operator 모듈과 효과적으로 동작"
   ]
  },
  {
   "cell_type": "code",
   "execution_count": 26,
   "id": "23650b0a",
   "metadata": {},
   "outputs": [],
   "source": [
    "import itertools "
   ]
  },
  {
   "cell_type": "code",
   "execution_count": 28,
   "id": "13417303",
   "metadata": {},
   "outputs": [
    {
     "name": "stdout",
     "output_type": "stream",
     "text": [
      "10\n",
      "12\n",
      "14\n",
      "16\n",
      "18\n"
     ]
    }
   ],
   "source": [
    "# count(시작, [step]) 의 함수로 시작 숫자부터 step만큼(없으면 1) 씩 무한히 증가하는 제네레이터\n",
    "# count 는 반복하고자 하는 최대수를 미리 알지 않아도 되는 경우 사용\n",
    "# islice(iterable객체, [시작], 정지[,step])의 함수로, iterable한 객체를 특정 범위로 슬라이싱하고 iterator로 반환됩니다.\n",
    "from itertools import count ,islice\n",
    "\n",
    "for i in islice(count(10,step = 2), 5) :\n",
    "    print(i)"
   ]
  },
  {
   "cell_type": "markdown",
   "id": "6255773f",
   "metadata": {},
   "source": [
    "### List comprehensions\n",
    "[ ( 변수를 활용한 값 ) for ( 사용할 변수 이름 ) in ( 순회할 수 있는 값 )]"
   ]
  },
  {
   "cell_type": "code",
   "execution_count": 2,
   "id": "1c546f64",
   "metadata": {},
   "outputs": [
    {
     "name": "stdout",
     "output_type": "stream",
     "text": [
      "[1, 2, 3, 4, 5, 6, 7, 8, 9, 10]\n"
     ]
    }
   ],
   "source": [
    "# for 문 \n",
    "\n",
    "empty_list = []\n",
    "for i in range(1,11):\n",
    "    empty_list.append(i)  \n",
    "\n",
    "print(empty_list)"
   ]
  },
  {
   "cell_type": "code",
   "execution_count": 4,
   "id": "02716235",
   "metadata": {},
   "outputs": [
    {
     "data": {
      "text/plain": [
       "[1, 2, 3, 4, 5, 6, 7, 8, 9, 10]"
      ]
     },
     "execution_count": 4,
     "metadata": {},
     "output_type": "execute_result"
    }
   ],
   "source": [
    "# list comprehensions\n",
    "\n",
    "em_list = [x for x in range(1,11)]\n",
    "em_list"
   ]
  },
  {
   "cell_type": "code",
   "execution_count": 8,
   "id": "06e0e73a",
   "metadata": {},
   "outputs": [
    {
     "name": "stdout",
     "output_type": "stream",
     "text": [
      "[2, 4, 6, 8, 10]\n"
     ]
    }
   ],
   "source": [
    "size  = 10\n",
    "arr = [n for n in range(1,11) if n % 2 == 0]\n",
    "print(arr)"
   ]
  },
  {
   "cell_type": "code",
   "execution_count": 10,
   "id": "b0d1bb0a",
   "metadata": {},
   "outputs": [
    {
     "name": "stdout",
     "output_type": "stream",
     "text": [
      "[8, 16]\n"
     ]
    }
   ],
   "source": [
    "# 다중 조건문 (두 if 문 사이에 and 를 명시하지 않아도 and 조건으로 계산 but and 를 명시해주면 오류발생 )\n",
    "arr =  [n for n in range(1,20) if n & 2 ==0 if n & 5 ==0]\n",
    "print(arr)"
   ]
  },
  {
   "cell_type": "code",
   "execution_count": 11,
   "id": "b778046c",
   "metadata": {},
   "outputs": [
    {
     "name": "stdout",
     "output_type": "stream",
     "text": [
      "[1, 2, 4, 5, 8, 9, 10, 12, 13, 16, 17, 18]\n"
     ]
    }
   ],
   "source": [
    "#  if 문에서 or연산자로 논리 연산 , or 다중 if문에서 or 연산 안됨 \n",
    "arr =  [n for n in range(1,20) if n & 2 ==0 or n & 5 ==0]\n",
    "print(arr)"
   ]
  },
  {
   "cell_type": "code",
   "execution_count": 12,
   "id": "d4c6dffc",
   "metadata": {},
   "outputs": [
    {
     "name": "stdout",
     "output_type": "stream",
     "text": [
      "[(0, 2), (0, 3), (1, 2), (1, 3)]\n"
     ]
    }
   ],
   "source": [
    "a = [(n,n1) for n in range(0,2) for n1 in range(2,4)]\n",
    "print(a)"
   ]
  },
  {
   "cell_type": "markdown",
   "id": "6f1c44c1",
   "metadata": {},
   "source": [
    "### Advanced comprehensions\n",
    "\n"
   ]
  },
  {
   "cell_type": "code",
   "execution_count": 15,
   "id": "ed52d4cb",
   "metadata": {},
   "outputs": [
    {
     "name": "stdout",
     "output_type": "stream",
     "text": [
      "['', 'samwise', '', 'aragorn', 'legolas', 'boromir', '']\n"
     ]
    }
   ],
   "source": [
    "fellowship = ['frodo', 'samwise', 'merry', 'aragorn', 'legolas', 'boromir', 'gimli']\n",
    "\n",
    "\n",
    "new_fellowship = [member if len(member) >= 7 else '' for member in fellowship]\n",
    "print(new_fellowship)"
   ]
  },
  {
   "cell_type": "code",
   "execution_count": 16,
   "id": "b00d67bb",
   "metadata": {},
   "outputs": [
    {
     "name": "stdout",
     "output_type": "stream",
     "text": [
      "{'frodo': 5, 'samwise': 7, 'merry': 5, 'aragorn': 7, 'legolas': 7, 'boromir': 7, 'gimli': 5}\n"
     ]
    }
   ],
   "source": [
    "fellowship = ['frodo', 'samwise', 'merry', 'aragorn', 'legolas', 'boromir', 'gimli']\n",
    "\n",
    "\n",
    "new_fellowship = { member:len(member) for member in fellowship }\n",
    "print(new_fellowship)"
   ]
  },
  {
   "cell_type": "code",
   "execution_count": 13,
   "id": "267ed00c",
   "metadata": {},
   "outputs": [
    {
     "data": {
      "text/plain": [
       "{0: 0, 1: -1, 2: -2, 3: -3, 4: -4, 5: -5, 6: -6, 7: -7, 8: -8}"
      ]
     },
     "execution_count": 13,
     "metadata": {},
     "output_type": "execute_result"
    }
   ],
   "source": [
    "# dict\n",
    "d  = {n : -n for n in range(9)}\n",
    "d"
   ]
  },
  {
   "cell_type": "code",
   "execution_count": 22,
   "id": "55439633",
   "metadata": {},
   "outputs": [
    {
     "name": "stdout",
     "output_type": "stream",
     "text": [
      "{0, 1, 4, 9, 16}\n"
     ]
    }
   ],
   "source": [
    "# set \n",
    "n = {i * i for i in range(0,5)}\n",
    "print(n)"
   ]
  },
  {
   "cell_type": "markdown",
   "id": "58df8d60",
   "metadata": {},
   "source": [
    "### Introduction to generator expressions\n",
    "제너레이터는 모든 값을 메모리에 담고 있지 않고 그때그때 값을 생성(generator)해서 반환하기 때문에\n",
    "\n",
    "제너레이터를 사용할 때에는 한 번에 한 개의 값만 순환(iterate)할 수 있다."
   ]
  },
  {
   "cell_type": "code",
   "execution_count": 17,
   "id": "a230b247",
   "metadata": {},
   "outputs": [
    {
     "data": {
      "text/plain": [
       "[1, 4]"
      ]
     },
     "execution_count": 17,
     "metadata": {},
     "output_type": "execute_result"
    }
   ],
   "source": [
    "[n**2 for n in range(1,3)]"
   ]
  },
  {
   "cell_type": "code",
   "execution_count": 18,
   "id": "4c0934d0",
   "metadata": {},
   "outputs": [
    {
     "data": {
      "text/plain": [
       "<generator object <genexpr> at 0x0000022C5687E890>"
      ]
     },
     "execution_count": 18,
     "metadata": {},
     "output_type": "execute_result"
    }
   ],
   "source": [
    "# generator는 메모리에 저장되지 않는다.\n",
    "(n**2 for n in range(1,3))"
   ]
  },
  {
   "cell_type": "code",
   "execution_count": 19,
   "id": "512526ef",
   "metadata": {},
   "outputs": [
    {
     "name": "stdout",
     "output_type": "stream",
     "text": [
      "[<generator object <genexpr> at 0x0000022C5687EC10>, <generator object <genexpr> at 0x0000022C5687EC10>, <generator object <genexpr> at 0x0000022C5687EC10>, <generator object <genexpr> at 0x0000022C5687EC10>, <generator object <genexpr> at 0x0000022C5687EC10>, <generator object <genexpr> at 0x0000022C5687EC10>]\n"
     ]
    }
   ],
   "source": [
    "n = (n for num in range(10) if num & 2 == 0)\n",
    "print(list(n))"
   ]
  },
  {
   "cell_type": "code",
   "execution_count": 30,
   "id": "bae2c1ba",
   "metadata": {},
   "outputs": [
    {
     "name": "stdout",
     "output_type": "stream",
     "text": [
      "6\n",
      "5\n",
      "5\n",
      "6\n",
      "7\n"
     ]
    }
   ],
   "source": [
    "lannister = ['cersei', 'jaime', 'tywin', 'tyrion', 'joffrey']\n",
    "\n",
    "lengths = (len(person) for person in lannister)\n",
    "\n",
    "for value in lengths:\n",
    "    print(value)"
   ]
  },
  {
   "cell_type": "code",
   "execution_count": 23,
   "id": "19e57f3b",
   "metadata": {},
   "outputs": [
    {
     "data": {
      "text/plain": [
       "<generator object number at 0x0000022C56EBCF90>"
      ]
     },
     "execution_count": 23,
     "metadata": {},
     "output_type": "execute_result"
    }
   ],
   "source": [
    "# generator function (return X yeield O)\n",
    "def number(n):\n",
    "    for i in range(n):\n",
    "        yield i\n",
    "        \n",
    "number(5)"
   ]
  },
  {
   "cell_type": "code",
   "execution_count": 32,
   "id": "3c2dcc39",
   "metadata": {},
   "outputs": [
    {
     "name": "stdout",
     "output_type": "stream",
     "text": [
      "3\n",
      "4\n",
      "5\n"
     ]
    }
   ],
   "source": [
    "a = [\"ABC\", \"ABCD\",\"ABCDE\"]\n",
    "\n",
    "def number(l) :\n",
    "    for i in l:\n",
    "        yield len(i)\n",
    "\n",
    "for v in number(a):\n",
    "    print(v)"
   ]
  }
 ],
 "metadata": {
  "kernelspec": {
   "display_name": "Python 3",
   "language": "python",
   "name": "python3"
  },
  "language_info": {
   "codemirror_mode": {
    "name": "ipython",
    "version": 3
   },
   "file_extension": ".py",
   "mimetype": "text/x-python",
   "name": "python",
   "nbconvert_exporter": "python",
   "pygments_lexer": "ipython3",
   "version": "3.8.8"
  }
 },
 "nbformat": 4,
 "nbformat_minor": 5
}
