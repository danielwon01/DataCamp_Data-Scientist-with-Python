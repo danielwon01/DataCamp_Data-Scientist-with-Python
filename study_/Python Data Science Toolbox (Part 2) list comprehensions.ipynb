{
 "cells": [
  {
   "cell_type": "markdown",
   "id": "1af0134d",
   "metadata": {},
   "source": [
    "## iterators(반복자)\n",
    "iterable의 정의는 연관된 iter method가 있는 객체  \n",
    "iter method가 iterable에 적용되면 iterator 객체가 생성  \n",
    "iterator는 연속된 값을 생성하는 next method은 객체로 정의   "
   ]
  },
  {
   "cell_type": "code",
   "execution_count": 1,
   "id": "5d468a12",
   "metadata": {},
   "outputs": [
    {
     "data": {
      "text/plain": [
       "'a'"
      ]
     },
     "execution_count": 1,
     "metadata": {},
     "output_type": "execute_result"
    }
   ],
   "source": [
    "ab = \"ab\"\n",
    "it = iter(ab)\n",
    "next(it)"
   ]
  },
  {
   "cell_type": "code",
   "execution_count": 2,
   "id": "a703eaec",
   "metadata": {},
   "outputs": [
    {
     "data": {
      "text/plain": [
       "'b'"
      ]
     },
     "execution_count": 2,
     "metadata": {},
     "output_type": "execute_result"
    }
   ],
   "source": [
    "next(it)"
   ]
  },
  {
   "cell_type": "code",
   "execution_count": 6,
   "id": "d16e760d",
   "metadata": {},
   "outputs": [
    {
     "name": "stdout",
     "output_type": "stream",
     "text": [
      "D a t a\n"
     ]
    }
   ],
   "source": [
    "# * 를 사용하여 모든값 반환 \n",
    "word = 'Data'\n",
    "it = iter(word)\n",
    "print(*it)\n",
    "# 수행 후 반복할 값이 더 이상 없기 때문에 다시 수행 불가 , 재수행하기 위해서는 반복자 재정의 필요"
   ]
  },
  {
   "cell_type": "code",
   "execution_count": 7,
   "id": "e477b9a3",
   "metadata": {},
   "outputs": [],
   "source": [
    "import os \n",
    "os.chdir('C://Users//my/Desktop//')"
   ]
  },
  {
   "cell_type": "code",
   "execution_count": 3,
   "id": "199c32a5",
   "metadata": {},
   "outputs": [
    {
     "name": "stdout",
     "output_type": "stream",
     "text": [
      "data\n"
     ]
    }
   ],
   "source": [
    "# Iterating over file connections\n",
    "file = open('text.txt.txt')\n",
    "it = iter(file)\n",
    "print(next(it))"
   ]
  },
  {
   "cell_type": "code",
   "execution_count": 4,
   "id": "bea86572",
   "metadata": {},
   "outputs": [
    {
     "name": "stdout",
     "output_type": "stream",
     "text": [
      "<enumerate object at 0x000002231D199EC0>\n"
     ]
    }
   ],
   "source": [
    "# enumerator 함수는 인자의 값을 추출 할 때 인덱스를 추출하는 기법\n",
    "a = [\"A\",\"B\",\"C\",\"D\"]\n",
    "e = enumerate(a)\n",
    "print(e)"
   ]
  },
  {
   "cell_type": "code",
   "execution_count": 5,
   "id": "0219acfd",
   "metadata": {},
   "outputs": [
    {
     "name": "stdout",
     "output_type": "stream",
     "text": [
      "[(0, 'A'), (1, 'B'), (2, 'C'), (3, 'D')]\n"
     ]
    }
   ],
   "source": [
    "e_list = list(e)\n",
    "print(e_list)"
   ]
  },
  {
   "cell_type": "code",
   "execution_count": 6,
   "id": "47e50b6f",
   "metadata": {},
   "outputs": [
    {
     "name": "stdout",
     "output_type": "stream",
     "text": [
      "1 A\n",
      "2 B\n",
      "3 C\n",
      "4 D\n"
     ]
    }
   ],
   "source": [
    "for i, v in enumerate(a, start = 1) :\n",
    "    print(i,v)"
   ]
  },
  {
   "cell_type": "code",
   "execution_count": 15,
   "id": "88bb9c4c",
   "metadata": {},
   "outputs": [
    {
     "name": "stdout",
     "output_type": "stream",
     "text": [
      "index: 0, value: A\n",
      "index: 1, value: B\n",
      "index: 2, value: C\n"
     ]
    }
   ],
   "source": [
    "for i, v in enumerate([\"A\",\"B\",\"C\"]) :\n",
    "    print(f\"index: {i}, value: {v}\")"
   ]
  },
  {
   "cell_type": "code",
   "execution_count": 7,
   "id": "dc7428ab",
   "metadata": {},
   "outputs": [
    {
     "name": "stdout",
     "output_type": "stream",
     "text": [
      "<zip object at 0x000002231D200B80>\n"
     ]
    }
   ],
   "source": [
    "# zip 여러 개의 순회 가능한(iterable) 객체를 인자로 받아 동일한 개수로 이루어진 자료형을 묶어서 튜플의 형태로 반환\n",
    "num = [1,2,3]\n",
    "s = [\"sun\",\"rain\",\"cloud\"]\n",
    "\n",
    "z  = zip(num ,s)\n",
    "print(z)"
   ]
  },
  {
   "cell_type": "code",
   "execution_count": 8,
   "id": "7865bf63",
   "metadata": {},
   "outputs": [
    {
     "name": "stdout",
     "output_type": "stream",
     "text": [
      "[(1, 'sun'), (2, 'rain'), (3, 'cloud')]\n"
     ]
    }
   ],
   "source": [
    "z_list = list(z)\n",
    "print(z_list)"
   ]
  },
  {
   "cell_type": "code",
   "execution_count": 9,
   "id": "7aaadcd4",
   "metadata": {},
   "outputs": [
    {
     "name": "stdout",
     "output_type": "stream",
     "text": [
      "1 sun\n",
      "2 rain\n",
      "3 cloud\n"
     ]
    }
   ],
   "source": [
    "for i,v in zip(num,s):\n",
    "    print(i,v)"
   ]
  },
  {
   "cell_type": "code",
   "execution_count": 10,
   "id": "99c1b313",
   "metadata": {},
   "outputs": [
    {
     "name": "stdout",
     "output_type": "stream",
     "text": [
      "\n"
     ]
    }
   ],
   "source": [
    "# 수행 후 반복할 값이 사라짐 \n",
    "print(*z)"
   ]
  },
  {
   "cell_type": "code",
   "execution_count": 12,
   "id": "ac21de13",
   "metadata": {},
   "outputs": [
    {
     "name": "stdout",
     "output_type": "stream",
     "text": [
      "{1: 'sun', 2: 'rain', 3: 'cloud'}\n"
     ]
    }
   ],
   "source": [
    "# zip함수를 활용해 dict 생성\n",
    "num = [1,2,3]\n",
    "s = [\"sun\",\"rain\",\"cloud\"]\n",
    "\n",
    "dict_m = dict(zip(num, s))\n",
    "print(dict_m)"
   ]
  },
  {
   "cell_type": "code",
   "execution_count": 14,
   "id": "713552c1",
   "metadata": {},
   "outputs": [
    {
     "name": "stdout",
     "output_type": "stream",
     "text": [
      "0 -> sun\n",
      "1 -> rain\n",
      "2 -> cloud\n"
     ]
    }
   ],
   "source": [
    "# enumerater와 zip 혼용\n",
    "num = [\"->\",\"->\",\"->\"]\n",
    "s = [\"sun\",\"rain\",\"cloud\"]\n",
    "\n",
    "for i, (n,s) in enumerate(zip(num,s)) :\n",
    "    print(i,n,s)"
   ]
  },
  {
   "cell_type": "code",
   "execution_count": null,
   "id": "58852cd4",
   "metadata": {},
   "outputs": [],
   "source": [
    "# Using iterators to load large files into memory\n",
    "result = [] # 빈리스트생성 \n",
    "\n",
    "for c in pd.read_csv(\"df.csv\",  chunksize = 1000) :   # 업로드할 데이텃이 너무 방대하면 chuck_size로 끊어서 가져올 row 지정 \n",
    "    result.append( )"
   ]
  }
 ],
 "metadata": {
  "kernelspec": {
   "display_name": "Python 3",
   "language": "python",
   "name": "python3"
  },
  "language_info": {
   "codemirror_mode": {
    "name": "ipython",
    "version": 3
   },
   "file_extension": ".py",
   "mimetype": "text/x-python",
   "name": "python",
   "nbconvert_exporter": "python",
   "pygments_lexer": "ipython3",
   "version": "3.8.8"
  }
 },
 "nbformat": 4,
 "nbformat_minor": 5
}
