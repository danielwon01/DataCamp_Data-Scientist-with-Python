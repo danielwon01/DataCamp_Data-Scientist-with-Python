{
 "cells": [
  {
   "cell_type": "markdown",
   "id": "4f8ec8a4",
   "metadata": {},
   "source": [
    "## Get several csv files at a time"
   ]
  },
  {
   "cell_type": "code",
   "execution_count": 2,
   "id": "e6278cb7",
   "metadata": {},
   "outputs": [],
   "source": [
    "import pandas as pd\n",
    "import warnings\n",
    "warnings.filterwarnings(action= \"ignore\")"
   ]
  },
  {
   "cell_type": "code",
   "execution_count": 3,
   "id": "045aafc8",
   "metadata": {},
   "outputs": [
    {
     "data": {
      "text/plain": [
       "'C:\\\\Users\\\\my\\\\Desktop\\\\TLI\\\\DataCamp_Data Scientist with Python\\\\study_'"
      ]
     },
     "execution_count": 3,
     "metadata": {},
     "output_type": "execute_result"
    }
   ],
   "source": [
    "import os  \n",
    "os.getcwd() # 현재 경로 확인 "
   ]
  },
  {
   "cell_type": "code",
   "execution_count": null,
   "id": "a6bb7167",
   "metadata": {},
   "outputs": [],
   "source": [
    "os.listdir('파일경로') # listdir을 통해 리스트형태로 파일 가져오기 "
   ]
  },
  {
   "cell_type": "code",
   "execution_count": null,
   "id": "6434c906",
   "metadata": {},
   "outputs": [],
   "source": [
    "## 해당 경로에 있는 .csv 파일명 리스트 가져오기\n",
    "\n",
    "path =  '파일경로/'\n",
    "file_list = os.listdir(path)\n",
    "file_list_py = [file for file in file_list if file.endswith('.csv')] ## 파일명 끝이 .csv인 경우"
   ]
  },
  {
   "cell_type": "code",
   "execution_count": null,
   "id": "ba96544f",
   "metadata": {},
   "outputs": [],
   "source": [
    "## csv 파일들을 DataFrame으로 불러와서 concat\n",
    "\n",
    "df = pd.DataFrame()\n",
    "for i in file_list_py:\n",
    "    data = pd.read_csv(path + i)\n",
    "    df = pd.concat([df,data],axis = 1 , ignore_index = True)"
   ]
  }
 ],
 "metadata": {
  "kernelspec": {
   "display_name": "Python 3",
   "language": "python",
   "name": "python3"
  },
  "language_info": {
   "codemirror_mode": {
    "name": "ipython",
    "version": 3
   },
   "file_extension": ".py",
   "mimetype": "text/x-python",
   "name": "python",
   "nbconvert_exporter": "python",
   "pygments_lexer": "ipython3",
   "version": "3.8.8"
  }
 },
 "nbformat": 4,
 "nbformat_minor": 5
}
