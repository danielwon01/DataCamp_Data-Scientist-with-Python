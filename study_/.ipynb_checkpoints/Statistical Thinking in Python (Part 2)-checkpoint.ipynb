{
 "cells": [
  {
   "cell_type": "code",
   "execution_count": null,
   "id": "e0e7fb7d",
   "metadata": {},
   "outputs": [],
   "source": [
    "import pandas as pd\n",
    "import numpy as np\n",
    "import matplotlib.pyplot as plt\n",
    "import seaborn as sns\n",
    "%matplotlib inline\n",
    "\n",
    "import warnings\n",
    "warnings.filterwarnings(action='ignore')"
   ]
  },
  {
   "cell_type": "code",
   "execution_count": null,
   "id": "313a7277",
   "metadata": {},
   "outputs": [],
   "source": [
    "df = pd.read_csv('2008_swing_states.csv')\n",
    "df.head()"
   ]
  },
  {
   "cell_type": "markdown",
   "id": "2ecab5c5",
   "metadata": {},
   "source": [
    "### Optimal parameters\n",
    "Parameter values that brings the model in closet agreement with the data"
   ]
  },
  {
   "cell_type": "markdown",
   "id": "b901d8a4",
   "metadata": {},
   "source": [
    "### Linear regression by least squares\n",
    "선형회귀의 매개변수는 기울기와 절편이 있다. 기울기는 선이 얼마나 가파른지를 설정, 절편은 선이 y축과 교차하는 위치를 설정   \n",
    "\n",
    "**어떤 기울기와 절편이 데이터를 가장 잘 설명하는지 알 수 있을까?**  \n",
    "데이터 포인트가 집합적으로 선에 최대한 가깝게 설정  \n",
    "데이터 포인트와 선 사이의 수직거리를 잔여(residuals) \n",
    "\n",
    "Least squares(최소자승법) \n",
    "The process of finding the parameters for which the sum of the squares of the residuals is minimal  \n",
    "최소자승을 구하기 위해 np.polyfit() 사용, 선형함수가 1차 다항식이기 때문에 사용 가능 "
   ]
  },
  {
   "cell_type": "code",
   "execution_count": null,
   "id": "003dfdd7",
   "metadata": {},
   "outputs": [],
   "source": [
    "_ = plt.plot(df['total_votes'], df['dem_share'], marker='.', linestyle='none')\n",
    "plt.margins(0.02)\n",
    "_ = plt.xlabel('total_votes')\n",
    "_ = plt.ylabel('dem_share')\n",
    "_ = plt.xticks(rotation =  45)"
   ]
  },
  {
   "cell_type": "code",
   "execution_count": null,
   "id": "041a8345",
   "metadata": {},
   "outputs": [],
   "source": [
    "slope , intercept = np.polyfit(df['total_votes'] , df['dem_share'] , 1)"
   ]
  },
  {
   "cell_type": "code",
   "execution_count": null,
   "id": "f641dbc5",
   "metadata": {},
   "outputs": [],
   "source": [
    "slope"
   ]
  },
  {
   "cell_type": "code",
   "execution_count": null,
   "id": "d5eb7aa5",
   "metadata": {},
   "outputs": [],
   "source": [
    "intercept"
   ]
  },
  {
   "cell_type": "code",
   "execution_count": null,
   "id": "a092bb20",
   "metadata": {},
   "outputs": [],
   "source": [
    "_ = plt.plot(df['total_votes'], df['dem_share'], marker='.', linestyle='none')\n",
    "plt.margins(0.02)\n",
    "_ = plt.xlabel('total_votes')\n",
    "_ = plt.ylabel('dem_share')\n",
    "_ = plt.xticks(rotation =  45)\n",
    "\n",
    "x = np.array([0,800000])\n",
    "y = slope * x + intercept\n",
    "\n",
    "_ = plt.plot(x,y)"
   ]
  }
 ],
 "metadata": {
  "kernelspec": {
   "display_name": "Python 3",
   "language": "python",
   "name": "python3"
  },
  "language_info": {
   "codemirror_mode": {
    "name": "ipython",
    "version": 3
   },
   "file_extension": ".py",
   "mimetype": "text/x-python",
   "name": "python",
   "nbconvert_exporter": "python",
   "pygments_lexer": "ipython3",
   "version": "3.8.8"
  }
 },
 "nbformat": 4,
 "nbformat_minor": 5
}
