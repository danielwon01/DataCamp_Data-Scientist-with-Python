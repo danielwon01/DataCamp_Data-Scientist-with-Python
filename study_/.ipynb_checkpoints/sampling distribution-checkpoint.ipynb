{
 "cells": [
  {
   "cell_type": "code",
   "execution_count": 1,
   "id": "0598de07",
   "metadata": {},
   "outputs": [],
   "source": [
    "import pandas as pd\n",
    "import numpy as np\n",
    "import matplotlib.pyplot as plt\n",
    "import seaborn as sns\n",
    "%matplotlib inline\n",
    "\n",
    "import warnings\n",
    "warnings.filterwarnings(action='ignore')"
   ]
  },
  {
   "cell_type": "markdown",
   "id": "2b1b0120",
   "metadata": {},
   "source": [
    "### 동전던지기 "
   ]
  },
  {
   "cell_type": "markdown",
   "id": "13668a01",
   "metadata": {},
   "source": [
    "앞면이 나올 확률이 $q = 0.2$인 동전을 $n = 10$번 던졌본다."
   ]
  },
  {
   "cell_type": "code",
   "execution_count": 2,
   "id": "8dc175cf",
   "metadata": {},
   "outputs": [],
   "source": [
    "q = .2\n",
    "n = 10 "
   ]
  },
  {
   "cell_type": "code",
   "execution_count": 3,
   "id": "93675852",
   "metadata": {},
   "outputs": [],
   "source": [
    "obs = np.random.binomial(1, q, size=n) # 이항 "
   ]
  },
  {
   "cell_type": "code",
   "execution_count": 4,
   "id": "d5fcd7cc",
   "metadata": {},
   "outputs": [
    {
     "data": {
      "text/plain": [
       "array([0, 0, 0, 0, 0, 0, 0, 0, 1, 1])"
      ]
     },
     "execution_count": 4,
     "metadata": {},
     "output_type": "execute_result"
    }
   ],
   "source": [
    "obs"
   ]
  },
  {
   "cell_type": "markdown",
   "id": "210ee5e7",
   "metadata": {},
   "source": [
    "10번 중 앞면이 나온 비중을 추정량($\\hat{q}$)로 사용하면, 추정치는:"
   ]
  },
  {
   "cell_type": "code",
   "execution_count": 5,
   "id": "2c9c64e2",
   "metadata": {},
   "outputs": [
    {
     "data": {
      "text/plain": [
       "0.2"
      ]
     },
     "execution_count": 5,
     "metadata": {},
     "output_type": "execute_result"
    }
   ],
   "source": [
    "q_hat = obs.mean()\n",
    "q_hat"
   ]
  },
  {
   "cell_type": "markdown",
   "id": "dc58df90",
   "metadata": {},
   "source": [
    "$b = 100$ 개의 평행우주에서 똑같은 동전을 똑같이 $n=10$번 던져서 각각의 $\\hat{q}$를 계산하면?"
   ]
  },
  {
   "cell_type": "code",
   "execution_count": 6,
   "id": "29f9134a",
   "metadata": {},
   "outputs": [
    {
     "data": {
      "text/plain": [
       "array([0.4, 0. , 0.2, 0.3, 0.1, 0.1, 0.5, 0.1, 0.2, 0.2, 0. , 0.2, 0.2,\n",
       "       0.2, 0.4, 0.2, 0. , 0.3, 0.2, 0.2, 0.5, 0. , 0.2, 0.3, 0.3, 0.1,\n",
       "       0.1, 0.4, 0.2, 0.1, 0.2, 0.1, 0.5, 0.5, 0.3, 0.2, 0.4, 0.3, 0.2,\n",
       "       0.2, 0.1, 0.1, 0.2, 0.1, 0.1, 0.4, 0. , 0.2, 0.3, 0. , 0.1, 0.2,\n",
       "       0.1, 0.1, 0.4, 0.2, 0.2, 0.1, 0.1, 0.2, 0.1, 0.1, 0.2, 0.3, 0.3,\n",
       "       0.3, 0.1, 0.3, 0.1, 0.1, 0.4, 0.4, 0.2, 0.3, 0.3, 0.4, 0.3, 0.3,\n",
       "       0.5, 0. , 0.1, 0. , 0.1, 0.1, 0.2, 0.1, 0.2, 0.2, 0.3, 0. , 0.2,\n",
       "       0.3, 0.1, 0.3, 0.2, 0.1, 0.1, 0.2, 0.1, 0.1])"
      ]
     },
     "execution_count": 6,
     "metadata": {},
     "output_type": "execute_result"
    }
   ],
   "source": [
    "b = 100\n",
    "\n",
    "q_hats = np.array([\n",
    "  np.random.binomial(1, q, size=n).mean()\n",
    "  for _ in range(b)\n",
    "])\n",
    "q_hats"
   ]
  },
  {
   "cell_type": "code",
   "execution_count": 7,
   "id": "21938726",
   "metadata": {},
   "outputs": [
    {
     "data": {
      "image/png": "[encoded data removed]",
      "text/plain": [
       "<Figure size 432x288 with 1 Axes>"
      ]
     },
     "metadata": {
      "needs_background": "light"
     },
     "output_type": "display_data"
    }
   ],
   "source": [
    "sns.histplot(q_hats)\n",
    "plt.show()"
   ]
  },
  {
   "cell_type": "markdown",
   "id": "f3b062cc",
   "metadata": {},
   "source": [
    "효율적인 계산을 위해 for-loop을 이용하지 않고, `(b, n)` 차원 행렬을 먼저 만든 후, 각 행(`axis=1`) 별로 추정치(`mean`)를 계산."
   ]
  },
  {
   "cell_type": "code",
   "execution_count": 8,
   "id": "d2792fb6",
   "metadata": {},
   "outputs": [],
   "source": [
    "def plot_histogram(q, n, b): \n",
    "    sns.histplot(np.random.binomial(1, q, size=(b, n)).mean(axis=1))"
   ]
  },
  {
   "cell_type": "code",
   "execution_count": 9,
   "id": "80b1b254",
   "metadata": {},
   "outputs": [
    {
     "data": {
      "image/png": "[encoded data removed]",
      "text/plain": [
       "<Figure size 432x288 with 1 Axes>"
      ]
     },
     "metadata": {
      "needs_background": "light"
     },
     "output_type": "display_data"
    }
   ],
   "source": [
    "plot_histogram(q=0.2, n=10, b=10000)"
   ]
  },
  {
   "cell_type": "code",
   "execution_count": 10,
   "id": "d5cfdbc1",
   "metadata": {},
   "outputs": [
    {
     "data": {
      "image/png": "[encoded data removed]",
      "text/plain": [
       "<Figure size 432x288 with 1 Axes>"
      ]
     },
     "metadata": {
      "needs_background": "light"
     },
     "output_type": "display_data"
    }
   ],
   "source": [
    "plot_histogram(q=0.5, n=10, b=10000)"
   ]
  },
  {
   "cell_type": "code",
   "execution_count": 11,
   "id": "28611bef",
   "metadata": {},
   "outputs": [
    {
     "data": {
      "image/png": "[encoded data removed]",
      "text/plain": [
       "<Figure size 432x288 with 1 Axes>"
      ]
     },
     "metadata": {
      "needs_background": "light"
     },
     "output_type": "display_data"
    }
   ],
   "source": [
    "plot_histogram(q=0.8, n=10, b=10000)"
   ]
  },
  {
   "cell_type": "markdown",
   "id": "3297121f",
   "metadata": {},
   "source": [
    "반면 $n$의 값이 커지면"
   ]
  },
  {
   "cell_type": "code",
   "execution_count": 12,
   "id": "c0e43dff",
   "metadata": {},
   "outputs": [
    {
     "data": {
      "image/png": "[encoded data removed]",
      "text/plain": [
       "<Figure size 432x288 with 1 Axes>"
      ]
     },
     "metadata": {
      "needs_background": "light"
     },
     "output_type": "display_data"
    }
   ],
   "source": [
    "plot_histogram(q=0.2, n=1000, b=10000)"
   ]
  },
  {
   "cell_type": "code",
   "execution_count": 13,
   "id": "35d21ac9",
   "metadata": {},
   "outputs": [
    {
     "data": {
      "image/png": "[encoded data removed]",
      "text/plain": [
       "<Figure size 432x288 with 1 Axes>"
      ]
     },
     "metadata": {
      "needs_background": "light"
     },
     "output_type": "display_data"
    }
   ],
   "source": [
    "plot_histogram(q=0.5, n=1000, b=10000)"
   ]
  },
  {
   "cell_type": "code",
   "execution_count": 14,
   "id": "03bfd82f",
   "metadata": {},
   "outputs": [
    {
     "data": {
      "image/png": "[encoded data removed]",
      "text/plain": [
       "<Figure size 432x288 with 1 Axes>"
      ]
     },
     "metadata": {
      "needs_background": "light"
     },
     "output_type": "display_data"
    }
   ],
   "source": [
    "plot_histogram(q=0.8, n=1000, b=10000)"
   ]
  }
 ],
 "metadata": {
  "kernelspec": {
   "display_name": "Python 3 (ipykernel)",
   "language": "python",
   "name": "python3"
  },
  "language_info": {
   "codemirror_mode": {
    "name": "ipython",
    "version": 3
   },
   "file_extension": ".py",
   "mimetype": "text/x-python",
   "name": "python",
   "nbconvert_exporter": "python",
   "pygments_lexer": "ipython3",
   "version": "3.9.7"
  }
 },
 "nbformat": 4,
 "nbformat_minor": 5
}
