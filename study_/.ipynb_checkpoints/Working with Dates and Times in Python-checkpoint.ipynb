{
 "cells": [
  {
   "cell_type": "code",
   "execution_count": 1,
   "id": "656fb9c4",
   "metadata": {},
   "outputs": [],
   "source": [
    "import numpy as np\n",
    "import pandas as pd\n",
    "import warnings\n",
    "warnings.filterwarnings(action='ignore')"
   ]
  },
  {
   "cell_type": "markdown",
   "id": "7b5854d4",
   "metadata": {},
   "source": [
    "### Dates in Python"
   ]
  },
  {
   "cell_type": "code",
   "execution_count": 2,
   "id": "0ea1be5b",
   "metadata": {},
   "outputs": [
    {
     "data": {
      "text/plain": [
       "[datetime.date(2016, 10, 7), datetime.date(2017, 6, 21)]"
      ]
     },
     "execution_count": 2,
     "metadata": {},
     "output_type": "execute_result"
    }
   ],
   "source": [
    "from datetime import date \n",
    "two_hurricanes = [date(2016,10,7), date(2017,6,21)]\n",
    "two_hurricanes"
   ]
  },
  {
   "cell_type": "code",
   "execution_count": 3,
   "id": "3d6cac6d",
   "metadata": {},
   "outputs": [
    {
     "name": "stdout",
     "output_type": "stream",
     "text": [
      "2016\n",
      "10\n",
      "7\n"
     ]
    }
   ],
   "source": [
    "print(two_hurricanes[0].year)\n",
    "print(two_hurricanes[0].month)\n",
    "print(two_hurricanes[0].day)"
   ]
  },
  {
   "cell_type": "code",
   "execution_count": 4,
   "id": "66dc148e",
   "metadata": {},
   "outputs": [
    {
     "data": {
      "text/plain": [
       "2"
      ]
     },
     "execution_count": 4,
     "metadata": {},
     "output_type": "execute_result"
    }
   ],
   "source": [
    "two_hurricanes[1].weekday() # 0- monday ~ 6 = sunday"
   ]
  },
  {
   "cell_type": "markdown",
   "id": "59231c29",
   "metadata": {},
   "source": [
    "### Math with dates"
   ]
  },
  {
   "cell_type": "code",
   "execution_count": 5,
   "id": "ac55a963",
   "metadata": {},
   "outputs": [
    {
     "data": {
      "text/plain": [
       "[datetime.date(2021, 12, 1), datetime.date(2021, 12, 25)]"
      ]
     },
     "execution_count": 5,
     "metadata": {},
     "output_type": "execute_result"
    }
   ],
   "source": [
    "d1 = date(2021,12,1)\n",
    "d2 = date(2021,12,25)\n",
    "d = [d1,d2]\n",
    "d"
   ]
  },
  {
   "cell_type": "code",
   "execution_count": 6,
   "id": "bca29778",
   "metadata": {},
   "outputs": [
    {
     "data": {
      "text/plain": [
       "datetime.date(2021, 12, 1)"
      ]
     },
     "execution_count": 6,
     "metadata": {},
     "output_type": "execute_result"
    }
   ],
   "source": [
    "min(d)"
   ]
  },
  {
   "cell_type": "code",
   "execution_count": 7,
   "id": "b4b4200b",
   "metadata": {},
   "outputs": [
    {
     "data": {
      "text/plain": [
       "24"
      ]
     },
     "execution_count": 7,
     "metadata": {},
     "output_type": "execute_result"
    }
   ],
   "source": [
    "(d2 - d1).days"
   ]
  },
  {
   "cell_type": "code",
   "execution_count": 8,
   "id": "06b7d206",
   "metadata": {},
   "outputs": [
    {
     "name": "stdout",
     "output_type": "stream",
     "text": [
      "2021-12-30\n"
     ]
    }
   ],
   "source": [
    "# Timedelta 이벤트 사이의 경과시간을 제공 \n",
    "from datetime import timedelta\n",
    "td = timedelta(days = 5)\n",
    "print(d2 + td)"
   ]
  },
  {
   "cell_type": "code",
   "execution_count": 9,
   "id": "de11d8ec",
   "metadata": {},
   "outputs": [
    {
     "data": {
      "text/plain": [
       "[datetime.date(2021, 1, 1),\n",
       " datetime.date(2021, 3, 1),\n",
       " datetime.date(2021, 2, 1)]"
      ]
     },
     "execution_count": 9,
     "metadata": {},
     "output_type": "execute_result"
    }
   ],
   "source": [
    "d = [date(2021,1,1),date(2021,3,1),date(2021,2,1)]\n",
    "d"
   ]
  },
  {
   "cell_type": "code",
   "execution_count": 10,
   "id": "10ec3790",
   "metadata": {},
   "outputs": [
    {
     "data": {
      "text/plain": [
       "[datetime.date(2021, 1, 1),\n",
       " datetime.date(2021, 2, 1),\n",
       " datetime.date(2021, 3, 1)]"
      ]
     },
     "execution_count": 10,
     "metadata": {},
     "output_type": "execute_result"
    }
   ],
   "source": [
    "#날짜 정렬 \n",
    "sorted(d)"
   ]
  },
  {
   "cell_type": "markdown",
   "id": "406b7ce3",
   "metadata": {},
   "source": [
    "### Turning dates into strings"
   ]
  },
  {
   "cell_type": "code",
   "execution_count": 11,
   "id": "9c98dfaa",
   "metadata": {},
   "outputs": [
    {
     "name": "stdout",
     "output_type": "stream",
     "text": [
      "2021-11-05\n"
     ]
    }
   ],
   "source": [
    "# 국제표준 ISO 8601 format 형식\n",
    "# 월과 일이 10보다 작을때 0으로 기록되므로 항상길이가 같다.\n",
    "\n",
    "d = date(2021,11,5)\n",
    "print(d)"
   ]
  },
  {
   "cell_type": "code",
   "execution_count": 12,
   "id": "7f377ba3",
   "metadata": {},
   "outputs": [
    {
     "data": {
      "text/plain": [
       "'2021-11-05'"
      ]
     },
     "execution_count": 12,
     "metadata": {},
     "output_type": "execute_result"
    }
   ],
   "source": [
    "# YYYY-MM-DD 형식으로 제공된 date_string에 해당하는 date를 반환\n",
    "d.isoformat() "
   ]
  },
  {
   "cell_type": "code",
   "execution_count": 16,
   "id": "c263f4bb",
   "metadata": {},
   "outputs": [],
   "source": [
    "sd = [\"2021-01-01\", \"2020-01-01\"]"
   ]
  },
  {
   "cell_type": "code",
   "execution_count": 17,
   "id": "fe43ff3b",
   "metadata": {},
   "outputs": [
    {
     "data": {
      "text/plain": [
       "['2020-01-01', '2021-01-01']"
      ]
     },
     "execution_count": 17,
     "metadata": {},
     "output_type": "execute_result"
    }
   ],
   "source": [
    "sorted(sd)  #ISO 8601 format을 사용하면 정렬가능 "
   ]
  },
  {
   "cell_type": "code",
   "execution_count": 18,
   "id": "e2f820fd",
   "metadata": {},
   "outputs": [
    {
     "data": {
      "text/plain": [
       "'2021'"
      ]
     },
     "execution_count": 18,
     "metadata": {},
     "output_type": "execute_result"
    }
   ],
   "source": [
    "# strftime 날짜형식을 지정하는데 사용하는 형식 문자열을 전달하도록 작동 \n",
    "d.strftime('%Y')"
   ]
  },
  {
   "cell_type": "code",
   "execution_count": 19,
   "id": "de801a9d",
   "metadata": {},
   "outputs": [
    {
     "data": {
      "text/plain": [
       "'Year is 2021'"
      ]
     },
     "execution_count": 19,
     "metadata": {},
     "output_type": "execute_result"
    }
   ],
   "source": [
    "d.strftime('Year is %Y') "
   ]
  },
  {
   "cell_type": "code",
   "execution_count": 21,
   "id": "f2eddb3b",
   "metadata": {},
   "outputs": [
    {
     "name": "stdout",
     "output_type": "stream",
     "text": [
      "2021/11/05\n",
      "2021-11-05\n"
     ]
    }
   ],
   "source": [
    "print(d.strftime('%Y/%m/%d'))\n",
    "print(d.strftime('%Y-%m-%d'))"
   ]
  },
  {
   "cell_type": "code",
   "execution_count": 22,
   "id": "27824487",
   "metadata": {},
   "outputs": [
    {
     "data": {
      "text/plain": [
       "'Nov (2021)'"
      ]
     },
     "execution_count": 22,
     "metadata": {},
     "output_type": "execute_result"
    }
   ],
   "source": [
    "d.strftime('%b (%Y)')"
   ]
  },
  {
   "cell_type": "code",
   "execution_count": 24,
   "id": "5803b081",
   "metadata": {},
   "outputs": [
    {
     "data": {
      "text/plain": [
       "'2021-309'"
      ]
     },
     "execution_count": 24,
     "metadata": {},
     "output_type": "execute_result"
    }
   ],
   "source": [
    "d.strftime('%Y-%j')  # YYYY-DDD"
   ]
  },
  {
   "cell_type": "markdown",
   "id": "660641c8",
   "metadata": {},
   "source": [
    "### Dates and times"
   ]
  },
  {
   "cell_type": "code",
   "execution_count": 26,
   "id": "328c758e",
   "metadata": {},
   "outputs": [],
   "source": [
    "from datetime import datetime "
   ]
  },
  {
   "cell_type": "code",
   "execution_count": 30,
   "id": "024cf94e",
   "metadata": {},
   "outputs": [],
   "source": [
    "dt = datetime(2021,10,1,15,23,25,500000)"
   ]
  },
  {
   "cell_type": "code",
   "execution_count": 31,
   "id": "d0977875",
   "metadata": {},
   "outputs": [
    {
     "data": {
      "text/plain": [
       "datetime.datetime(2021, 10, 1, 15, 3)"
      ]
     },
     "execution_count": 31,
     "metadata": {},
     "output_type": "execute_result"
    }
   ],
   "source": [
    "dt_hr = dt.replace(minute = 3 , second = 0, microsecond = 0)\n",
    "dt_hr"
   ]
  },
  {
   "cell_type": "code",
   "execution_count": null,
   "id": "62f8984c",
   "metadata": {},
   "outputs": [],
   "source": []
  },
  {
   "cell_type": "code",
   "execution_count": null,
   "id": "626f118b",
   "metadata": {},
   "outputs": [],
   "source": []
  }
 ],
 "metadata": {
  "kernelspec": {
   "display_name": "Python 3",
   "language": "python",
   "name": "python3"
  },
  "language_info": {
   "codemirror_mode": {
    "name": "ipython",
    "version": 3
   },
   "file_extension": ".py",
   "mimetype": "text/x-python",
   "name": "python",
   "nbconvert_exporter": "python",
   "pygments_lexer": "ipython3",
   "version": "3.8.8"
  }
 },
 "nbformat": 4,
 "nbformat_minor": 5
}
