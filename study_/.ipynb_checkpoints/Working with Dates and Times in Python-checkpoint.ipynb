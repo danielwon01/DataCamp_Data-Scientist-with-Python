{
 "cells": [
  {
   "cell_type": "code",
   "execution_count": 1,
   "id": "656fb9c4",
   "metadata": {},
   "outputs": [],
   "source": [
    "import numpy as np\n",
    "import pandas as pd\n",
    "import matplotlib.pyplot as plt\n",
    "import warnings\n",
    "warnings.filterwarnings(action='ignore')"
   ]
  },
  {
   "cell_type": "markdown",
   "id": "7b5854d4",
   "metadata": {},
   "source": [
    "### Dates in Python"
   ]
  },
  {
   "cell_type": "code",
   "execution_count": 2,
   "id": "0ea1be5b",
   "metadata": {},
   "outputs": [
    {
     "data": {
      "text/plain": [
       "[datetime.date(2016, 10, 7), datetime.date(2017, 6, 21)]"
      ]
     },
     "execution_count": 2,
     "metadata": {},
     "output_type": "execute_result"
    }
   ],
   "source": [
    "from datetime import date \n",
    "two_hurricanes = [date(2016,10,7), date(2017,6,21)]\n",
    "two_hurricanes"
   ]
  },
  {
   "cell_type": "code",
   "execution_count": 3,
   "id": "3d6cac6d",
   "metadata": {},
   "outputs": [
    {
     "name": "stdout",
     "output_type": "stream",
     "text": [
      "2016\n",
      "10\n",
      "7\n"
     ]
    }
   ],
   "source": [
    "print(two_hurricanes[0].year)\n",
    "print(two_hurricanes[0].month)\n",
    "print(two_hurricanes[0].day)"
   ]
  },
  {
   "cell_type": "code",
   "execution_count": 4,
   "id": "66dc148e",
   "metadata": {},
   "outputs": [
    {
     "data": {
      "text/plain": [
       "2"
      ]
     },
     "execution_count": 4,
     "metadata": {},
     "output_type": "execute_result"
    }
   ],
   "source": [
    "two_hurricanes[1].weekday() # 0- monday ~ 6 = sunday"
   ]
  },
  {
   "cell_type": "markdown",
   "id": "59231c29",
   "metadata": {},
   "source": [
    "### Math with dates"
   ]
  },
  {
   "cell_type": "code",
   "execution_count": 5,
   "id": "ac55a963",
   "metadata": {},
   "outputs": [
    {
     "data": {
      "text/plain": [
       "[datetime.date(2021, 12, 1), datetime.date(2021, 12, 25)]"
      ]
     },
     "execution_count": 5,
     "metadata": {},
     "output_type": "execute_result"
    }
   ],
   "source": [
    "d1 = date(2021,12,1)\n",
    "d2 = date(2021,12,25)\n",
    "d = [d1,d2]\n",
    "d"
   ]
  },
  {
   "cell_type": "code",
   "execution_count": 6,
   "id": "bca29778",
   "metadata": {},
   "outputs": [
    {
     "data": {
      "text/plain": [
       "datetime.date(2021, 12, 1)"
      ]
     },
     "execution_count": 6,
     "metadata": {},
     "output_type": "execute_result"
    }
   ],
   "source": [
    "min(d)"
   ]
  },
  {
   "cell_type": "code",
   "execution_count": 7,
   "id": "b4b4200b",
   "metadata": {},
   "outputs": [
    {
     "data": {
      "text/plain": [
       "24"
      ]
     },
     "execution_count": 7,
     "metadata": {},
     "output_type": "execute_result"
    }
   ],
   "source": [
    "(d2 - d1).days"
   ]
  },
  {
   "cell_type": "code",
   "execution_count": 8,
   "id": "06b7d206",
   "metadata": {},
   "outputs": [
    {
     "name": "stdout",
     "output_type": "stream",
     "text": [
      "2021-12-30\n"
     ]
    }
   ],
   "source": [
    "# Timedelta 이벤트 사이의 경과시간을 제공 \n",
    "from datetime import timedelta\n",
    "td = timedelta(days = 5)\n",
    "print(d2 + td)"
   ]
  },
  {
   "cell_type": "code",
   "execution_count": 9,
   "id": "de11d8ec",
   "metadata": {},
   "outputs": [
    {
     "data": {
      "text/plain": [
       "[datetime.date(2021, 1, 1),\n",
       " datetime.date(2021, 3, 1),\n",
       " datetime.date(2021, 2, 1)]"
      ]
     },
     "execution_count": 9,
     "metadata": {},
     "output_type": "execute_result"
    }
   ],
   "source": [
    "d = [date(2021,1,1),date(2021,3,1),date(2021,2,1)]\n",
    "d"
   ]
  },
  {
   "cell_type": "code",
   "execution_count": 10,
   "id": "10ec3790",
   "metadata": {},
   "outputs": [
    {
     "data": {
      "text/plain": [
       "[datetime.date(2021, 1, 1),\n",
       " datetime.date(2021, 2, 1),\n",
       " datetime.date(2021, 3, 1)]"
      ]
     },
     "execution_count": 10,
     "metadata": {},
     "output_type": "execute_result"
    }
   ],
   "source": [
    "#날짜 정렬 \n",
    "sorted(d)"
   ]
  },
  {
   "cell_type": "markdown",
   "id": "ed572a71",
   "metadata": {},
   "source": [
    "### Turning dates into strings"
   ]
  },
  {
   "cell_type": "code",
   "execution_count": 11,
   "id": "5c738a8f",
   "metadata": {},
   "outputs": [
    {
     "name": "stdout",
     "output_type": "stream",
     "text": [
      "2021-11-05\n"
     ]
    }
   ],
   "source": [
    "# 국제표준 ISO 8601 format 형식\n",
    "# 월과 일이 10보다 작을때 0으로 기록되므로 항상길이가 같다.\n",
    "\n",
    "d = date(2021,11,5)\n",
    "print(d)"
   ]
  },
  {
   "cell_type": "code",
   "execution_count": 12,
   "id": "217552ae",
   "metadata": {},
   "outputs": [
    {
     "data": {
      "text/plain": [
       "'2021-11-05'"
      ]
     },
     "execution_count": 12,
     "metadata": {},
     "output_type": "execute_result"
    }
   ],
   "source": [
    "# YYYY-MM-DD 형식으로 제공된 date_string에 해당하는 date를 반환\n",
    "d.isoformat() "
   ]
  },
  {
   "cell_type": "code",
   "execution_count": 13,
   "id": "ff88cc77",
   "metadata": {},
   "outputs": [],
   "source": [
    "sd = [\"2021-01-01\", \"2020-01-01\"]"
   ]
  },
  {
   "cell_type": "code",
   "execution_count": 14,
   "id": "ca33668f",
   "metadata": {},
   "outputs": [
    {
     "data": {
      "text/plain": [
       "['2020-01-01', '2021-01-01']"
      ]
     },
     "execution_count": 14,
     "metadata": {},
     "output_type": "execute_result"
    }
   ],
   "source": [
    "sorted(sd)  #ISO 8601 format을 사용하면 정렬가능 "
   ]
  },
  {
   "cell_type": "code",
   "execution_count": 15,
   "id": "46c1466c",
   "metadata": {},
   "outputs": [
    {
     "data": {
      "text/plain": [
       "'2021'"
      ]
     },
     "execution_count": 15,
     "metadata": {},
     "output_type": "execute_result"
    }
   ],
   "source": [
    "# strftime 날짜형식을 지정하는데 사용하는 형식 문자열을 전달하도록 작동 \n",
    "d.strftime('%Y')"
   ]
  },
  {
   "cell_type": "code",
   "execution_count": 16,
   "id": "24d5037e",
   "metadata": {},
   "outputs": [
    {
     "data": {
      "text/plain": [
       "'Year is 2021'"
      ]
     },
     "execution_count": 16,
     "metadata": {},
     "output_type": "execute_result"
    }
   ],
   "source": [
    "d.strftime('Year is %Y') "
   ]
  },
  {
   "cell_type": "code",
   "execution_count": 17,
   "id": "f5aa8033",
   "metadata": {},
   "outputs": [
    {
     "name": "stdout",
     "output_type": "stream",
     "text": [
      "2021/11/05\n",
      "2021-11-05\n"
     ]
    }
   ],
   "source": [
    "print(d.strftime('%Y/%m/%d'))\n",
    "print(d.strftime('%Y-%m-%d'))"
   ]
  },
  {
   "cell_type": "code",
   "execution_count": 18,
   "id": "96187eb8",
   "metadata": {},
   "outputs": [
    {
     "data": {
      "text/plain": [
       "'Nov (2021)'"
      ]
     },
     "execution_count": 18,
     "metadata": {},
     "output_type": "execute_result"
    }
   ],
   "source": [
    "d.strftime('%b (%Y)')"
   ]
  },
  {
   "cell_type": "code",
   "execution_count": 19,
   "id": "3683acfc",
   "metadata": {},
   "outputs": [
    {
     "data": {
      "text/plain": [
       "'2021-309'"
      ]
     },
     "execution_count": 19,
     "metadata": {},
     "output_type": "execute_result"
    }
   ],
   "source": [
    "d.strftime('%Y-%j')  # YYYY-DDD"
   ]
  },
  {
   "cell_type": "markdown",
   "id": "be5afddf",
   "metadata": {},
   "source": [
    "### Dates and times"
   ]
  },
  {
   "cell_type": "code",
   "execution_count": 20,
   "id": "a74ec983",
   "metadata": {},
   "outputs": [],
   "source": [
    "from datetime import datetime "
   ]
  },
  {
   "cell_type": "code",
   "execution_count": 21,
   "id": "19b6a600",
   "metadata": {},
   "outputs": [],
   "source": [
    "dt = datetime(2021,10,1,15,23,25,500000)"
   ]
  },
  {
   "cell_type": "code",
   "execution_count": 22,
   "id": "71ca5205",
   "metadata": {},
   "outputs": [
    {
     "data": {
      "text/plain": [
       "datetime.datetime(2021, 10, 1, 15, 3)"
      ]
     },
     "execution_count": 22,
     "metadata": {},
     "output_type": "execute_result"
    }
   ],
   "source": [
    "dt_hr = dt.replace(minute = 3 , second = 0, microsecond = 0)\n",
    "dt_hr"
   ]
  },
  {
   "cell_type": "markdown",
   "id": "6da2a99c",
   "metadata": {},
   "source": [
    "### Printing and parsing datetimes"
   ]
  },
  {
   "cell_type": "code",
   "execution_count": 23,
   "id": "0c66a599",
   "metadata": {},
   "outputs": [
    {
     "name": "stdout",
     "output_type": "stream",
     "text": [
      "2021-12-30\n"
     ]
    }
   ],
   "source": [
    "dt = datetime(2021,12,30,15,19,13)\n",
    "print(dt.strftime('%Y-%m-%d'))"
   ]
  },
  {
   "cell_type": "code",
   "execution_count": 24,
   "id": "8d6cf765",
   "metadata": {},
   "outputs": [
    {
     "name": "stdout",
     "output_type": "stream",
     "text": [
      "2021-12-30 15:19:13\n"
     ]
    }
   ],
   "source": [
    "print(dt.strftime('%Y-%m-%d %H:%M:%S'))"
   ]
  },
  {
   "cell_type": "code",
   "execution_count": 25,
   "id": "42c84c8b",
   "metadata": {},
   "outputs": [
    {
     "name": "stdout",
     "output_type": "stream",
     "text": [
      "15:19:13 on 2021-12-30 \n"
     ]
    }
   ],
   "source": [
    "print(dt.strftime('%H:%M:%S on %Y-%m-%d '))"
   ]
  },
  {
   "cell_type": "code",
   "execution_count": 26,
   "id": "427d7717",
   "metadata": {},
   "outputs": [
    {
     "data": {
      "text/plain": [
       "'2021-12-30T15:19:13'"
      ]
     },
     "execution_count": 26,
     "metadata": {},
     "output_type": "execute_result"
    }
   ],
   "source": [
    "dt.isoformat() # datetime을 작성하는 공식적으로 올바른 방법  yyyy - mm - dd T h-m-s"
   ]
  },
  {
   "cell_type": "code",
   "execution_count": 27,
   "id": "28996929",
   "metadata": {},
   "outputs": [
    {
     "data": {
      "text/plain": [
       "datetime.datetime(2021, 12, 30, 15, 19, 13)"
      ]
     },
     "execution_count": 27,
     "metadata": {},
     "output_type": "execute_result"
    }
   ],
   "source": [
    "# parsing datetime \n",
    "# strptime(변환할 문자열 , 수행하는 방법을 나타내는 형식 문자열 )\n",
    "\n",
    "dt = datetime.strptime(\"12/30/2021 15:19:13\" , \"%m/%d/%Y %H:%M:%S\")\n",
    "dt"
   ]
  },
  {
   "cell_type": "code",
   "execution_count": 28,
   "id": "78e9b278",
   "metadata": {},
   "outputs": [
    {
     "data": {
      "text/plain": [
       "datetime.datetime(2017, 12, 31, 5, 19, 13)"
      ]
     },
     "execution_count": 28,
     "metadata": {},
     "output_type": "execute_result"
    }
   ],
   "source": [
    "# Unix 타임 스탬프 \n",
    "# 대부분 컴퓨터는 1970년 1월 1일 이후의 시간(초)으로 백그라운드에서 datetime정보를 저장\n",
    "# Unix 타임 스탬프를 읽기 위해서는 datetime 사용 \n",
    "\n",
    "ts = 1514665153.0\n",
    "datetime.fromtimestamp(ts)"
   ]
  },
  {
   "cell_type": "code",
   "execution_count": 29,
   "id": "50d8b7ea",
   "metadata": {},
   "outputs": [
    {
     "name": "stdout",
     "output_type": "stream",
     "text": [
      "[datetime.datetime(2017, 12, 31, 5, 19, 13), datetime.datetime(2017, 12, 31, 5, 9, 3)]\n"
     ]
    }
   ],
   "source": [
    "timestamps = [1514665153, 1514664543]\n",
    "\n",
    "# Datetime objects\n",
    "dts = []\n",
    "\n",
    "# Loop\n",
    "for ts in timestamps:\n",
    "    dts.append(datetime.fromtimestamp(ts))\n",
    "\n",
    "\n",
    "print(dts)"
   ]
  },
  {
   "cell_type": "markdown",
   "id": "bede2415",
   "metadata": {},
   "source": [
    "### Working with durations"
   ]
  },
  {
   "cell_type": "code",
   "execution_count": 30,
   "id": "55432c9a",
   "metadata": {},
   "outputs": [
    {
     "data": {
      "text/plain": [
       "datetime.timedelta(seconds=1450)"
      ]
     },
     "execution_count": 30,
     "metadata": {},
     "output_type": "execute_result"
    }
   ],
   "source": [
    "start =  datetime(2021,10,8,23,46,47)\n",
    "end = datetime(2021,10,9,0,10,57)\n",
    "\n",
    "# timedelta는 기간(이벤트 사이의 경과시간)을 나타냅니다.\n",
    "duration = end - start\n",
    "duration"
   ]
  },
  {
   "cell_type": "code",
   "execution_count": 31,
   "id": "7713b82c",
   "metadata": {},
   "outputs": [
    {
     "data": {
      "text/plain": [
       "1450.0"
      ]
     },
     "execution_count": 31,
     "metadata": {},
     "output_type": "execute_result"
    }
   ],
   "source": [
    "#total_seconds 메소드를 호출하면 timedelta가 나타내는 초 수를 반환 \n",
    "duration.total_seconds()"
   ]
  },
  {
   "cell_type": "code",
   "execution_count": 32,
   "id": "49bbe79f",
   "metadata": {},
   "outputs": [],
   "source": [
    "from datetime import timedelta"
   ]
  },
  {
   "cell_type": "code",
   "execution_count": 33,
   "id": "ce73c796",
   "metadata": {},
   "outputs": [],
   "source": [
    "delta1 = timedelta(seconds =1 )"
   ]
  },
  {
   "cell_type": "code",
   "execution_count": 34,
   "id": "02f848da",
   "metadata": {},
   "outputs": [
    {
     "data": {
      "text/plain": [
       "datetime.datetime(2021, 10, 8, 23, 46, 48)"
      ]
     },
     "execution_count": 34,
     "metadata": {},
     "output_type": "execute_result"
    }
   ],
   "source": [
    "start+ delta1"
   ]
  },
  {
   "cell_type": "code",
   "execution_count": 35,
   "id": "30900115",
   "metadata": {},
   "outputs": [
    {
     "data": {
      "text/plain": [
       "datetime.datetime(2021, 10, 9, 23, 46, 50)"
      ]
     },
     "execution_count": 35,
     "metadata": {},
     "output_type": "execute_result"
    }
   ],
   "source": [
    "delta2 = timedelta(days= 1,seconds = 3) # 주,일,분,시간,초,마이크로 초 만큼 작거나 2만큼 클 수 있다.\n",
    "start+ delta2"
   ]
  },
  {
   "cell_type": "code",
   "execution_count": 36,
   "id": "6e16df92",
   "metadata": {},
   "outputs": [
    {
     "data": {
      "text/plain": [
       "datetime.datetime(2021, 10, 1, 23, 46, 47)"
      ]
     },
     "execution_count": 36,
     "metadata": {},
     "output_type": "execute_result"
    }
   ],
   "source": [
    "delta3 = timedelta(weeks = -1)\n",
    "start + delta3 "
   ]
  },
  {
   "cell_type": "markdown",
   "id": "2effd336",
   "metadata": {},
   "source": [
    "### Time Zones and Daylight Saving"
   ]
  },
  {
   "cell_type": "code",
   "execution_count": 37,
   "id": "55446125",
   "metadata": {},
   "outputs": [],
   "source": [
    "# 데이터 기록 시 시간대 지정가능 \n",
    "from datetime import datetime, timedelta , timezone"
   ]
  },
  {
   "cell_type": "code",
   "execution_count": 38,
   "id": "3522f29b",
   "metadata": {},
   "outputs": [],
   "source": [
    "# datetime을 UTC로 변환하는 방법을 설명하는 timedelta를 허용하는\n",
    "# timezone객체를 생성\n",
    "\n",
    "ET = timezone(timedelta(hours = -5))"
   ]
  },
  {
   "cell_type": "code",
   "execution_count": 39,
   "id": "cc77d2ff",
   "metadata": {},
   "outputs": [],
   "source": [
    "dt = datetime(2021 , 12, 30 , 15, 9,3 ,tzinfo =ET)"
   ]
  },
  {
   "cell_type": "code",
   "execution_count": 40,
   "id": "02dfe68c",
   "metadata": {},
   "outputs": [
    {
     "name": "stdout",
     "output_type": "stream",
     "text": [
      "2021-12-30 15:09:03-05:00\n"
     ]
    }
   ],
   "source": [
    "print(dt)"
   ]
  },
  {
   "cell_type": "code",
   "execution_count": 41,
   "id": "deeeef39",
   "metadata": {},
   "outputs": [
    {
     "name": "stdout",
     "output_type": "stream",
     "text": [
      "2021-12-31 01:39:03+05:30\n"
     ]
    }
   ],
   "source": [
    "# India standard time zone\n",
    "IST = timezone(timedelta(hours = 5 , minutes = 30))\n",
    "print(dt.astimezone(IST))"
   ]
  },
  {
   "cell_type": "code",
   "execution_count": 42,
   "id": "25acf515",
   "metadata": {},
   "outputs": [
    {
     "data": {
      "text/plain": [
       "datetime.datetime(2021, 12, 30, 15, 9, 3, tzinfo=datetime.timezone.utc)"
      ]
     },
     "execution_count": 42,
     "metadata": {},
     "output_type": "execute_result"
    }
   ],
   "source": [
    "dt.replace(tzinfo = timezone.utc)"
   ]
  },
  {
   "cell_type": "code",
   "execution_count": 43,
   "id": "eb8d11dd",
   "metadata": {},
   "outputs": [
    {
     "data": {
      "text/plain": [
       "datetime.datetime(2021, 12, 30, 20, 9, 3, tzinfo=datetime.timezone.utc)"
      ]
     },
     "execution_count": 43,
     "metadata": {},
     "output_type": "execute_result"
    }
   ],
   "source": [
    "dt.astimezone(timezone.utc)"
   ]
  },
  {
   "cell_type": "markdown",
   "id": "3d642b1d",
   "metadata": {},
   "source": [
    "### Starting daylight saving time"
   ]
  },
  {
   "cell_type": "code",
   "execution_count": 44,
   "id": "31b8ef61",
   "metadata": {},
   "outputs": [
    {
     "data": {
      "text/plain": [
       "'2022-03-12T01:59:59'"
      ]
     },
     "execution_count": 44,
     "metadata": {},
     "output_type": "execute_result"
    }
   ],
   "source": [
    "spring_ahead_159am = datetime(2022 , 3,12 ,1,59,59)\n",
    "spring_ahead_159am.isoformat()"
   ]
  },
  {
   "cell_type": "code",
   "execution_count": 45,
   "id": "a8a6d94d",
   "metadata": {},
   "outputs": [
    {
     "data": {
      "text/plain": [
       "'2022-03-12T03:00:00'"
      ]
     },
     "execution_count": 45,
     "metadata": {},
     "output_type": "execute_result"
    }
   ],
   "source": [
    "spring_ahead_3am = datetime(2022 , 3,12 , 3,0,0)\n",
    "spring_ahead_3am.isoformat()"
   ]
  },
  {
   "cell_type": "code",
   "execution_count": 46,
   "id": "3b83418c",
   "metadata": {},
   "outputs": [
    {
     "data": {
      "text/plain": [
       "3601.0"
      ]
     },
     "execution_count": 46,
     "metadata": {},
     "output_type": "execute_result"
    }
   ],
   "source": [
    "(spring_ahead_3am - spring_ahead_159am ).total_seconds()"
   ]
  },
  {
   "cell_type": "code",
   "execution_count": 47,
   "id": "a89f5413",
   "metadata": {},
   "outputs": [],
   "source": [
    "# 시간 개체 생성 \n",
    "EST = timezone(timedelta(hours = -5)) # 동부 표준 시 \n",
    "EDT = timezone(timedelta(hours = -4)) # 동부 일광 절약 시간 "
   ]
  },
  {
   "cell_type": "code",
   "execution_count": 48,
   "id": "ac9f3d0c",
   "metadata": {},
   "outputs": [
    {
     "data": {
      "text/plain": [
       "'2022-03-12T01:59:59-05:00'"
      ]
     },
     "execution_count": 48,
     "metadata": {},
     "output_type": "execute_result"
    }
   ],
   "source": [
    "spring_ahead_159am = spring_ahead_159am.replace(tzinfo = EST)\n",
    "spring_ahead_159am.isoformat()"
   ]
  },
  {
   "cell_type": "code",
   "execution_count": 49,
   "id": "be2a7b40",
   "metadata": {},
   "outputs": [
    {
     "data": {
      "text/plain": [
       "'2022-03-12T03:00:00-04:00'"
      ]
     },
     "execution_count": 49,
     "metadata": {},
     "output_type": "execute_result"
    }
   ],
   "source": [
    "spring_ahead_3am = spring_ahead_3am.replace(tzinfo = EDT)\n",
    "spring_ahead_3am.isoformat()"
   ]
  },
  {
   "cell_type": "code",
   "execution_count": 50,
   "id": "cf033c0f",
   "metadata": {},
   "outputs": [
    {
     "data": {
      "text/plain": [
       "1.0"
      ]
     },
     "execution_count": 50,
     "metadata": {},
     "output_type": "execute_result"
    }
   ],
   "source": [
    "(spring_ahead_3am - spring_ahead_159am ).total_seconds()"
   ]
  },
  {
   "cell_type": "code",
   "execution_count": 51,
   "id": "e4e68d47",
   "metadata": {},
   "outputs": [],
   "source": [
    "from dateutil import tz\n",
    "\n",
    "# 동부 시간 \n",
    "# 시간대 객체 생성 \n",
    "eastern = tz.gettz('America/New_York') "
   ]
  },
  {
   "cell_type": "code",
   "execution_count": 52,
   "id": "c11fc16b",
   "metadata": {},
   "outputs": [],
   "source": [
    "spring_ahead_159am = datetime(2022 , 3,12 ,1,59,59 , tzinfo = eastern)\n",
    "spring_ahead_3am = datetime(2022 , 3,12 , 3,0,0 , tzinfo = eastern)"
   ]
  },
  {
   "cell_type": "markdown",
   "id": "c414188b",
   "metadata": {},
   "source": [
    "### Ending daylight saving time"
   ]
  },
  {
   "cell_type": "code",
   "execution_count": 53,
   "id": "98505c86",
   "metadata": {},
   "outputs": [],
   "source": [
    "eastern = tz.gettz('US/ Eastern')\n",
    "\n",
    "# 2017-11-05 01:00:00\n",
    "first_1am = datetime(2017 , 11, 5, 1, 0, 0 , tzinfo = eastern)"
   ]
  },
  {
   "cell_type": "code",
   "execution_count": 54,
   "id": "5d393099",
   "metadata": {},
   "outputs": [],
   "source": [
    "second_1am = datetime(2017 , 11, 5, 1, 0, 0 , tzinfo = eastern)\n",
    "second_1am = tz.enfold(second_1am)"
   ]
  },
  {
   "cell_type": "code",
   "execution_count": 55,
   "id": "9bd19564",
   "metadata": {},
   "outputs": [
    {
     "data": {
      "text/plain": [
       "0.0"
      ]
     },
     "execution_count": 55,
     "metadata": {},
     "output_type": "execute_result"
    }
   ],
   "source": [
    "(first_1am - second_1am).total_seconds()"
   ]
  },
  {
   "cell_type": "code",
   "execution_count": 56,
   "id": "20071c63",
   "metadata": {},
   "outputs": [],
   "source": [
    "first_1am =  first_1am.astimezone(tz.UTC)\n",
    "second_1am = second_1am.astimezone(tz.UTC)"
   ]
  },
  {
   "cell_type": "code",
   "execution_count": 57,
   "id": "ae1df97e",
   "metadata": {},
   "outputs": [
    {
     "data": {
      "text/plain": [
       "0.0"
      ]
     },
     "execution_count": 57,
     "metadata": {},
     "output_type": "execute_result"
    }
   ],
   "source": [
    "(second_1am - first_1am).total_seconds()"
   ]
  },
  {
   "cell_type": "markdown",
   "id": "e2f3d254",
   "metadata": {},
   "source": [
    "### Reading date and time data in Pandas"
   ]
  },
  {
   "cell_type": "code",
   "execution_count": 58,
   "id": "1143d95c",
   "metadata": {},
   "outputs": [
    {
     "data": {
      "text/html": [
       "<div>\n",
       "<style scoped>\n",
       "    .dataframe tbody tr th:only-of-type {\n",
       "        vertical-align: middle;\n",
       "    }\n",
       "\n",
       "    .dataframe tbody tr th {\n",
       "        vertical-align: top;\n",
       "    }\n",
       "\n",
       "    .dataframe thead th {\n",
       "        text-align: right;\n",
       "    }\n",
       "</style>\n",
       "<table border=\"1\" class=\"dataframe\">\n",
       "  <thead>\n",
       "    <tr style=\"text-align: right;\">\n",
       "      <th></th>\n",
       "      <th>연번</th>\n",
       "      <th>환자</th>\n",
       "      <th>확진일</th>\n",
       "      <th>거주지</th>\n",
       "      <th>여행력</th>\n",
       "      <th>접촉력</th>\n",
       "      <th>퇴원현황</th>\n",
       "      <th>년</th>\n",
       "      <th>월</th>\n",
       "      <th>일</th>\n",
       "      <th>주</th>\n",
       "      <th>거리두기</th>\n",
       "    </tr>\n",
       "  </thead>\n",
       "  <tbody>\n",
       "    <tr>\n",
       "      <th>76</th>\n",
       "      <td>324</td>\n",
       "      <td>8816</td>\n",
       "      <td>2020-03-21</td>\n",
       "      <td>서초구</td>\n",
       "      <td>-</td>\n",
       "      <td>감염경로 조사중</td>\n",
       "      <td>퇴원</td>\n",
       "      <td>2020</td>\n",
       "      <td>3</td>\n",
       "      <td>21</td>\n",
       "      <td>12</td>\n",
       "      <td>0.0</td>\n",
       "    </tr>\n",
       "    <tr>\n",
       "      <th>77</th>\n",
       "      <td>323</td>\n",
       "      <td>8826</td>\n",
       "      <td>2020-03-21</td>\n",
       "      <td>서대문구</td>\n",
       "      <td>-</td>\n",
       "      <td>감염경로 조사중</td>\n",
       "      <td>퇴원</td>\n",
       "      <td>2020</td>\n",
       "      <td>3</td>\n",
       "      <td>21</td>\n",
       "      <td>12</td>\n",
       "      <td>0.0</td>\n",
       "    </tr>\n",
       "    <tr>\n",
       "      <th>78</th>\n",
       "      <td>322</td>\n",
       "      <td>8881</td>\n",
       "      <td>2020-03-21</td>\n",
       "      <td>서대문구</td>\n",
       "      <td>유럽</td>\n",
       "      <td>해외유입</td>\n",
       "      <td>퇴원</td>\n",
       "      <td>2020</td>\n",
       "      <td>3</td>\n",
       "      <td>21</td>\n",
       "      <td>12</td>\n",
       "      <td>0.0</td>\n",
       "    </tr>\n",
       "  </tbody>\n",
       "</table>\n",
       "</div>"
      ],
      "text/plain": [
       "     연번    환자        확진일   거주지 여행력       접촉력 퇴원현황     년  월   일   주  거리두기\n",
       "76  324  8816 2020-03-21   서초구   -  감염경로 조사중   퇴원  2020  3  21  12   0.0\n",
       "77  323  8826 2020-03-21  서대문구   -  감염경로 조사중   퇴원  2020  3  21  12   0.0\n",
       "78  322  8881 2020-03-21  서대문구  유럽      해외유입   퇴원  2020  3  21  12   0.0"
      ]
     },
     "execution_count": 58,
     "metadata": {},
     "output_type": "execute_result"
    }
   ],
   "source": [
    "df = pd.read_csv('covid_data.csv', index_col = 0 , parse_dates = ['확진일'])\n",
    "df.head(3)"
   ]
  },
  {
   "cell_type": "code",
   "execution_count": 59,
   "id": "d7ba134d",
   "metadata": {},
   "outputs": [],
   "source": [
    "# 수동 지정 \n",
    "df['확진일']  = pd.to_datetime(df['확진일'], format = '%y - %m -%d , -%H:%M:%S')"
   ]
  },
  {
   "cell_type": "code",
   "execution_count": 60,
   "id": "f971d0d2",
   "metadata": {},
   "outputs": [
    {
     "data": {
      "text/plain": [
       "Timestamp('2020-03-21 00:00:00')"
      ]
     },
     "execution_count": 60,
     "metadata": {},
     "output_type": "execute_result"
    }
   ],
   "source": [
    "df['확진일'].iloc[2]"
   ]
  },
  {
   "cell_type": "code",
   "execution_count": 61,
   "id": "252af7e2",
   "metadata": {},
   "outputs": [
    {
     "data": {
      "text/plain": [
       "76   2020-03-21\n",
       "77   2020-03-21\n",
       "78   2020-03-21\n",
       "79   2020-03-21\n",
       "80   2020-03-21\n",
       "Name: 확진일, dtype: datetime64[ns]"
      ]
     },
     "execution_count": 61,
     "metadata": {},
     "output_type": "execute_result"
    }
   ],
   "source": [
    "df['확진일']\\\n",
    "        .head(5)"
   ]
  },
  {
   "cell_type": "markdown",
   "id": "f93cf010",
   "metadata": {},
   "source": [
    "### Summarizing datetime data in Pandas"
   ]
  },
  {
   "cell_type": "code",
   "execution_count": 62,
   "id": "762993bb",
   "metadata": {},
   "outputs": [
    {
     "data": {
      "text/plain": [
       "Timestamp('2021-08-19 17:30:37.116691200')"
      ]
     },
     "execution_count": 62,
     "metadata": {},
     "output_type": "execute_result"
    }
   ],
   "source": [
    "df['확진일'].mean()"
   ]
  },
  {
   "cell_type": "code",
   "execution_count": 63,
   "id": "b153fcd5",
   "metadata": {},
   "outputs": [
    {
     "data": {
      "text/plain": [
       "확진일\n",
       "2020-03-10     2\n",
       "2020-03-11    17\n",
       "2020-03-12    12\n",
       "2020-03-13     9\n",
       "2020-03-14     8\n",
       "              ..\n",
       "2021-12-15    14\n",
       "2021-12-16    15\n",
       "2021-12-17     6\n",
       "2021-12-18     4\n",
       "2021-12-19     0\n",
       "Name: 퇴원현황, Length: 638, dtype: int64"
      ]
     },
     "execution_count": 63,
     "metadata": {},
     "output_type": "execute_result"
    }
   ],
   "source": [
    "df.groupby('확진일')['퇴원현황'].count()"
   ]
  },
  {
   "cell_type": "code",
   "execution_count": 64,
   "id": "7d3e2a14",
   "metadata": {},
   "outputs": [
    {
     "data": {
      "text/plain": [
       "확진일\n",
       "2020-03-31   2020-03-22 09:03:53.093525248\n",
       "2020-04-30   2020-04-06 21:32:18.461538560\n",
       "2020-05-31   2020-05-18 20:26:12.052401664\n",
       "2020-06-30   2020-06-13 16:15:41.176470784\n",
       "2020-07-31   2020-07-15 19:13:01.494661888\n",
       "2020-08-31   2020-08-21 14:43:04.844720640\n",
       "2020-09-30   2020-09-13 05:27:28.392036864\n",
       "2020-10-31   2020-10-17 15:37:04.829467904\n",
       "2020-11-30   2020-11-20 00:05:57.024793344\n",
       "2020-12-31   2020-12-17 12:58:15.092024576\n",
       "2021-01-31   2021-01-13 11:02:08.413284096\n",
       "2021-02-28   2021-02-14 00:41:08.571428608\n",
       "2021-03-31   2021-03-16 11:56:29.376443392\n",
       "2021-04-30   2021-04-15 22:35:22.901947136\n",
       "2021-05-31   2021-05-15 18:23:17.014925312\n",
       "2021-06-30   2021-06-16 07:38:49.817833216\n",
       "2021-07-31   2021-07-16 11:43:19.227799040\n",
       "2021-08-31   2021-08-16 16:49:53.167906304\n",
       "2021-09-30   2021-09-17 02:57:43.623608576\n",
       "2021-10-31   2021-10-15 18:30:02.292993792\n",
       "2021-11-30   2021-11-17 19:01:03.429564160\n",
       "2021-12-31   2021-12-10 08:33:46.678064128\n",
       "Freq: M, Name: 확진일, dtype: datetime64[ns]"
      ]
     },
     "execution_count": 64,
     "metadata": {},
     "output_type": "execute_result"
    }
   ],
   "source": [
    "# resample 시간단위를 사용 \n",
    "df.resample('M', on = '확진일')['확진일'].mean()"
   ]
  },
  {
   "cell_type": "code",
   "execution_count": 65,
   "id": "9cff7894",
   "metadata": {},
   "outputs": [
    {
     "data": {
      "text/plain": [
       "거리두기\n",
       "0.0    80267\n",
       "1.0     1379\n",
       "1.5      856\n",
       "2.0    98613\n",
       "2.5    17712\n",
       "4.0     4273\n",
       "dtype: int64"
      ]
     },
     "execution_count": 65,
     "metadata": {},
     "output_type": "execute_result"
    }
   ],
   "source": [
    "df.groupby('거리두기').size() # 각 그룹의 사이즈 "
   ]
  },
  {
   "cell_type": "code",
   "execution_count": 66,
   "id": "ee6360e9",
   "metadata": {},
   "outputs": [
    {
     "data": {
      "text/html": [
       "<div>\n",
       "<style scoped>\n",
       "    .dataframe tbody tr th:only-of-type {\n",
       "        vertical-align: middle;\n",
       "    }\n",
       "\n",
       "    .dataframe tbody tr th {\n",
       "        vertical-align: top;\n",
       "    }\n",
       "\n",
       "    .dataframe thead th {\n",
       "        text-align: right;\n",
       "    }\n",
       "</style>\n",
       "<table border=\"1\" class=\"dataframe\">\n",
       "  <thead>\n",
       "    <tr style=\"text-align: right;\">\n",
       "      <th></th>\n",
       "      <th>연번</th>\n",
       "      <th>환자</th>\n",
       "      <th>확진일</th>\n",
       "      <th>거주지</th>\n",
       "      <th>여행력</th>\n",
       "      <th>접촉력</th>\n",
       "      <th>퇴원현황</th>\n",
       "      <th>년</th>\n",
       "      <th>월</th>\n",
       "      <th>일</th>\n",
       "      <th>주</th>\n",
       "    </tr>\n",
       "    <tr>\n",
       "      <th>거리두기</th>\n",
       "      <th></th>\n",
       "      <th></th>\n",
       "      <th></th>\n",
       "      <th></th>\n",
       "      <th></th>\n",
       "      <th></th>\n",
       "      <th></th>\n",
       "      <th></th>\n",
       "      <th></th>\n",
       "      <th></th>\n",
       "      <th></th>\n",
       "    </tr>\n",
       "  </thead>\n",
       "  <tbody>\n",
       "    <tr>\n",
       "      <th>0.0</th>\n",
       "      <td>324</td>\n",
       "      <td>8816</td>\n",
       "      <td>2020-03-21</td>\n",
       "      <td>서초구</td>\n",
       "      <td>-</td>\n",
       "      <td>감염경로 조사중</td>\n",
       "      <td>퇴원</td>\n",
       "      <td>2020</td>\n",
       "      <td>3</td>\n",
       "      <td>21</td>\n",
       "      <td>12</td>\n",
       "    </tr>\n",
       "    <tr>\n",
       "      <th>1.0</th>\n",
       "      <td>637</td>\n",
       "      <td>10789</td>\n",
       "      <td>2020-05-02</td>\n",
       "      <td>강동구</td>\n",
       "      <td>유럽</td>\n",
       "      <td>해외유입</td>\n",
       "      <td>퇴원</td>\n",
       "      <td>2020</td>\n",
       "      <td>5</td>\n",
       "      <td>2</td>\n",
       "      <td>18</td>\n",
       "    </tr>\n",
       "    <tr>\n",
       "      <th>1.5</th>\n",
       "      <td>23554</td>\n",
       "      <td>75835</td>\n",
       "      <td>2020-11-23</td>\n",
       "      <td>양천구</td>\n",
       "      <td>-</td>\n",
       "      <td>기타 확진자 접촉</td>\n",
       "      <td>퇴원</td>\n",
       "      <td>2020</td>\n",
       "      <td>11</td>\n",
       "      <td>23</td>\n",
       "      <td>48</td>\n",
       "    </tr>\n",
       "    <tr>\n",
       "      <th>2.0</th>\n",
       "      <td>626</td>\n",
       "      <td>10683</td>\n",
       "      <td>2020-04-02</td>\n",
       "      <td>마포구</td>\n",
       "      <td>미국</td>\n",
       "      <td>해외유입</td>\n",
       "      <td>퇴원</td>\n",
       "      <td>2020</td>\n",
       "      <td>4</td>\n",
       "      <td>2</td>\n",
       "      <td>14</td>\n",
       "    </tr>\n",
       "    <tr>\n",
       "      <th>2.5</th>\n",
       "      <td>6893</td>\n",
       "      <td>28770</td>\n",
       "      <td>2020-08-25</td>\n",
       "      <td>기타</td>\n",
       "      <td>-</td>\n",
       "      <td>감염경로 조사중</td>\n",
       "      <td>사망</td>\n",
       "      <td>2020</td>\n",
       "      <td>8</td>\n",
       "      <td>25</td>\n",
       "      <td>35</td>\n",
       "    </tr>\n",
       "    <tr>\n",
       "      <th>4.0</th>\n",
       "      <td>203255</td>\n",
       "      <td>567771</td>\n",
       "      <td>2021-12-19</td>\n",
       "      <td>마포구</td>\n",
       "      <td>-</td>\n",
       "      <td>감염경로 조사중</td>\n",
       "      <td>사망</td>\n",
       "      <td>2021</td>\n",
       "      <td>12</td>\n",
       "      <td>19</td>\n",
       "      <td>50</td>\n",
       "    </tr>\n",
       "  </tbody>\n",
       "</table>\n",
       "</div>"
      ],
      "text/plain": [
       "          연번      환자        확진일  거주지 여행력        접촉력 퇴원현황     년   월   일   주\n",
       "거리두기                                                                      \n",
       "0.0      324    8816 2020-03-21  서초구   -   감염경로 조사중   퇴원  2020   3  21  12\n",
       "1.0      637   10789 2020-05-02  강동구  유럽       해외유입   퇴원  2020   5   2  18\n",
       "1.5    23554   75835 2020-11-23  양천구   -  기타 확진자 접촉   퇴원  2020  11  23  48\n",
       "2.0      626   10683 2020-04-02  마포구  미국       해외유입   퇴원  2020   4   2  14\n",
       "2.5     6893   28770 2020-08-25   기타   -   감염경로 조사중   사망  2020   8  25  35\n",
       "4.0   203255  567771 2021-12-19  마포구   -   감염경로 조사중   사망  2021  12  19  50"
      ]
     },
     "execution_count": 66,
     "metadata": {},
     "output_type": "execute_result"
    }
   ],
   "source": [
    "df.groupby('거리두기').first()"
   ]
  },
  {
   "cell_type": "code",
   "execution_count": 67,
   "id": "1c15c8d4",
   "metadata": {},
   "outputs": [
    {
     "data": {
      "image/png": "[encoded data removed]",
      "text/plain": [
       "<Figure size 432x288 with 1 Axes>"
      ]
     },
     "metadata": {
      "needs_background": "light"
     },
     "output_type": "display_data"
    }
   ],
   "source": [
    "df\\\n",
    "    .resample('M', on = '확진일')\\\n",
    "    ['확진일']\\\n",
    "    .mean()\\\n",
    "    .plot()\\\n",
    "\n",
    "plt.xlabel('Date')\n",
    "plt.show()"
   ]
  },
  {
   "cell_type": "code",
   "execution_count": 68,
   "id": "08dd818e",
   "metadata": {},
   "outputs": [
    {
     "data": {
      "image/png": "[encoded data removed]",
      "text/plain": [
       "<Figure size 432x288 with 1 Axes>"
      ]
     },
     "metadata": {
      "needs_background": "light"
     },
     "output_type": "display_data"
    }
   ],
   "source": [
    "df\\\n",
    "    .resample('D', on = '확진일')\\\n",
    "    ['확진일']\\\n",
    "    .mean()\\\n",
    "    .plot()\\\n",
    "\n",
    "plt.xlabel('Date')\n",
    "plt.show()"
   ]
  },
  {
   "cell_type": "markdown",
   "id": "5055fff6",
   "metadata": {},
   "source": [
    "### Additional datetime methods in Pandas`"
   ]
  },
  {
   "cell_type": "code",
   "execution_count": 69,
   "id": "51b82ea4",
   "metadata": {
    "scrolled": true
   },
   "outputs": [
    {
     "data": {
      "text/plain": [
       "76   2020-03-21 00:00:00-04:00\n",
       "77   2020-03-21 00:00:00-04:00\n",
       "78   2020-03-21 00:00:00-04:00\n",
       "Name: 확진일, dtype: datetime64[ns, America/New_York]"
      ]
     },
     "execution_count": 69,
     "metadata": {},
     "output_type": "execute_result"
    }
   ],
   "source": [
    "df['확진일'].head(3)\\\n",
    "    .dt.tz_localize('America/New_York')"
   ]
  },
  {
   "cell_type": "code",
   "execution_count": 70,
   "id": "ca997f5d",
   "metadata": {},
   "outputs": [],
   "source": [
    "# ambiguous datetime 다루기\n",
    "\n",
    "df['확진일'] = df['확진일']\\\n",
    "    .dt.tz_localize('America/New_York' ,ambiguous = \"NaT\")"
   ]
  },
  {
   "cell_type": "code",
   "execution_count": 71,
   "id": "f0dfd12c",
   "metadata": {},
   "outputs": [],
   "source": [
    "# localize 전환 \n",
    "df['확진일'] = df['확진일']\\\n",
    "    .dt.tz_convert('Europe/London')"
   ]
  }
 ],
 "metadata": {
  "kernelspec": {
   "display_name": "Python 3",
   "language": "python",
   "name": "python3"
  },
  "language_info": {
   "codemirror_mode": {
    "name": "ipython",
    "version": 3
   },
   "file_extension": ".py",
   "mimetype": "text/x-python",
   "name": "python",
   "nbconvert_exporter": "python",
   "pygments_lexer": "ipython3",
   "version": "3.8.8"
  }
 },
 "nbformat": 4,
 "nbformat_minor": 5
}
