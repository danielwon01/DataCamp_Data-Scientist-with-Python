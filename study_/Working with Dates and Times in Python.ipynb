{
 "cells": [
  {
   "cell_type": "code",
   "execution_count": 1,
   "id": "656fb9c4",
   "metadata": {},
   "outputs": [],
   "source": [
    "import numpy as np\n",
    "import pandas as pd\n",
    "import warnings\n",
    "warnings.filterwarnings(action='ignore')"
   ]
  },
  {
   "cell_type": "markdown",
   "id": "7b5854d4",
   "metadata": {},
   "source": [
    "### Dates in Python"
   ]
  },
  {
   "cell_type": "code",
   "execution_count": 2,
   "id": "0ea1be5b",
   "metadata": {},
   "outputs": [
    {
     "data": {
      "text/plain": [
       "[datetime.date(2016, 10, 7), datetime.date(2017, 6, 21)]"
      ]
     },
     "execution_count": 2,
     "metadata": {},
     "output_type": "execute_result"
    }
   ],
   "source": [
    "from datetime import date \n",
    "two_hurricanes = [date(2016,10,7), date(2017,6,21)]\n",
    "two_hurricanes"
   ]
  },
  {
   "cell_type": "code",
   "execution_count": 3,
   "id": "3d6cac6d",
   "metadata": {},
   "outputs": [
    {
     "name": "stdout",
     "output_type": "stream",
     "text": [
      "2016\n",
      "10\n",
      "7\n"
     ]
    }
   ],
   "source": [
    "print(two_hurricanes[0].year)\n",
    "print(two_hurricanes[0].month)\n",
    "print(two_hurricanes[0].day)"
   ]
  },
  {
   "cell_type": "code",
   "execution_count": 4,
   "id": "66dc148e",
   "metadata": {},
   "outputs": [
    {
     "data": {
      "text/plain": [
       "2"
      ]
     },
     "execution_count": 4,
     "metadata": {},
     "output_type": "execute_result"
    }
   ],
   "source": [
    "two_hurricanes[1].weekday() # 0- monday ~ 6 = sunday"
   ]
  },
  {
   "cell_type": "markdown",
   "id": "59231c29",
   "metadata": {},
   "source": [
    "### Math with dates"
   ]
  },
  {
   "cell_type": "code",
   "execution_count": 5,
   "id": "ac55a963",
   "metadata": {},
   "outputs": [
    {
     "data": {
      "text/plain": [
       "[datetime.date(2021, 12, 1), datetime.date(2021, 12, 25)]"
      ]
     },
     "execution_count": 5,
     "metadata": {},
     "output_type": "execute_result"
    }
   ],
   "source": [
    "d1 = date(2021,12,1)\n",
    "d2 = date(2021,12,25)\n",
    "d = [d1,d2]\n",
    "d"
   ]
  },
  {
   "cell_type": "code",
   "execution_count": 6,
   "id": "bca29778",
   "metadata": {},
   "outputs": [
    {
     "data": {
      "text/plain": [
       "datetime.date(2021, 12, 1)"
      ]
     },
     "execution_count": 6,
     "metadata": {},
     "output_type": "execute_result"
    }
   ],
   "source": [
    "min(d)"
   ]
  },
  {
   "cell_type": "code",
   "execution_count": 7,
   "id": "b4b4200b",
   "metadata": {},
   "outputs": [
    {
     "data": {
      "text/plain": [
       "24"
      ]
     },
     "execution_count": 7,
     "metadata": {},
     "output_type": "execute_result"
    }
   ],
   "source": [
    "(d2 - d1).days"
   ]
  },
  {
   "cell_type": "code",
   "execution_count": 8,
   "id": "06b7d206",
   "metadata": {},
   "outputs": [
    {
     "name": "stdout",
     "output_type": "stream",
     "text": [
      "2021-12-30\n"
     ]
    }
   ],
   "source": [
    "# Timedelta 이벤트 사이의 경과시간을 제공 \n",
    "from datetime import timedelta\n",
    "td = timedelta(days = 5)\n",
    "print(d2 + td)"
   ]
  },
  {
   "cell_type": "code",
   "execution_count": 9,
   "id": "de11d8ec",
   "metadata": {},
   "outputs": [
    {
     "data": {
      "text/plain": [
       "[datetime.date(2021, 1, 1),\n",
       " datetime.date(2021, 3, 1),\n",
       " datetime.date(2021, 2, 1)]"
      ]
     },
     "execution_count": 9,
     "metadata": {},
     "output_type": "execute_result"
    }
   ],
   "source": [
    "d = [date(2021,1,1),date(2021,3,1),date(2021,2,1)]\n",
    "d"
   ]
  },
  {
   "cell_type": "code",
   "execution_count": 10,
   "id": "10ec3790",
   "metadata": {},
   "outputs": [
    {
     "data": {
      "text/plain": [
       "[datetime.date(2021, 1, 1),\n",
       " datetime.date(2021, 2, 1),\n",
       " datetime.date(2021, 3, 1)]"
      ]
     },
     "execution_count": 10,
     "metadata": {},
     "output_type": "execute_result"
    }
   ],
   "source": [
    "#날짜 정렬 \n",
    "sorted(d)"
   ]
  },
  {
   "cell_type": "markdown",
   "id": "ed572a71",
   "metadata": {},
   "source": [
    "### Turning dates into strings"
   ]
  },
  {
   "cell_type": "code",
   "execution_count": 11,
   "id": "5c738a8f",
   "metadata": {},
   "outputs": [
    {
     "name": "stdout",
     "output_type": "stream",
     "text": [
      "2021-11-05\n"
     ]
    }
   ],
   "source": [
    "# 국제표준 ISO 8601 format 형식\n",
    "# 월과 일이 10보다 작을때 0으로 기록되므로 항상길이가 같다.\n",
    "\n",
    "d = date(2021,11,5)\n",
    "print(d)"
   ]
  },
  {
   "cell_type": "code",
   "execution_count": 12,
   "id": "217552ae",
   "metadata": {},
   "outputs": [
    {
     "data": {
      "text/plain": [
       "'2021-11-05'"
      ]
     },
     "execution_count": 12,
     "metadata": {},
     "output_type": "execute_result"
    }
   ],
   "source": [
    "# YYYY-MM-DD 형식으로 제공된 date_string에 해당하는 date를 반환\n",
    "d.isoformat() "
   ]
  },
  {
   "cell_type": "code",
   "execution_count": 13,
   "id": "ff88cc77",
   "metadata": {},
   "outputs": [],
   "source": [
    "sd = [\"2021-01-01\", \"2020-01-01\"]"
   ]
  },
  {
   "cell_type": "code",
   "execution_count": 14,
   "id": "ca33668f",
   "metadata": {},
   "outputs": [
    {
     "data": {
      "text/plain": [
       "['2020-01-01', '2021-01-01']"
      ]
     },
     "execution_count": 14,
     "metadata": {},
     "output_type": "execute_result"
    }
   ],
   "source": [
    "sorted(sd)  #ISO 8601 format을 사용하면 정렬가능 "
   ]
  },
  {
   "cell_type": "code",
   "execution_count": 15,
   "id": "46c1466c",
   "metadata": {},
   "outputs": [
    {
     "data": {
      "text/plain": [
       "'2021'"
      ]
     },
     "execution_count": 15,
     "metadata": {},
     "output_type": "execute_result"
    }
   ],
   "source": [
    "# strftime 날짜형식을 지정하는데 사용하는 형식 문자열을 전달하도록 작동 \n",
    "d.strftime('%Y')"
   ]
  },
  {
   "cell_type": "code",
   "execution_count": 16,
   "id": "24d5037e",
   "metadata": {},
   "outputs": [
    {
     "data": {
      "text/plain": [
       "'Year is 2021'"
      ]
     },
     "execution_count": 16,
     "metadata": {},
     "output_type": "execute_result"
    }
   ],
   "source": [
    "d.strftime('Year is %Y') "
   ]
  },
  {
   "cell_type": "code",
   "execution_count": 17,
   "id": "f5aa8033",
   "metadata": {},
   "outputs": [
    {
     "name": "stdout",
     "output_type": "stream",
     "text": [
      "2021/11/05\n",
      "2021-11-05\n"
     ]
    }
   ],
   "source": [
    "print(d.strftime('%Y/%m/%d'))\n",
    "print(d.strftime('%Y-%m-%d'))"
   ]
  },
  {
   "cell_type": "code",
   "execution_count": 18,
   "id": "96187eb8",
   "metadata": {},
   "outputs": [
    {
     "data": {
      "text/plain": [
       "'Nov (2021)'"
      ]
     },
     "execution_count": 18,
     "metadata": {},
     "output_type": "execute_result"
    }
   ],
   "source": [
    "d.strftime('%b (%Y)')"
   ]
  },
  {
   "cell_type": "code",
   "execution_count": 19,
   "id": "3683acfc",
   "metadata": {},
   "outputs": [
    {
     "data": {
      "text/plain": [
       "'2021-309'"
      ]
     },
     "execution_count": 19,
     "metadata": {},
     "output_type": "execute_result"
    }
   ],
   "source": [
    "d.strftime('%Y-%j')  # YYYY-DDD"
   ]
  },
  {
   "cell_type": "markdown",
   "id": "be5afddf",
   "metadata": {},
   "source": [
    "### Dates and times"
   ]
  },
  {
   "cell_type": "code",
   "execution_count": 20,
   "id": "a74ec983",
   "metadata": {},
   "outputs": [],
   "source": [
    "from datetime import datetime "
   ]
  },
  {
   "cell_type": "code",
   "execution_count": 21,
   "id": "19b6a600",
   "metadata": {},
   "outputs": [],
   "source": [
    "dt = datetime(2021,10,1,15,23,25,500000)"
   ]
  },
  {
   "cell_type": "code",
   "execution_count": 22,
   "id": "71ca5205",
   "metadata": {},
   "outputs": [
    {
     "data": {
      "text/plain": [
       "datetime.datetime(2021, 10, 1, 15, 3)"
      ]
     },
     "execution_count": 22,
     "metadata": {},
     "output_type": "execute_result"
    }
   ],
   "source": [
    "dt_hr = dt.replace(minute = 3 , second = 0, microsecond = 0)\n",
    "dt_hr"
   ]
  },
  {
   "cell_type": "markdown",
   "id": "6da2a99c",
   "metadata": {},
   "source": [
    "### Printing and parsing datetimes"
   ]
  },
  {
   "cell_type": "code",
   "execution_count": 23,
   "id": "0c66a599",
   "metadata": {},
   "outputs": [
    {
     "name": "stdout",
     "output_type": "stream",
     "text": [
      "2021-12-30\n"
     ]
    }
   ],
   "source": [
    "dt = datetime(2021,12,30,15,19,13)\n",
    "print(dt.strftime('%Y-%m-%d'))"
   ]
  },
  {
   "cell_type": "code",
   "execution_count": 24,
   "id": "8d6cf765",
   "metadata": {},
   "outputs": [
    {
     "name": "stdout",
     "output_type": "stream",
     "text": [
      "2021-12-30 15:19:13\n"
     ]
    }
   ],
   "source": [
    "print(dt.strftime('%Y-%m-%d %H:%M:%S'))"
   ]
  },
  {
   "cell_type": "code",
   "execution_count": 25,
   "id": "42c84c8b",
   "metadata": {},
   "outputs": [
    {
     "name": "stdout",
     "output_type": "stream",
     "text": [
      "15:19:13 on 2021-12-30 \n"
     ]
    }
   ],
   "source": [
    "print(dt.strftime('%H:%M:%S on %Y-%m-%d '))"
   ]
  },
  {
   "cell_type": "code",
   "execution_count": 26,
   "id": "427d7717",
   "metadata": {},
   "outputs": [
    {
     "data": {
      "text/plain": [
       "'2021-12-30T15:19:13'"
      ]
     },
     "execution_count": 26,
     "metadata": {},
     "output_type": "execute_result"
    }
   ],
   "source": [
    "dt.isoformat() # datetime을 작성하는 공식적으로 올바른 방법  yyyy - mm - dd T h-m-s"
   ]
  },
  {
   "cell_type": "code",
   "execution_count": 28,
   "id": "28996929",
   "metadata": {},
   "outputs": [
    {
     "data": {
      "text/plain": [
       "datetime.datetime(2021, 12, 30, 15, 19, 13)"
      ]
     },
     "execution_count": 28,
     "metadata": {},
     "output_type": "execute_result"
    }
   ],
   "source": [
    "# parsing datetime \n",
    "# strptime(변환할 문자열 , 수행하는 방법을 나타내는 형식 문자열 )\n",
    "\n",
    "dt = datetime.strptime(\"12/30/2021 15:19:13\" , \"%m/%d/%Y %H:%M:%S\")\n",
    "dt"
   ]
  },
  {
   "cell_type": "code",
   "execution_count": 33,
   "id": "78e9b278",
   "metadata": {},
   "outputs": [
    {
     "data": {
      "text/plain": [
       "datetime.datetime(2017, 12, 31, 5, 19, 13)"
      ]
     },
     "execution_count": 33,
     "metadata": {},
     "output_type": "execute_result"
    }
   ],
   "source": [
    "# Unix 타임 스탬프 \n",
    "# 대부분 컴퓨터는 1970년 1월 1일 이후의 시간(초)으로 백그라운드에서 datetime정보를 저장\n",
    "# Unix 타임 스탬프를 읽기 위해서는 datetime 사용 \n",
    "\n",
    "ts = 1514665153.0\n",
    "datetime.fromtimestamp(ts)"
   ]
  },
  {
   "cell_type": "code",
   "execution_count": 34,
   "id": "50d8b7ea",
   "metadata": {},
   "outputs": [
    {
     "name": "stdout",
     "output_type": "stream",
     "text": [
      "[datetime.datetime(2017, 12, 31, 5, 19, 13), datetime.datetime(2017, 12, 31, 5, 9, 3)]\n"
     ]
    }
   ],
   "source": [
    "timestamps = [1514665153, 1514664543]\n",
    "\n",
    "# Datetime objects\n",
    "dts = []\n",
    "\n",
    "# Loop\n",
    "for ts in timestamps:\n",
    "    dts.append(datetime.fromtimestamp(ts))\n",
    "\n",
    "\n",
    "print(dts)"
   ]
  },
  {
   "cell_type": "markdown",
   "id": "bede2415",
   "metadata": {},
   "source": [
    "### Working with durations"
   ]
  },
  {
   "cell_type": "code",
   "execution_count": 35,
   "id": "55432c9a",
   "metadata": {},
   "outputs": [
    {
     "data": {
      "text/plain": [
       "datetime.timedelta(seconds=1450)"
      ]
     },
     "execution_count": 35,
     "metadata": {},
     "output_type": "execute_result"
    }
   ],
   "source": [
    "start =  datetime(2021,10,8,23,46,47)\n",
    "end = datetime(2021,10,9,0,10,57)\n",
    "\n",
    "# timedelta는 기간(이벤트 사이의 경과시간)을 나타냅니다.\n",
    "duration = end - start\n",
    "duration"
   ]
  },
  {
   "cell_type": "code",
   "execution_count": 36,
   "id": "7713b82c",
   "metadata": {},
   "outputs": [
    {
     "data": {
      "text/plain": [
       "1450.0"
      ]
     },
     "execution_count": 36,
     "metadata": {},
     "output_type": "execute_result"
    }
   ],
   "source": [
    "#total_seconds 메소드를 호출하면 timedelta가 나타내는 초 수를 반환 \n",
    "duration.total_seconds()"
   ]
  },
  {
   "cell_type": "code",
   "execution_count": 37,
   "id": "49bbe79f",
   "metadata": {},
   "outputs": [],
   "source": [
    "from datetime import timedelta"
   ]
  },
  {
   "cell_type": "code",
   "execution_count": 39,
   "id": "ce73c796",
   "metadata": {},
   "outputs": [
    {
     "data": {
      "text/plain": [
       "datetime.timedelta(seconds=1)"
      ]
     },
     "execution_count": 39,
     "metadata": {},
     "output_type": "execute_result"
    }
   ],
   "source": [
    "delta1 = timedelta(seconds =1 )"
   ]
  },
  {
   "cell_type": "code",
   "execution_count": 40,
   "id": "02f848da",
   "metadata": {},
   "outputs": [
    {
     "data": {
      "text/plain": [
       "datetime.datetime(2021, 10, 8, 23, 46, 48)"
      ]
     },
     "execution_count": 40,
     "metadata": {},
     "output_type": "execute_result"
    }
   ],
   "source": [
    "start+ delta1"
   ]
  },
  {
   "cell_type": "code",
   "execution_count": 43,
   "id": "30900115",
   "metadata": {},
   "outputs": [
    {
     "data": {
      "text/plain": [
       "datetime.datetime(2021, 10, 9, 23, 46, 50)"
      ]
     },
     "execution_count": 43,
     "metadata": {},
     "output_type": "execute_result"
    }
   ],
   "source": [
    "delta2 = timedelta(days= 1,seconds = 3) # 주,일,분,시간,초,마이크로 초 만큼 작거나 2만큼 클 수 있다.\n",
    "start+ delta2"
   ]
  },
  {
   "cell_type": "code",
   "execution_count": 44,
   "id": "6e16df92",
   "metadata": {},
   "outputs": [
    {
     "data": {
      "text/plain": [
       "datetime.datetime(2021, 10, 1, 23, 46, 47)"
      ]
     },
     "execution_count": 44,
     "metadata": {},
     "output_type": "execute_result"
    }
   ],
   "source": [
    "delta3 = timedelta(weeks = -1)\n",
    "start + delta3 "
   ]
  }
 ],
 "metadata": {
  "kernelspec": {
   "display_name": "Python 3",
   "language": "python",
   "name": "python3"
  },
  "language_info": {
   "codemirror_mode": {
    "name": "ipython",
    "version": 3
   },
   "file_extension": ".py",
   "mimetype": "text/x-python",
   "name": "python",
   "nbconvert_exporter": "python",
   "pygments_lexer": "ipython3",
   "version": "3.8.8"
  }
 },
 "nbformat": 4,
 "nbformat_minor": 5
}
