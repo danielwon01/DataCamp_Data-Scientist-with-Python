{
 "cells": [
  {
   "cell_type": "markdown",
   "id": "3a5204f9",
   "metadata": {},
   "source": [
    "# Reading and writing CSVs\n",
    "> CSV란 \n",
    "\n",
    "- 콤마로 분리된 값 일반적인 데이터 저장소 파일 유형 \n",
    "\n",
    "- 판다스 df 처럼 데이블 형식 데이터를 저장하도록 설계\n",
    "\n",
    "- 데이터의 각행에 자체 줄이 있고 각 값이 쉼표로 구분되는 텍스트 파일이다. \n",
    "\n",
    "- 거의 모든 데이터베이스 프로그래밍 언어 및 데이터 분석 소프트웨어가 csv 파일을 읽고 쓸 수 있다. "
   ]
  },
  {
   "cell_type": "code",
   "execution_count": 1,
   "id": "cf52a57e",
   "metadata": {},
   "outputs": [],
   "source": [
    "import pandas as pd"
   ]
  },
  {
   "cell_type": "markdown",
   "id": "4b0acd67",
   "metadata": {},
   "source": [
    "### pd.read_csv - csv파일 불러오기"
   ]
  },
  {
   "cell_type": "code",
   "execution_count": null,
   "id": "cff09671",
   "metadata": {},
   "outputs": [],
   "source": [
    "pd.read_csv(\"파일위치/파일경로\") # sep 구분자 , na_valeues NA/NaN 로 인식되는 값을 문자열 Nothing으로 가져옴 "
   ]
  },
  {
   "cell_type": "markdown",
   "id": "be1f9a52",
   "metadata": {},
   "source": [
    "### df.to_csv -  데이터프레임을 csv에 저장 "
   ]
  },
  {
   "cell_type": "code",
   "execution_count": null,
   "id": "b4177c32",
   "metadata": {},
   "outputs": [],
   "source": [
    "df.to_csv(\"저장할 csv파일 경로\")"
   ]
  },
  {
   "cell_type": "markdown",
   "id": "97a50af1",
   "metadata": {},
   "source": [
    "### Reading a text file"
   ]
  },
  {
   "cell_type": "code",
   "execution_count": null,
   "id": "a1d8e634",
   "metadata": {},
   "outputs": [],
   "source": [
    "filename = '.txt '\n",
    "file = open(filename , mode = 'r') # r은 읽기만 하겠다. \n",
    "text = file.read() # read method를 적용하여 텍스트를 가변 텍스트에 할당 \n",
    "file.close() # 파일에 대한 연결을 닫는다.\n",
    "print(text)"
   ]
  },
  {
   "cell_type": "code",
   "execution_count": null,
   "id": "abbaaf48",
   "metadata": {},
   "outputs": [],
   "source": [
    "filename = '.txt '\n",
    "file = open(filename , mode = 'w') # w는 순서대로 파일을 열기  \n",
    "text = file.read() # read method를 적용하여 텍스트를 가변 텍스트에 할당 \n",
    "file.close() # 파일에 대한 연결을 닫는다.\n",
    "print(text)"
   ]
  },
  {
   "cell_type": "code",
   "execution_count": null,
   "id": "a17679fa",
   "metadata": {},
   "outputs": [],
   "source": [
    "#파일이 열린 상태에서 명령을 실행할 수 있는 컨텍스트를 만들 수 있다. 이 절에서 벗어나면 파일은 열리지 않는다.\n",
    "\n",
    "with open('.txt', 'r') as file :\n",
    "    print(file.read()) "
   ]
  },
  {
   "cell_type": "markdown",
   "id": "9d033cf3",
   "metadata": {},
   "source": [
    "### Importing Flat file using NumPy\n",
    "\n",
    "Flat files 란 구조화된 관계가 없는 레코드 즉 테이블 데이터를 포함하는 기본 텍스트 파일   \n",
    "숫자열과 문자열이 모두 포함된 플랫파일을 가져오기 (numpy,pandas)"
   ]
  },
  {
   "cell_type": "code",
   "execution_count": null,
   "id": "65c47226",
   "metadata": {},
   "outputs": [],
   "source": [
    "# 모든 데이터가 숫자인 경우 numpy를 이용해 데이터를 numpy배열로 가져올 수 있다.\n",
    "\n",
    "filename = '.txt'\n",
    "df = np.loadtxt(filename , delimiter = ', ' , skiprows = 1 \n",
    "                ,usecols = [0,2] ,dtype = str) # skiprow 1행을 건너뜀, usecols 원하는 열만 가져옴 "
   ]
  },
  {
   "cell_type": "code",
   "execution_count": null,
   "id": "aab1dddc",
   "metadata": {},
   "outputs": [],
   "source": [
    "# 데이터가 숫자,문자 혼합되있을때 \n",
    "np.genfromtxt('.csv', delimiter=',', names=True, dtype=None)\n",
    "np.recfromcsv()"
   ]
  },
  {
   "cell_type": "markdown",
   "id": "15143224",
   "metadata": {},
   "source": [
    "### Other files "
   ]
  },
  {
   "cell_type": "markdown",
   "id": "b3c178a5",
   "metadata": {},
   "source": [
    "### Pickle \n",
    "pickle은 텍스트 상태의 데이터가 아닌 파이썬 객체 자체를 바이너리 파일로 저장하는 것이라고 한다.  \n",
    "\n",
    "\n",
    "즉, 텍스트 형태로 파일을 저장하는 것이 아니라 dictionary, list, tuple과 같은 형태로 필요한 부분을 저장하는 것이다. 하지만 문자열이 아닌 객체를 파일에 쓸 수 없기 때문에 pickle 모듈을 활용해 그 객체 자체를 바이너리로 저장하는 것이라고 한다"
   ]
  },
  {
   "cell_type": "code",
   "execution_count": null,
   "id": "898ab61f",
   "metadata": {},
   "outputs": [],
   "source": [
    "import pickle \n",
    "with open ('pkl' ,'rb') as file : # rb 읽기전용과 바이너리를 모두 지정 \n",
    "    df = pickle.load(file)\n",
    "print(df)"
   ]
  },
  {
   "cell_type": "markdown",
   "id": "b39186b2",
   "metadata": {},
   "source": [
    "### excel "
   ]
  },
  {
   "cell_type": "code",
   "execution_count": null,
   "id": "5a0ad4ec",
   "metadata": {},
   "outputs": [],
   "source": [
    "file = 'xlsx'\n",
    "df = pd.ExcelFile(file)\n",
    "\n",
    "# 엑셀파일은 시트로 구성되어 있으므로 가장 중요한 일은 시트가 무엇인지 파악 \n",
    "print(df.sheet_names) # sheet 확인 \n",
    "\n",
    "# 특정 시트를 데이터 프레임로드 , parsing method를 개체에 적용\n",
    "df1 = df.parse()\n",
    "\n",
    "# 예시 \n",
    "# Parse the first sheet and rename the columns: df1\n",
    "df1 = xls.parse(0, skiprows=[0], names=['Country', 'AAM due to War (2002)'])\n",
    "\n",
    "# Print the head of the DataFrame df1\n",
    "print(df1.head())\n",
    "\n",
    "# Parse the first column of the second sheet and rename the column: df2\n",
    "df2 = xls.parse(1, usecols=[0], skiprows=[0], names=['Country'])\n",
    "\n",
    "# Print the head of the DataFrame df2\n",
    "print(df2.head())"
   ]
  }
 ],
 "metadata": {
  "kernelspec": {
   "display_name": "Python 3",
   "language": "python",
   "name": "python3"
  },
  "language_info": {
   "codemirror_mode": {
    "name": "ipython",
    "version": 3
   },
   "file_extension": ".py",
   "mimetype": "text/x-python",
   "name": "python",
   "nbconvert_exporter": "python",
   "pygments_lexer": "ipython3",
   "version": "3.8.8"
  }
 },
 "nbformat": 4,
 "nbformat_minor": 5
}
