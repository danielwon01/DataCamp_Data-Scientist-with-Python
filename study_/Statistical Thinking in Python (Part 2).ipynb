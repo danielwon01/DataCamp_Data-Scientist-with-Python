{
 "cells": [
  {
   "cell_type": "code",
   "execution_count": 1,
   "id": "c32f0b70",
   "metadata": {},
   "outputs": [],
   "source": [
    "import pandas as pd\n",
    "import numpy as np\n",
    "import matplotlib.pyplot as plt\n",
    "import seaborn as sns\n",
    "%matplotlib inline\n",
    "\n",
    "import warnings\n",
    "warnings.filterwarnings(action='ignore')"
   ]
  },
  {
   "cell_type": "code",
   "execution_count": 2,
   "id": "339ff485",
   "metadata": {},
   "outputs": [
    {
     "data": {
      "text/html": [
       "<div>\n",
       "<style scoped>\n",
       "    .dataframe tbody tr th:only-of-type {\n",
       "        vertical-align: middle;\n",
       "    }\n",
       "\n",
       "    .dataframe tbody tr th {\n",
       "        vertical-align: top;\n",
       "    }\n",
       "\n",
       "    .dataframe thead th {\n",
       "        text-align: right;\n",
       "    }\n",
       "</style>\n",
       "<table border=\"1\" class=\"dataframe\">\n",
       "  <thead>\n",
       "    <tr style=\"text-align: right;\">\n",
       "      <th></th>\n",
       "      <th>state</th>\n",
       "      <th>county</th>\n",
       "      <th>total_votes</th>\n",
       "      <th>dem_votes</th>\n",
       "      <th>rep_votes</th>\n",
       "      <th>dem_share</th>\n",
       "    </tr>\n",
       "  </thead>\n",
       "  <tbody>\n",
       "    <tr>\n",
       "      <th>0</th>\n",
       "      <td>PA</td>\n",
       "      <td>Erie County</td>\n",
       "      <td>127691</td>\n",
       "      <td>75775</td>\n",
       "      <td>50351</td>\n",
       "      <td>60.08</td>\n",
       "    </tr>\n",
       "    <tr>\n",
       "      <th>1</th>\n",
       "      <td>PA</td>\n",
       "      <td>Bradford County</td>\n",
       "      <td>25787</td>\n",
       "      <td>10306</td>\n",
       "      <td>15057</td>\n",
       "      <td>40.64</td>\n",
       "    </tr>\n",
       "    <tr>\n",
       "      <th>2</th>\n",
       "      <td>PA</td>\n",
       "      <td>Tioga County</td>\n",
       "      <td>17984</td>\n",
       "      <td>6390</td>\n",
       "      <td>11326</td>\n",
       "      <td>36.07</td>\n",
       "    </tr>\n",
       "    <tr>\n",
       "      <th>3</th>\n",
       "      <td>PA</td>\n",
       "      <td>McKean County</td>\n",
       "      <td>15947</td>\n",
       "      <td>6465</td>\n",
       "      <td>9224</td>\n",
       "      <td>41.21</td>\n",
       "    </tr>\n",
       "    <tr>\n",
       "      <th>4</th>\n",
       "      <td>PA</td>\n",
       "      <td>Potter County</td>\n",
       "      <td>7507</td>\n",
       "      <td>2300</td>\n",
       "      <td>5109</td>\n",
       "      <td>31.04</td>\n",
       "    </tr>\n",
       "  </tbody>\n",
       "</table>\n",
       "</div>"
      ],
      "text/plain": [
       "  state           county  total_votes  dem_votes  rep_votes  dem_share\n",
       "0    PA      Erie County       127691      75775      50351      60.08\n",
       "1    PA  Bradford County        25787      10306      15057      40.64\n",
       "2    PA     Tioga County        17984       6390      11326      36.07\n",
       "3    PA    McKean County        15947       6465       9224      41.21\n",
       "4    PA    Potter County         7507       2300       5109      31.04"
      ]
     },
     "execution_count": 2,
     "metadata": {},
     "output_type": "execute_result"
    }
   ],
   "source": [
    "df = pd.read_csv('2008_swing_states.csv')\n",
    "df.head()"
   ]
  },
  {
   "cell_type": "markdown",
   "id": "e499cc6f",
   "metadata": {},
   "source": [
    "### Optimal parameters\n",
    "Parameter values that brings the model in closet agreement with the data"
   ]
  },
  {
   "cell_type": "markdown",
   "id": "1999d04b",
   "metadata": {},
   "source": [
    "### Linear regression by least squares\n",
    "선형회귀의 매개변수는 기울기와 절편이 있다. 기울기는 선이 얼마나 가파른지를 설정, 절편은 선이 y축과 교차하는 위치를 설정   \n",
    "\n",
    "**어떤 기울기와 절편이 데이터를 가장 잘 설명하는지 알 수 있을까?**  \n",
    "데이터 포인트가 집합적으로 선에 최대한 가깝게 설정  \n",
    "데이터 포인트와 선 사이의 수직거리를 잔여(residuals) \n",
    "\n",
    "Least squares(최소자승법) \n",
    "The process of finding the parameters for which the sum of the squares of the residuals is minimal  \n",
    "최소자승을 구하기 위해 np.polyfit() 사용, 선형함수가 1차 다항식이기 때문에 사용 가능 "
   ]
  },
  {
   "cell_type": "code",
   "execution_count": 3,
   "id": "60d4a739",
   "metadata": {},
   "outputs": [
    {
     "data": {
      "image/png": "[encoded data removed]",
      "text/plain": [
       "<Figure size 432x288 with 1 Axes>"
      ]
     },
     "metadata": {
      "needs_background": "light"
     },
     "output_type": "display_data"
    }
   ],
   "source": [
    "_ = plt.plot(df['total_votes'], df['dem_share'], marker='.', linestyle='none')\n",
    "plt.margins(0.02)\n",
    "_ = plt.xlabel('total_votes')\n",
    "_ = plt.ylabel('dem_share')\n",
    "_ = plt.xticks(rotation =  45)"
   ]
  },
  {
   "cell_type": "code",
   "execution_count": 4,
   "id": "c3b63b51",
   "metadata": {},
   "outputs": [],
   "source": [
    "slope , intercept = np.polyfit(df['total_votes'] , df['dem_share'] , 1)"
   ]
  },
  {
   "cell_type": "code",
   "execution_count": 5,
   "id": "a4f74482",
   "metadata": {},
   "outputs": [
    {
     "data": {
      "text/plain": [
       "4.037071700946557e-05"
      ]
     },
     "execution_count": 5,
     "metadata": {},
     "output_type": "execute_result"
    }
   ],
   "source": [
    "slope"
   ]
  },
  {
   "cell_type": "code",
   "execution_count": 6,
   "id": "314d9524",
   "metadata": {},
   "outputs": [
    {
     "data": {
      "text/plain": [
       "40.11391196864175"
      ]
     },
     "execution_count": 6,
     "metadata": {},
     "output_type": "execute_result"
    }
   ],
   "source": [
    "intercept"
   ]
  },
  {
   "cell_type": "code",
   "execution_count": 7,
   "id": "cbd3fb5a",
   "metadata": {},
   "outputs": [
    {
     "data": {
      "image/png": "[encoded data removed]",
      "text/plain": [
       "<Figure size 432x288 with 1 Axes>"
      ]
     },
     "metadata": {
      "needs_background": "light"
     },
     "output_type": "display_data"
    }
   ],
   "source": [
    "_ = plt.plot(df['total_votes'], df['dem_share'], marker='.', linestyle='none')\n",
    "plt.margins(0.02)\n",
    "_ = plt.xlabel('total_votes')\n",
    "_ = plt.ylabel('dem_share')\n",
    "_ = plt.xticks(rotation =  45)\n",
    "\n",
    "x = np.array([0,800000])\n",
    "y = slope * x + intercept\n",
    "\n",
    "_ = plt.plot(x,y)"
   ]
  },
  {
   "cell_type": "code",
   "execution_count": 8,
   "id": "367bf8c7",
   "metadata": {},
   "outputs": [
    {
     "data": {
      "image/png": "[encoded data removed]",
      "text/plain": [
       "<Figure size 432x288 with 1 Axes>"
      ]
     },
     "metadata": {
      "needs_background": "light"
     },
     "output_type": "display_data"
    }
   ],
   "source": [
    "# the sum of the squares of the residuals , RSS\n",
    "\n",
    "a_vals = np.linspace(0, 0.1,100)\n",
    "rss = np.empty_like(a_vals) # 함수는 (값의 초기화를 수행하지 않고) 주어진 어레이의 형태와 타입을 갖는 새로운 어레이를 반환\n",
    "\n",
    "for i ,a in enumerate(a_vals) :\n",
    "    rss[i] = np.sum((df['total_votes'] - a*df['dem_share'] + intercept) **2)\n",
    "    \n",
    "plt.plot(a_vals, rss, '-')\n",
    "plt.xlabel('slope (total_votes /dem_share )')\n",
    "plt.ylabel('sum of square of residuals')\n",
    "plt.show()"
   ]
  },
  {
   "cell_type": "markdown",
   "id": "25df88bc",
   "metadata": {},
   "source": [
    "### The importance of EDA: Anscombe's quartet\n",
    "회귀 매개변수를 학습하고 과정 후 매개변수 추정치에 대한 불확실성을 정량화하여 신뢰구간 구성 "
   ]
  },
  {
   "cell_type": "code",
   "execution_count": 9,
   "id": "5795f99d",
   "metadata": {},
   "outputs": [
    {
     "data": {
      "text/html": [
       "<div>\n",
       "<style scoped>\n",
       "    .dataframe tbody tr th:only-of-type {\n",
       "        vertical-align: middle;\n",
       "    }\n",
       "\n",
       "    .dataframe tbody tr th {\n",
       "        vertical-align: top;\n",
       "    }\n",
       "\n",
       "    .dataframe thead th {\n",
       "        text-align: right;\n",
       "    }\n",
       "</style>\n",
       "<table border=\"1\" class=\"dataframe\">\n",
       "  <thead>\n",
       "    <tr style=\"text-align: right;\">\n",
       "      <th></th>\n",
       "      <th>x1</th>\n",
       "      <th>x2</th>\n",
       "      <th>x3</th>\n",
       "      <th>x4</th>\n",
       "      <th>y1</th>\n",
       "      <th>y2</th>\n",
       "      <th>y3</th>\n",
       "      <th>y4</th>\n",
       "    </tr>\n",
       "  </thead>\n",
       "  <tbody>\n",
       "    <tr>\n",
       "      <th>0</th>\n",
       "      <td>10</td>\n",
       "      <td>10</td>\n",
       "      <td>10</td>\n",
       "      <td>8</td>\n",
       "      <td>8.04</td>\n",
       "      <td>9.14</td>\n",
       "      <td>7.46</td>\n",
       "      <td>6.58</td>\n",
       "    </tr>\n",
       "    <tr>\n",
       "      <th>1</th>\n",
       "      <td>8</td>\n",
       "      <td>8</td>\n",
       "      <td>8</td>\n",
       "      <td>8</td>\n",
       "      <td>6.95</td>\n",
       "      <td>8.14</td>\n",
       "      <td>6.77</td>\n",
       "      <td>5.76</td>\n",
       "    </tr>\n",
       "    <tr>\n",
       "      <th>2</th>\n",
       "      <td>13</td>\n",
       "      <td>13</td>\n",
       "      <td>13</td>\n",
       "      <td>8</td>\n",
       "      <td>7.58</td>\n",
       "      <td>8.74</td>\n",
       "      <td>12.74</td>\n",
       "      <td>7.71</td>\n",
       "    </tr>\n",
       "    <tr>\n",
       "      <th>3</th>\n",
       "      <td>9</td>\n",
       "      <td>9</td>\n",
       "      <td>9</td>\n",
       "      <td>8</td>\n",
       "      <td>8.81</td>\n",
       "      <td>8.77</td>\n",
       "      <td>7.11</td>\n",
       "      <td>8.84</td>\n",
       "    </tr>\n",
       "    <tr>\n",
       "      <th>4</th>\n",
       "      <td>11</td>\n",
       "      <td>11</td>\n",
       "      <td>11</td>\n",
       "      <td>8</td>\n",
       "      <td>8.33</td>\n",
       "      <td>9.26</td>\n",
       "      <td>7.81</td>\n",
       "      <td>8.47</td>\n",
       "    </tr>\n",
       "  </tbody>\n",
       "</table>\n",
       "</div>"
      ],
      "text/plain": [
       "   x1  x2  x3  x4    y1    y2     y3    y4\n",
       "0  10  10  10   8  8.04  9.14   7.46  6.58\n",
       "1   8   8   8   8  6.95  8.14   6.77  5.76\n",
       "2  13  13  13   8  7.58  8.74  12.74  7.71\n",
       "3   9   9   9   8  8.81  8.77   7.11  8.84\n",
       "4  11  11  11   8  8.33  9.26   7.81  8.47"
      ]
     },
     "execution_count": 9,
     "metadata": {},
     "output_type": "execute_result"
    }
   ],
   "source": [
    "aq = pd.read_csv('anscombe.csv')\n",
    "aq.head()"
   ]
  },
  {
   "cell_type": "code",
   "execution_count": 10,
   "id": "214873ce",
   "metadata": {},
   "outputs": [
    {
     "name": "stdout",
     "output_type": "stream",
     "text": [
      "0.5000909090909095 3.0000909090909076\n"
     ]
    }
   ],
   "source": [
    "a ,b  =  np.polyfit(aq['x1'] ,aq['y1']  , 1)\n",
    "print(a ,b)"
   ]
  },
  {
   "cell_type": "code",
   "execution_count": 11,
   "id": "4f1c63b0",
   "metadata": {},
   "outputs": [
    {
     "data": {
      "image/png": "[encoded data removed]",
      "text/plain": [
       "<Figure size 432x288 with 1 Axes>"
      ]
     },
     "metadata": {
      "needs_background": "light"
     },
     "output_type": "display_data"
    }
   ],
   "source": [
    "x_theor = np.array([3, 15])\n",
    "y_theor = a * x_theor + b\n",
    "\n",
    "_ = plt.plot(aq['x1'], aq['y1'], marker='.', linestyle='none')\n",
    "_ = plt.plot(x_theor, y_theor)\n",
    "\n",
    "plt.xlabel('x')\n",
    "plt.ylabel('y')\n",
    "plt.show()"
   ]
  },
  {
   "cell_type": "code",
   "execution_count": 12,
   "id": "663d774c",
   "metadata": {},
   "outputs": [],
   "source": [
    "anscombe_x = [aq['x1'], aq['x2'], aq['x3'], aq['x4']]\n",
    "anscombe_y = [aq['y1'], aq['y2'], aq['y3'], aq['y4']]"
   ]
  },
  {
   "cell_type": "code",
   "execution_count": 13,
   "id": "781a7d9c",
   "metadata": {},
   "outputs": [
    {
     "name": "stdout",
     "output_type": "stream",
     "text": [
      "slope: 0.5000909090909095 intercept: 3.0000909090909076\n",
      "slope: 0.5000000000000004 intercept: 3.000909090909089\n",
      "slope: 0.4997272727272731 intercept: 3.0024545454545453\n",
      "slope: 0.49990909090909064 intercept: 3.0017272727272735\n"
     ]
    }
   ],
   "source": [
    "for x, y in zip(anscombe_x,  anscombe_y):\n",
    "    a, b = np.polyfit( x, y , 1 )\n",
    "    \n",
    "    print('slope:', a, 'intercept:', b)"
   ]
  },
  {
   "cell_type": "markdown",
   "id": "a391f0d6",
   "metadata": {},
   "source": [
    "### Bootstrap confidence intervals\n",
    "\n",
    "Bootstraping: The use of resampled data to perform statistical inference  \n",
    "Bootstrap Sample : A resampled array of the data  \n",
    "Bootstrap Replicate : A statistic computed from a resampled array  \n",
    "\n",
    "통계적 추론을 위해 리샘플된 데이터를 사용   \n",
    "리샘플된 데이터 배열을 Bootstrap(부트스트램)    \n",
    "Bootstrap replicate는 Bootstrap 샘플에서 계산된 요약 통계 값   "
   ]
  },
  {
   "cell_type": "code",
   "execution_count": 14,
   "id": "35d01a8c",
   "metadata": {},
   "outputs": [
    {
     "data": {
      "text/plain": [
       "array([3, 4, 3, 5, 2])"
      ]
     },
     "execution_count": 14,
     "metadata": {},
     "output_type": "execute_result"
    }
   ],
   "source": [
    "# resampling \n",
    "\n",
    "np.random.choice([1,2,3,4,5] ,size = 5) #size를 통해 배열에서 얼마나 많은 샘플을 추출할 것인지 지정 "
   ]
  },
  {
   "cell_type": "code",
   "execution_count": 15,
   "id": "0387a905",
   "metadata": {},
   "outputs": [],
   "source": [
    "rainfall=np.asarray([ 875.5,  648.2,  788.1,  940.3,  491.1,  743.5,  730.1,  686.5,\n",
    "        878.8,  865.6,  654.9,  831.5,  798.1,  681.8,  743.8,  689.1,\n",
    "        752.1,  837.2,  710.6,  749.2,  967.1,  701.2,  619. ,  747.6,\n",
    "        803.4,  645.6,  804.1,  787.4,  646.8,  997.1,  774. ,  734.5,\n",
    "        835. ,  840.7,  659.6,  828.3,  909.7,  856.9,  578.3,  904.2,\n",
    "        883.9,  740.1,  773.9,  741.4,  866.8,  871.1,  712.5,  919.2,\n",
    "        927.9,  809.4,  633.8,  626.8,  871.3,  774.3,  898.8,  789.6,\n",
    "        936.3,  765.4,  882.1,  681.1,  661.3,  847.9,  683.9,  985.7,\n",
    "        771.1,  736.6,  713.2,  774.5,  937.7,  694.5,  598.2,  983.8,\n",
    "        700.2,  901.3,  733.5,  964.4,  609.3, 1035.2,  718. ,  688.6,\n",
    "        736.8,  643.3, 1038.5,  969. ,  802.7,  876.6,  944.7,  786.6,\n",
    "        770.4,  808.6,  761.3,  774.2,  559.3,  674.2,  883.6,  823.9,\n",
    "        960.4,  877.8,  940.6,  831.8,  906.2,  866.5,  674.1,  998.1,\n",
    "        789.3,  915. ,  737.1,  763. ,  666.7,  824.5,  913.8,  905.1,\n",
    "        667.8,  747.4,  784.7,  925.4,  880.2, 1086.9,  764.4, 1050.1,\n",
    "        595.2,  855.2,  726.9,  785.2,  948.8,  970.6,  896. ,  618.4,\n",
    "        572.4, 1146.4,  728.2,  864.2,  793. ])"
   ]
  },
  {
   "cell_type": "code",
   "execution_count": 16,
   "id": "a729d4a1",
   "metadata": {},
   "outputs": [],
   "source": [
    "# ECDF 생성 함수 \n",
    "def ecdf(data):\n",
    "    \n",
    "    n=len(data)\n",
    "    x=np.sort(data)\n",
    "    y = np.arange(1,n+1) / n\n",
    "    return x, y"
   ]
  },
  {
   "cell_type": "code",
   "execution_count": 17,
   "id": "38d47bea",
   "metadata": {},
   "outputs": [
    {
     "data": {
      "image/png": "[encoded data removed]",
      "text/plain": [
       "<Figure size 432x288 with 1 Axes>"
      ]
     },
     "metadata": {
      "needs_background": "light"
     },
     "output_type": "display_data"
    }
   ],
   "source": [
    "for _ in range(50):\n",
    "    bs_sample = np.random.choice(rainfall, size=len(rainfall))\n",
    "    x, y = ecdf(bs_sample)\n",
    "    _ = plt.plot(x, y, marker='.', linestyle='none',\n",
    "                color='gray', alpha=0.1)\n",
    "\n",
    "x, y = ecdf(rainfall)\n",
    "_ = plt.plot(x, y, marker='.')\n",
    "\n",
    "plt.margins(0.02)\n",
    "_ = plt.xlabel('yearly rainfall (mm)')\n",
    "_ = plt.ylabel('ECDF')\n",
    "plt.show()"
   ]
  },
  {
   "cell_type": "code",
   "execution_count": 18,
   "id": "0ef2721f",
   "metadata": {},
   "outputs": [],
   "source": [
    "# Bootstrap replicate fuction 생성\n",
    "\n",
    "def bootstrap_replicate_1d(data, func):\n",
    "    return func(np.random.choice(data, size=len(data)))\n",
    "\n",
    "def draw_bs_reps(data, func, size=1):\n",
    "\n",
    "    bs_replicates = np.empty(size)\n",
    "\n",
    "    for i in range(size):\n",
    "        bs_replicates[i] = bootstrap_replicate_1d(data,func)\n",
    "\n",
    "    return bs_replicates"
   ]
  },
  {
   "cell_type": "code",
   "execution_count": 19,
   "id": "20b11003",
   "metadata": {},
   "outputs": [
    {
     "data": {
      "text/plain": [
       "803.672932330827"
      ]
     },
     "execution_count": 19,
     "metadata": {},
     "output_type": "execute_result"
    }
   ],
   "source": [
    "bootstrap_replicate_1d(rainfall , np.mean)"
   ]
  },
  {
   "cell_type": "code",
   "execution_count": 20,
   "id": "bb2a6528",
   "metadata": {},
   "outputs": [
    {
     "data": {
      "image/png": "[encoded data removed]",
      "text/plain": [
       "<Figure size 432x288 with 1 Axes>"
      ]
     },
     "metadata": {
      "needs_background": "light"
     },
     "output_type": "display_data"
    }
   ],
   "source": [
    "bs_replicates = draw_bs_reps(rainfall,func=np.mean,size=10000)\n",
    "\n",
    "_ = plt.hist(bs_replicates , bins = 30 ,density=True)\n",
    "_ = plt.xlabel('yearly rainfall (mm)')\n",
    "_ = plt.ylabel('PDF')\n",
    "plt.show()"
   ]
  },
  {
   "cell_type": "code",
   "execution_count": 21,
   "id": "d82d78c7",
   "metadata": {},
   "outputs": [
    {
     "name": "stdout",
     "output_type": "stream",
     "text": [
      "10.510549150506188\n",
      "10.41649261122761\n"
     ]
    },
    {
     "data": {
      "image/png": "[encoded data removed]",
      "text/plain": [
       "<Figure size 432x288 with 1 Axes>"
      ]
     },
     "metadata": {
      "needs_background": "light"
     },
     "output_type": "display_data"
    }
   ],
   "source": [
    "# sem은 뽑아낸 표본 데이터의 값이 알고자 하는 모수의 값을 얼마나 잘 추정하는지를 설명하는 추론 통계\n",
    "sem = np.std(rainfall) / np.sqrt(len(rainfall))\n",
    "print(sem)\n",
    "\n",
    "bs_std = np.std(bs_replicates)\n",
    "print(bs_std)\n",
    "\n",
    "_ = plt.hist(bs_replicates, bins=50, density=True)\n",
    "_ = plt.xlabel('mean annual rainfall (mm)')\n",
    "_ = plt.ylabel('PDF')\n",
    "\n",
    "\n",
    "plt.show()"
   ]
  },
  {
   "cell_type": "code",
   "execution_count": 22,
   "id": "c8e0756f",
   "metadata": {},
   "outputs": [
    {
     "data": {
      "image/png": "[encoded data removed]",
      "text/plain": [
       "<Figure size 432x288 with 1 Axes>"
      ]
     },
     "metadata": {
      "needs_background": "light"
     },
     "output_type": "display_data"
    }
   ],
   "source": [
    "bs_replicates = draw_bs_reps(rainfall,np.var,size=10000)\n",
    "\n",
    "bs_replicates=bs_replicates/100\n",
    "\n",
    "_ = plt.hist(bs_replicates, bins=50, density= True)\n",
    "_ = plt.xlabel('variance of annual rainfall (sq. cm)')\n",
    "_ = plt.ylabel('PDF')\n",
    "plt.show()"
   ]
  },
  {
   "cell_type": "markdown",
   "id": "1fc993e6",
   "metadata": {},
   "source": [
    " #### Confidence interval of a static - 지속해서 측정을 반복하면 관찰된 값의 p%가 p% 신뢰구간 내에 있게 된다. 신뢰구간 95%에 든다는 것은 표본평균의 95%는 95% 신뢰구간내에 있다는 의미"
   ]
  },
  {
   "cell_type": "code",
   "execution_count": 23,
   "id": "b0cb3064",
   "metadata": {},
   "outputs": [
    {
     "data": {
      "text/plain": [
       "array([114.62844238, 180.32524927])"
      ]
     },
     "execution_count": 23,
     "metadata": {},
     "output_type": "execute_result"
    }
   ],
   "source": [
    "conf_int = np.percentile(bs_replicates , [2.5 , 97.5])\n",
    "conf_int"
   ]
  },
  {
   "cell_type": "markdown",
   "id": "fbd7c5a0",
   "metadata": {},
   "source": [
    "#### Pairs bootstrap \n",
    "쌍을 이루어 데이터를 리셈플 "
   ]
  },
  {
   "cell_type": "markdown",
   "id": "32c2ecbb",
   "metadata": {},
   "source": [
    "비모수추정  \n",
    "데이터의 기초가 되는 어떤 모델도 가정하지 않았음을 의미, 추정은 데이터만을 사용하여 수행됨"
   ]
  },
  {
   "cell_type": "code",
   "execution_count": 24,
   "id": "8970213f",
   "metadata": {},
   "outputs": [],
   "source": [
    "# 선거 데이터 사용 \n",
    "# 똑같은 조건에서 다시 선거를 치른다면? 기울기와 절편은 어떻게 변할까\n",
    "\n",
    "inds = np.arange(len(df['total_votes']))\n",
    "bs_inds = np.random.choice(inds , len(inds))\n",
    "\n",
    "# bootstrap sample은 원본데이터 배열에서 각 값을 잘라서 생성 \n",
    "bs_tot_votes = df['total_votes'][bs_inds]\n",
    "bs_dem_share = df['dem_share'][bs_inds]"
   ]
  },
  {
   "cell_type": "code",
   "execution_count": 25,
   "id": "2e2f65d0",
   "metadata": {},
   "outputs": [
    {
     "data": {
      "text/plain": [
       "(3.929133981257356e-05, 40.301425935969235)"
      ]
     },
     "execution_count": 25,
     "metadata": {},
     "output_type": "execute_result"
    }
   ],
   "source": [
    "bs_slope , bs_intercept   = np.polyfit(bs_tot_votes , bs_dem_share ,1)\n",
    "bs_slope , bs_intercept"
   ]
  },
  {
   "cell_type": "code",
   "execution_count": 26,
   "id": "d99472d9",
   "metadata": {},
   "outputs": [
    {
     "data": {
      "text/plain": [
       "array([4.0370717e-05, 4.0113912e+01])"
      ]
     },
     "execution_count": 26,
     "metadata": {},
     "output_type": "execute_result"
    }
   ],
   "source": [
    "# bootstrap 한 값과 상이\n",
    "np.polyfit(df['total_votes'] , df['dem_share'] , 1)"
   ]
  },
  {
   "cell_type": "code",
   "execution_count": 27,
   "id": "fc91b9b4",
   "metadata": {},
   "outputs": [],
   "source": [
    "def draw_bs_pairs_linreg(x, y, size=1):\n",
    "    \n",
    "    inds = np.arange(len(x))\n",
    "    \n",
    "    bs_slope_reps = np.empty(size)\n",
    "    bs_intercept_reps = np.empty(size)\n",
    "\n",
    "    for i in range(size):\n",
    "        bs_inds = np.random.choice(inds, size=len(inds))\n",
    "        bs_x, bs_y = x[bs_inds], y[bs_inds]\n",
    "        bs_slope_reps[i], bs_intercept_reps[i] = np.polyfit(bs_x, bs_y, 1)\n",
    "\n",
    "    return bs_slope_reps, bs_intercept_reps"
   ]
  },
  {
   "cell_type": "code",
   "execution_count": 28,
   "id": "0bf26270",
   "metadata": {},
   "outputs": [
    {
     "name": "stdout",
     "output_type": "stream",
     "text": [
      "[3.24817426e-05 4.90901543e-05]\n"
     ]
    },
    {
     "data": {
      "image/png": "[encoded data removed]",
      "text/plain": [
       "<Figure size 432x288 with 1 Axes>"
      ]
     },
     "metadata": {
      "needs_background": "light"
     },
     "output_type": "display_data"
    }
   ],
   "source": [
    "bs_slope_reps, bs_intercept_reps = draw_bs_pairs_linreg(df['total_votes'],df['dem_share'],size=1000)\n",
    "\n",
    "print(np.percentile(bs_slope_reps, [2.5,97.5]))\n",
    "\n",
    "_ = plt.hist(bs_slope_reps, bins=50,density= True)\n",
    "_ = plt.xlabel('slope')\n",
    "_ = plt.ylabel('PDF')\n",
    "plt.show()"
   ]
  },
  {
   "cell_type": "code",
   "execution_count": 29,
   "id": "a3f0720c",
   "metadata": {},
   "outputs": [
    {
     "data": {
      "image/png": "[encoded data removed]",
      "text/plain": [
       "<Figure size 432x288 with 1 Axes>"
      ]
     },
     "metadata": {
      "needs_background": "light"
     },
     "output_type": "display_data"
    }
   ],
   "source": [
    "x = np.array([0, 800000])\n",
    "\n",
    "for i in range(100):\n",
    "    _ = plt.plot(x, bs_slope_reps[i] * x + bs_intercept_reps[i],\n",
    "                 linewidth=0.5, alpha=0.2, color='red')\n",
    "\n",
    "_ = plt.plot(df['total_votes'],df['dem_share'], marker='.', linestyle='none')\n",
    "\n",
    "_ = plt.xlabel('total_votes')\n",
    "_ = plt.ylabel('dem_share')\n",
    "_ = plt.xticks(rotation = 45)\n",
    "plt.margins(0.02)\n",
    "plt.show()"
   ]
  },
  {
   "cell_type": "markdown",
   "id": "543a94b9",
   "metadata": {},
   "source": [
    "### Hypothesis test\n",
    "관찰된 데이터가 실제로 모델에 의해 설명되는 것이 얼마나 합리적인지 평가하는 방법은 가설 테스트의 영역  \n",
    "\n",
    "가설이 참이라고 가정하고 데이터가 합리적인지 평가  \n",
    "귀무가설(Null hypothesis) -  모집단의 특성에 대해 옳다고 제한하는 잠정적인 주장   \n",
    "대립가설( alternative hypothesis) - 귀무가설이 거짓이라면 대안적으로 참이 되는 가설 "
   ]
  },
  {
   "cell_type": "markdown",
   "id": "717e850a",
   "metadata": {},
   "source": [
    "#### 순열 (Permutation) \n",
    "서로 다른 n개의 원소에서 r개를 중복없이 순서에 상관있게 선택하는 혹은 나열하는 것"
   ]
  },
  {
   "cell_type": "code",
   "execution_count": 30,
   "id": "e30e26eb",
   "metadata": {},
   "outputs": [],
   "source": [
    "df_PA = df[df['dem_share'] =='PA']\n",
    "df_OH = df[df['dem_share'] =='OH']"
   ]
  },
  {
   "cell_type": "code",
   "execution_count": 31,
   "id": "74041ebf",
   "metadata": {},
   "outputs": [],
   "source": [
    "# np.concatenate는 연결할려는 배열의 튜플을 인수로 취한다.\n",
    "dem_share_both  = np.concatenate((df_PA['dem_share'] , df_OH['dem_share']))"
   ]
  },
  {
   "cell_type": "code",
   "execution_count": 32,
   "id": "93edd780",
   "metadata": {},
   "outputs": [],
   "source": [
    "dem_share_perm  = np.random.permutation(dem_share_both)\n",
    "perm_sample_PA = dem_share_perm[: len(df_PA['dem_share'])]\n",
    "perm_sample_OH = dem_share_perm[len(df_OH['dem_share']):]"
   ]
  },
  {
   "cell_type": "code",
   "execution_count": 33,
   "id": "87bd7d53",
   "metadata": {},
   "outputs": [],
   "source": [
    "# 함수생성 \n",
    "\n",
    "def permutation (data1, data2) :\n",
    "    data = np.concatenate((df_PA['dem_share'] , df_OH['dem_share']))\n",
    "    permuted_data =  np.random.permutation(data)\n",
    "    perm_sample_1 = permuted_data[: len(df_PA['dem_share'])]\n",
    "    perm_sample_2 = permuted_data[len(df_OH['dem_share']) :]\n",
    "    \n",
    "    return perm_sample_1, perm_sample_2"
   ]
  }
 ],
 "metadata": {
  "kernelspec": {
   "display_name": "Python 3",
   "language": "python",
   "name": "python3"
  },
  "language_info": {
   "codemirror_mode": {
    "name": "ipython",
    "version": 3
   },
   "file_extension": ".py",
   "mimetype": "text/x-python",
   "name": "python",
   "nbconvert_exporter": "python",
   "pygments_lexer": "ipython3",
   "version": "3.8.8"
  }
 },
 "nbformat": 4,
 "nbformat_minor": 5
}
