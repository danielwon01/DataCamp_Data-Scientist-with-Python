{
 "cells": [
  {
   "cell_type": "markdown",
   "id": "e7cdb146",
   "metadata": {},
   "source": [
    "# 문자열(String)\n",
    "\n",
    "* 문자열 데이터란, 문자(character)의 나열을 의미한다. e.g. \"Hello world\"\n",
    "\n",
    "> string ; Character Sequence\n",
    "\n",
    "* 파이썬에선 '와 \" 두 가지의 기호를 통해 문자열을 나타낸다. "
   ]
  },
  {
   "cell_type": "markdown",
   "id": "97047892",
   "metadata": {},
   "source": [
    "### 문자열을 만드는 여러가지 방법 "
   ]
  },
  {
   "cell_type": "code",
   "execution_count": 4,
   "id": "b39e7559",
   "metadata": {},
   "outputs": [
    {
     "data": {
      "text/plain": [
       "'Hellow World'"
      ]
     },
     "execution_count": 4,
     "metadata": {},
     "output_type": "execute_result"
    }
   ],
   "source": [
    "S = \"Hellow World\"\n",
    "S"
   ]
  },
  {
   "cell_type": "code",
   "execution_count": 3,
   "id": "76e513c8",
   "metadata": {},
   "outputs": [
    {
     "data": {
      "text/plain": [
       "'Hi everyone'"
      ]
     },
     "execution_count": 3,
     "metadata": {},
     "output_type": "execute_result"
    }
   ],
   "source": [
    "S1= 'Hi everyone'\n",
    "S1"
   ]
  },
  {
   "cell_type": "markdown",
   "id": "602a9b2d",
   "metadata": {},
   "source": [
    "### 특수문자 표현(escape code)"
   ]
  },
  {
   "cell_type": "markdown",
   "id": "b3fd10ba",
   "metadata": {},
   "source": [
    "#### \\n - enter"
   ]
  },
  {
   "cell_type": "code",
   "execution_count": 5,
   "id": "ce229208",
   "metadata": {},
   "outputs": [
    {
     "name": "stdout",
     "output_type": "stream",
     "text": [
      "Hellow\n",
      "World\n"
     ]
    }
   ],
   "source": [
    "print(\"Hellow\\nWorld\")"
   ]
  },
  {
   "cell_type": "markdown",
   "id": "aebb604d",
   "metadata": {},
   "source": [
    "#### \\t - tab"
   ]
  },
  {
   "cell_type": "code",
   "execution_count": 6,
   "id": "bc005d54",
   "metadata": {},
   "outputs": [
    {
     "name": "stdout",
     "output_type": "stream",
     "text": [
      "Hellow\tWorld\n"
     ]
    }
   ],
   "source": [
    "print(\"Hellow\\tWorld\")"
   ]
  },
  {
   "cell_type": "markdown",
   "id": "d85cbdc8",
   "metadata": {},
   "source": [
    "### 문자열 Formatting  - 문자열 포멧에는 크게 3가지가 있다. \n",
    "* print format\n",
    "* str.format \n",
    "*  f-string"
   ]
  },
  {
   "cell_type": "markdown",
   "id": "28ed24c4",
   "metadata": {},
   "source": [
    "#### print format"
   ]
  },
  {
   "cell_type": "code",
   "execution_count": 7,
   "id": "3e2c9fdd",
   "metadata": {},
   "outputs": [
    {
     "name": "stdout",
     "output_type": "stream",
     "text": [
      "사과는 4개 있다.\n"
     ]
    }
   ],
   "source": [
    "print(\"%s는 %d개 있다.\" % (\"사과\", 4))"
   ]
  },
  {
   "cell_type": "markdown",
   "id": "484be490",
   "metadata": {},
   "source": [
    "#### str.format 함수 사용"
   ]
  },
  {
   "cell_type": "code",
   "execution_count": 8,
   "id": "838650ef",
   "metadata": {},
   "outputs": [
    {
     "name": "stdout",
     "output_type": "stream",
     "text": [
      "사과는 4개 있다.\n"
     ]
    }
   ],
   "source": [
    "print(\"{}는 {}개 있다.\".format(\"사과\", 4))"
   ]
  },
  {
   "cell_type": "markdown",
   "id": "86933eb9",
   "metadata": {},
   "source": [
    "#### f-string - 사용을 위해서는 변수가 지정되어 있어야 한다."
   ]
  },
  {
   "cell_type": "code",
   "execution_count": 13,
   "id": "d2b31fcc",
   "metadata": {},
   "outputs": [
    {
     "name": "stdout",
     "output_type": "stream",
     "text": [
      "사과는 4개 있다.\n"
     ]
    }
   ],
   "source": [
    "apple = \"사과\"\n",
    "count = 4 \n",
    "\n",
    "print(f\"{apple}는 {count}개 있다.\")"
   ]
  },
  {
   "cell_type": "markdown",
   "id": "f5ef0c2f",
   "metadata": {},
   "source": [
    "### 문자열 관련 함수들 "
   ]
  },
  {
   "cell_type": "markdown",
   "id": "e5858830",
   "metadata": {},
   "source": [
    "#### 대소문자 바꾸기 upper() , lower()"
   ]
  },
  {
   "cell_type": "code",
   "execution_count": 14,
   "id": "e7008ff0",
   "metadata": {},
   "outputs": [
    {
     "data": {
      "text/plain": [
       "'HI'"
      ]
     },
     "metadata": {},
     "output_type": "display_data"
    },
    {
     "data": {
      "text/plain": [
       "'hi'"
      ]
     },
     "metadata": {},
     "output_type": "display_data"
    }
   ],
   "source": [
    "A = \"hi\"\n",
    "display(A.upper() , A.lower())"
   ]
  },
  {
   "cell_type": "markdown",
   "id": "d9d90ae8",
   "metadata": {},
   "source": [
    "#### 문자 공백 지우기 strip ()"
   ]
  },
  {
   "cell_type": "code",
   "execution_count": 16,
   "id": "4f8b34bf",
   "metadata": {},
   "outputs": [
    {
     "data": {
      "text/plain": [
       "'hi'"
      ]
     },
     "execution_count": 16,
     "metadata": {},
     "output_type": "execute_result"
    }
   ],
   "source": [
    "s =\"hi         \"\n",
    "s.strip()"
   ]
  },
  {
   "cell_type": "markdown",
   "id": "3d6c9cc6",
   "metadata": {},
   "source": [
    "#### 문자열 삽입 join()"
   ]
  },
  {
   "cell_type": "code",
   "execution_count": 18,
   "id": "4b6ae414",
   "metadata": {},
   "outputs": [
    {
     "data": {
      "text/plain": [
       "'1+2+3'"
      ]
     },
     "execution_count": 18,
     "metadata": {},
     "output_type": "execute_result"
    }
   ],
   "source": [
    "\"+\".join(\"123\")"
   ]
  },
  {
   "cell_type": "markdown",
   "id": "be254b14",
   "metadata": {},
   "source": [
    "#### 문자열 나누기 replace()"
   ]
  },
  {
   "cell_type": "code",
   "execution_count": 1,
   "id": "bdabbb6a",
   "metadata": {},
   "outputs": [
    {
     "data": {
      "text/plain": [
       "'Hi my name is B .'"
      ]
     },
     "execution_count": 1,
     "metadata": {},
     "output_type": "execute_result"
    }
   ],
   "source": [
    "S = \"Hi my name is A .\" \n",
    "S.replace(\"A\" , \"B\")"
   ]
  },
  {
   "cell_type": "code",
   "execution_count": 22,
   "id": "76eec946",
   "metadata": {},
   "outputs": [
    {
     "data": {
      "text/plain": [
       "'Lifeistooshort.'"
      ]
     },
     "execution_count": 22,
     "metadata": {},
     "output_type": "execute_result"
    }
   ],
   "source": [
    "S.replace(\" \",\"\") #공백 지우기 "
   ]
  }
 ],
 "metadata": {
  "kernelspec": {
   "display_name": "Python 3",
   "language": "python",
   "name": "python3"
  },
  "language_info": {
   "codemirror_mode": {
    "name": "ipython",
    "version": 3
   },
   "file_extension": ".py",
   "mimetype": "text/x-python",
   "name": "python",
   "nbconvert_exporter": "python",
   "pygments_lexer": "ipython3",
   "version": "3.8.8"
  }
 },
 "nbformat": 4,
 "nbformat_minor": 5
}
