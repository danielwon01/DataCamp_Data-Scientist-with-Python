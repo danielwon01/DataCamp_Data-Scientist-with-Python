{
 "cells": [
  {
   "cell_type": "markdown",
   "id": "fa2d5c31",
   "metadata": {},
   "source": [
    "# Dictionaries"
   ]
  },
  {
   "cell_type": "markdown",
   "id": "1056a777",
   "metadata": {},
   "source": [
    "### Dictionaries - 대응 관계를 나타내는 자료형\n",
    "* Dictionaries는 List ,Tuple 처럼 순차적으로 해당 요솟값을 구하지 않고 key를 통해 values값을 얻는다.\n",
    "* {Key1:Value1, Key2:Value2, Key3:Value3, ...}"
   ]
  },
  {
   "cell_type": "markdown",
   "id": "32137d5a",
   "metadata": {},
   "source": [
    "#### Dictionary 생성"
   ]
  },
  {
   "cell_type": "code",
   "execution_count": 1,
   "id": "4cc2801b",
   "metadata": {},
   "outputs": [],
   "source": [
    "dict = {'Kim Yeon-Koung':'volleyball','Son Heung-min':'football'}"
   ]
  },
  {
   "cell_type": "markdown",
   "id": "b922ac9f",
   "metadata": {},
   "source": [
    "#### dictonaries 에서 Key 사용해 Value 얻기  \n",
    "  \n",
    "* 리스트나 튜플, 문자열은 요솟값을 얻고자 할 때 인덱싱이나 슬라이싱 기법 중 하나를 사용했다.  \n",
    "  하지만 딕셔너리는 단 한 가지 방법뿐이다. 바로 Key를 사용해서 Value를 구하는 방법이다.\n"
   ]
  },
  {
   "cell_type": "code",
   "execution_count": 2,
   "id": "5a123dfd",
   "metadata": {},
   "outputs": [
    {
     "data": {
      "text/plain": [
       "'football'"
      ]
     },
     "execution_count": 2,
     "metadata": {},
     "output_type": "execute_result"
    }
   ],
   "source": [
    "dict['Son Heung-min'] # 'Son Heung-min' key를 이용해 'football' value 반환 "
   ]
  },
  {
   "cell_type": "markdown",
   "id": "27fcba75",
   "metadata": {},
   "source": [
    "#### keys , values 함수 사용 "
   ]
  },
  {
   "cell_type": "code",
   "execution_count": 3,
   "id": "5c0eb9d4",
   "metadata": {},
   "outputs": [
    {
     "name": "stdout",
     "output_type": "stream",
     "text": [
      "dict_keys(['Kim Yeon-Koung', 'Son Heung-min'])\n",
      "dict_values(['volleyball', 'football'])\n"
     ]
    }
   ],
   "source": [
    "print(dict.keys()) # key는 unique,immutable object\n",
    "print(dict.values())"
   ]
  },
  {
   "cell_type": "markdown",
   "id": "27df4cea",
   "metadata": {},
   "source": [
    "#### Dictionary 요솟값 추가"
   ]
  },
  {
   "cell_type": "code",
   "execution_count": 4,
   "id": "6fb073b2",
   "metadata": {},
   "outputs": [
    {
     "name": "stdout",
     "output_type": "stream",
     "text": [
      "True\n",
      "{'Kim Yeon-Koung': 'volleyball', 'Son Heung-min': 'football', 'Me': 'study'}\n"
     ]
    }
   ],
   "source": [
    "# Add to value in dict \n",
    "dict['Me'] = 'study'\n",
    "print('Me' in dict )\n",
    "print(dict)"
   ]
  },
  {
   "cell_type": "markdown",
   "id": "4b5ab077",
   "metadata": {},
   "source": [
    "#### del 함수를 이용해 Dictionary 요솟값 제거"
   ]
  },
  {
   "cell_type": "code",
   "execution_count": 5,
   "id": "c4d1c720",
   "metadata": {},
   "outputs": [],
   "source": [
    "# Delete \n",
    "del dict['Me']"
   ]
  },
  {
   "cell_type": "code",
   "execution_count": 6,
   "id": "510b5e23",
   "metadata": {},
   "outputs": [
    {
     "name": "stdout",
     "output_type": "stream",
     "text": [
      "{'Kim Yeon-Koung': 'volleyball', 'Son Heung-min': 'football'}\n"
     ]
    }
   ],
   "source": [
    "print(dict)"
   ]
  },
  {
   "cell_type": "markdown",
   "id": "be2b593f",
   "metadata": {},
   "source": [
    "#### Dictionary  생성시 주의사항 "
   ]
  },
  {
   "cell_type": "code",
   "execution_count": 7,
   "id": "89017454",
   "metadata": {},
   "outputs": [
    {
     "data": {
      "text/plain": [
       "{1: ('A', 'B', 'C'), (2, 3): {'D', 'E'}}"
      ]
     },
     "execution_count": 7,
     "metadata": {},
     "output_type": "execute_result"
    }
   ],
   "source": [
    "a = {1:'A',1:\"B\"} # 중복되는 key값 설정 시 하나를 제외한 나머지 값들은 무시 \n",
    "a  \n",
    "\n",
    "B = {1:('A','B','C'),(2,3):{'D','E','D'}}  #  key값 Tuple 가능,List불가  Dictionary에 key값은Immuatable 이면 가능 \n",
    "                                           #  value값은 모두 가능    \n",
    "B"
   ]
  }
 ],
 "metadata": {
  "kernelspec": {
   "display_name": "Python 3",
   "language": "python",
   "name": "python3"
  },
  "language_info": {
   "codemirror_mode": {
    "name": "ipython",
    "version": 3
   },
   "file_extension": ".py",
   "mimetype": "text/x-python",
   "name": "python",
   "nbconvert_exporter": "python",
   "pygments_lexer": "ipython3",
   "version": "3.8.8"
  }
 },
 "nbformat": 4,
 "nbformat_minor": 5
}
