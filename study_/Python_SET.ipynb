{
 "cells": [
  {
   "cell_type": "markdown",
   "id": "1cfc41dd",
   "metadata": {},
   "source": [
    "# 집합(Set)\n",
    "\n",
    "* 집합자료형은 set을 통해 만들 수 있다.  \n",
    "\n",
    "  \n",
    "* 공집합을 생성할 때는 반드시 set()으로 생성해야 한다. {}로 생성하면 빈 사전이 생성된다.\n",
    "  e.g. {1, 2, 3} : 집합, {'a':1, 'b':2} : 사전\n",
    "\n",
    "집합의 연산자인 교집합, 합집합, 차집합을 모두 지원한다.\n",
    "\n",
    "집합의 특징이 2가지 있는데, 이 특징이 리스트와의 차이점이라 사용한다. 첫번째 특징이 집합 자료형을 사용하는 주된 이유이다.\n",
    "\n",
    "1) 집합은 원소의 중복을 허용하지 않는다. 즉, 원소의 종류를 나타내기 좋다.\n",
    "\n",
    "2) 집합은 원소의 순서가 존재하지 않는다. 즉, 원소의 index가 없다.  \n",
    "    리스트나 튜플은 순서가 있기 때문에 인덱싱을 통해 자료형의 값을 얻을 수 있지만 set은 순서가 없기 때문에 인덱싱으로 값을 얻을 수 없다."
   ]
  },
  {
   "cell_type": "markdown",
   "id": "c17e7a73",
   "metadata": {},
   "source": [
    "#### 1, 2, 3을 원소로 가지는 집합을 만들어 봅시다."
   ]
  },
  {
   "cell_type": "code",
   "execution_count": 1,
   "id": "e66bc617",
   "metadata": {},
   "outputs": [
    {
     "data": {
      "text/plain": [
       "({1, 2, 3}, set)"
      ]
     },
     "execution_count": 1,
     "metadata": {},
     "output_type": "execute_result"
    }
   ],
   "source": [
    "s = {1,2,3}\n",
    "s ,type(s)\n"
   ]
  },
  {
   "cell_type": "markdown",
   "id": "4f60d496",
   "metadata": {},
   "source": [
    "#### 집합의 연산"
   ]
  },
  {
   "cell_type": "code",
   "execution_count": 2,
   "id": "411d5e15",
   "metadata": {},
   "outputs": [],
   "source": [
    "s1 ={1,2,3,4,5,6}\n",
    "s2 ={3,4,5,6,8,9}"
   ]
  },
  {
   "cell_type": "markdown",
   "id": "5b2e274c",
   "metadata": {},
   "source": [
    "####  교집합 (  & ,  intersection )"
   ]
  },
  {
   "cell_type": "code",
   "execution_count": 3,
   "id": "1c276b6b",
   "metadata": {},
   "outputs": [
    {
     "data": {
      "text/plain": [
       "{3, 4, 5, 6}"
      ]
     },
     "execution_count": 3,
     "metadata": {},
     "output_type": "execute_result"
    }
   ],
   "source": [
    "s1 & s2 "
   ]
  },
  {
   "cell_type": "code",
   "execution_count": 4,
   "id": "608d952d",
   "metadata": {},
   "outputs": [
    {
     "data": {
      "text/plain": [
       "{3, 4, 5, 6}"
      ]
     },
     "execution_count": 4,
     "metadata": {},
     "output_type": "execute_result"
    }
   ],
   "source": [
    "s1.intersection(s2)"
   ]
  },
  {
   "cell_type": "markdown",
   "id": "180f10e9",
   "metadata": {},
   "source": [
    "#### 합집합 ( | , union )    # 주의할점 + 가 쓰이지 않는다."
   ]
  },
  {
   "cell_type": "code",
   "execution_count": 5,
   "id": "519e602a",
   "metadata": {},
   "outputs": [
    {
     "data": {
      "text/plain": [
       "{1, 2, 3, 4, 5, 6, 8, 9}"
      ]
     },
     "execution_count": 5,
     "metadata": {},
     "output_type": "execute_result"
    }
   ],
   "source": [
    "s1 | s2"
   ]
  },
  {
   "cell_type": "code",
   "execution_count": 6,
   "id": "65e1ff78",
   "metadata": {},
   "outputs": [
    {
     "data": {
      "text/plain": [
       "{1, 2, 3, 4, 5, 6, 8, 9}"
      ]
     },
     "execution_count": 6,
     "metadata": {},
     "output_type": "execute_result"
    }
   ],
   "source": [
    "s1.union(s2)"
   ]
  },
  {
   "cell_type": "markdown",
   "id": "0d5795b2",
   "metadata": {},
   "source": [
    "#### 차집합 ( - )"
   ]
  },
  {
   "cell_type": "code",
   "execution_count": 7,
   "id": "3c9b0bbe",
   "metadata": {},
   "outputs": [
    {
     "data": {
      "text/plain": [
       "{1, 2}"
      ]
     },
     "execution_count": 7,
     "metadata": {},
     "output_type": "execute_result"
    }
   ],
   "source": [
    "s1 - s2 "
   ]
  },
  {
   "cell_type": "code",
   "execution_count": 8,
   "id": "af348790",
   "metadata": {},
   "outputs": [
    {
     "data": {
      "text/plain": [
       "{8, 9}"
      ]
     },
     "execution_count": 8,
     "metadata": {},
     "output_type": "execute_result"
    }
   ],
   "source": [
    "s2 -s1 "
   ]
  },
  {
   "cell_type": "markdown",
   "id": "ae78713a",
   "metadata": {},
   "source": [
    "#### 집합의 원소의 uniqueness를 활용하는 경우. "
   ]
  },
  {
   "cell_type": "code",
   "execution_count": 9,
   "id": "2dc523da",
   "metadata": {},
   "outputs": [
    {
     "data": {
      "text/plain": [
       "{1, 2, 5, 7, 8, 9, 15}"
      ]
     },
     "execution_count": 9,
     "metadata": {},
     "output_type": "execute_result"
    }
   ],
   "source": [
    "S = {1,1,2,5,5,8,9,15,8,7} \n",
    "set(S) "
   ]
  },
  {
   "cell_type": "markdown",
   "id": "62ef2369",
   "metadata": {},
   "source": [
    "#### 집합 관련 함수"
   ]
  },
  {
   "cell_type": "markdown",
   "id": "3ff46c20",
   "metadata": {},
   "source": [
    "#### 집합에 원소 하나 추가하기 add()"
   ]
  },
  {
   "cell_type": "code",
   "execution_count": 10,
   "id": "c5a0493e",
   "metadata": {},
   "outputs": [
    {
     "data": {
      "text/plain": [
       "{3}"
      ]
     },
     "execution_count": 10,
     "metadata": {},
     "output_type": "execute_result"
    }
   ],
   "source": [
    "s = set()\n",
    "s.add(3)\n",
    "s"
   ]
  },
  {
   "cell_type": "markdown",
   "id": "35819ff6",
   "metadata": {},
   "source": [
    "#### 집합에 여러 원소 추가하기 update()"
   ]
  },
  {
   "cell_type": "code",
   "execution_count": 11,
   "id": "930367f1",
   "metadata": {},
   "outputs": [
    {
     "data": {
      "text/plain": [
       "{1, 2, 3, 4, 5}"
      ]
     },
     "execution_count": 11,
     "metadata": {},
     "output_type": "execute_result"
    }
   ],
   "source": [
    "s = {1, 2, 3}\n",
    "s.update({4, 5}) \n",
    "s"
   ]
  },
  {
   "cell_type": "markdown",
   "id": "b1388b3d",
   "metadata": {},
   "source": [
    "#### 집합에서 원소 제거하기 remove()"
   ]
  },
  {
   "cell_type": "code",
   "execution_count": 12,
   "id": "bb600068",
   "metadata": {},
   "outputs": [
    {
     "data": {
      "text/plain": [
       "{1, 2, 4, 5}"
      ]
     },
     "execution_count": 12,
     "metadata": {},
     "output_type": "execute_result"
    }
   ],
   "source": [
    "s.remove(3)\n",
    "s"
   ]
  }
 ],
 "metadata": {
  "kernelspec": {
   "display_name": "Python 3",
   "language": "python",
   "name": "python3"
  },
  "language_info": {
   "codemirror_mode": {
    "name": "ipython",
    "version": 3
   },
   "file_extension": ".py",
   "mimetype": "text/x-python",
   "name": "python",
   "nbconvert_exporter": "python",
   "pygments_lexer": "ipython3",
   "version": "3.8.8"
  }
 },
 "nbformat": 4,
 "nbformat_minor": 5
}
