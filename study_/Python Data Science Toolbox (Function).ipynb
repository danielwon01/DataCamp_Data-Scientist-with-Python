{
 "cells": [
  {
   "cell_type": "code",
   "execution_count": 1,
   "id": "d4a1e8d3",
   "metadata": {},
   "outputs": [],
   "source": [
    "import numpy as np\n",
    "import pandas as pd"
   ]
  },
  {
   "cell_type": "code",
   "execution_count": 2,
   "id": "dedb469f",
   "metadata": {},
   "outputs": [
    {
     "name": "stdout",
     "output_type": "stream",
     "text": [
      "25\n"
     ]
    }
   ],
   "source": [
    "def square(v) : # Function Header\n",
    "    new_value = v**2  # Fuction body\n",
    "    print(new_value)\n",
    "\n",
    "square(5) # parameter 전달 "
   ]
  },
  {
   "cell_type": "code",
   "execution_count": 3,
   "id": "38d461e5",
   "metadata": {},
   "outputs": [
    {
     "name": "stdout",
     "output_type": "stream",
     "text": [
      "9\n"
     ]
    }
   ],
   "source": [
    "# 값을 직접 출력하지 않고 대신 값을 반환하고 변수에 할당하고 싶을때 return키워드와 반환 할 값을 추가하여 함수가 새 값을 반환하도록 함 \n",
    "\n",
    "def square(v) : # Function Header\n",
    "    new_value = v**2  # Fuction body\n",
    "    return(new_value)\n",
    "num = square(3)\n",
    "\n",
    "print(num) "
   ]
  },
  {
   "cell_type": "code",
   "execution_count": 4,
   "id": "62456ef2",
   "metadata": {},
   "outputs": [],
   "source": [
    "# Docstrings 함수가 수행하는 계산 또는 반환 값과 같이 함수가 수행하는 작업을 설명하는데 사용\n",
    "# 설명은 함수에 대한 문서 역할을 하므로 함수를 읽는 사람은 누구나 함수 정의의 모든 코드를 추적할 필요없이 함수가 수행하는 방법을 이해 \n",
    "\n",
    "def square(v) : # Function Header\n",
    "    \"\"\"Return the squre if a value \"\"\"\n",
    "    new_value = v**2  # Fuction body\n",
    "    return(new_value)"
   ]
  },
  {
   "cell_type": "code",
   "execution_count": 5,
   "id": "31d5e9c1",
   "metadata": {},
   "outputs": [
    {
     "data": {
      "text/plain": [
       "10"
      ]
     },
     "execution_count": 5,
     "metadata": {},
     "output_type": "execute_result"
    }
   ],
   "source": [
    "# 여러 매개 변수 \n",
    "def add (x,y ) :\n",
    "    plus = x + y\n",
    "    return plus\n",
    "\n",
    "add(5,5)"
   ]
  },
  {
   "cell_type": "code",
   "execution_count": 6,
   "id": "ad8b5b25",
   "metadata": {},
   "outputs": [],
   "source": [
    "# 튜플을 이용해 여러 values 값 반환 \n",
    "\n",
    "def double (x, y ) :\n",
    "    new_v1 = x ** y \n",
    "    new_v2 = y ** x\n",
    "    \n",
    "    new_tuple = (new_v1 , new_v2 )\n",
    "    \n",
    "    return new_tuple"
   ]
  },
  {
   "cell_type": "code",
   "execution_count": 7,
   "id": "592156b7",
   "metadata": {},
   "outputs": [
    {
     "name": "stdout",
     "output_type": "stream",
     "text": [
      "(3125, 3125)\n"
     ]
    }
   ],
   "source": [
    "result = double(5,5)\n",
    "\n",
    "print(result)"
   ]
  },
  {
   "cell_type": "code",
   "execution_count": 9,
   "id": "57ad09f5",
   "metadata": {},
   "outputs": [
    {
     "data": {
      "text/plain": [
       "(2, 4, 6)"
      ]
     },
     "execution_count": 9,
     "metadata": {},
     "output_type": "execute_result"
    }
   ],
   "source": [
    "# 튜플 값 변경 \n",
    "\n",
    "nums = (3, 4, 6)\n",
    "num1, num2, num3 = nums\n",
    "\n",
    "even_nums = (2, num2, num3)\n",
    "even_nums"
   ]
  },
  {
   "cell_type": "markdown",
   "id": "383525f6",
   "metadata": {},
   "source": [
    "# Default arguments, variable-length arguments and scope\n",
    "함수로 정의한 객체가 모든 프로그램에서 접근 할 수 있는것은 아니다.  \n",
    "프로그램의 어느 부분에서 객체 나 이름에 엑세스 할 수 있는지 알려주는 범위개념을 지정  \n",
    "\n",
    "Global scope(전역) - Defined in the main Body of a script  \n",
    "Local  scope(지역) - Defined inside a function  \n",
    "Built-in-scope(내장범위) - names in the pre-defined built-ins module`  "
   ]
  },
  {
   "cell_type": "code",
   "execution_count": 10,
   "id": "133f4e02",
   "metadata": {},
   "outputs": [
    {
     "name": "stdout",
     "output_type": "stream",
     "text": [
      "3\n",
      "10\n",
      "6\n"
     ]
    }
   ],
   "source": [
    "num = 5 # 전역변수\n",
    "\n",
    "def func1():\n",
    "    num = 3 # 지역변수\n",
    "    print(num)\n",
    "\n",
    "def func2():\n",
    "    global num # global을 통해 지역변수를 전역변수로 변환 \n",
    "    double_num = num * 2\n",
    "    num = 6\n",
    "    print(double_num)\n",
    "    \n",
    "func1()\n",
    "func2()\n",
    "print(num)"
   ]
  },
  {
   "cell_type": "markdown",
   "id": "4375db0c",
   "metadata": {},
   "source": [
    "## Nested functions\n",
    "함수내부에 또 다른 함수 "
   ]
  },
  {
   "cell_type": "code",
   "execution_count": 12,
   "id": "b5cca040",
   "metadata": {},
   "outputs": [
    {
     "name": "stdout",
     "output_type": "stream",
     "text": [
      "(10, 15, 20)\n"
     ]
    }
   ],
   "source": [
    "def num (x , y, z) :\n",
    "    \n",
    "    def inner (n) :\n",
    "        return n * 5+5\n",
    "    return (inner(x), inner(y), inner(z))\n",
    "\n",
    "print(num(1,2,3))"
   ]
  },
  {
   "cell_type": "code",
   "execution_count": 13,
   "id": "cfade442",
   "metadata": {},
   "outputs": [
    {
     "name": "stdout",
     "output_type": "stream",
     "text": [
      "hellohello hellohellohello\n"
     ]
    }
   ],
   "source": [
    "def echo(n):\n",
    "    \"\"\"Return the inner_echo function.\"\"\"\n",
    "\n",
    "    def inner_echo(word1):\n",
    "        \"\"\"Concatenate n copies of word1.\"\"\"\n",
    "        echo_word = word1 * n\n",
    "        return echo_word\n",
    "\n",
    "     return inner_echo\n",
    "\n",
    "twice = echo(2)\n",
    "thrice = echo(3)\n",
    "\n",
    "\n",
    "print(twice('hello'), thrice('hello'))"
   ]
  },
  {
   "cell_type": "code",
   "execution_count": 14,
   "id": "d051a1bc",
   "metadata": {},
   "outputs": [
    {
     "name": "stdout",
     "output_type": "stream",
     "text": [
      "hellohello\n",
      "hellohello!!!\n"
     ]
    }
   ],
   "source": [
    "def echo_shout(word):\n",
    "\n",
    "    echo_word = word +word\n",
    "    print(echo_word)\n",
    "    \n",
    "    def shout():\n",
    "        nonlocal echo_word  # nolocal 변수 변환 \n",
    "        echo_word = echo_word+ \"!!!\"\n",
    "    \n",
    "    shout()\n",
    "    print(echo_word)\n",
    "\n",
    "\n",
    "echo_shout(\"hello\")"
   ]
  }
 ],
 "metadata": {
  "kernelspec": {
   "display_name": "Python 3",
   "language": "python",
   "name": "python3"
  },
  "language_info": {
   "codemirror_mode": {
    "name": "ipython",
    "version": 3
   },
   "file_extension": ".py",
   "mimetype": "text/x-python",
   "name": "python",
   "nbconvert_exporter": "python",
   "pygments_lexer": "ipython3",
   "version": "3.8.8"
  }
 },
 "nbformat": 4,
 "nbformat_minor": 5
}
